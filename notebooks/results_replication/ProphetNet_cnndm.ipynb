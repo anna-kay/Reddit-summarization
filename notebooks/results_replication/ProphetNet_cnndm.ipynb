{
 "cells": [
  {
   "cell_type": "code",
   "execution_count": 1,
   "metadata": {
    "id": "fOsmdHUwJHKD"
   },
   "outputs": [],
   "source": [
    "# Uncomment if notebook is run in Google Colab\n",
    "# # Install required libraries\n",
    "# %%capture\n",
    "# !pip install transformers datasets evaluate\n",
    "# !pip install rouge-score\n",
    "# !pip install nltk\n",
    "# !pip install sentencepiece"
   ]
  },
  {
   "cell_type": "code",
   "execution_count": null,
   "metadata": {
    "id": "HtS9IStGJHMP"
   },
   "outputs": [],
   "source": [
    "from transformers import ProphetNetTokenizer, ProphetNetForConditionalGeneration\n",
    "from datasets import load_dataset, load_metric\n",
    "import torch\n",
    "import random\n",
    "import nltk\n",
    "from nltk import sent_tokenize"
   ]
  },
  {
   "cell_type": "code",
   "execution_count": null,
   "metadata": {
    "id": "8rcLJ2qKJHOV"
   },
   "outputs": [],
   "source": [
    "nltk.download('punkt')"
   ]
  },
  {
   "cell_type": "code",
   "execution_count": null,
   "metadata": {
    "id": "WqFUJLqtJHQR"
   },
   "outputs": [],
   "source": [
    "device = torch.device('cuda' if torch.cuda.is_available() else 'cpu')\n",
    "print(device)"
   ]
  },
  {
   "cell_type": "code",
   "execution_count": null,
   "metadata": {
    "id": "JlotsWWCJHSc"
   },
   "outputs": [],
   "source": [
    "rouge = load_metric(\"rouge\", seed=2022)"
   ]
  },
  {
   "cell_type": "code",
   "execution_count": null,
   "metadata": {
    "id": "P1ZA3ukFjWuR"
   },
   "outputs": [],
   "source": [
    "model_checkpoint = 'microsoft/prophetnet-large-uncased-cnndm'"
   ]
  },
  {
   "cell_type": "code",
   "execution_count": null,
   "metadata": {
    "id": "YEKDA0cwJHUa"
   },
   "outputs": [],
   "source": [
    "tokenizer = ProphetNetTokenizer.from_pretrained(model_checkpoint)\n",
    "\n",
    "model = ProphetNetForConditionalGeneration.from_pretrained(model_checkpoint)\n",
    "model.to(device)"
   ]
  },
  {
   "cell_type": "code",
   "execution_count": null,
   "metadata": {
    "id": "X_0RN4IWJHWe"
   },
   "outputs": [],
   "source": [
    "model.num_parameters()"
   ]
  },
  {
   "cell_type": "code",
   "execution_count": null,
   "metadata": {
    "id": "vMsecx_MJHYq"
   },
   "outputs": [],
   "source": [
    "data_test = load_dataset('cnn_dailymail', '3.0.0', split='test', trust_remote_code=True)"
   ]
  },
  {
   "cell_type": "code",
   "execution_count": null,
   "metadata": {
    "id": "Gu3Yuv-DJHa8"
   },
   "outputs": [],
   "source": [
    "batch_size = 16"
   ]
  },
  {
   "cell_type": "code",
   "execution_count": null,
   "metadata": {
    "id": "vy9ECWGeJHf2"
   },
   "outputs": [],
   "source": [
    "# map data correclty\n",
    "def generate_summary(batch):\n",
    "    inputs = tokenizer(batch['article'],\n",
    "                       padding=True,\n",
    "                       truncation=True,\n",
    "                       max_length=512,\n",
    "                       add_special_tokens=False,\n",
    "                       return_tensors='pt')\n",
    "    input_ids = inputs.input_ids.to(device)\n",
    "    attention_mask = inputs.attention_mask.to(device)\n",
    "\n",
    "    # The following decoding parameters are set according to the ProphetNet paper\n",
    "    outputs = model.generate(input_ids,\n",
    "                             attention_mask=attention_mask,\n",
    "                             min_length=45,  # apo to paper? nai\n",
    "                             max_length=110, # apo to paper? nai\n",
    "                             num_beams=5, # json.config & paper\n",
    "                             no_repeat_ngram_size=3, # json.config & paper\n",
    "                             length_penalty=1.2, # json.config & paper\n",
    "                             early_stopping=True # json.config\n",
    "                             )\n",
    "    \n",
    "\n",
    "    # all special tokens will be removed\n",
    "    output_str = tokenizer.batch_decode(outputs, skip_special_tokens=True)\n",
    "\n",
    "    batch['pred'] = output_str\n",
    "\n",
    "    return batch"
   ]
  },
  {
   "cell_type": "code",
   "execution_count": null,
   "metadata": {
    "id": "T_jbg0UJJgZu"
   },
   "outputs": [],
   "source": [
    "results = data_test.map(generate_summary,\n",
    "                        batched=True,\n",
    "                        batch_size=batch_size,\n",
    "                        remove_columns=['article'])\n",
    "\n",
    "labels = results['highlights']\n",
    "predictions = results['pred']"
   ]
  },
  {
   "cell_type": "code",
   "execution_count": null,
   "metadata": {
    "id": "zQgKVx3sJgdG"
   },
   "outputs": [],
   "source": [
    "# ROUGE expects a newline after each sentence\n",
    "clean_preds = [\"\\n\".join(sent_tokenize(pred.replace('[X_SEP]', ' '))) for pred in predictions]\n",
    "clean_labels = [label.replace(\" .\", \".\") for label in labels]\n",
    "# clean_labels = [\"\\n\".join(sent_tokenize(label.replace(\" .\", \".\"))) for label in labels]\n",
    "\n",
    "for i in range(len(predictions)):\n",
    "    print(f\"Item {i}:\")\n",
    "    print(clean_preds[i])\n",
    "    print(\"\\n\")\n",
    "    print(clean_labels[i])\n",
    "    print(\"\\n\")"
   ]
  },
  {
   "cell_type": "code",
   "execution_count": null,
   "metadata": {
    "id": "HgXzWK9uJggJ"
   },
   "outputs": [],
   "source": [
    "rouge_output = rouge.compute(predictions=clean_preds, references=clean_labels, use_stemmer=True)\n",
    "rouge_names = [\"rouge1\", \"rouge2\", \"rougeL\", \"rougeLsum\"]\n",
    "rouge_dict = dict((rn, round(rouge_output[rn].mid.fmeasure * 100, 2)) for rn in rouge_names)\n",
    "\n",
    "print(rouge_dict)"
   ]
  }
 ],
 "metadata": {
  "colab": {
   "authorship_tag": "ABX9TyOQVTtAQFuqcEbaoIDm7caJ",
   "collapsed_sections": [],
   "name": "ProphetNet_cnndm.ipynb",
   "provenance": []
  },
  "kernelspec": {
   "display_name": "nlp_env",
   "language": "python",
   "name": "python3"
  },
  "language_info": {
   "codemirror_mode": {
    "name": "ipython",
    "version": 3
   },
   "file_extension": ".py",
   "mimetype": "text/x-python",
   "name": "python",
   "nbconvert_exporter": "python",
   "pygments_lexer": "ipython3",
   "version": "3.10.18"
  }
 },
 "nbformat": 4,
 "nbformat_minor": 0
}
