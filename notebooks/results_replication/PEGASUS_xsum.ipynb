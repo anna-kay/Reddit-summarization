{
 "cells": [
  {
   "cell_type": "code",
   "execution_count": null,
   "metadata": {
    "executionInfo": {
     "elapsed": 30959,
     "status": "ok",
     "timestamp": 1656789370786,
     "user": {
      "displayName": "Anna Kougioumtzidou",
      "userId": "08894778027574418607"
     },
     "user_tz": -180
    },
    "id": "m_D4Bn6Q_-6e"
   },
   "outputs": [],
   "source": [
    "# Uncomment if notebook is run in Google Colab\n",
    "# # Install required libraries\n",
    "# %%capture\n",
    "# !pip install transformers datasets evaluate\n",
    "# !pip install rouge-score\n",
    "# !pip install nltk\n",
    "# !pip install sentencepiece"
   ]
  },
  {
   "cell_type": "code",
   "execution_count": null,
   "metadata": {
    "executionInfo": {
     "elapsed": 5162,
     "status": "ok",
     "timestamp": 1656789375924,
     "user": {
      "displayName": "Anna Kougioumtzidou",
      "userId": "08894778027574418607"
     },
     "user_tz": -180
    },
    "id": "iQS1dfdsAQHj"
   },
   "outputs": [],
   "source": [
    "from transformers import PegasusForConditionalGeneration, PegasusTokenizer\n",
    "from datasets import load_dataset\n",
    "import evaluate\n",
    "import torch\n",
    "import nltk\n",
    "from nltk import sent_tokenize"
   ]
  },
  {
   "cell_type": "code",
   "execution_count": null,
   "metadata": {
    "colab": {
     "base_uri": "https://localhost:8080/"
    },
    "executionInfo": {
     "elapsed": 992,
     "status": "ok",
     "timestamp": 1656789376891,
     "user": {
      "displayName": "Anna Kougioumtzidou",
      "userId": "08894778027574418607"
     },
     "user_tz": -180
    },
    "id": "vrRd-5X_AHKb",
    "outputId": "f8171079-2dc0-4898-e342-bb501acb0580"
   },
   "outputs": [],
   "source": [
    "nltk.download('punkt')"
   ]
  },
  {
   "cell_type": "code",
   "execution_count": null,
   "metadata": {
    "executionInfo": {
     "elapsed": 34,
     "status": "ok",
     "timestamp": 1656789376893,
     "user": {
      "displayName": "Anna Kougioumtzidou",
      "userId": "08894778027574418607"
     },
     "user_tz": -180
    },
    "id": "v3d0cFvWAIxD"
   },
   "outputs": [],
   "source": [
    "if torch.backends.mps.is_available():\n",
    "    device = torch.device(\"mps\")\n",
    "elif torch.cuda.is_available():\n",
    "    device = torch.device(\"cuda\")\n",
    "else:\n",
    "    device = torch.device(\"cpu\")"
   ]
  },
  {
   "cell_type": "code",
   "execution_count": null,
   "metadata": {
    "colab": {
     "base_uri": "https://localhost:8080/",
     "height": 49,
     "referenced_widgets": [
      "210fc002fa3440d09f17aca8f255cc67",
      "8e16805b095e4eed90fa58ed5d4dadfc",
      "59e239f0ff854a3a9d536c13f29b6e71",
      "dd819e571df7475b8c0e5019b310b81b",
      "d9e60f3bf310460aada88f6949c3731b",
      "5e0604c4c87d435eae3c2d2827d2b8ff",
      "7fa73f6c7bb846dabe74d5dff8d03a57",
      "9c085afadb8942f6ba074afa67890056",
      "bfb29e26cc34493ab0f2af70bf633321",
      "f03caeb40f1d4c6f89ef213fbd1fc32c",
      "c12ed04fb0304f92b61b40a94f9f4aed"
     ]
    },
    "executionInfo": {
     "elapsed": 33,
     "status": "ok",
     "timestamp": 1656789376895,
     "user": {
      "displayName": "Anna Kougioumtzidou",
      "userId": "08894778027574418607"
     },
     "user_tz": -180
    },
    "id": "UqU6KFTQAK0C",
    "outputId": "f9dd65cd-e59b-40bf-baf8-46e6016ef24f"
   },
   "outputs": [],
   "source": [
    "rouge = evaluate.load('rouge', seed=2022)"
   ]
  },
  {
   "cell_type": "code",
   "execution_count": null,
   "metadata": {
    "colab": {
     "base_uri": "https://localhost:8080/",
     "height": 1000,
     "referenced_widgets": [
      "ce63809ba70f4e76a96c0b3bc3a21954",
      "bf8abc7133814d6cb46d77c7faa95abf",
      "bebffe321b504c908e8e98bca3223a7b",
      "fc28b4c7f884436d9f18cd8983e526e6",
      "f8e76ce7ec1440cdbf8c9fb3c4a81c34",
      "d91c9e5cc5fb435a82679801ade27647",
      "1d88109dca814f5f991fb9f230ff4a1e",
      "6e7960473b104c0e9561638d763f2dc0",
      "635ab8e049674c25bd65cc5b88748d48",
      "1952431a58a04c099c2f070c887df58e",
      "a1612d91a0e645539ab3daa11d24970e"
     ]
    },
    "executionInfo": {
     "elapsed": 72250,
     "status": "ok",
     "timestamp": 1656789452254,
     "user": {
      "displayName": "Anna Kougioumtzidou",
      "userId": "08894778027574418607"
     },
     "user_tz": -180
    },
    "id": "bHuKe_YjAne4",
    "outputId": "2a625c6f-5dd3-4d23-8730-8a390b38f22b"
   },
   "outputs": [],
   "source": [
    "model_checkpoint = 'google/pegasus-xsum'\n",
    "\n",
    "tokenizer = PegasusTokenizer.from_pretrained(model_checkpoint)\n",
    "\n",
    "model = PegasusForConditionalGeneration.from_pretrained(model_checkpoint)\n",
    "model.to(device)"
   ]
  },
  {
   "cell_type": "code",
   "execution_count": null,
   "metadata": {
    "colab": {
     "base_uri": "https://localhost:8080/",
     "height": 230,
     "referenced_widgets": [
      "4a06fde121414c179c0493f2d06fa886",
      "8184feb2f3234e8cbfea830beca3106c",
      "27636807010247c2a0708c97d1a5ca11",
      "ba960c0fd3a3481eaf336763b16c89b6",
      "9a85405051fd473fa1d3e49e8c55f1a9",
      "6081adcc9ea648cca546cfaac3d2298c",
      "0cf1679721fe45d0af9f6e794599d84f",
      "61c22ae1e69642e8b2b8c35def51379b",
      "e4c8ff61c7024f30a17d2f5812e18a70",
      "7d3cc4aab115430cb58d207f91510eb8",
      "01f1742a5b4e4391a9e4f9a6e7236bb2",
      "5fedfa6d5aca485d95242d416319d7d6",
      "a8c795d136e54479a875a4958450c136",
      "4257759885f04256bef54382b8c8fba7",
      "6319eeb643c44240a6a3a7508b5adef1",
      "9eece4ea26be46f89a08f9e44bd3ae4c",
      "96b6499f53734b6eb4bad1db756c6c6a",
      "85316969d4a246cca63d0d77bbf7696c",
      "f6cfa583ab654623a711eaa45c05bbd9",
      "6ea91804e5d84dbe90f9276d645c263f",
      "fad148e6c0a94e67983a04d1d5d7a966",
      "92715f0c3bad43879e712ac3ae786c3d",
      "df6c3135c2e342be86bdd8fa9371ae60",
      "598e7aa167f04f79873d9459e3612320",
      "07d118b9df3c45ec8b9840b6427c49dc",
      "2cbf071b339b429b8bf8352fd89b28b1",
      "1efab0247cba4445855629f97812c8f2",
      "fe1dae6d7ed8486783abe34c8815c91e",
      "20d75644bc074eb5b04489cf6276b616",
      "3f99d5a86bba4420ad939934a5139bc1",
      "34c034853cba4b40abd0797896e4cfb7",
      "065f1f26e7e9421ca9cc8f06136ee42d",
      "f741932b49a448b4b2675addd7105658",
      "57a976b7eb274e87813a1c41b3941c2c",
      "c51996d8fdb34f7bb1a27801db255b5c",
      "118f885dc810402ca3eb9ceb79530686",
      "19250b0d90c343ac851fbd1c900da207",
      "2579007681d44536b29e6a6ac459ed1f",
      "ffd32b23efbb414cae3be1fd2c3c0626",
      "d5f18259d3cd4f74b6838b2e8118aef4",
      "728f6cd2ea5d4562b207b8e03e7d1dd5",
      "cf68d81d8f164190b68f11eadffe2b02",
      "108b9057877349a9888cdb0f99916e0b",
      "441f7ef3d24d41dbada70ea691016b27",
      "0dd97dd39c294734804775923d694ede",
      "88b49d1a9f5f471b9f4c3b70c4c277fb",
      "36a21c8832a84464b67cad23b38139d7",
      "1db63f49420f4a208754fd5fcc1a609d",
      "c592ac7c26154914874ab99fe2704859",
      "7d4848d033694b10b732174e7a065919",
      "7c789b37daf141fb9e602968140b5a0c",
      "e1c0b093ed17489fa39c86ca3410a761",
      "d8852e4ef4a44f48bc8209969162fbcb",
      "48826877688c4ff9b7395b733ed9524a",
      "d98ebaeff62847738306e589ffbc8212",
      "cd4cf81d60ae4bf0ad73312b9ec3b828",
      "62b023a0422c439b95ad7c5764b5b8d2",
      "c165f0e833d84f1cb62d463790b006db",
      "f4f1208d4eb649ec9efdcbc9e87d9c49",
      "0448e47943084cd7825a3508bd741251",
      "3e922509d8e943709894d35fe6307f8e",
      "1d13859c530145c1be2d8bb0b846a710",
      "368bdd2051ff4ac0b65aaa22c3d6426b",
      "af11c6cc7a214217820a24b1533549ad",
      "25086edf2ed64766a21531178c56618c",
      "c349ef1000534e40a00f23bc3ab3b206",
      "d4977ad9df8c475090aeb3e765ab9323",
      "0dd969632b4a445289d24a8116a172e6",
      "8fb8e737ae3248219e4449cb733933ff",
      "36775d7a125a41f0ab1f1d828adb73a1",
      "1b4fa31a5ab84935aa2c652d0144ec5b",
      "cf0a0a5da49048088e09dc875172bcd1",
      "4f461039debc4430b4e30fe58607699f",
      "62e8212c6816447a95f6d3a4f26e09fb",
      "d7c7a3f206f14719a147a7e8dc68d220",
      "13f8c3baf6834ff986fac71452046018",
      "05f37d29175e4a9b969556523abac41d",
      "cfb7c0f99b37448d9e5bc4d0016e0926",
      "9c401fbf70cb4d8d8d5f2812fcfe93ef",
      "ffcfe991fb4143ed81dda0896c053c12",
      "91c6abddc92e4f3c8189b99a7a7dbbba",
      "40f9ec44bc894cb69958f5e0a5593e58",
      "e88113cfb3b142a187c29f7ac68e078d",
      "e61d52343f014758991c66307da92eb2",
      "6e52e2398e5040d086d851d4f7ab5b2c",
      "42b7c0f30c41443da6772cd668562576",
      "a42da95b7b2646379db8b99c6f856d79",
      "78b48d57a716473b99041feecea35546"
     ]
    },
    "executionInfo": {
     "elapsed": 118765,
     "status": "ok",
     "timestamp": 1656789570987,
     "user": {
      "displayName": "Anna Kougioumtzidou",
      "userId": "08894778027574418607"
     },
     "user_tz": -180
    },
    "id": "NVHu6kSHBdSm",
    "outputId": "08d0209d-e083-4725-8bae-ed9da8d48054"
   },
   "outputs": [],
   "source": [
    "data_test = load_dataset('xsum', split='test', trust_remote_code=True)"
   ]
  },
  {
   "cell_type": "code",
   "execution_count": null,
   "metadata": {
    "executionInfo": {
     "elapsed": 60,
     "status": "ok",
     "timestamp": 1656789570991,
     "user": {
      "displayName": "Anna Kougioumtzidou",
      "userId": "08894778027574418607"
     },
     "user_tz": -180
    },
    "id": "_LPc7G2-BlEv"
   },
   "outputs": [],
   "source": [
    "batch_size = 8"
   ]
  },
  {
   "cell_type": "code",
   "execution_count": null,
   "metadata": {
    "executionInfo": {
     "elapsed": 55,
     "status": "ok",
     "timestamp": 1656789570994,
     "user": {
      "displayName": "Anna Kougioumtzidou",
      "userId": "08894778027574418607"
     },
     "user_tz": -180
    },
    "id": "ZsIO-AfEBlHX"
   },
   "outputs": [],
   "source": [
    "# map data correclty\n",
    "def generate_summary(batch):\n",
    "    inputs = tokenizer(batch['document'],\n",
    "                       padding=True,\n",
    "                       truncation=True,\n",
    "                       max_length=512,\n",
    "                       add_special_tokens=False,\n",
    "                       return_tensors='pt')\n",
    "    input_ids = inputs.input_ids.to(device)\n",
    "    attention_mask = inputs.attention_mask.to(device)\n",
    "\n",
    "    # Decoding parameters set according to config.json\n",
    "    outputs = model.generate(input_ids,\n",
    "                             attention_mask=attention_mask,\n",
    "                             max_length=64, # config\n",
    "                             num_beams=8, # config\n",
    "                             length_penalty=0.6 # config\n",
    "                             )\n",
    "\n",
    "    # all special tokens will be removed\n",
    "    output_str = tokenizer.batch_decode(outputs, skip_special_tokens=True)\n",
    "    batch['prediction'] = output_str\n",
    "\n",
    "    return batch"
   ]
  },
  {
   "cell_type": "code",
   "execution_count": null,
   "metadata": {
    "colab": {
     "base_uri": "https://localhost:8080/",
     "height": 87,
     "referenced_widgets": [
      "d8cd4e076b844dcda1fd9f125dc96b77",
      "4ecb50dbd14940dc84543d5587813522",
      "93614131303b4f4caf872a49e433b386",
      "bfb0c6cec6304ba19bff9e66c325bbc7",
      "1469a4719c5540318cb6c1b84f9c1c7d",
      "5430ff90fd5f4fe49dd558aad5eaab91",
      "5f21134593a44d5ba27d49833e74849e",
      "b950277c16e145458555f68c2b15edac",
      "f3ab46872bec488f833ab4a77c73c9ae",
      "ce995974090e46958a863525d2a4f2c9",
      "c18c54bba2cc4a8496b3c2e3e4900a70"
     ]
    },
    "executionInfo": {
     "elapsed": 4675647,
     "status": "ok",
     "timestamp": 1656794246592,
     "user": {
      "displayName": "Anna Kougioumtzidou",
      "userId": "08894778027574418607"
     },
     "user_tz": -180
    },
    "id": "vaSIyiJ-BlJU",
    "outputId": "ba07b63c-4d4d-470e-a502-775d62e3c735"
   },
   "outputs": [],
   "source": [
    "results = data_test.map(generate_summary,\n",
    "                        batched=True,\n",
    "                        batch_size=batch_size,\n",
    "                        remove_columns=['document', 'id'])\n",
    "\n",
    "labels = results['summary']\n",
    "predictions = results['prediction']"
   ]
  },
  {
   "cell_type": "code",
   "execution_count": null,
   "metadata": {
    "colab": {
     "base_uri": "https://localhost:8080/"
    },
    "executionInfo": {
     "elapsed": 6554,
     "status": "ok",
     "timestamp": 1656794438602,
     "user": {
      "displayName": "Anna Kougioumtzidou",
      "userId": "08894778027574418607"
     },
     "user_tz": -180
    },
    "id": "F1WDlMODBlLk",
    "outputId": "03a34da1-be60-4a3a-cce4-6dfcb5dda9f0"
   },
   "outputs": [],
   "source": [
    "# ROUGE expects a newline after each sentence\n",
    "clean_preds = [\"\\n\".join(sent_tokenize(pred.replace('<n>', '\\n'))) for pred in predictions]\n",
    "clean_labels = [label.replace(\" .\", \".\") for label in labels]\n",
    "\n",
    "for i in range(len(predictions)):\n",
    "    print(f\"Item {i}:\")\n",
    "    print(f\"Ground truth: {clean_labels[i]}\")\n",
    "    print(f\"Prediction: {clean_preds[i]}\")\n",
    "    print(\"\\n\")"
   ]
  },
  {
   "cell_type": "code",
   "execution_count": null,
   "metadata": {
    "colab": {
     "base_uri": "https://localhost:8080/"
    },
    "executionInfo": {
     "elapsed": 22042,
     "status": "ok",
     "timestamp": 1656794399340,
     "user": {
      "displayName": "Anna Kougioumtzidou",
      "userId": "08894778027574418607"
     },
     "user_tz": -180
    },
    "id": "NMbZac-JVPkv",
    "outputId": "634d8a55-e6eb-4e3e-967f-c4e91995515a"
   },
   "outputs": [],
   "source": [
    "rouge_output = rouge.compute(predictions=clean_preds, references=clean_labels, use_stemmer=True)\n",
    "rouge_metrics = [\"rouge1\", \"rouge2\", \"rougeL\", \"rougeLsum\"]\n",
    "rouge_scores = {metric: round(rouge_output[metric].mid.fmeasure * 100, 2)\n",
    "                for metric in rouge_metrics}\n",
    "\n",
    "print(rouge_scores)"
   ]
  }
 ],
 "metadata": {
  "accelerator": "GPU",
  "colab": {
   "authorship_tag": "ABX9TyNsY0SRX3DHZGFHgaPNqaj8",
   "collapsed_sections": [],
   "name": "PEGASUS_xsum.ipynb",
   "provenance": []
  },
  "gpuClass": "standard",
  "kernelspec": {
   "display_name": "nlp_env",
   "language": "python",
   "name": "python3"
  },
  "language_info": {
   "codemirror_mode": {
    "name": "ipython",
    "version": 3
   },
   "file_extension": ".py",
   "mimetype": "text/x-python",
   "name": "python",
   "nbconvert_exporter": "python",
   "pygments_lexer": "ipython3",
   "version": "3.10.18"
  }
 },
 "nbformat": 4,
 "nbformat_minor": 0
}
