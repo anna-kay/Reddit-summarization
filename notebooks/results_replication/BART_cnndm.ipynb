{
 "cells": [
  {
   "cell_type": "code",
   "execution_count": null,
   "metadata": {
    "id": "padOv6iqHzqV"
   },
   "outputs": [],
   "source": [
    "# Uncomment if notebook is run in Google Colab\n",
    "# # Install required libraries\n",
    "# %%capture\n",
    "# !pip install transformers datasets evaluate\n",
    "# !pip install rouge-score\n",
    "# !pip install nltk"
   ]
  },
  {
   "cell_type": "code",
   "execution_count": null,
   "metadata": {
    "id": "cwgy8NJZZC60"
   },
   "outputs": [],
   "source": [
    "from transformers import BartTokenizer, BartForConditionalGeneration\n",
    "from datasets import load_dataset\n",
    "import evaluate\n",
    "import torch, random\n",
    "import nltk\n",
    "from nltk import sent_tokenize"
   ]
  },
  {
   "cell_type": "code",
   "execution_count": null,
   "metadata": {
    "colab": {
     "base_uri": "https://localhost:8080/"
    },
    "executionInfo": {
     "elapsed": 698,
     "status": "ok",
     "timestamp": 1656606096483,
     "user": {
      "displayName": "Anna Kougioumtzidou",
      "userId": "08894778027574418607"
     },
     "user_tz": -180
    },
    "id": "QnyjMIXoH1Wq",
    "outputId": "a5249d0d-635a-4df3-9636-bd979f2c89f4"
   },
   "outputs": [],
   "source": [
    "nltk.download('punkt')"
   ]
  },
  {
   "cell_type": "code",
   "execution_count": null,
   "metadata": {
    "id": "m5vq7pNgHvYY"
   },
   "outputs": [],
   "source": [
    "device = torch.device('cuda' if torch.cuda.is_available() else 'cpu')"
   ]
  },
  {
   "cell_type": "code",
   "execution_count": null,
   "metadata": {
    "colab": {
     "base_uri": "https://localhost:8080/",
     "height": 49,
     "referenced_widgets": [
      "dd05919d735540f8a647832edd8f86c0",
      "41e12e5f16c049b2b318d5678f8bff8a",
      "1c45ed644560497889c3e52ec211f464",
      "594352e89e4f430e99d2ad39f7a9261d",
      "30f14f49c8544455b3722f46be8277a3",
      "295403a93f1c4f3ca4810ed88aea0e53",
      "1b972c46167645fc9b9b1eee25b486d2",
      "5f002b55b59c449eac6cac921cf74c39",
      "66b3b395385444e99fb8b68a8cfe9d21",
      "a622104cd1be445ba9c0cfe271b77e48",
      "afd9987d7dac464ab099cfcf55f58d31"
     ]
    },
    "executionInfo": {
     "elapsed": 407,
     "status": "ok",
     "timestamp": 1656606097336,
     "user": {
      "displayName": "Anna Kougioumtzidou",
      "userId": "08894778027574418607"
     },
     "user_tz": -180
    },
    "id": "MJFIZPhBH4cN",
    "outputId": "119836b0-2343-442d-db46-69556702bbae"
   },
   "outputs": [],
   "source": [
    "rouge = evaluate.load('rouge', seed=2022)"
   ]
  },
  {
   "cell_type": "code",
   "execution_count": null,
   "metadata": {
    "id": "7qglKq6nH5Lq"
   },
   "outputs": [],
   "source": [
    "model_checkpoint = 'facebook/bart-large-cnn'"
   ]
  },
  {
   "cell_type": "code",
   "execution_count": null,
   "metadata": {
    "colab": {
     "base_uri": "https://localhost:8080/",
     "height": 1000,
     "referenced_widgets": [
      "813b0b0a782442449dc05419a361a366",
      "8122347e3a914ea6b942df21aa2d18d2",
      "a8a95a5f902d49dc8a7c3ded6c064831",
      "d0df87a5f6d646cbba1809ed5d3178e9",
      "a13331ad61794068890275aa95b4c835",
      "a8a01d8b4276409b811dc40ef24e92c6",
      "8c877417e67c4d498f87c0477e879a68",
      "852da86f631d4350a23da063bc14ec5c",
      "d215e558020f43538478ae378de2dd45",
      "86e2af0297dc4d87ad9d85d210ff79d3",
      "f143715e4a194a7e9d0205b9b061a358",
      "081a89da28ac456da7c5f9a8e873cdd5",
      "d90aa72c05fb46eda2892f2b2ccd71a0",
      "9c1d461c0ad04a55acbb0817e20beb8c",
      "d9ac7fb7cbf3484bbe33cddebbbb9e76",
      "0d9ab9649dcb466cb46373390e870166",
      "2c60046a0102468cbfb35be358f38036",
      "7553cca800fe451ba07680af1b36858f",
      "1a0dde8521794c66b1aafddd85c6e77d",
      "420b26905f324a33832409ee561ffef2",
      "4975d87774f64f2baf4e698118950644",
      "adeefae082294100941bac3f3bcf3a79",
      "204d41298332485a9c4dc8c00716380d",
      "90fa66c13d134789a30625d2db65a314",
      "ef9d73de6e3e47aa937cf00c7f0950a3",
      "f4f1180b1bdf4f198851e69c9b4034a0",
      "973ed92cf9544eb1984727212fb1149b",
      "0dd07944d6384a509607915c9d73c21e",
      "a5ebb999320647c0a140c9cae8e90708",
      "1a0ec4d49a3e4d2c84e5a69bf2cda2b0",
      "37ff8c9ce6bf41ad9606f128abbe5461",
      "61fcf9881d7e4868a3c5f238f3b787e8",
      "14c6b13127bd497c817aff2ebbcce4ee",
      "1b0b8f3c2bdf495797d9ed30e5b99112",
      "888df3cf980e4ca0a86166c030b63afe",
      "dde17821ddf34c2b9fbcb43ea7e422b0",
      "4cb02c6af6934ca189655de26b8bd165",
      "308ef092f24a4fe7bc66404a8527d8a8",
      "e447f08211d745e5ac75e63f0aea6e45",
      "8fb2751e23254fa784d41e4298ee0414",
      "fbba39e2ba5b4e38859189c8370714d8",
      "14e38c2ddb114a0e8649c2bdf6d1fe87",
      "8fa626e764e6428987dd78448e5c14be",
      "96344e26df1741fda78871f48a0aa29c"
     ]
    },
    "executionInfo": {
     "elapsed": 68084,
     "status": "ok",
     "timestamp": 1656606165416,
     "user": {
      "displayName": "Anna Kougioumtzidou",
      "userId": "08894778027574418607"
     },
     "user_tz": -180
    },
    "id": "XBHNbmaOH69B",
    "outputId": "eeedde19-00dd-4f43-d3ef-5b9070b6e3a7"
   },
   "outputs": [],
   "source": [
    "tokenizer = BartTokenizer.from_pretrained(model_checkpoint)\n",
    "\n",
    "model = BartForConditionalGeneration.from_pretrained(model_checkpoint)\n",
    "model.to(device)"
   ]
  },
  {
   "cell_type": "code",
   "execution_count": null,
   "metadata": {
    "colab": {
     "base_uri": "https://localhost:8080/",
     "height": 328,
     "referenced_widgets": [
      "e7bb00e39bfa4471a36d2d23e7693b18",
      "22e6564fac06492d98a6e9107cf8a46e",
      "357c065056074b369c2da647a9115598",
      "ee3d62c6cff9402b9bcb59f95ac89cbb",
      "36eb01ed0d0b4468b404fa3bc53f0399",
      "5426116e221941bf945a2c67a0d62495",
      "884c143ca4a44904a74947da01a126fd",
      "f09b77b6080246439ab2cbb6e2f82720",
      "fabd5f9ef1da486c9e83c35b567b5fcc",
      "76e5f4f092034b9b9b51696cb7d132d3",
      "7af39b13ee2f4a07bb50f4ca25b8e882",
      "31dbbe02e2114492810772747d4ddb15",
      "2ed8b6f0883644f293e0272e0e778921",
      "9d52590572e04755a603d5bf04b6b43b",
      "65d98d765d8c46f9b6393641c6975c2b",
      "64b96d3e10494285880bac0f3ed51d69",
      "cd0d67490de149299f5e1e1486a05383",
      "f76dc876ca46490ab9bb5c76ca5fbaa6",
      "49d026d894a14f62a6d9e297cee9abf4",
      "6867bfb4175543299c9c706c9272450a",
      "e8e2bb695cbc4450a645bfb8d3eea81d",
      "35ee000187824e36a5b643a63a959a95",
      "295b4db5559e4c2e80668973d024236d",
      "18f86c70017940ddad0692a15fcfb5fc",
      "44793dcca0564161b1168055c4d1fa7e",
      "51b2591cd0f14a7199e506d176e916bf",
      "56b9ec6b65e7425f828f0ef60a138d32",
      "76bc511e6aff434284b177d2347f18a3",
      "c26ebbc4015a42a0899409f80c702fcc",
      "9b47a5bb6d734ca7bf182e20ef2bf3f1",
      "e82003789a3b467795490e867d4289e1",
      "abbfeecfdff14afb93401cf688e44f09",
      "c428d4d6733043cea9c1e3741fdec2ed",
      "d570733e819343b19b0ff3d5631552fd",
      "3972f7cb44cc451aadb4c3ec68b8674b",
      "8c77669cf8cc47d1a99ccd7c10a9e48f",
      "7d8613513ed743ac8bc7a09e2f29eec2",
      "a62e5d8fd1084dad820ffefb820a051d",
      "abbc430dd29a4822aa314424d728773a",
      "41d127e41b8a4a13b520f1e740a54e0d",
      "0b0b4f606e08401ba4ddf8a705bc394f",
      "8d26e533d93b42c9be7d2f58efe84803",
      "d311999617c648689fbfb21fd061684d",
      "37bbb48c8ef74734a30d450e60736b61",
      "c460705d06f849c88d17fed3439d09c7",
      "99ab6ffa83934c33be6e12a59482f3c7",
      "f8f2d4c8b19f4facbceb94de1dce4a2c",
      "16dd7372e012456d89a79b913ef7735c",
      "7ed6d8888fb9444b805021539fc00f87",
      "3c2ebb290d144bd0aafa79328a93a0c6",
      "bd381ec99d0d4c8a93c34306341cb1dc",
      "28ed7b264ef84ad187cafec97df36c98",
      "2d64ee7a6e684268bb41b3203f3d2489",
      "83001cd2c6ed4468a600743311362a30",
      "1fff29f9f54a4e82a9c035a0d2dc87de",
      "8c0d47ef3ae04e6ab3e9ce7415ba90e4",
      "71c488fe22214442bd863d37ccd1b588",
      "efda9be055f943879a464e578638b38a",
      "ceb82f173e21446da422af60de20fa02",
      "ccd27617729d4e2abe33607560f2b6da",
      "59a5ccb57cac439a897341f3f37931fe",
      "46de08eac6b641a08b5c9aa01f10a981",
      "d5228d748bc348959165c0ed0c886d26",
      "56024353cb1449289aa7a0859e6c75ba",
      "353f00fafec54169ad3e1ae584cd94e1",
      "c70959be21154f679531859f6438b6a3",
      "deed797307ac425285097901f1d7cc22",
      "ea484725b0f84a489572f14274e86912",
      "79852727669d4bb4a65602b87b991e74",
      "535f067e8e0542018a5cc7b9cdc90354",
      "4d44ac3a14c54b9db15ada5fe51406ce",
      "5800845c23ca4a7b996eafcedcaae89e",
      "bb5f645f74c84e0c9e21a550425faa48",
      "72f4a463ecfe49b4b3cbc77f4dae5ef3",
      "44660adbd0b446418a18ed6097ec27ac",
      "f59007adbbda49ca8b16ea41f14dd3a9",
      "2a06594bc8cd43f292c42be9443b03ae",
      "b6215bde84894c58a5f59a86d3a4a306",
      "bf825bf5652943759077ec39337a780b",
      "94e742854a13474fbc70b59c690a0018",
      "3da69ebd8279485983760fb9208e8b64",
      "5d86b3e5d99149d684b5bea3f7493085",
      "611a792cd48144e09686dfb31577ed91",
      "3245a8a3c55a4ba2bc573b8cb1c59e89",
      "165c38344c694d37b15943b11273ff57",
      "86b5fdc07bcb4eaba5d84ee58df75a3d",
      "69e49889346b4fc2a4c1be01e57167c4",
      "2db88cbeabd042a59824c5b5a7fe39d1",
      "87a8aac363c44c3a989640ac6233f519",
      "a0c79b9f1c49491daf4a2d9e9b7c1c1a",
      "f1f86f180e3f4533bc9552f86de8dc33",
      "37720ea9f5bb421c827fd70a03711634",
      "5b8bd1203a5d43a38d8e79c59853bbcc",
      "d873d00cfa6f4496911fd2c737989bdc",
      "d4578935b247412ea6a4336e16d03610",
      "7b14312543ab4239be57191edfd5c021",
      "9c1173ed7c34448b880151895026d606",
      "0ec7532dbf584dd0b6e7ebaa8182393d",
      "ef5af4f2a88c4b7aa54c2b271df1e707",
      "fb1e40a9f8d340d2b91815f1b8cae321",
      "2a88790649f9417da5e2818848c2167b",
      "e300b3402f1b47e7a6b8cfb4a337c5c7",
      "7897354403a34c0caf5ceb1066b4b119",
      "838a084db1db4602b0d64a7eef12878d",
      "f16135f495b44c6b9c7212465029bd79",
      "6b680e35efac425fbc6ea5c078af3d94",
      "85d45c206c7b47f684897bebb4be353f",
      "1ee192400679480881a01f60c4cec970",
      "c503a5953f064e138efe3ad3ac86ff30",
      "58de8cd299c444d3b78f44a3942489ab",
      "fa228e05835242d98a5fdfef0d938a59",
      "2c0510e98dc040b189eedd99a94f70bb",
      "bcca7875fa9e4a589b6da66bcd05f000",
      "e0b45910e2cf4e0da71e2eb84bc0fa71",
      "9d8d662fcf2742468c057300283ef4cf",
      "b38e8082f5be49c79abee0b31dfe7336",
      "17c446d0e3eb4d1abba1ce5bd3f11a86",
      "c6b01237546a4c1f91237d25d6967b1c",
      "4260d83009f24b03ae0450a9a004b773",
      "d9f9f89bc87a4f4a9df59666adb2c318",
      "21222198736a4f1fb821228bc935bcd7"
     ]
    },
    "executionInfo": {
     "elapsed": 191298,
     "status": "ok",
     "timestamp": 1656606356711,
     "user": {
      "displayName": "Anna Kougioumtzidou",
      "userId": "08894778027574418607"
     },
     "user_tz": -180
    },
    "id": "HPxRQG2rIHch",
    "outputId": "516b79d2-efdf-48e1-bd4b-ef904177c5eb"
   },
   "outputs": [],
   "source": [
    "data_test = load_dataset('cnn_dailymail', '3.0.0', split='test', trust_remote_code=True)"
   ]
  },
  {
   "cell_type": "code",
   "execution_count": null,
   "metadata": {
    "id": "8OLwxyCWIKHa"
   },
   "outputs": [],
   "source": [
    "batch_size = 8"
   ]
  },
  {
   "cell_type": "code",
   "execution_count": null,
   "metadata": {
    "id": "Iyx9qNSOIT-C"
   },
   "outputs": [],
   "source": [
    "# map data correclty\n",
    "def generate_summary(batch):\n",
    "    inputs = tokenizer(batch['article'],\n",
    "                       padding=True,\n",
    "                       truncation=True,\n",
    "                       max_length=1024,\n",
    "                       add_special_tokens=False,\n",
    "                       return_tensors='pt')\n",
    "    input_ids = inputs.input_ids.to(device)\n",
    "    attention_mask = inputs.attention_mask.to(device)\n",
    "\n",
    "    # The following decoding parameters are set according to the BART's config.json file\n",
    "    outputs = model.generate(input_ids,\n",
    "                             attention_mask=attention_mask,\n",
    "                             min_length=56,\n",
    "                             max_length=142,\n",
    "                             num_beams=4,\n",
    "                             no_repeat_ngram_size=3,\n",
    "                             length_penalty=2.0,\n",
    "                             early_stopping=True\n",
    "                             )\n",
    "\n",
    "    # all special tokens will be removed\n",
    "    output_str = tokenizer.batch_decode(outputs, skip_special_tokens=True)\n",
    "\n",
    "    batch['pred'] = output_str\n",
    "\n",
    "    return batch"
   ]
  },
  {
   "cell_type": "code",
   "execution_count": null,
   "metadata": {
    "colab": {
     "base_uri": "https://localhost:8080/",
     "height": 49,
     "referenced_widgets": [
      "1560de866c9b4b7983816f2b20ee1bcb",
      "72a75074e97243f2b656ee1b1380ec63",
      "dca75e7debd145059f9c3de879d37c4b",
      "02848c10e2544facbdbac67174215a36",
      "542629c2e52142e9bd1eb09946c6302b",
      "2b1f4fc84d2148a38c98233abbff84d5",
      "b307e8de18ff42019dee8938027b8d99",
      "5ace0685bed341f7b573eab6e179cad9",
      "72cc624181384feaa7bcd75b5d9b5677",
      "665580ac59c34c7690885acf38f8edd8",
      "1c56295630f94a688e64c26764864dee"
     ]
    },
    "executionInfo": {
     "elapsed": 8509638,
     "status": "ok",
     "timestamp": 1656615049622,
     "user": {
      "displayName": "Anna Kougioumtzidou",
      "userId": "08894778027574418607"
     },
     "user_tz": -180
    },
    "id": "2NhfOJjwIq-r",
    "outputId": "282df844-5853-472e-d931-1920f12a8aae"
   },
   "outputs": [],
   "source": [
    "results = data_test.map(generate_summary,\n",
    "                        batched=True,\n",
    "                        batch_size=batch_size,\n",
    "                        remove_columns=['article'])\n",
    "\n",
    "labels = results['highlights']\n",
    "predictions = results['pred']"
   ]
  },
  {
   "cell_type": "code",
   "execution_count": null,
   "metadata": {
    "colab": {
     "base_uri": "https://localhost:8080/"
    },
    "executionInfo": {
     "elapsed": 9996,
     "status": "ok",
     "timestamp": 1656615481070,
     "user": {
      "displayName": "Anna Kougioumtzidou",
      "userId": "08894778027574418607"
     },
     "user_tz": -180
    },
    "id": "VG8Y7AtAY1_7",
    "outputId": "b6b88148-1b43-48f5-d7f7-e0e470aacaf9"
   },
   "outputs": [],
   "source": [
    "# ROUGE expects a newline after each sentence\n",
    "clean_preds = [\"\\n\".join(sent_tokenize(pred.replace('[X_SEP]', ' '))) for pred in predictions]\n",
    "clean_labels = [label.replace(\" .\", \".\") for label in labels]\n",
    "\n",
    "for i in range(len(predictions)):\n",
    "    print(f\"Item {i}:\")\n",
    "    print(\"Label:\")\n",
    "    print(clean_labels[i])\n",
    "    print(\"\\n\")\n",
    "    print(\"Prediction:\")\n",
    "    print(clean_preds[i])\n",
    "    print(\"\\n\")"
   ]
  },
  {
   "cell_type": "code",
   "execution_count": null,
   "metadata": {
    "colab": {
     "base_uri": "https://localhost:8080/"
    },
    "executionInfo": {
     "elapsed": 102419,
     "status": "ok",
     "timestamp": 1656615179658,
     "user": {
      "displayName": "Anna Kougioumtzidou",
      "userId": "08894778027574418607"
     },
     "user_tz": -180
    },
    "id": "INKrsWMTY2JZ",
    "outputId": "f544198a-715b-41ab-fffa-1733732e245e"
   },
   "outputs": [],
   "source": [
    "rouge_output = rouge.compute(predictions=clean_preds, references=clean_labels, use_stemmer=True)\n",
    "rouge_names = [\"rouge1\", \"rouge2\", \"rougeL\", \"rougeLsum\"]\n",
    "rouge_dict = dict((rn, round(rouge_output[rn].mid.fmeasure * 100, 2)) for rn in rouge_names)\n",
    "\n",
    "print(rouge_dict)"
   ]
  }
 ],
 "metadata": {
  "accelerator": "GPU",
  "colab": {
   "authorship_tag": "ABX9TyMgj/tDfvN8ZMrVFgBrCrb0",
   "collapsed_sections": [],
   "provenance": []
  },
  "gpuClass": "standard",
  "kernelspec": {
   "display_name": "nlp_env",
   "language": "python",
   "name": "python3"
  },
  "language_info": {
   "codemirror_mode": {
    "name": "ipython",
    "version": 3
   },
   "file_extension": ".py",
   "mimetype": "text/x-python",
   "name": "python",
   "nbconvert_exporter": "python",
   "pygments_lexer": "ipython3",
   "version": "3.10.18"
  }
 },
 "nbformat": 4,
 "nbformat_minor": 0
}
