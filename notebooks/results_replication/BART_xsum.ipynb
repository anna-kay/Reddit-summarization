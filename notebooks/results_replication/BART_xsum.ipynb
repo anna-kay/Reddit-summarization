{
 "cells": [
  {
   "cell_type": "code",
   "execution_count": null,
   "metadata": {},
   "outputs": [],
   "source": [
    "# Uncomment if notebook is run in Google Colab\n",
    "# # Install required libraries\n",
    "# %%capture\n",
    "# !pip install transformers datasets evaluate\n",
    "# !pip install rouge-score\n",
    "# !pip install nltk"
   ]
  },
  {
   "cell_type": "code",
   "execution_count": null,
   "metadata": {
    "executionInfo": {
     "elapsed": 23945,
     "status": "ok",
     "timestamp": 1656600478886,
     "user": {
      "displayName": "Anna Kougioumtzidou",
      "userId": "08894778027574418607"
     },
     "user_tz": -180
    },
    "id": "0bRbSzelEjrI"
   },
   "outputs": [],
   "source": [
    "from transformers import BartForConditionalGeneration, BartTokenizer\n",
    "from datasets import load_dataset\n",
    "import evaluate\n",
    "import torch, random\n",
    "import nltk\n",
    "from nltk import sent_tokenize"
   ]
  },
  {
   "cell_type": "code",
   "execution_count": null,
   "metadata": {
    "executionInfo": {
     "elapsed": 327,
     "status": "ok",
     "timestamp": 1656600640479,
     "user": {
      "displayName": "Anna Kougioumtzidou",
      "userId": "08894778027574418607"
     },
     "user_tz": -180
    },
    "id": "tQS27KsAF4x3"
   },
   "outputs": [],
   "source": [
    "device = torch.device('cuda' if torch.cuda.is_available() else 'cpu')"
   ]
  },
  {
   "cell_type": "code",
   "execution_count": null,
   "metadata": {
    "colab": {
     "base_uri": "https://localhost:8080/"
    },
    "executionInfo": {
     "elapsed": 811,
     "status": "ok",
     "timestamp": 1656600484106,
     "user": {
      "displayName": "Anna Kougioumtzidou",
      "userId": "08894778027574418607"
     },
     "user_tz": -180
    },
    "id": "1zNJKGiXFE6e",
    "outputId": "8f64701b-13ff-48e2-bf53-f39fa62feda8"
   },
   "outputs": [],
   "source": [
    "nltk.download('punkt')"
   ]
  },
  {
   "cell_type": "code",
   "execution_count": null,
   "metadata": {
    "executionInfo": {
     "elapsed": 3,
     "status": "ok",
     "timestamp": 1656600538295,
     "user": {
      "displayName": "Anna Kougioumtzidou",
      "userId": "08894778027574418607"
     },
     "user_tz": -180
    },
    "id": "ngCzZ9SzFT5A"
   },
   "outputs": [],
   "source": [
    "rouge = evaluate.load('rouge', seed=2022)"
   ]
  },
  {
   "cell_type": "code",
   "execution_count": null,
   "metadata": {
    "executionInfo": {
     "elapsed": 308,
     "status": "ok",
     "timestamp": 1656600543598,
     "user": {
      "displayName": "Anna Kougioumtzidou",
      "userId": "08894778027574418607"
     },
     "user_tz": -180
    },
    "id": "oS-vWHsdFXqu"
   },
   "outputs": [],
   "source": [
    "model_checkpoint = 'facebook/bart-large-xsum'"
   ]
  },
  {
   "cell_type": "code",
   "execution_count": null,
   "metadata": {
    "colab": {
     "base_uri": "https://localhost:8080/"
    },
    "executionInfo": {
     "elapsed": 18094,
     "status": "ok",
     "timestamp": 1656600665019,
     "user": {
      "displayName": "Anna Kougioumtzidou",
      "userId": "08894778027574418607"
     },
     "user_tz": -180
    },
    "id": "HA0tkZLiFj1c",
    "outputId": "84fadcea-3f24-452a-bfab-832f92742ecc"
   },
   "outputs": [],
   "source": [
    "tokenizer = BartTokenizer.from_pretrained(model_checkpoint)\n",
    "\n",
    "model = BartForConditionalGeneration.from_pretrained(model_checkpoint)\n",
    "model.to(device)"
   ]
  },
  {
   "cell_type": "code",
   "execution_count": null,
   "metadata": {
    "id": "LYke4FnZK-fy"
   },
   "outputs": [],
   "source": [
    "model.num_parameters()"
   ]
  },
  {
   "cell_type": "code",
   "execution_count": null,
   "metadata": {
    "colab": {
     "base_uri": "https://localhost:8080/",
     "height": 389,
     "referenced_widgets": [
      "a4f5e58c6b5a4711a2fb630038dc3696",
      "d15459a339f84b21a38df1738072eec9",
      "9cefbc10e572401495f7319babf070e4",
      "979ff97dbc6d47369c1de5b8e41fc1bf",
      "fc8815ccee1242129eef748df5a1b066",
      "6654e3eb990a4285a024ffb388c641c9",
      "3135db6ce02d468da2b1e6a9d1a1f7a5",
      "bbe45dd89b1f40e2b8d9bd070d6e9592",
      "0bc9da0bc2874a8cb83c04589a32514a",
      "0fd48f9a2ff1424b9db1073643c3bd9e",
      "56ec62df93d4435d8d485f951f07e166",
      "5e12e052e64b48fea20888a08356fdab",
      "b6546d8ce7184e44a4b7e0cd92ea1149",
      "73c34d4776aa4435a506be539b72f934",
      "cdae754579e743379fbab060ad76f67e",
      "4c6da09105f84cefb05ada77af1407bc",
      "13ce21b150af420f97223a9119004fb1",
      "0d7c95e22f304ba39801304c1fcf1f30",
      "ff68f39cada54fc9a694b2bba979e6e5",
      "608c2dcb56554208b8af85fac64ae868",
      "e57914ab64a343fb873acd40d206bfdd",
      "6d8aaf52c14d4cc0ae9cecdbd544c700",
      "936e0278601b4e6d9cfd54709487874a",
      "ea73910257ab4fee987286eb7b839b04",
      "b3879601de9140e9bd7968e0db4fe8dc",
      "3b7ff36dab9d43589fdddd7df580d3b2",
      "804194e5bf6e43bd8924eb9f3dfe0d5e",
      "c6ebf04082914b5f98163e74b601e6fd",
      "02b0977cb8a14ec79412f8d89701267e",
      "519b9732066f4142b6322ebd8ae3077b",
      "cf2d33f53ea84638b150266c02d0f12b",
      "72256d676ea042eba559ce496695449d",
      "3de491cfd8b94ed89b4bc39a0f746acc",
      "8d32873c8b7a40788a1b2a0731531247",
      "9bf4a742e0cb4e3dbe485c605ad07943",
      "6791e3d6fa784d9a995a6276e9f7cb96",
      "8be8a034e3c94751863995b072967fcc",
      "0ef2a25023674a04a3f29c5265877880",
      "339e8f3a52de4db5ab670fc5a14afa4e",
      "7a02425c4e7e46448a1db7e46af382c8",
      "12e11fe9ca724bf9a56756e8cf4c6e0c",
      "d5e563364e4147bc95d1bd9e5caf701c",
      "8b63044485be4452b7bba8ed6e1ba295",
      "72533fd127a746f7a1d5a3dad7ca6b54",
      "1c66d73613844a70b8fe4fb16da59d06",
      "cc2fd7b7ed074cc19ac9709db3ff3341",
      "74ddc5312b624dddbc42c7facd3ceadb",
      "98b4d2433552450c9babdd978fae5912",
      "4c21ea5a01144c978a412fa320418461",
      "8a92ca3297c746cda5f1cf234a56115c",
      "735143ebdfde407db5546e1a1837b866",
      "07e5f73dcd874c36815a803eb9f5261e",
      "4764ab773d06451481775a69a52b37f3",
      "4173c766e2804adeb8cb36424defefc1",
      "8a3b3c64dc004fe7ab53aceb3fc1e7b3",
      "8c04362dac694bb1aca7ab8712b105ea",
      "df60f654ff4b471b9aa00431daa39b3c",
      "e8c7bbf0ca9f4aabb23c856b3350e883",
      "6682ec10c92c4d4a97c26aa539d4bc7a",
      "f53a6ef23e9f430bae502ffbfa1381b6",
      "b7bd3f7e42f047e08f9d9f573f4e0e2c",
      "81ce0652c45d435f88a1d29daca7b0fa",
      "1919237fb50d40ec8865e2ebf4c2f0fa",
      "d8881648c0fe401fbc58cc48dbecf0d1",
      "f8acf8118a2c456dbba733c14c6d754f",
      "0b2812e3211a43abbd46eada43960036",
      "93cdc39a60fc4a8d811def369c7788ef",
      "e134819f9ea942a4a90dd5b8bd96365c",
      "2b2445d287834d6e816447249521a27e",
      "aebb5a784d6d4b519895e09694b56d4e",
      "91d41e3a59cd4dec9327d9c10669fe6a",
      "ff3ef64e9b004890a1d5f7b2d5ce0647",
      "ae7d5b4a7f1740cd98550adb7cc3011f",
      "d8446fa829e249819744f143aa727b22",
      "429eaed09ddd4e73803ea9407edfdf17",
      "b05396d95dd44111aa4d310e41cc4d6e",
      "20702685158e4e7b9e437a29aa1ad133",
      "588dfe26f3764fb0bf15c82e3d14bba6",
      "064381c6901c49cbaddc76c595a3e914",
      "6739286f599347fa9d65ca319539a057",
      "428ffb1761a840fa918bb04f0c6e8ca6",
      "a9257f177d02418db917235a848afaeb",
      "88958d7a133d4cd0a31f021c6453f55a",
      "9944ac009783403e957f76921a84ff79",
      "597a68b805894889a92145195e76171c",
      "25a14bfadc2f46d3816bb19db13e4c3e",
      "cb44fbc9b9b64db680e1705a4cf64ac2",
      "da99b32900ca4459b05319c013d6b8aa"
     ]
    },
    "executionInfo": {
     "elapsed": 118315,
     "status": "ok",
     "timestamp": 1656600799500,
     "user": {
      "displayName": "Anna Kougioumtzidou",
      "userId": "08894778027574418607"
     },
     "user_tz": -180
    },
    "id": "b15OJkuXFrbN",
    "outputId": "7038ca23-9645-4795-eb26-b9ce6d209418"
   },
   "outputs": [],
   "source": [
    "data_test = load_dataset('xsum', split='test', trust_remote_code=True)"
   ]
  },
  {
   "cell_type": "code",
   "execution_count": null,
   "metadata": {
    "executionInfo": {
     "elapsed": 354,
     "status": "ok",
     "timestamp": 1656600803386,
     "user": {
      "displayName": "Anna Kougioumtzidou",
      "userId": "08894778027574418607"
     },
     "user_tz": -180
    },
    "id": "8vckaa94Fuv0"
   },
   "outputs": [],
   "source": [
    "batch_size = 8"
   ]
  },
  {
   "cell_type": "code",
   "execution_count": null,
   "metadata": {
    "executionInfo": {
     "elapsed": 236,
     "status": "ok",
     "timestamp": 1656600806810,
     "user": {
      "displayName": "Anna Kougioumtzidou",
      "userId": "08894778027574418607"
     },
     "user_tz": -180
    },
    "id": "fohTkvgCFw62"
   },
   "outputs": [],
   "source": [
    "# map data correclty\n",
    "def generate_summary(batch):\n",
    "    inputs = tokenizer(batch['document'],\n",
    "                       padding=True,\n",
    "                       truncation=True,\n",
    "                       max_length=1024,\n",
    "                       add_special_tokens=False,\n",
    "                       return_tensors='pt')\n",
    "    input_ids = inputs.input_ids.to(device)\n",
    "    attention_mask = inputs.attention_mask.to(device)\n",
    "\n",
    "    # The following decoding parameters are set according to the BART's config.json file\n",
    "    outputs = model.generate(input_ids,\n",
    "                             attention_mask=attention_mask,\n",
    "                             min_length=11,\n",
    "                             max_length=62,\n",
    "                             num_beams=6,\n",
    "                             no_repeat_ngram_size=3,\n",
    "                             length_penalty=1.0,\n",
    "                             early_stopping=True\n",
    "                             )\n",
    "\n",
    "    # all special tokens will be removed\n",
    "    output_str = tokenizer.batch_decode(outputs, skip_special_tokens=True)\n",
    "\n",
    "    batch['pred'] = output_str\n",
    "\n",
    "    return batch"
   ]
  },
  {
   "cell_type": "code",
   "execution_count": null,
   "metadata": {
    "colab": {
     "base_uri": "https://localhost:8080/",
     "height": 86,
     "referenced_widgets": [
      "3aa1824f63104334b11d8f4d2e9e4859",
      "b7f9d95bd36743018ce33bb30c13df1c",
      "f9b4cf02222b4598b4bd0ea71ad62ba6",
      "42c4e852b0a0409d95b17bdbd2018074",
      "dc9cd543c04d48069092c8466361c526",
      "d1f04f44bc9e4cfb8312f860df57883a",
      "e10aa4770a2840648cd338733ca85e73",
      "9343bace7d1b42bda3023c96e79b5e14",
      "098b72bdd3ed498cb89c43ae36cd30f1",
      "eb4898f01c9b483cbd839aa0229f80dc",
      "d8670f9cf39940088966a24d1478884d"
     ]
    },
    "executionInfo": {
     "elapsed": 4274872,
     "status": "ok",
     "timestamp": 1656605088397,
     "user": {
      "displayName": "Anna Kougioumtzidou",
      "userId": "08894778027574418607"
     },
     "user_tz": -180
    },
    "id": "6HsNl2daFznc",
    "outputId": "c47f4e99-794f-4814-aa7e-4052144c3470"
   },
   "outputs": [],
   "source": [
    "results = data_test.map(generate_summary,\n",
    "                        batched=True,\n",
    "                        batch_size=batch_size,\n",
    "                        remove_columns=['document', 'id'])\n",
    "\n",
    "labels = results['summary']\n",
    "predictions = results['pred']"
   ]
  },
  {
   "cell_type": "code",
   "execution_count": null,
   "metadata": {
    "colab": {
     "base_uri": "https://localhost:8080/"
    },
    "executionInfo": {
     "elapsed": 6623,
     "status": "ok",
     "timestamp": 1656605211518,
     "user": {
      "displayName": "Anna Kougioumtzidou",
      "userId": "08894778027574418607"
     },
     "user_tz": -180
    },
    "id": "N6cX_eJ3GloE",
    "outputId": "fd4ed5a7-ee1e-4296-89ca-8010a12a6b89"
   },
   "outputs": [],
   "source": [
    "# ROUGE expects a newline after each sentence\n",
    "clean_preds = [\"\\n\".join(sent_tokenize(pred.replace('[X_SEP]', ' '))) for pred in predictions]\n",
    "clean_labels = [label.replace(\" .\", \".\") for label in labels]\n",
    "\n",
    "for i in range(len(predictions)):\n",
    "    print(f\"Item {i}:\")\n",
    "    print(\"Label:\")\n",
    "    print(clean_labels[i])\n",
    "    print(\"\\n\")\n",
    "    print(\"Prediction:\")\n",
    "    print(clean_preds[i])\n",
    "    print(\"\\n\")"
   ]
  },
  {
   "cell_type": "code",
   "execution_count": null,
   "metadata": {
    "colab": {
     "base_uri": "https://localhost:8080/"
    },
    "executionInfo": {
     "elapsed": 22636,
     "status": "ok",
     "timestamp": 1656605485801,
     "user": {
      "displayName": "Anna Kougioumtzidou",
      "userId": "08894778027574418607"
     },
     "user_tz": -180
    },
    "id": "bsGVx9JTYTbA",
    "outputId": "eb7d0924-7ea8-4684-9c19-c1cd75e9ea6e"
   },
   "outputs": [],
   "source": [
    "rouge_output = rouge.compute(predictions=clean_preds, references=clean_labels, use_stemmer=True)\n",
    "rouge_names = [\"rouge1\", \"rouge2\", \"rougeL\", \"rougeLsum\"]\n",
    "rouge_dict = dict((rn, round(rouge_output[rn].mid.fmeasure * 100, 2)) for rn in rouge_names)\n",
    "\n",
    "print(rouge_dict)"
   ]
  }
 ],
 "metadata": {
  "accelerator": "GPU",
  "colab": {
   "authorship_tag": "ABX9TyN5gUnD31ddwnpkbNy6K6zG",
   "collapsed_sections": [],
   "name": "BART_xsum.ipynb",
   "provenance": []
  },
  "gpuClass": "standard",
  "kernelspec": {
   "display_name": "Python 3",
   "name": "python3"
  },
  "language_info": {
   "name": "python"
  }
 },
 "nbformat": 4,
 "nbformat_minor": 0
}
