{
 "cells": [
  {
   "cell_type": "code",
   "execution_count": null,
   "metadata": {
    "executionInfo": {
     "elapsed": 31081,
     "status": "ok",
     "timestamp": 1656876215581,
     "user": {
      "displayName": "Anna Kougioumtzidou",
      "userId": "08894778027574418607"
     },
     "user_tz": -180
    },
    "id": "pNviAFiXHtBG"
   },
   "outputs": [],
   "source": [
    "# Uncomment if notebook is run in Google Colab\n",
    "# # Install required libraries\n",
    "# %%capture\n",
    "# !pip install transformers datasets evaluate\n",
    "# !pip install rouge-score\n",
    "# !pip install nltk\n",
    "# !pip install sentencepiece"
   ]
  },
  {
   "cell_type": "code",
   "execution_count": null,
   "metadata": {
    "executionInfo": {
     "elapsed": 4670,
     "status": "ok",
     "timestamp": 1656876220230,
     "user": {
      "displayName": "Anna Kougioumtzidou",
      "userId": "08894778027574418607"
     },
     "user_tz": -180
    },
    "id": "9AqldlJjHtDJ"
   },
   "outputs": [],
   "source": [
    "from transformers import PegasusForConditionalGeneration, PegasusTokenizer\n",
    "from datasets import load_dataset\n",
    "import evaluate\n",
    "import torch, random\n",
    "import nltk\n",
    "from nltk import sent_tokenize"
   ]
  },
  {
   "cell_type": "code",
   "execution_count": null,
   "metadata": {
    "colab": {
     "base_uri": "https://localhost:8080/"
    },
    "executionInfo": {
     "elapsed": 22,
     "status": "ok",
     "timestamp": 1656876220238,
     "user": {
      "displayName": "Anna Kougioumtzidou",
      "userId": "08894778027574418607"
     },
     "user_tz": -180
    },
    "id": "p3HBPohtHtXA",
    "outputId": "c64df7d5-494c-4a5b-d3ba-c40350361ac1"
   },
   "outputs": [],
   "source": [
    "nltk.download('punkt')"
   ]
  },
  {
   "cell_type": "code",
   "execution_count": null,
   "metadata": {
    "executionInfo": {
     "elapsed": 48,
     "status": "ok",
     "timestamp": 1656876221044,
     "user": {
      "displayName": "Anna Kougioumtzidou",
      "userId": "08894778027574418607"
     },
     "user_tz": -180
    },
    "id": "hHnyJsMZHtZS"
   },
   "outputs": [],
   "source": [
    "device = torch.device('cuda' if torch.cuda.is_available() else 'cpu')"
   ]
  },
  {
   "cell_type": "code",
   "execution_count": null,
   "metadata": {
    "colab": {
     "base_uri": "https://localhost:8080/",
     "height": 49,
     "referenced_widgets": [
      "6ac09596cd9245a78cfcc504fa0f710b",
      "1e311f2fa866484c864e95d748c4bc3b",
      "1c66aa47c9e3431caffe90ed25820cad",
      "efb26725e73f46f68ec0738802e2c7de",
      "f1ee83a0ae0f46838119cd21afac88bc",
      "169dfa9fdceb4f5782e61d1404977135",
      "4210db3cb5e94efd9a0cf578d9fa697f",
      "fc1f2dae9e314648bd240ff2a2779c82",
      "46979906e4124322af3b68e1cc8867f6",
      "6de4407e19e44d9482646370a7dd064e",
      "f8eab2b7a318483c99d4bd3fe5e72c58"
     ]
    },
    "executionInfo": {
     "elapsed": 50,
     "status": "ok",
     "timestamp": 1656876221048,
     "user": {
      "displayName": "Anna Kougioumtzidou",
      "userId": "08894778027574418607"
     },
     "user_tz": -180
    },
    "id": "T89hSeAcHtbm",
    "outputId": "f2795619-b4d8-4420-eb46-38a2c9a685b4"
   },
   "outputs": [],
   "source": [
    "rouge = evaluate.load('rouge', seed=2022)"
   ]
  },
  {
   "cell_type": "code",
   "execution_count": null,
   "metadata": {
    "colab": {
     "base_uri": "https://localhost:8080/",
     "height": 1000,
     "referenced_widgets": [
      "07f858b730754758b9ea45e6c15445ff",
      "28a6bc6bc77641f880f6082dfc4fed94",
      "4208df1f188c495086e53b7ea38f22ae",
      "b2328944604c4478b46394b6a059c5b2",
      "66481421b88b43b492c60cbfff51b8a5",
      "ee9aa5a718a0451dbd5debb2bd779915",
      "dd6023d2b8864866a90f5f44b2e7456b",
      "b4dc31ae81dd4ef684ed09c91898d616",
      "7af13bdce8a04b579d8d0808ffaa672d",
      "b99c039e21054c869cdec5ee5c4e2c0c",
      "bde0dcf45e034a5b9f0cb3c505ff9218",
      "9ebc59fdbd724c56aa8896d1ae0b0d70",
      "a6117431abee4df69535b18091e615ac",
      "de66bfcdc1f2422c9e5a47b1773068a3",
      "16baffb4759e471a9f9ca369fbdd5b7e",
      "5b987ddb379440d68175d25ed6419f65",
      "fe3e514bf54e4facab23e39734039676",
      "3f04cbda55f448449d00bafb278bf255",
      "56a94fbaaaa24d32971c970cfeda70c4",
      "9f3665f1b74643358168fc0d754f391d",
      "7a170c8c4edc499c9099b5a53d89460a",
      "aec2da1e6ac94293899284ec4c98c2e3",
      "5292eda37d6747a4b81017d93e612ec7",
      "6e6a4fbe70124dbca79c2d3d90167868",
      "9fe6a0ed494d4e54901ea5869930c484",
      "253df3a58f834f06ad41a6f23848b31a",
      "f9f6b283fd1449eb964beee217e51a25",
      "e73b461ed7214d218c395888f66ca47c",
      "7fde9a5c0cb54efe8ade3d2f8ea64621",
      "1f17f142a1fa4e0ab1b0f0a7b9c5a48e",
      "28466bf1b56742f8bf6c13a72291338c",
      "738a6ec4a098483caa3d683ad6b1122a",
      "8e72412c9a94446485d191aa7a864835",
      "d70d5157a10a4215beebd5c9f48ed162",
      "f377691d46a34bcb9a951eac8ea2e0c7",
      "c9536247784543419cf13b3514ff5812",
      "2eebaa84981d4d8b9168c16825c60c85",
      "f90bb036d7d24bf8af1c5c76fa64f626",
      "d610761d133e4b549a4fe8a87bf040e8",
      "6c88ae585be9491aaece827c8e28c651",
      "44d9e9df81a6412bbf08a36ced8f5760",
      "ccbfa7e1fe9849e8b8341e15a698b527",
      "384bd6ceb4ea48a88fe2ad9b1325c7d0",
      "0e44030e53fb4df0b3e114b31ab5d45a",
      "9cefa513acc9410da865656b184cd5ff",
      "f3bff4570b3b447192801e53542db9b7",
      "a22eb1f77692456db2c448f59159f40e",
      "6fd29326af4043de88ba9c377a20be09",
      "cee20804466743a4baed69e55fdc3f93",
      "eb143ea469794d93b8add536e8a2fc39",
      "8d73da9448f348e8a39c15bcac4f186b",
      "63dd779dfc3a41efad5b4bad5b6df482",
      "317090214e8f499d900178b1f99cc2af",
      "ef3b1f34b9fb4630a17641ecb3bbf71b",
      "f10640351a254e6fbdcdcb53e8c4862d"
     ]
    },
    "executionInfo": {
     "elapsed": 73957,
     "status": "ok",
     "timestamp": 1656876294960,
     "user": {
      "displayName": "Anna Kougioumtzidou",
      "userId": "08894778027574418607"
     },
     "user_tz": -180
    },
    "id": "1ru1bv8DHtgL",
    "outputId": "d27f08c6-2569-4717-cca9-a345cf16611d"
   },
   "outputs": [],
   "source": [
    "model_checkpoint = 'google/pegasus-cnn_dailymail'\n",
    "\n",
    "tokenizer = PegasusTokenizer.from_pretrained(model_checkpoint)\n",
    "\n",
    "model = PegasusForConditionalGeneration.from_pretrained(model_checkpoint)\n",
    "model.to(device)"
   ]
  },
  {
   "cell_type": "code",
   "execution_count": null,
   "metadata": {
    "colab": {
     "base_uri": "https://localhost:8080/",
     "height": 328,
     "referenced_widgets": [
      "6227e1ea575b4e308415b57a5214d64b",
      "5773e08083f84ef096954a09baaa068c",
      "4d807efd769948b5b8c11e3378be175d",
      "120dc65f36d7489c93529be2f5209ac5",
      "47904858489249ef8786755e87b3a50f",
      "be9b2f4ee0814c439def3d4f09a1c68d",
      "c4221184df054c6fa8d1c2af7754ba1a",
      "73bb188058d5488c9f4077698dd48a69",
      "455a1af0fd0d48eea2430d94c5ac039c",
      "18ae16a0414d45d9a58a85173ff2da31",
      "8a22a534afae4ce7a6c05565c6969ad2",
      "ca1cf1304cf34cb99af072b36a9b6acb",
      "fcc627a8c1fd40949ba5fa844e8dadf1",
      "4a87bb1a1f864eb2a011112081f32b24",
      "923c642e96fe495b94f0826a04e05ecd",
      "c6f284872728449c8233c9776b40a8e6",
      "6bfcf2aa10844c8cb8f39b029f65ded2",
      "7faafa5c5b55430ba039e6cf7d645284",
      "f6444396506345f3922b2f9114c0f726",
      "e125cbf1a7d8494a8889c7f7bb2a083d",
      "83c332c506f945d5a811c2505de6955b",
      "da371fb63eaf4efea06c6c49c1f5d04a",
      "e88e3d65f3db460aa2bee57b8623a72a",
      "fce70699f3284131b5052a95cef69858",
      "47a72cedc3ed423dbe9f71e7b53a0452",
      "2557dd9af5d24b9ba58b240d700cd3ea",
      "9720b1b3b26c49edb2cf316005739b85",
      "2c02ffd7643342069d774941bcf4c11d",
      "9f199bc9d37640c3829cb634ec724b92",
      "ef09804f11d64484ab13fdd1568a4a34",
      "eb25ab643eeb4c0eb78890be1f36621f",
      "592ee0fdf1e8473eba8ec11a844194f4",
      "d1cd7328cce74f348a614182be8ab9e1",
      "210c08f7f9e14e068f489744a6d46b12",
      "c17258c932cd4ccd8ca840af68c9affd",
      "6a452285bb714fdfbbb25b4ebce3e65d",
      "a44adb982c824f65a1bb99e6ca60c051",
      "26948b85273c494c9788fa1e04364b0c",
      "cc3c6f854e7b49e8843bfcc927d62d0a",
      "c6749bd3c0c1462082b01d9ce6057066",
      "b8cb5b7e40544f30b38a065b8367378b",
      "6e36af2ff5804ccdb2c7853028fe2e13",
      "bb5bc523a3ec4786b7615639539da183",
      "8545f0f6403e4d91b6e7fe1d4d487cfa",
      "ccc1b11acece45e0be2227236029c438",
      "85ffec89020f49038ece6b766f2b2b3a",
      "162e8022b82e4ad8bbdfccaa86295cdd",
      "a6c7a13dc3cf46bdb5a1662bd83afbb5",
      "1a9d057eb70a43639254bc6e9a5d0ec2",
      "c75d28207fd54ce4a3120e39ab6df8b4",
      "b99fbb1075994941ab8605f9c1f342c3",
      "038d3f6c16944a6585a0860ccdf2c0ec",
      "62dbb7b8fa2a4ae5bf7268571a399604",
      "6ac0a842d40e400c9f70f8063712880b",
      "48b3ef62a147404b979878bc6d1140e5",
      "29562ccfd13d43f4b9cdfd598643bcb3",
      "8898b0180bcd4148a6c630c60436dc1c",
      "011f518115ac4cb7932168b8370c10c7",
      "67cc3e0694484bd187013ef7f207e62e",
      "1f5e645eddd0495bb6aafb40802ec848",
      "0ae25d8f9dde45778ec3779445db7a7c",
      "a4a2b5ce55694d14a5430609f1f27d4c",
      "1efb1fb3ab4a48059dde55f7eef226cb",
      "183f38a112624778869b6f4abb803cbe",
      "9de9e94365844bb5a6fdd38be54043c6",
      "d9f720f5fede4b1a94f6ffa9603fca91",
      "929a67e2dca94903802b384f2197dd23",
      "8d429acb27c64f3cadb86460d93bd26e",
      "b62356847f9840bc9ba5651fd0265b86",
      "98a11b9f4b4841448f636dca8e92aaf3",
      "5b49cb4aa5a24d95b1f16edd6e4be426",
      "aad78af2f5b04fb1961ea0ad72ba53a7",
      "c78160ca95ab438f927d66862912a645",
      "eed4dc131f3b4410bde78c2fcb72e2f1",
      "7b65b9b807034d51a40455836cdcbd79",
      "a0751bf34b3c4fe295da94c61210bdaf",
      "15ee53e8abb24751aca32857b3ed7cc5",
      "3b970b4be3ac42e49cd38c695e753867",
      "2a316b8525674f6d9ab2ca780e3b3105",
      "d573b2f73f594c3ba5825636c2d72901",
      "f4b18beffb7a4bec8b6e5be5b2f591d4",
      "0f3f71bdc8e6448ca21d38a384275a6a",
      "521042044a5a40a7a7a68c0799cff6ce",
      "ed01da96cbf940469293e439555f0425",
      "86682a4e51e443aa8120f2cad4498dbf",
      "81109a24624b409885a3ec782573a147",
      "339e69f0cefc4e94b386bd7bd87bfb1b",
      "0ca613bf05e548eea8b2d9136c6d4957",
      "28e62ee330c843c5909180e932a97363",
      "85ca1521a8ce448cbd08386a1fea0691",
      "3210a9a6698542d1bc18f26cbcc64354",
      "9089c4a4b405418d8d667f446db42ead",
      "37c591236ac442d0852f3c5e950ec82e",
      "1ae7ef1e88624f6bb18336ef3eb84ec1",
      "b5e61d63917647d3a22c9d5c73e25284",
      "abc8b6fb3f184a4eb2eb64d817625129",
      "a77bf50f8ddf4151a8d3c838bea8e2cc",
      "8907b320c23a43a7abc548c2e89e20db",
      "cabb3103d81c4742b5229e526ac50599",
      "e27e6ed413f74693857866bebde1d280",
      "69689fda847f4ae59808ec019fdd428a",
      "3850efc86b564d1b86328a92079ca98a",
      "55decf79ad7d4fb8a462b3fed23b69d8",
      "8edc7cc418854ce0a2dc5ff33081b40a",
      "4bb165a2000a46de8b41481d86ee1ae6",
      "63c5fb5143994a39a000ee2cb57b6efe",
      "0a6bf393f601461c83838dfa0cccd628",
      "5b2abe2f6ae343ce8223e6620a1778a8",
      "b7171f9d108c4725a1a7f4867acf7256",
      "90e7fd1c6d2c4c739a5f7052a773de71",
      "8641d73e81114a3bbe034312e199dd87",
      "ca94e080b2de42e18d8813ab40df7f6f",
      "f3d3e896f9a1486a8c85fd9713780a15",
      "2ae7fc8e43d24581b834c394f6cd9592",
      "dc948cdfc6c546d4b2ba99d6016e3e37",
      "fbfed3b273084b40836bdba57b7b69f1",
      "f04c69a65ff4497484250084244ff103",
      "8ebdb350a272484c85809436a2ac1add",
      "0ac9d15822a344749c191c845b91b82b",
      "64e80b1ee869495ead4082c253d66187",
      "93279bea6c3b41fc926992d2d8fbfc69"
     ]
    },
    "executionInfo": {
     "elapsed": 205709,
     "status": "ok",
     "timestamp": 1656876500632,
     "user": {
      "displayName": "Anna Kougioumtzidou",
      "userId": "08894778027574418607"
     },
     "user_tz": -180
    },
    "id": "9Sg9k4THHtiY",
    "outputId": "051907cd-5f92-44d3-c448-dec66c99e86b"
   },
   "outputs": [],
   "source": [
    "data_test = load_dataset('cnn_dailymail', '3.0.0', split='test', trust_remote_code=True)"
   ]
  },
  {
   "cell_type": "code",
   "execution_count": null,
   "metadata": {
    "executionInfo": {
     "elapsed": 52,
     "status": "ok",
     "timestamp": 1656876500636,
     "user": {
      "displayName": "Anna Kougioumtzidou",
      "userId": "08894778027574418607"
     },
     "user_tz": -180
    },
    "id": "cP-HQhB5Yao2"
   },
   "outputs": [],
   "source": [
    "batch_size = 4"
   ]
  },
  {
   "cell_type": "code",
   "execution_count": null,
   "metadata": {
    "executionInfo": {
     "elapsed": 50,
     "status": "ok",
     "timestamp": 1656876500639,
     "user": {
      "displayName": "Anna Kougioumtzidou",
      "userId": "08894778027574418607"
     },
     "user_tz": -180
    },
    "id": "4X_L7JIVHtku"
   },
   "outputs": [],
   "source": [
    "# map data correclty\n",
    "def generate_summary(batch):\n",
    "    inputs = tokenizer(batch['article'],\n",
    "                       padding=True,\n",
    "                       truncation=True,\n",
    "                       max_length=1024,\n",
    "                       add_special_tokens=False,\n",
    "                       return_tensors='pt')\n",
    "    input_ids = inputs.input_ids.to(device)\n",
    "    attention_mask = inputs.attention_mask.to(device)\n",
    "\n",
    "    # The following decoding parameters are set according to the PEGASUS's config.json file\n",
    "    outputs = model.generate(input_ids,\n",
    "                             attention_mask=attention_mask,\n",
    "                             min_length=32,\n",
    "                             max_length=128,\n",
    "                             num_beams=8,\n",
    "                             length_penalty=0.8\n",
    "                             )\n",
    "\n",
    "    # all special tokens will be removed\n",
    "    output_str = tokenizer.batch_decode(outputs, skip_special_tokens=True)\n",
    "\n",
    "    batch['pred'] = output_str\n",
    "\n",
    "    return batch"
   ]
  },
  {
   "cell_type": "code",
   "execution_count": null,
   "metadata": {
    "colab": {
     "base_uri": "https://localhost:8080/",
     "height": 87,
     "referenced_widgets": [
      "a0ecd29f4d4a48ce8ea41256de54b58f",
      "9413e301e93a4da5bc786786329c925b",
      "b1251736adcc451a952b2c1cb2df645f",
      "bc60a7268bf64330b427024236c00e9a",
      "8377d5e9f37043dbadfd136860074d6c",
      "ca08ce5b59c94f2683ca8fba4de4820e",
      "c5dd0cb173fe4de28db51800121af174",
      "edc008a5067f4bcdb17dbd855fc87a3f",
      "9fa31986ac304c1c9d369b03227e8596",
      "5109536436e349e7b61b62fb74d92697",
      "437ccb38172047c380867c128945cd9e"
     ]
    },
    "executionInfo": {
     "elapsed": 2054551,
     "status": "ok",
     "timestamp": 1656894576311,
     "user": {
      "displayName": "Anna Kougioumtzidou",
      "userId": "08894778027574418607"
     },
     "user_tz": -180
    },
    "id": "I7ZdRSwpHtm7",
    "outputId": "06a84c78-8307-4cae-986f-86ca705778b9"
   },
   "outputs": [],
   "source": [
    "results = data_test.map(generate_summary,\n",
    "                        batched=True,\n",
    "                        batch_size=batch_size,\n",
    "                        remove_columns=['article'])\n",
    "\n",
    "labels = results['highlights']\n",
    "predictions = results['pred']"
   ]
  },
  {
   "cell_type": "code",
   "execution_count": null,
   "metadata": {
    "colab": {
     "base_uri": "https://localhost:8080/"
    },
    "executionInfo": {
     "elapsed": 9154,
     "status": "ok",
     "timestamp": 1656894644359,
     "user": {
      "displayName": "Anna Kougioumtzidou",
      "userId": "08894778027574418607"
     },
     "user_tz": -180
    },
    "id": "Cp5Ls4GFHtwu",
    "outputId": "abd3e2a9-cf60-434d-c3c1-666d44e0c12e"
   },
   "outputs": [],
   "source": [
    "# ROUGE expects a newline after each sentence\n",
    "clean_preds = [\"\\n\".join(sent_tokenize(pred.replace(\"<n>\", \" \" ))) for pred in predictions]\n",
    "clean_labels = [label.replace(\" .\", \".\") for label in labels]\n",
    "\n",
    "for i in range(len(predictions)):\n",
    "    print(f\"Item {i}:\")\n",
    "    print(f\"Ground truth: {clean_labels[i]}\")\n",
    "    print(f\"Prediction: {clean_preds[i]}\")\n",
    "    print(\"\\n\")"
   ]
  },
  {
   "cell_type": "code",
   "execution_count": null,
   "metadata": {
    "colab": {
     "base_uri": "https://localhost:8080/"
    },
    "executionInfo": {
     "elapsed": 86948,
     "status": "ok",
     "timestamp": 1656894739521,
     "user": {
      "displayName": "Anna Kougioumtzidou",
      "userId": "08894778027574418607"
     },
     "user_tz": -180
    },
    "id": "cSxABprsHtrm",
    "outputId": "88286014-63be-4b1b-e246-3a114b9006ef"
   },
   "outputs": [],
   "source": [
    "rouge_output = rouge.compute(predictions=clean_preds, references=clean_labels, use_stemmer=True)\n",
    "rouge_names = [\"rouge1\", \"rouge2\", \"rougeL\", \"rougeLsum\"]\n",
    "rouge_dict = dict((rn, round(rouge_output[rn].mid.fmeasure * 100, 2)) for rn in rouge_names)\n",
    "\n",
    "print(rouge_dict)"
   ]
  },
  {
   "cell_type": "code",
   "execution_count": null,
   "metadata": {
    "colab": {
     "base_uri": "https://localhost:8080/"
    },
    "executionInfo": {
     "elapsed": 7078,
     "status": "ok",
     "timestamp": 1656894857552,
     "user": {
      "displayName": "Anna Kougioumtzidou",
      "userId": "08894778027574418607"
     },
     "user_tz": -180
    },
    "id": "_h4w5hKhnf6b",
    "outputId": "dee40ff5-ac02-4db9-906a-c28a247991de"
   },
   "outputs": [],
   "source": [
    "# ROUGE expects a newline after each sentence\n",
    "clean_preds = [\"\\n\".join(sent_tokenize(pred.replace(\"<n>\", \"\\n\"))) for pred in predictions]\n",
    "clean_labels = [label.replace(\" .\", \".\") for label in labels]\n",
    "\n",
    "for i in range(len(predictions)):\n",
    "    print(f\"Item {i}:\")\n",
    "    print(f\"Ground truth: {clean_labels[i]}\")\n",
    "    print(f\"Prediction: {clean_preds[i]}\")\n",
    "    print(\"\\n\")"
   ]
  },
  {
   "cell_type": "code",
   "execution_count": null,
   "metadata": {
    "colab": {
     "base_uri": "https://localhost:8080/"
    },
    "executionInfo": {
     "elapsed": 86960,
     "status": "ok",
     "timestamp": 1656894950142,
     "user": {
      "displayName": "Anna Kougioumtzidou",
      "userId": "08894778027574418607"
     },
     "user_tz": -180
    },
    "id": "xuUycRHToQOn",
    "outputId": "2359255c-f194-48ff-8851-b81c5b12e093"
   },
   "outputs": [],
   "source": [
    "rouge_output = rouge.compute(predictions=clean_preds, references=clean_labels, use_stemmer=True)\n",
    "rouge_names = [\"rouge1\", \"rouge2\", \"rougeL\", \"rougeLsum\"]\n",
    "rouge_dict = dict((rn, round(rouge_output[rn].mid.fmeasure * 100, 2)) for rn in rouge_names)\n",
    "\n",
    "print(rouge_dict)"
   ]
  }
 ],
 "metadata": {
  "accelerator": "GPU",
  "colab": {
   "authorship_tag": "ABX9TyMuRyITO4yMz9diV7w14JYu",
   "collapsed_sections": [],
   "name": "PEGASUS_cnndm.ipynb",
   "provenance": []
  },
  "gpuClass": "standard",
  "kernelspec": {
   "display_name": "Python 3",
   "name": "python3"
  },
  "language_info": {
   "name": "python"
  }
 },
 "nbformat": 4,
 "nbformat_minor": 0
}
