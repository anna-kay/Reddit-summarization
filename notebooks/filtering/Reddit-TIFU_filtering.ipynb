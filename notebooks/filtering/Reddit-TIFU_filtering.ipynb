{
 "cells": [
  {
   "cell_type": "code",
   "execution_count": 1,
   "metadata": {
    "executionInfo": {
     "elapsed": 22436,
     "status": "ok",
     "timestamp": 1675026109871,
     "user": {
      "displayName": "Anna Kougioumtzidou",
      "userId": "08894778027574418607"
     },
     "user_tz": -120
    },
    "id": "5c0RPrxBnNiF"
   },
   "outputs": [],
   "source": [
    "# Uncomment if notebook is run in Colab\n",
    "# %%capture\n",
    "# !pip install datasets\n",
    "# !pip install rouge-score"
   ]
  },
  {
   "cell_type": "markdown",
   "metadata": {},
   "source": [
    "**Step 0:** Download dataset\n",
    "\n",
    "**Step 1:** (Filtering based on source texts: filter duplicates)\n",
    "\n",
    "\n",
    "**Step 2:** (Filtering based on source texts: filter non useful)\n",
    "\n",
    "\n",
    "**Step 3:** (Filtering based on summaries: filter non useful)\n",
    "\n",
    "\n",
    "**Step 4:** Aggregate the indices of the above & filter them from the dataset\n",
    "\n",
    "\n",
    "**Step 5:** (Filtering based on summaries: filter duplicates)\n",
    "\n",
    "* Duplicate summary field ('tldr') does not necessarily indicate a duplicate data point\n",
    "* Find candidate duplicates based on duplicate summaries\n",
    "\n",
    "**Step 6:** Cross-check whether the candidate duplicates of step 5 are duplicates indeed\n",
    "\n",
    "\n",
    "**Step 7:** Filter the indices defined in step 6 from the dataset"
   ]
  },
  {
   "cell_type": "code",
   "execution_count": 2,
   "metadata": {
    "executionInfo": {
     "elapsed": 3168,
     "status": "ok",
     "timestamp": 1675026113032,
     "user": {
      "displayName": "Anna Kougioumtzidou",
      "userId": "08894778027574418607"
     },
     "user_tz": -120
    },
    "id": "bIJI2Sf7nNlK"
   },
   "outputs": [],
   "source": [
    "import datasets\n",
    "import pandas as pd\n",
    "import nltk\n",
    "import re\n",
    "import matplotlib.pyplot as plt\n",
    "import numpy as np\n",
    "import random\n",
    "from datasets import load_dataset, load_metric\n",
    "from IPython.display import display, HTML\n",
    "\n",
    "import warnings\n",
    "warnings.filterwarnings('ignore')"
   ]
  },
  {
   "cell_type": "code",
   "execution_count": 3,
   "metadata": {
    "colab": {
     "base_uri": "https://localhost:8080/",
     "height": 84,
     "referenced_widgets": [
      "5b92e5afe7554a8dbcdf5bf820f1cb7c",
      "13a3f59c8a654c848741c7c042449aea",
      "e9d0d97fbed04e5c9ac07821f044c220",
      "3982e69bf3954ae79ded4ae797740b7e",
      "ec30108e82e94751a4583bb1bc5cee69",
      "87d6eae92f7346caa556e0731a3d6942",
      "f954c297a51848e3a1508ab014345c45",
      "40b54d4fc235408abe11fdcfadccef2a",
      "1b5c6bf90c61403c84ba7e9493fa0fda",
      "5ef387330f0a45278fa9362175543eb0",
      "344534adac4846d48c7c271723b358f7"
     ]
    },
    "executionInfo": {
     "elapsed": 314,
     "status": "ok",
     "timestamp": 1675026113332,
     "user": {
      "displayName": "Anna Kougioumtzidou",
      "userId": "08894778027574418607"
     },
     "user_tz": -120
    },
    "id": "mmU-SrqqoZvy",
    "outputId": "906447d2-7c05-44f1-8f86-f6453a138439"
   },
   "outputs": [],
   "source": [
    "rouge = load_metric('rouge', seed=42)\n",
    "\n",
    "# Helper functions\n",
    "\n",
    "def show_random_elements(dataset, num_examples=3):\n",
    "    assert num_examples <= len(dataset), \"Can't pick more elements than there are in the dataset.\"\n",
    "    picks = []\n",
    "    for _ in range(num_examples):\n",
    "        pick = random.randint(0, len(dataset)-1)\n",
    "        while pick in picks:\n",
    "            pick = random.randint(0, len(dataset)-1)\n",
    "        picks.append(pick)\n",
    "\n",
    "    df = pd.DataFrame(dataset[picks])\n",
    "    for column, typ in dataset.features.items():\n",
    "        if isinstance(typ, datasets.ClassLabel):\n",
    "            df[column] = df[column].transform(lambda i: typ.names[i])\n",
    "    display(HTML(df.to_html()))\n",
    "\n",
    "def rouge_2_recall(target_text_1, target_text_2):\n",
    "    rouge_output = rouge.compute(predictions=target_text_2, references=target_text_1)\n",
    "    ROUGE_2_recall = \\\n",
    "    round((rouge_output['rouge2'].low.recall \\\n",
    "           + rouge_output['rouge2'].mid.recall \\\n",
    "           + rouge_output['rouge2'].high.recall)/3, 1)\n",
    "    \n",
    "    return ROUGE_2_recall\n",
    "\n",
    "def clean_string(string):\n",
    "    string = re.sub('\\*', '', string).lower().rstrip()\n",
    "    return string\n",
    "\n",
    "def remove_duplicate_sets_from_list(candidate_duplicates):\n",
    "    candidate_duplicates_sets = list(map(set, candidate_duplicates))\n",
    "    unique_sets = list(set(frozenset(item) for item in candidate_duplicates))\n",
    "    candidate_duplicates_unique_sets = [set(item) for item in set(frozenset(item) for item in unique_sets)]\n",
    "    \n",
    "    candidate_duplicates_lists = []\n",
    "    for item in candidate_duplicates_unique_sets:\n",
    "        candidate_duplicates_lists.append(list(item))\n",
    "        \n",
    "    return candidate_duplicates_lists"
   ]
  },
  {
   "cell_type": "markdown",
   "metadata": {
    "id": "35dby8oF-NaW"
   },
   "source": [
    "**Step 0: Download Reddit-TIFU**\n",
    "\n",
    "- No train-val-test split for this dataset is provided or mentioned anywhere \n",
    "- We download Reddit TIFU from Hugging Face datasets \n",
    "- the split='train' downloads the whole dataset"
   ]
  },
  {
   "cell_type": "code",
   "execution_count": 4,
   "metadata": {
    "colab": {
     "base_uri": "https://localhost:8080/",
     "height": 212,
     "referenced_widgets": [
      "6fd003406549490eb0bed5b49c81a7ef",
      "849ae1288596425fa153bcb765c828f9",
      "c967e4284c344558866bc272c950d24d",
      "b4ecc0ce35764fef88d32dca8dd53f30",
      "9d93f3a441cd47728040aeaef1bf7333",
      "c01b4f75ff5144a8a1ac55398c4f6c71",
      "1007680d8d0a4ef0823e58b5183473fd",
      "11c8167906b94d768ecaf0da2b1f62ce",
      "3e7e30a11daf4f5c891c498563635153",
      "2f4b175d06b74baca253a5d52692d5ac",
      "f66b1822a94b41d9beed7dfe56d7b94d",
      "74de7b171a5247dcaff9c7cd28ec85b2",
      "38fcbb9b754b460392fe8af11ae69e67",
      "a5480a9c44784261a6fa03ad7dba5c8b",
      "7a527f89c1b44699a72cc69b3fbbcc3b",
      "27aa0821c91d4dbeb92d2948c5b2db61",
      "bc0a35b2059a4754ad4e51678c370519",
      "6d655829d49843c1b41caef27242f580",
      "5542d6b17f4644b7948f011a4256be84",
      "7903d930f086491ba465bacbaf50f8da",
      "176a445bfcdf4b05b2d726711956ef11",
      "e26d4bfab5be4a6881193657692e2b34",
      "73e12b310497480cb1207a9723721017",
      "cee8cc71f29149fe848644906d7ac071",
      "9d7492056a7c447fb58674659d250bf3",
      "53cb9f7fdfbd4dffb4f89659c1d42d6e",
      "479a886cca994132b83031562eb04456",
      "5160ff0c6a5044f9a95a2d3b69cbd1ec",
      "ae61db2626ef40198bfd23d8178f666e",
      "b912b81cb5474849a2fd316a002ac16a",
      "349b71b540f343cd9969247c679d5219",
      "0efd2d9db0594e69a2088129ee123a35",
      "b7fe0cbea8df4a71aa6cffb30fc00d6e",
      "6f82c8b95db0409381dba1fb52638378",
      "3fc29795dde24521a419d1af4d040f7c",
      "4988a4964bc44cc0be5469d548217ef5",
      "5240fb865aeb4149b5cb5dbe99362e96",
      "99ce93275dfc4ee782d0c94ac8649c54",
      "097a1f69ce9146eb8ce8902b000a5243",
      "94c912ddad6b470d8dec6f67f554036d",
      "ccc4d281b27f411db271145ea28800c9",
      "a43f5f75d2a94740a0fc1af68d87b2f2",
      "eae4bd1b92464291a2837f062a022539",
      "c1856229a18b40599f823dfd78f410ca",
      "d2fa3fd1d9e04559913a79c42d249b14",
      "c7d3740516064f94ba78b3028ecd4e0e",
      "3e00b6a5940f48e48073b08e19ec8665",
      "12ff05e8777848049aebbbb706735299",
      "ca28a83e966d42ce8890a444c8f81467",
      "2bc5016479f2431fb7e39b7f7d4a4421",
      "b43455a1bfa84bf2ac9ed51072bd4ee5",
      "ff5e24f3e4f744be9fce82703695da2e",
      "0d71fbcfdd1f4b7ebe88c2b44430e773",
      "f29992b3ce304066bb0bdd010cd8daf5",
      "c1d1c36645274bc699e24f755016274f"
     ]
    },
    "executionInfo": {
     "elapsed": 31978,
     "status": "ok",
     "timestamp": 1675026440703,
     "user": {
      "displayName": "Anna Kougioumtzidou",
      "userId": "08894778027574418607"
     },
     "user_tz": -120
    },
    "id": "QRP0Z3QDnNnw",
    "outputId": "ff49d230-487b-4953-b029-aab98671c3b8"
   },
   "outputs": [
    {
     "name": "stderr",
     "output_type": "stream",
     "text": [
      "Found cached dataset reddit_tifu (C:/Users/Anna/.cache/huggingface/datasets/reddit_tifu/long/1.1.0/3136b11fbef3f2517de1d720621af110bd29e6083aebeab0d8ec198c9f95dc95)\n"
     ]
    }
   ],
   "source": [
    "reddit_tifu = load_dataset('reddit_tifu', 'long', split='train')"
   ]
  },
  {
   "cell_type": "code",
   "execution_count": 5,
   "metadata": {
    "colab": {
     "base_uri": "https://localhost:8080/"
    },
    "executionInfo": {
     "elapsed": 21,
     "status": "ok",
     "timestamp": 1675026440703,
     "user": {
      "displayName": "Anna Kougioumtzidou",
      "userId": "08894778027574418607"
     },
     "user_tz": -120
    },
    "id": "lHX-eeVtnNp8",
    "outputId": "7631058b-b31f-4ec6-9118-f0e50e938d27"
   },
   "outputs": [
    {
     "data": {
      "text/plain": [
       "Dataset({\n",
       "    features: ['ups', 'num_comments', 'upvote_ratio', 'score', 'documents', 'tldr', 'title'],\n",
       "    num_rows: 42139\n",
       "})"
      ]
     },
     "execution_count": 5,
     "metadata": {},
     "output_type": "execute_result"
    }
   ],
   "source": [
    "reddit_tifu"
   ]
  },
  {
   "cell_type": "code",
   "execution_count": 6,
   "metadata": {
    "colab": {
     "base_uri": "https://localhost:8080/"
    },
    "executionInfo": {
     "elapsed": 14,
     "status": "ok",
     "timestamp": 1675026440703,
     "user": {
      "displayName": "Anna Kougioumtzidou",
      "userId": "08894778027574418607"
     },
     "user_tz": -120
    },
    "id": "EoByZQc2WOGo",
    "outputId": "6ec7b609-32aa-435f-dcac-2c889d93005d"
   },
   "outputs": [
    {
     "data": {
      "text/plain": [
       "{'ups': 0.0,\n",
       " 'num_comments': 0.0,\n",
       " 'upvote_ratio': 0.5,\n",
       " 'score': 0.0,\n",
       " 'documents': 'so this happened last week. \\ni am a college junior and i am in a business communications course which is probably the most time consuming class i\\'ve taken in college. \\n\\nanyways... the way this course is designed is your group gets a real live client (a local organization) and you do some sort of consulting for them. you always get a project manager (usually a ta) who you report everything you do to, including a prescreen of the final presentation to our client -- which is where the fuck up happens. \\n\\ngearing up for our final presentation, our project manager (who we will call gabe for the rest of this story) asked us to do the presentation for him before we present to the client. we all have extremely busy schedules, so the only time and place that worked for gabe and the team was 9pm in one of the reservable group rooms at the library. gabe had requested that we all show up in business professional attire (suit + tie) to this practice presentation, which we were all very unhappy about. \\n\\nthe team meets up at the library to go over the material and continue working before presenting to gabe around 5, so of course none of us show up in a suit 4 hours ahead of time. come 8:45pm i decide its time to go change before gabe gets there. after an extremely sweaty and unpleasant 8 or so minutes getting dressed in the dirty library bathroom, i am now in my suit but very unhappy that i\\'m in it at 9pm at the library. it\\'s only 8:53 so i figure i have some time to express my unhappiness to my team before gabe gets there, so i walk into the room and yell \"fuck gabe\" 3 times, each with more frustration. \\n\\nafter complete silence i look up and gabe is sitting in the room with my entire team which had neglected to tell me that he had arrived early... needless to say it was the most awkward presentation of my life and gabe wasn\\'t to happy even after i explained it was all about the suit.',\n",
       " 'tldr': \"i didn't scan the room and let everyone know that my project manager is a dick (including him)\",\n",
       " 'title': 'not being aware of my surroundings'}"
      ]
     },
     "execution_count": 6,
     "metadata": {},
     "output_type": "execute_result"
    }
   ],
   "source": [
    "reddit_tifu[8200]"
   ]
  },
  {
   "cell_type": "code",
   "execution_count": 7,
   "metadata": {
    "colab": {
     "base_uri": "https://localhost:8080/",
     "height": 508
    },
    "executionInfo": {
     "elapsed": 9,
     "status": "ok",
     "timestamp": 1675026440705,
     "user": {
      "displayName": "Anna Kougioumtzidou",
      "userId": "08894778027574418607"
     },
     "user_tz": -120
    },
    "id": "x6HpCSiyPbWK",
    "outputId": "635f2920-8d1a-4d91-b43f-5e8f66223502"
   },
   "outputs": [
    {
     "data": {
      "text/html": [
       "<table border=\"1\" class=\"dataframe\">\n",
       "  <thead>\n",
       "    <tr style=\"text-align: right;\">\n",
       "      <th></th>\n",
       "      <th>ups</th>\n",
       "      <th>num_comments</th>\n",
       "      <th>upvote_ratio</th>\n",
       "      <th>score</th>\n",
       "      <th>documents</th>\n",
       "      <th>tldr</th>\n",
       "      <th>title</th>\n",
       "    </tr>\n",
       "  </thead>\n",
       "  <tbody>\n",
       "    <tr>\n",
       "      <th>0</th>\n",
       "      <td>5.0</td>\n",
       "      <td>0.0</td>\n",
       "      <td>0.87</td>\n",
       "      <td>5.0</td>\n",
       "      <td>a few years back, i was living in a really cold part of australia called armidale. i was in the scouts, and can usually light a fire with one match. but on one particularly cold night, i just could not get the fire to light. i must have used half a box of matches and firelighter bricks. would not start. so, then i had the brilliant idea \"hey, there's a bottle of methylated spirits under the sink, i'll slosh some of that in, bet that works!\", so i sloshed a heap of metho on the wood, lit a match, and went to light it...\\n\\nnow, here's where the lack of forward thinking comes in. usually if you use metho to start a fire, you get a happy little whumpf and the fire is lit. however... metho is a volatile. and although the wood wasn't burning, it was extremely hot from all those fire lighters and failed attempts. so when i leant forward with my lit match, rather than lighting a nice safe pool of liquid metho, and getting a happy little whumpf, what the match met was actually a gaseous fuel-air mix, and i got a kkka-fucking-krummppfo which blew the door off the fire place, blew several now happily burning bits of wood into the room, set the carpet on fire, and took off all the hair on my right arm and the right side of my face. but got the fire lit, so there's that.\\n\\ni'm just glad my genius brain remembered the metho under the sink, and not the petrol in the jerry can in the garage...</td>\n",
       "      <td>blew up my fireplace</td>\n",
       "      <td>lighting a fire</td>\n",
       "    </tr>\n",
       "    <tr>\n",
       "      <th>1</th>\n",
       "      <td>8.0</td>\n",
       "      <td>22.0</td>\n",
       "      <td>0.63</td>\n",
       "      <td>8.0</td>\n",
       "      <td>*this was typed on monday*\\n\\nso today was a normal monday, comming back from baseball practice and immediately getting in the shower to go to boy scouts. everything seems normal getting into the shower, no stomach ache and feeling completely normal. \\n\\nso, i get into the shower and start doing my normal routine. i start to feel this fart comming along, completely normal. the fart itself felt normal, but i hear a little bit more than usual water hit the floor. i look behind me and i see diarrhea all over the shower behind me, i immediately run to the toilet mi'd shit. when i made it onto the toilet there is a trail of shit on the floor. after that i was like ok that was weird and got into the car for boy scouts.\\n\\ni am at boy scouts and i feel it again. i grab a buddy and run to the bathroom. i shit my fucking brains out in a church bathroom, go back into the room and tell my mom that we need to leave now, we get into the car and drive home. i run into the house farting constantly, thankfully i make it to the bathroom before i liquid-shit everywhere. \\n\\ni write to you now still sitting on the toilet because my stomach feels like it is going to explode.</td>\n",
       "      <td>thought i was gonna fart in the shower, dirrhea everywhere. i thought i was fine going to boy scouts but, again, i liquid-shit everywhere. still sitting on the toilet.</td>\n",
       "      <td>farting in the shower. (nsfw)</td>\n",
       "    </tr>\n",
       "    <tr>\n",
       "      <th>2</th>\n",
       "      <td>2.0</td>\n",
       "      <td>5.0</td>\n",
       "      <td>0.75</td>\n",
       "      <td>2.0</td>\n",
       "      <td>big block of text\\n\\n \\n\\nthis is completely my fault for what she did but i want some insight on if what she did was because of me.\\n\\ntwo days ago i was in a band play we skipped 4 classes to perform for our schools football team. this happened two days in a role so i was completely lost in math. my friend got a copy of the homework that was due the very next day. and my friend was also in my band class. as the usual high school students we are we all decided to copy each other. before i get to copy it, my friend messaged me about how the teacher caught him cheating using google docs to copy and paste the assignment. but my friend told her he wasn't done fair thing he gets to turn it in later. my friend warns me not to copy word for word. which i didn't, i changed the words up and tried to do it my self. all work done and turned in.\\n\\nvery next day the math teacher wasn't here. we then decided to play some cards, cool. 15 minutes later she comes and and makes us put the cards away. she then called out 6  people. i thought i got away with this. but then she called out another 4 and my friend and i was in those name. she told us blah blah blah no grade for this assignment, and i would drop your grades. fine fair deal. got what i deserved!\\n\\nthe very next day she came and grabbed my friend and i again. this time she spoke to us individually. i had a feeling she wasn't going to write my recommendation anymore because of what happen. she told me exactly what i type. \"blah blah blah... because of the recent incident i do not feel comfortable writing your recommendation anymore\". this slowly sank in to me and it kind of made me worry a bit, because i was expecting her not to write me it, but i wasn't really expecting her to not write it.\\n\\none hour later we have math class. she announces there would be a test on everything we learned from 11th grade till 12th. this was because of the people that cheated. our topic we are own wasn't completely finished but i knew she was upset about it. she would never do this to us having a test. later i find out 4 of my other friends, had the same treatment. \\n\\nbut further on when i went home to remove her recommendation from my college list. i noticed something very weird about the recommendation she was about to \"write\" for me. on the bottom for her name \"leva lincoln\"- started on november 20 2015.\\nthen on top of it that it said \"date added, september 20th 2015\"\\nthis suddenly struck me, that probably her \"not feeling comfortable\" was her excuse for not writing it. i told her 2 days in advance i need it by thanksgiving. she said \"okay i would have it done by monday\". but in my head i am thinking right now what if that was her excuse to not write it because she was late to start it? i gave her 2 month times to write it, but i am shocked i found out today that she started to write it today.\\n\\nso i am asking you guys, just for your input did she not write it because of us cheating and breaking her trust or she did not write it because she didn't have time to do the rest of ours. she made us fill out a 15 questionnaire each consisting of a paragraph of text each 2 days after we asked her to write it.  \\n\\nso did she really, not feel comfortable or was it an excuse that was really well thought out. thing is 2 other people didn't get their recommendations cancel, i can go into more details about this if you guys want. \\n\\nactions have consequences, i take all responsibilities but i just want you guys input on this.</td>\n",
       "      <td>teacher caught us cheating, 4 people got no recommendations 1 unit test, or did she write it?</td>\n",
       "      <td>copying my friend on his homework causing a domino effect.</td>\n",
       "    </tr>\n",
       "  </tbody>\n",
       "</table>"
      ],
      "text/plain": [
       "<IPython.core.display.HTML object>"
      ]
     },
     "metadata": {},
     "output_type": "display_data"
    }
   ],
   "source": [
    "# 3 random examples from the Reddit TIFU dataset:\n",
    "\n",
    "show_random_elements(reddit_tifu)"
   ]
  },
  {
   "cell_type": "markdown",
   "metadata": {
    "id": "9dXLOok3-IRa"
   },
   "source": [
    "**Step 1:** (Filtering based on source texts: filter duplicates)\n",
    "* Inspect Reddit-TIFU for duplicates of the source texts ('documents' column)"
   ]
  },
  {
   "cell_type": "code",
   "execution_count": 8,
   "metadata": {
    "executionInfo": {
     "elapsed": 274,
     "status": "ok",
     "timestamp": 1675026960871,
     "user": {
      "displayName": "Anna Kougioumtzidou",
      "userId": "08894778027574418607"
     },
     "user_tz": -120
    },
    "id": "L-Gxuvg0nNsV"
   },
   "outputs": [],
   "source": [
    "reddit_tifu_df = reddit_tifu.to_pandas()"
   ]
  },
  {
   "cell_type": "code",
   "execution_count": 9,
   "metadata": {
    "colab": {
     "base_uri": "https://localhost:8080/"
    },
    "executionInfo": {
     "elapsed": 4,
     "status": "ok",
     "timestamp": 1675026967531,
     "user": {
      "displayName": "Anna Kougioumtzidou",
      "userId": "08894778027574418607"
     },
     "user_tz": -120
    },
    "id": "Cj3_AzNfYrBa",
    "outputId": "aedc8f03-7808-466c-c3bc-1b8a849b43c6"
   },
   "outputs": [
    {
     "data": {
      "text/plain": [
       "ups                                                           5.0\n",
       "num_comments                                                  6.0\n",
       "upvote_ratio                                                 0.87\n",
       "score                                                         5.0\n",
       "documents       earlier this week*\\n\\nso, i have this intervie...\n",
       "tldr            had an interview. forgot interviewers name. ca...\n",
       "title                           asking an interviewer for a name.\n",
       "Name: 20094, dtype: object"
      ]
     },
     "execution_count": 9,
     "metadata": {},
     "output_type": "execute_result"
    }
   ],
   "source": [
    "reddit_tifu_df.iloc[20094] # Random element"
   ]
  },
  {
   "cell_type": "code",
   "execution_count": 10,
   "metadata": {
    "colab": {
     "base_uri": "https://localhost:8080/"
    },
    "executionInfo": {
     "elapsed": 4,
     "status": "ok",
     "timestamp": 1675026441139,
     "user": {
      "displayName": "Anna Kougioumtzidou",
      "userId": "08894778027574418607"
     },
     "user_tz": -120
    },
    "id": "h_fkO1H2oZ0X",
    "outputId": "d306d677-b841-445b-edc9-a735652e1b0a"
   },
   "outputs": [
    {
     "data": {
      "text/plain": [
       "42101"
      ]
     },
     "execution_count": 10,
     "metadata": {},
     "output_type": "execute_result"
    }
   ],
   "source": [
    "len(reddit_tifu_df['documents'].value_counts())"
   ]
  },
  {
   "cell_type": "markdown",
   "metadata": {
    "id": "voVx8H-C_Icj"
   },
   "source": [
    "- The value 42101 is smaller than the number of examples in the dataset (42139).\n",
    "- This indicates that there are duplicates, for the column 'documents', in the dataset.\n",
    "- 42139-42101=38 *exact* duplicates that should be removed"
   ]
  },
  {
   "cell_type": "code",
   "execution_count": 11,
   "metadata": {
    "executionInfo": {
     "elapsed": 312,
     "status": "ok",
     "timestamp": 1675026441449,
     "user": {
      "displayName": "Anna Kougioumtzidou",
      "userId": "08894778027574418607"
     },
     "user_tz": -120
    },
    "id": "2MZ8Zls2l4r9"
   },
   "outputs": [],
   "source": [
    "# Find the indices of the reddit_tifu_df of the exact matches for the column 'documents'\n",
    "# store them in the *exact_duplicates_texts_indices* variable  \n",
    "\n",
    "# Count the values of the field 'documents' that occur more than once \n",
    "# print(len(reddit_tifu_df['documents'].value_counts()[reddit_tifu_df['documents'].value_counts() > 1]))\n",
    "\n",
    "# Identify exact duplicates in the 'documents' column\n",
    "# 'exact_duplicates', will store a Series containing the exact duplicate documents along with their counts\n",
    "exact_duplicates = reddit_tifu_df['documents'].value_counts()[reddit_tifu_df['documents'].value_counts() > 1]\n",
    "\n",
    "exact_duplicates_df = pd.DataFrame({'value': exact_duplicates.index, 'occurencies_count': exact_duplicates.values})\n",
    "\n",
    "# exact_duplicates_df['occurencies_count'].sum()\n",
    "\n",
    "exact_duplicates_texts_indices_lists = []\n",
    "\n",
    "for element in exact_duplicates_df['value'].to_list():\n",
    "    element_occurence_indices = reddit_tifu_df.index[reddit_tifu_df['documents'] == element].tolist()\n",
    "    exact_duplicates_texts_indices_lists.append(element_occurence_indices)\n",
    "\n",
    "# for the *exact_duplicates_texts_indices* we keep all the elements that are\n",
    "# duplicates of the first element in each list,\n",
    "# each first element (\"original\" element) index is not stored in exact_duplicates_texts_indices since\n",
    "# it itself is not a duplicate\n",
    "\n",
    "exact_duplicates_texts_indices = []\n",
    "\n",
    "for element in exact_duplicates_texts_indices_lists:\n",
    "    for i in range(1, len(element)):\n",
    "        exact_duplicates_texts_indices.append(element[i])"
   ]
  },
  {
   "cell_type": "code",
   "execution_count": 12,
   "metadata": {
    "colab": {
     "base_uri": "https://localhost:8080/",
     "height": 833
    },
    "executionInfo": {
     "elapsed": 10,
     "status": "ok",
     "timestamp": 1675026441449,
     "user": {
      "displayName": "Anna Kougioumtzidou",
      "userId": "08894778027574418607"
     },
     "user_tz": -120
    },
    "id": "OOejLirJQEtD",
    "outputId": "3082ed71-4ec3-45c4-fd26-53bd15fc7a4e"
   },
   "outputs": [
    {
     "data": {
      "text/html": [
       "<div>\n",
       "<style scoped>\n",
       "    .dataframe tbody tr th:only-of-type {\n",
       "        vertical-align: middle;\n",
       "    }\n",
       "\n",
       "    .dataframe tbody tr th {\n",
       "        vertical-align: top;\n",
       "    }\n",
       "\n",
       "    .dataframe thead th {\n",
       "        text-align: right;\n",
       "    }\n",
       "</style>\n",
       "<table border=\"1\" class=\"dataframe\">\n",
       "  <thead>\n",
       "    <tr style=\"text-align: right;\">\n",
       "      <th></th>\n",
       "      <th>value</th>\n",
       "      <th>occurencies_count</th>\n",
       "    </tr>\n",
       "  </thead>\n",
       "  <tbody>\n",
       "    <tr>\n",
       "      <th>0</th>\n",
       "      <td>so this happened last week. \\ni am a college j...</td>\n",
       "      <td>8</td>\n",
       "    </tr>\n",
       "    <tr>\n",
       "      <th>1</th>\n",
       "      <td>so this happened last week. \\ni am a college j...</td>\n",
       "      <td>5</td>\n",
       "    </tr>\n",
       "    <tr>\n",
       "      <th>2</th>\n",
       "      <td>so this happened last week. \\ni am a college j...</td>\n",
       "      <td>4</td>\n",
       "    </tr>\n",
       "    <tr>\n",
       "      <th>3</th>\n",
       "      <td>so this happened last week. \\ni am a college j...</td>\n",
       "      <td>4</td>\n",
       "    </tr>\n",
       "    <tr>\n",
       "      <th>4</th>\n",
       "      <td>today i was invited to a mavericks game by my ...</td>\n",
       "      <td>2</td>\n",
       "    </tr>\n",
       "    <tr>\n",
       "      <th>5</th>\n",
       "      <td>so this date backs to a couple of days ago, bu...</td>\n",
       "      <td>2</td>\n",
       "    </tr>\n",
       "    <tr>\n",
       "      <th>6</th>\n",
       "      <td>obligatory this didn't happen today. this happ...</td>\n",
       "      <td>2</td>\n",
       "    </tr>\n",
       "    <tr>\n",
       "      <th>7</th>\n",
       "      <td>a little bit of context for this. i am a 16 ye...</td>\n",
       "      <td>2</td>\n",
       "    </tr>\n",
       "    <tr>\n",
       "      <th>8</th>\n",
       "      <td>so i'm a young male and therefore an avid tind...</td>\n",
       "      <td>2</td>\n",
       "    </tr>\n",
       "    <tr>\n",
       "      <th>9</th>\n",
       "      <td>this happened two days ago, and the only reaso...</td>\n",
       "      <td>2</td>\n",
       "    </tr>\n",
       "    <tr>\n",
       "      <th>10</th>\n",
       "      <td>go easy on me it is my first post.\\n\\nnot toda...</td>\n",
       "      <td>2</td>\n",
       "    </tr>\n",
       "    <tr>\n",
       "      <th>11</th>\n",
       "      <td>long time ago when i was in high-school this h...</td>\n",
       "      <td>2</td>\n",
       "    </tr>\n",
       "    <tr>\n",
       "      <th>12</th>\n",
       "      <td>so... i was driving home from the shops with m...</td>\n",
       "      <td>2</td>\n",
       "    </tr>\n",
       "    <tr>\n",
       "      <th>13</th>\n",
       "      <td>not today so much as three years ago. but i tr...</td>\n",
       "      <td>2</td>\n",
       "    </tr>\n",
       "    <tr>\n",
       "      <th>14</th>\n",
       "      <td>so it started about 3.5 days ago. it was late ...</td>\n",
       "      <td>2</td>\n",
       "    </tr>\n",
       "    <tr>\n",
       "      <th>15</th>\n",
       "      <td>well this didn't happen today, or this year fo...</td>\n",
       "      <td>2</td>\n",
       "    </tr>\n",
       "    <tr>\n",
       "      <th>16</th>\n",
       "      <td>throwaway for obvious reasons, this happened i...</td>\n",
       "      <td>2</td>\n",
       "    </tr>\n",
       "    <tr>\n",
       "      <th>17</th>\n",
       "      <td>so this actually happened yesterday. still try...</td>\n",
       "      <td>2</td>\n",
       "    </tr>\n",
       "    <tr>\n",
       "      <th>18</th>\n",
       "      <td>so this just happened last night, it was me, m...</td>\n",
       "      <td>2</td>\n",
       "    </tr>\n",
       "    <tr>\n",
       "      <th>19</th>\n",
       "      <td>so i'm in jersey and we had some pretty bad th...</td>\n",
       "      <td>2</td>\n",
       "    </tr>\n",
       "    <tr>\n",
       "      <th>20</th>\n",
       "      <td>so this happened many years ago when i was in ...</td>\n",
       "      <td>2</td>\n",
       "    </tr>\n",
       "    <tr>\n",
       "      <th>21</th>\n",
       "      <td>i’m working in an office of an insurance compa...</td>\n",
       "      <td>2</td>\n",
       "    </tr>\n",
       "    <tr>\n",
       "      <th>22</th>\n",
       "      <td>so this happened last week. \\ni am a college j...</td>\n",
       "      <td>2</td>\n",
       "    </tr>\n",
       "    <tr>\n",
       "      <th>23</th>\n",
       "      <td>this just happened 30 minutes ago. today start...</td>\n",
       "      <td>2</td>\n",
       "    </tr>\n",
       "    <tr>\n",
       "      <th>24</th>\n",
       "      <td>well i came into work today like any other day...</td>\n",
       "      <td>2</td>\n",
       "    </tr>\n",
       "  </tbody>\n",
       "</table>\n",
       "</div>"
      ],
      "text/plain": [
       "                                                value  occurencies_count\n",
       "0   so this happened last week. \\ni am a college j...                  8\n",
       "1   so this happened last week. \\ni am a college j...                  5\n",
       "2   so this happened last week. \\ni am a college j...                  4\n",
       "3   so this happened last week. \\ni am a college j...                  4\n",
       "4   today i was invited to a mavericks game by my ...                  2\n",
       "5   so this date backs to a couple of days ago, bu...                  2\n",
       "6   obligatory this didn't happen today. this happ...                  2\n",
       "7   a little bit of context for this. i am a 16 ye...                  2\n",
       "8   so i'm a young male and therefore an avid tind...                  2\n",
       "9   this happened two days ago, and the only reaso...                  2\n",
       "10  go easy on me it is my first post.\\n\\nnot toda...                  2\n",
       "11  long time ago when i was in high-school this h...                  2\n",
       "12  so... i was driving home from the shops with m...                  2\n",
       "13  not today so much as three years ago. but i tr...                  2\n",
       "14  so it started about 3.5 days ago. it was late ...                  2\n",
       "15  well this didn't happen today, or this year fo...                  2\n",
       "16  throwaway for obvious reasons, this happened i...                  2\n",
       "17  so this actually happened yesterday. still try...                  2\n",
       "18  so this just happened last night, it was me, m...                  2\n",
       "19  so i'm in jersey and we had some pretty bad th...                  2\n",
       "20  so this happened many years ago when i was in ...                  2\n",
       "21  i’m working in an office of an insurance compa...                  2\n",
       "22  so this happened last week. \\ni am a college j...                  2\n",
       "23  this just happened 30 minutes ago. today start...                  2\n",
       "24  well i came into work today like any other day...                  2"
      ]
     },
     "execution_count": 12,
     "metadata": {},
     "output_type": "execute_result"
    }
   ],
   "source": [
    "exact_duplicates_df"
   ]
  },
  {
   "cell_type": "code",
   "execution_count": 13,
   "metadata": {},
   "outputs": [
    {
     "data": {
      "text/plain": [
       "38"
      ]
     },
     "execution_count": 13,
     "metadata": {},
     "output_type": "execute_result"
    }
   ],
   "source": [
    "len(exact_duplicates_texts_indices) "
   ]
  },
  {
   "cell_type": "markdown",
   "metadata": {},
   "source": [
    "The lenght of the *exact_duplicates_texts_indices* list confirms our initial finding; \"42139-42101=38 exact duplicates that should be removed\""
   ]
  },
  {
   "cell_type": "code",
   "execution_count": 14,
   "metadata": {},
   "outputs": [
    {
     "data": {
      "text/plain": [
       "[8191,\n",
       " 8192,\n",
       " 8193,\n",
       " 8194,\n",
       " 8195,\n",
       " 8196,\n",
       " 8197,\n",
       " 8209,\n",
       " 8210,\n",
       " 8211,\n",
       " 8212,\n",
       " 8187,\n",
       " 8188,\n",
       " 8189,\n",
       " 8201,\n",
       " 8202,\n",
       " 8203,\n",
       " 13634,\n",
       " 3012,\n",
       " 14806,\n",
       " 15694,\n",
       " 9779,\n",
       " 8215,\n",
       " 35357,\n",
       " 17026,\n",
       " 34357,\n",
       " 16555,\n",
       " 19022,\n",
       " 32749,\n",
       " 6682,\n",
       " 8199,\n",
       " 34186,\n",
       " 10984,\n",
       " 5846,\n",
       " 11615,\n",
       " 8205,\n",
       " 9107,\n",
       " 14940]"
      ]
     },
     "execution_count": 14,
     "metadata": {},
     "output_type": "execute_result"
    }
   ],
   "source": [
    "exact_duplicates_texts_indices"
   ]
  },
  {
   "cell_type": "code",
   "execution_count": 15,
   "metadata": {},
   "outputs": [],
   "source": [
    "with open(\"Reddit_TIFU_exact_duplicates_texts_indices.txt\", \"w\") as file:\n",
    "    for idx in exact_duplicates_texts_indices:\n",
    "        file.write(str(idx) + \"\\n\")"
   ]
  },
  {
   "cell_type": "markdown",
   "metadata": {
    "id": "P4kG0r_T_dUm"
   },
   "source": [
    "**Step 2:** (Filtering based on source texts: filter non useful)\n",
    "* Inspect dataset for non useful/problematic source texts ('documents' column)"
   ]
  },
  {
   "cell_type": "code",
   "execution_count": 16,
   "metadata": {
    "executionInfo": {
     "elapsed": 871,
     "status": "ok",
     "timestamp": 1675026442312,
     "user": {
      "displayName": "Anna Kougioumtzidou",
      "userId": "08894778027574418607"
     },
     "user_tz": -120
    },
    "id": "57KNuWJc0M2q"
   },
   "outputs": [],
   "source": [
    "not_useful_texts_indices = []\n",
    "\n",
    "# Find the indices of the 'documents' that are empty or not text (e.g., punctuation marks only)\n",
    "\n",
    "''' a regular expression that describes text: '''\n",
    "text_pattern = re.compile(\"([a-z1-9])+..*\", re.IGNORECASE)\n",
    "\n",
    "for i in range(len(reddit_tifu_df)):\n",
    "    if len(reddit_tifu_df['documents']) == 0 or not(text_pattern.search(reddit_tifu_df['documents'].loc[i])):\n",
    "        not_useful_texts_indices.append(i)"
   ]
  },
  {
   "cell_type": "code",
   "execution_count": 17,
   "metadata": {},
   "outputs": [
    {
     "data": {
      "text/plain": [
       "[24268]"
      ]
     },
     "execution_count": 17,
     "metadata": {},
     "output_type": "execute_result"
    }
   ],
   "source": [
    "not_useful_texts_indices"
   ]
  },
  {
   "cell_type": "markdown",
   "metadata": {
    "id": "1z4LJoTl_BfI"
   },
   "source": [
    "**Step 3:** (Filtering based on summaries: filter non useful)\n",
    "\n",
    "* Inspect dataset for non useful/non informative summaries ('tldr' column):\n",
    "    *   nonsensical tldrs (e.g., punctuation marks only),\n",
    "    *   tldrs that clearly are not a summary (e.g., \"see title\") "
   ]
  },
  {
   "cell_type": "code",
   "execution_count": 18,
   "metadata": {
    "colab": {
     "base_uri": "https://localhost:8080/"
    },
    "executionInfo": {
     "elapsed": 6417,
     "status": "ok",
     "timestamp": 1675026449117,
     "user": {
      "displayName": "Anna Kougioumtzidou",
      "userId": "08894778027574418607"
     },
     "user_tz": -120
    },
    "id": "0sYgVs-uq5um",
    "outputId": "c8f1b5b4-1124-4247-f219-ea1f85dfed30"
   },
   "outputs": [
    {
     "name": "stdout",
     "output_type": "stream",
     "text": [
      "?\n",
      "---------\n",
      "**\n",
      "( ͡° ͜ʖ ͡°)\n",
      ",\n",
      "**\n",
      "**\n",
      "~~\n",
      "k\n",
      "**\n",
      "**\n",
      "**\n",
      "(( ͡° ͜ʖ ͡°)͜ʖ( ͡° ͜ʖ ͡°))*\n",
      "-\n",
      "**:\n",
      "**\n",
      "**\n",
      "**\n",
      "**\n",
      "--\n",
      "\"\n",
      "**\n",
      "???\n",
      "**\n",
      ")**\n",
      "*\n",
      ":\n",
      "*\n",
      "**:\n",
      "**\n",
      ":\n",
      "⬆️\n",
      "**\n",
      ":\n",
      ",\n",
      ";\n",
      "/╲/( ͡° ͡° ͜ʖ ͡° ͡°)/\\╱\\\n",
      "**\n",
      ",\n",
      ";\n",
      "?**\n",
      "**\n",
      "**\n",
      "]\n",
      "*\n",
      "**\n",
      "-\n",
      "**\n",
      "*\n",
      "**\n",
      "**\n",
      ":\n",
      ";\n",
      "**\n",
      "**\n",
      ":\n",
      "**\n",
      ":\n",
      "**\n",
      "**\n",
      ".\n",
      "**\n",
      ";\n",
      "/\n",
      "**\n",
      ";\n",
      "*\n",
      "💨 💨 🐝💦💦💻 😯😐\n",
      "?\n",
      "*\n",
      "*\n",
      ":\n",
      ")\n",
      ",\n",
      ",\n",
      "'\n",
      "'\n",
      ".**\n",
      "'\n",
      "]\n",
      ".**\n",
      "**\n",
      "read the title\n",
      "at the bottom\n",
      "read the title\n",
      "read the title\n",
      "see title\n",
      "version:\n",
      "title.\n",
      "at the bottom.\n",
      "in the title.\n",
      "version:\n",
      "at the end.\n",
      "see title\n",
      "read the title.\n",
      "read the title\n",
      "at the bottom.\n",
      "see title.\n",
      "read the title.\n",
      "title.\n",
      "read it.\n",
      "see title\n",
      "read the title.\n",
      "read the title.\n",
      "at the bottom.\n",
      "at the bottom.\n",
      "at bottom.\n",
      "at the bottom.\n",
      "see title\n",
      "read it.\n",
      "at the bottom.\n",
      "title\n",
      "at bottom.\n",
      "title.\n",
      "read the title\n",
      "read title\n",
      "at the bottom.\n",
      "title\n",
      "title\n",
      "read the title.\n",
      "at the bottom.\n",
      "at the bottom.\n",
      "at the bottom\n",
      "title\n",
      "at the end.\n",
      "title.\n",
      "at bottom.\n",
      "at the bottom\n",
      "at bottom\n",
      "at the bottom\n",
      "at bottom.\n",
      "read the title.\n",
      "at the bottom.\n",
      "at the bottom\n",
      "at the end.\n"
     ]
    }
   ],
   "source": [
    "# Find the indices of the items that are not useful (not informative);\n",
    "#   - nonsensical tldrs (e.g., punctuation marks only),\n",
    "#   - tldrs that clearly are not a summary (e.g., \"see title\") \n",
    "\n",
    "not_useful_tldrs_indices = []\n",
    "\n",
    "# Find the indices of the TLDRs that empty or not text (e.g., punctuation marks only)\n",
    "\n",
    "''' a regular expression that describes text: '''\n",
    "text_pattern = re.compile(\"([a-z1-9])+..*\", re.IGNORECASE)\n",
    "\n",
    "for i in range(len(reddit_tifu_df)):\n",
    "    if len(reddit_tifu_df['tldr']) == 0 or not(text_pattern.search(reddit_tifu_df['tldr'].loc[i])):\n",
    "        not_useful_tldrs_indices.append(i)\n",
    "\n",
    "# Find the indices of the TLDRs that are not useful, e.g., \"see title\"\n",
    "\n",
    "not_useful_tldrs = ['title', 'title.', 'title!',\n",
    "                    'see title', 'see title.', 'see title!',\n",
    "                    'in the title', 'in the title.',\n",
    "                    'read title', 'read title.', 'read title!', 'read the title', 'read the title.', 'read the title!',\n",
    "                    'read up', 'read up!', 'read up.',\n",
    "                    'read it', 'read it!', 'read it.',\n",
    "                    'at bottom', 'at bottom.', 'at bottom!',\n",
    "                    'at the bottom', 'at the bottom.', 'at the bottom!',\n",
    "                    'at the end', 'at the end.', 'at the end!',\n",
    "                    'at the top', 'at the top.', 'at the top!',\n",
    "                    'version:',\n",
    "                    'upvote', 'upvote.', 'upvote!',\n",
    "                    'mandatory summary/question!']\n",
    "\n",
    "for i in range(len(reddit_tifu_df)):\n",
    "    # clean_string removes the special character * that appears often in the original 'tldr' field but offers no practical value \n",
    "    clean_tldr = clean_string(reddit_tifu_df.loc[i]['tldr'])\n",
    "    if clean_tldr in not_useful_tldrs:\n",
    "        not_useful_tldrs_indices.append(i)\n",
    "\n",
    "for indx in not_useful_tldrs_indices:\n",
    "    print(reddit_tifu_df.loc[indx]['tldr'])"
   ]
  },
  {
   "cell_type": "code",
   "execution_count": 19,
   "metadata": {},
   "outputs": [
    {
     "data": {
      "text/plain": [
       "135"
      ]
     },
     "execution_count": 19,
     "metadata": {},
     "output_type": "execute_result"
    }
   ],
   "source": [
    "len(not_useful_tldrs_indices)"
   ]
  },
  {
   "cell_type": "markdown",
   "metadata": {
    "id": "50MxAqm7BPoV"
   },
   "source": [
    "**Step 4:** Aggregate the indices of the above & filter them from the dataset\n",
    "\n",
    "* Aggregate all the indices that should be removed, found so far"
   ]
  },
  {
   "cell_type": "code",
   "execution_count": 20,
   "metadata": {
    "colab": {
     "base_uri": "https://localhost:8080/"
    },
    "executionInfo": {
     "elapsed": 32,
     "status": "ok",
     "timestamp": 1675026449118,
     "user": {
      "displayName": "Anna Kougioumtzidou",
      "userId": "08894778027574418607"
     },
     "user_tz": -120
    },
    "id": "KNmpPJFMjbhW",
    "outputId": "18f2a9e3-d87b-4538-9c58-53803c744f7e"
   },
   "outputs": [
    {
     "data": {
      "text/plain": [
       "38"
      ]
     },
     "execution_count": 20,
     "metadata": {},
     "output_type": "execute_result"
    }
   ],
   "source": [
    "len(exact_duplicates_texts_indices)"
   ]
  },
  {
   "cell_type": "code",
   "execution_count": 21,
   "metadata": {
    "colab": {
     "base_uri": "https://localhost:8080/"
    },
    "executionInfo": {
     "elapsed": 30,
     "status": "ok",
     "timestamp": 1675026449118,
     "user": {
      "displayName": "Anna Kougioumtzidou",
      "userId": "08894778027574418607"
     },
     "user_tz": -120
    },
    "id": "R0dwRubljmFQ",
    "outputId": "5cf5ac96-d08f-44f4-8b89-718f3fbdc54b"
   },
   "outputs": [
    {
     "data": {
      "text/plain": [
       "1"
      ]
     },
     "execution_count": 21,
     "metadata": {},
     "output_type": "execute_result"
    }
   ],
   "source": [
    "len(not_useful_texts_indices)"
   ]
  },
  {
   "cell_type": "code",
   "execution_count": 22,
   "metadata": {
    "colab": {
     "base_uri": "https://localhost:8080/"
    },
    "executionInfo": {
     "elapsed": 24,
     "status": "ok",
     "timestamp": 1675026449119,
     "user": {
      "displayName": "Anna Kougioumtzidou",
      "userId": "08894778027574418607"
     },
     "user_tz": -120
    },
    "id": "FhwdwZa0kghv",
    "outputId": "7073c4d8-7cef-405a-c6bd-5a2b8e2de409"
   },
   "outputs": [
    {
     "data": {
      "text/plain": [
       "135"
      ]
     },
     "execution_count": 22,
     "metadata": {},
     "output_type": "execute_result"
    }
   ],
   "source": [
    "len(not_useful_tldrs_indices)"
   ]
  },
  {
   "cell_type": "code",
   "execution_count": 23,
   "metadata": {
    "executionInfo": {
     "elapsed": 19,
     "status": "ok",
     "timestamp": 1675026449119,
     "user": {
      "displayName": "Anna Kougioumtzidou",
      "userId": "08894778027574418607"
     },
     "user_tz": -120
    },
    "id": "MkHRNYCzNIVW"
   },
   "outputs": [],
   "source": [
    "# Aggregate all the indices that should be removed\n",
    "indices_to_remove = exact_duplicates_texts_indices + not_useful_texts_indices + not_useful_tldrs_indices"
   ]
  },
  {
   "cell_type": "code",
   "execution_count": 24,
   "metadata": {
    "colab": {
     "base_uri": "https://localhost:8080/"
    },
    "executionInfo": {
     "elapsed": 20,
     "status": "ok",
     "timestamp": 1675026449120,
     "user": {
      "displayName": "Anna Kougioumtzidou",
      "userId": "08894778027574418607"
     },
     "user_tz": -120
    },
    "id": "9oEUdDtPki6W",
    "outputId": "6f8aaa6f-e30f-49b8-c2db-bd852db2e98d"
   },
   "outputs": [
    {
     "data": {
      "text/plain": [
       "174"
      ]
     },
     "execution_count": 24,
     "metadata": {},
     "output_type": "execute_result"
    }
   ],
   "source": [
    "len(indices_to_remove)"
   ]
  },
  {
   "cell_type": "code",
   "execution_count": 25,
   "metadata": {
    "executionInfo": {
     "elapsed": 18,
     "status": "ok",
     "timestamp": 1675026449120,
     "user": {
      "displayName": "Anna Kougioumtzidou",
      "userId": "08894778027574418607"
     },
     "user_tz": -120
    },
    "id": "V4LWC8-pRWDp"
   },
   "outputs": [],
   "source": [
    "# Select the reddit_tifu indices to keep by removing the indices to remove\n",
    "\n",
    "all_indices = []\n",
    "all_indices.extend(range(0,42139))\n",
    "\n",
    "indices_to_keep = [x for x in all_indices if x not in indices_to_remove]"
   ]
  },
  {
   "cell_type": "code",
   "execution_count": 26,
   "metadata": {},
   "outputs": [],
   "source": [
    "reddit_tifu_filtered_df = reddit_tifu_df.iloc[indices_to_keep]"
   ]
  },
  {
   "cell_type": "code",
   "execution_count": 27,
   "metadata": {},
   "outputs": [
    {
     "data": {
      "text/html": [
       "<div>\n",
       "<style scoped>\n",
       "    .dataframe tbody tr th:only-of-type {\n",
       "        vertical-align: middle;\n",
       "    }\n",
       "\n",
       "    .dataframe tbody tr th {\n",
       "        vertical-align: top;\n",
       "    }\n",
       "\n",
       "    .dataframe thead th {\n",
       "        text-align: right;\n",
       "    }\n",
       "</style>\n",
       "<table border=\"1\" class=\"dataframe\">\n",
       "  <thead>\n",
       "    <tr style=\"text-align: right;\">\n",
       "      <th></th>\n",
       "      <th>ups</th>\n",
       "      <th>num_comments</th>\n",
       "      <th>upvote_ratio</th>\n",
       "      <th>score</th>\n",
       "      <th>documents</th>\n",
       "      <th>tldr</th>\n",
       "      <th>title</th>\n",
       "    </tr>\n",
       "  </thead>\n",
       "  <tbody>\n",
       "    <tr>\n",
       "      <th>0</th>\n",
       "      <td>115.0</td>\n",
       "      <td>23.0</td>\n",
       "      <td>0.88</td>\n",
       "      <td>115.0</td>\n",
       "      <td>this actually happened a couple of years ago. ...</td>\n",
       "      <td>confuse a 5th grade girl for a boy in front of...</td>\n",
       "      <td>gender-stereotyping</td>\n",
       "    </tr>\n",
       "    <tr>\n",
       "      <th>1</th>\n",
       "      <td>16.0</td>\n",
       "      <td>12.0</td>\n",
       "      <td>0.79</td>\n",
       "      <td>16.0</td>\n",
       "      <td>it was last october, but i'm feeling the fall-...</td>\n",
       "      <td>i found my estranged dad, thought i loved him ...</td>\n",
       "      <td>telling my dad that i love him.</td>\n",
       "    </tr>\n",
       "    <tr>\n",
       "      <th>2</th>\n",
       "      <td>55.0</td>\n",
       "      <td>10.0</td>\n",
       "      <td>0.85</td>\n",
       "      <td>55.0</td>\n",
       "      <td>so i had the brilliant idea to use veet hair r...</td>\n",
       "      <td>had my balls burned by sauron and was left dev...</td>\n",
       "      <td>i was deveeted...</td>\n",
       "    </tr>\n",
       "    <tr>\n",
       "      <th>3</th>\n",
       "      <td>90.0</td>\n",
       "      <td>20.0</td>\n",
       "      <td>0.92</td>\n",
       "      <td>90.0</td>\n",
       "      <td>today i was going to have a bath after a long ...</td>\n",
       "      <td>peppermint + bath = burning cold ladybits.</td>\n",
       "      <td>wanting a pepperminty bath.</td>\n",
       "    </tr>\n",
       "    <tr>\n",
       "      <th>4</th>\n",
       "      <td>81.0</td>\n",
       "      <td>18.0</td>\n",
       "      <td>0.79</td>\n",
       "      <td>81.0</td>\n",
       "      <td>i haven't had a bath in practically years so, ...</td>\n",
       "      <td>got too high and too hot in the bath, almost c...</td>\n",
       "      <td>having a spliff in the bath.</td>\n",
       "    </tr>\n",
       "  </tbody>\n",
       "</table>\n",
       "</div>"
      ],
      "text/plain": [
       "     ups  num_comments  upvote_ratio  score  \\\n",
       "0  115.0          23.0          0.88  115.0   \n",
       "1   16.0          12.0          0.79   16.0   \n",
       "2   55.0          10.0          0.85   55.0   \n",
       "3   90.0          20.0          0.92   90.0   \n",
       "4   81.0          18.0          0.79   81.0   \n",
       "\n",
       "                                           documents  \\\n",
       "0  this actually happened a couple of years ago. ...   \n",
       "1  it was last october, but i'm feeling the fall-...   \n",
       "2  so i had the brilliant idea to use veet hair r...   \n",
       "3  today i was going to have a bath after a long ...   \n",
       "4  i haven't had a bath in practically years so, ...   \n",
       "\n",
       "                                                tldr  \\\n",
       "0  confuse a 5th grade girl for a boy in front of...   \n",
       "1  i found my estranged dad, thought i loved him ...   \n",
       "2  had my balls burned by sauron and was left dev...   \n",
       "3         peppermint + bath = burning cold ladybits.   \n",
       "4  got too high and too hot in the bath, almost c...   \n",
       "\n",
       "                             title  \n",
       "0              gender-stereotyping  \n",
       "1  telling my dad that i love him.  \n",
       "2                i was deveeted...  \n",
       "3      wanting a pepperminty bath.  \n",
       "4     having a spliff in the bath.  "
      ]
     },
     "execution_count": 27,
     "metadata": {},
     "output_type": "execute_result"
    }
   ],
   "source": [
    "reddit_tifu_filtered_df.head()"
   ]
  },
  {
   "cell_type": "markdown",
   "metadata": {},
   "source": [
    "**Step 5:** (Filtering based on summaries: filter duplicates)\n",
    "\n",
    "* Next we look for candidate duplicates based on the values of the column 'tldr',\n",
    "* Duplicate summary field ('tldr') in Reddit TIFU does not necessarily indicate a duplicate data point, we call these data points 'candidate' duplicates\n",
    "* Find candidate duplicates based on duplicate summaries"
   ]
  },
  {
   "cell_type": "code",
   "execution_count": 28,
   "metadata": {
    "colab": {
     "base_uri": "https://localhost:8080/"
    },
    "executionInfo": {
     "elapsed": 17,
     "status": "ok",
     "timestamp": 1675026449123,
     "user": {
      "displayName": "Anna Kougioumtzidou",
      "userId": "08894778027574418607"
     },
     "user_tz": -120
    },
    "id": "EURFKHMgpXXO",
    "outputId": "ab75b78e-036b-4791-be10-3bc9facb33b9"
   },
   "outputs": [
    {
     "name": "stdout",
     "output_type": "stream",
     "text": [
      "\n",
      "**Reddit TIFU indx 20074**\n",
      "TLDR SUMMARY: think before you speak\n",
      "SOURCE TEXT: yipee, this just happened (+5 tifu points)\n",
      "\n",
      "i was watching the anzac ceremony in gallipoli on tv, like a new zealander should, but the volume was on 2. usually my family listens to the tv on volume 8-11 so my ears struggled to pick up the sounds.\n",
      "\n",
      "i was not in the vicinity of the remote so i was unable to do it myself.\n",
      "\n",
      "heres the fu:\n",
      "\n",
      "i said \"its very quiet\" while they were playing the national anthem of turkey.\n",
      "\n",
      "in my head i was wanting to hear the national anthem as i had never heard it before. instead it sounded like an offensive joke because there was a silence while the anthems play. awkward looks ensued.\n",
      "\n",
      "**Reddit TIFU indx 23123**\n",
      "TLDR SUMMARY: think before you speak\n",
      "SOURCE TEXT: little background info: sometimes i blurt out things before i realize it wasn't a good idea to say it.\n",
      "\n",
      "anyway were standing around and my friend was talking about what this guy could play when he uses the wah wah pedal ( http://www.swamp.net.au/images/productimages/large/wah.jpg) and the first thing i said was: \"a wah wah pedal? who named that, hellen keller?\" needless to say, they weren't too impressed.\n"
     ]
    }
   ],
   "source": [
    "# E.g., the following two elements of Reddit TIFU,\n",
    "# have the same 'tldr' but are not duplicates\n",
    "\n",
    "print(\"\\n**Reddit TIFU indx 20074**\")\n",
    "print(f\"TLDR SUMMARY: {reddit_tifu_df.loc[20074]['tldr']}\")\n",
    "print(f\"SOURCE TEXT: {reddit_tifu_df.loc[20074]['documents']}\")\n",
    "\n",
    "print(\"\\n**Reddit TIFU indx 23123**\")\n",
    "print(f\"TLDR SUMMARY: {reddit_tifu_df.loc[23123]['tldr']}\")\n",
    "print(f\"SOURCE TEXT: {reddit_tifu_df.loc[23123]['documents']}\")"
   ]
  },
  {
   "cell_type": "markdown",
   "metadata": {},
   "source": [
    "\"think before you speak\" seems to be a popular conclusion :)"
   ]
  },
  {
   "cell_type": "markdown",
   "metadata": {},
   "source": [
    "**Step 6:** Cross-check whether the candidate duplicates of step 5 are duplicates indeed"
   ]
  },
  {
   "cell_type": "code",
   "execution_count": 52,
   "metadata": {},
   "outputs": [],
   "source": [
    "summaries_duplicates_value_counts = reddit_tifu_filtered_df['tldr'].apply(clean_string).value_counts()"
   ]
  },
  {
   "cell_type": "code",
   "execution_count": 53,
   "metadata": {},
   "outputs": [
    {
     "data": {
      "text/plain": [
       "tldr\n",
       "i'm an idiot.                                                                                                                                                                                                                                                                                                              8\n",
       "doesn't matter, had sex.                                                                                                                                                                                                                                                                                                   3\n",
       "4th grade me thought i was a good magician, failed miserably doing a magic show in front of the class, and cried miserably at home.                                                                                                                                                                                        3\n",
       "my girlfriends dad found out about our secret relationship and now i can never see or talk to her again.                                                                                                                                                                                                                   3\n",
       "i fucked up.                                                                                                                                                                                                                                                                                                               3\n",
       "                                                                                                                                                                                                                                                                                                                          ..\n",
       "stood up for team only-child and ended up a paedophile                                                                                                                                                                                                                                                                     1\n",
       "prepared tea with dash of nope extract. waiting to die                                                                                                                                                                                                                                                                     1\n",
       "didn't dare to quit first job, had to call first job from new job, got fired over phone surrounded by co-workers and have to chill with old boss for halloween.                                                                                                                                                            1\n",
       "got horny so i skyped a stranger, got blackmailed and had to contact the fbi and police department                                                                                                                                                                                                                         1\n",
       "in a rush i mixed my colours in the wash and ended up with pink underwear which a girl i was having over saw and now thinks i’m a little too camp for her, so i won’t be seeing her again. in my rush i also left coins in a pocket which broke my machine.  i’m listening to everything my mother has to say in future    1\n",
       "Name: count, Length: 41880, dtype: int64"
      ]
     },
     "execution_count": 53,
     "metadata": {},
     "output_type": "execute_result"
    }
   ],
   "source": [
    "summaries_duplicates_value_counts"
   ]
  },
  {
   "cell_type": "code",
   "execution_count": 58,
   "metadata": {},
   "outputs": [],
   "source": [
    "exact_duplicates = reddit_tifu_filtered_df['tldr'].value_counts()[reddit_tifu_filtered_df['tldr'].value_counts() > 1]"
   ]
  },
  {
   "cell_type": "code",
   "execution_count": 62,
   "metadata": {},
   "outputs": [
    {
     "data": {
      "text/plain": [
       "69"
      ]
     },
     "execution_count": 62,
     "metadata": {},
     "output_type": "execute_result"
    }
   ],
   "source": [
    "# for sanity check\n",
    "len(exact_duplicates)"
   ]
  },
  {
   "cell_type": "code",
   "execution_count": 32,
   "metadata": {},
   "outputs": [],
   "source": [
    "reddit_tifu_filtered_df['clean_tldr'] = reddit_tifu_filtered_df['tldr'].apply(clean_string)\n",
    "\n",
    "# Initialize a dictionary to store duplicate indices\n",
    "candidate_duplicates_indices_dict = {}\n",
    "\n",
    "# Find duplicates in the 'clean_tldr' column\n",
    "duplicates_mask = reddit_tifu_filtered_df.duplicated(subset=['clean_tldr'], keep=False)\n",
    "\n",
    "# Filter the DataFrame to get rows with duplicated values\n",
    "duplicates_df = reddit_tifu_filtered_df[duplicates_mask]\n",
    "\n",
    "# Iterate over each unique value in the 'clean_tldr' column\n",
    "for value in duplicates_df['clean_tldr'].unique():\n",
    "    # Get indices of rows with this value\n",
    "    indices = duplicates_df[duplicates_df['clean_tldr'] == value].index.tolist()\n",
    "    \n",
    "    # Store indices in the dictionary\n",
    "    candidate_duplicates_indices_dict[value] = indices"
   ]
  },
  {
   "cell_type": "code",
   "execution_count": 33,
   "metadata": {},
   "outputs": [
    {
     "data": {
      "text/plain": [
       "{'i am a monster': [583, 11581],\n",
       " \"i'm an idiot\": [698, 30080],\n",
       " 'never trust a fart.': [729, 13791, 25478],\n",
       " 'delicious pocket snack inadvertently triggers a tsunami of shit that wrecks up our house, wife and i clean up with comically ineffectual tools.': [1183,\n",
       "  10660],\n",
       " \"sht happens and it doesn't care where or with whom you are.\": [1687, 10869],\n",
       " 'left hostel door open and woke up with a room full of pussy': [1814, 19438],\n",
       " 'i grabbed a hose in the dark and got a shitload more than i bargained for.': [1831,\n",
       "  2516],\n",
       " '4th grade me thought i was a good magician, failed miserably doing a magic show in front of the class, and cried miserably at home.': [2083,\n",
       "  4230,\n",
       "  14912],\n",
       " \"got a girl's number, walked to what i thought was the outdoors, turns out it was a glass wall\": [2203,\n",
       "  2213],\n",
       " 'pierced my member, posted pics online, got infected, washed out in cup, friend drank from cup, mom and dad found posted pics.': [2398,\n",
       "  16932],\n",
       " \"don't lie to your parents\": [2655, 5015],\n",
       " 'went commando on casual friday, shat my pants in the parking lot for the whole office to see.': [2682,\n",
       "  4823],\n",
       " 'got drunk, got hit in the face, called the police 4 times, couldnt find the entrance to the hospital because of how drunk i was': [2929,\n",
       "  3864],\n",
       " 'did a \"vertical 69\" with my gf and tried to heave her on the bed - she spit my d out right before falling to the floor': [3008,\n",
       "  3010],\n",
       " 'spilt a salty smoothie on my chin.': [3425, 7720],\n",
       " \"i'm a fucking idiot.\": [3699, 26839],\n",
       " 'thought my super conservative dad was asleep when i had sex with my girlfriend. he was not and he was pissed...': [3702,\n",
       "  13027],\n",
       " 'got boxed in, removed his wheels, teachers want my blood.': [3865, 13881],\n",
       " 'got drunk went to wake that i thought was a free goo goo dolls concert, learned that lance diamond was a cool dude, wrote you were a diamond in the rough in his memorial book, fell asleep, watched goo goo dolls play one song then go home.': [3995,\n",
       "  13287],\n",
       " 'who let the dogs out?': [4374, 24813],\n",
       " 'long story short, i tried to help out a friend by giving him a place to stay while he found a new job. now i have to kick him out and put another homeless person on the streets.': [4738,\n",
       "  4739],\n",
       " 'wind was a dick and burnt my feet': [4921, 4923, 4926],\n",
       " \"i had sex with a girl i've liked this entire year. i didn't pull out quickly enough, and her parents saw everything.\": [4950,\n",
       "  10034],\n",
       " 'tifu by forgetting that reddit exists': [5043, 12140],\n",
       " \"i'm an idiot.\": [5188, 6158, 18386, 22420, 26796, 27234, 35195, 42076],\n",
       " 'i ran out of toilet paper, so i used trash paper from a wrapped tampon. period blood and urine up my butt..': [5414,\n",
       "  5990],\n",
       " \"thought cookies for the dog would taste good. it didn't.\": [6070,\n",
       "  7992,\n",
       "  34588],\n",
       " 'version. i now have 3 broken ribs, a shiner, a hairline fracture on my clavicle, and massive internal bruising on my left side, and arm.': [6378,\n",
       "  19823],\n",
       " 'i jokingly told a substitute teacher i wanted to kill myself instead of doing a homework assignment, and i was forced to talk to my nurse and have guidance counselor meetings until i was “fixed”. also, my whole grade got to make fun of me for the year.': [6539,\n",
       "  30581],\n",
       " \"went to rock in rio, had a lot of milkshake, had to shit, ended up ruining my dad's night\": [6699,\n",
       "  6701],\n",
       " 'think before you speak': [6931, 20074, 23123],\n",
       " 'the title': [8110, 13097],\n",
       " 'i shit my pants': [8138, 32298, 41867],\n",
       " 'i invited my boyfriend to thanksgiving dinner, and we ended up getting quite the show from my naked cousin.': [8166,\n",
       "  37384],\n",
       " \"i didn't scan the room and let everyone know that my project manager is a dick (including him)\": [8190,\n",
       "  8200],\n",
       " \"i didn't scan the room and let everyone know that my project manager is an asshole (including him)\": [8206,\n",
       "  8207,\n",
       "  8208],\n",
       " 'took the tunnel in to escape trouble, left the same way and found a naked a couple.': [8213,\n",
       "  8214],\n",
       " ': almost died because a spider appeared out of nowhere in my car, and i should have just torched the car instead of making a fool of myself for anyone driving by watching me dance around my car with a dandelion.': [8563,\n",
       "  8564],\n",
       " \"i sniffed my girlfriend's underwear after she had spent 5 days backing in them.\": [9930,\n",
       "  9960],\n",
       " \"don't swallow.\": [10356, 32308],\n",
       " 'left porn running on my work computer while i went home to my kids during a robbery.': [10636,\n",
       "  10667],\n",
       " 'i fucked up.': [11498, 13665, 20083],\n",
       " 'used an oversized toothbrush to exfoliate my face and eyeballs with the devils chocolate.': [11607,\n",
       "  11612],\n",
       " \"took a snapchat of a crying baby and the baby's uncle was ready to kill me and ruined a night i was really looking forward to.\": [11695,\n",
       "  20396],\n",
       " 'i sneezed so hard that i shot air into my chest cavity and wound up in the hospital.': [12273,\n",
       "  15165],\n",
       " 'my cousin (4 year) farted on the table, i got disgusted so my grandma called him a \"selyandur\" (i said the meaning of this word in the main tifu text), he thought it was an insult to him and went to his room crying and we barely managed to calm him down (while he shaked his fist in anger at us lmao).': [12559,\n",
       "  12579],\n",
       " 'tifu - by being psychic': [12705, 12706],\n",
       " \"doesn't matter, had sex.\": [13944, 25577, 26008],\n",
       " 'woke up yelling \"earthquaaaake\" in a train with strangers around me.': [14133,\n",
       "  16483],\n",
       " \"feeling jolly, wasn't paying attention and accidentally subjected my phone to a non-consensual hygiene bukakke.\": [14721,\n",
       "  14747],\n",
       " \"i'm an asshole.\": [14782, 20120],\n",
       " '- hit on my p.a. who diagnosed my clamydia, wanted to die after.': [14983,\n",
       "  16673],\n",
       " \"i was always a quiet and reserved person, but as i grew up, i began to fall into a depression and a void began to grow in my life. i constantly would try and fill the void with either my own imaginations or false hopes at somebody actually liking me. this led me to actually grow the balls to tell a girl that hated me that i actually liked her, and now i'm a bigger joke than before. i'm not even going to bother going to prom or my own graduation.\": [15678,\n",
       "  15679],\n",
       " 'my boyfriends dick started bleeding during sex and because neither of us were in a position to drive we had to get his mother to drive us to a clinic where we found out his health card was expired. people with penises; beware of this apparent not-uncommon thing that can happen.': [15856,\n",
       "  21575],\n",
       " 'went out, got hot sauce on door, walls, dick, slept on couch naked and afraid that beelzebub would emerge from my japseye': [17505,\n",
       "  17516],\n",
       " 'ambien makes you sleepy, is not a proper replacement for carbo/levo and phones can be heavy machinery under the right conditions': [20121,\n",
       "  20123],\n",
       " \"don't play with fire\": [20224, 39996],\n",
       " 'i play with my brother’s balls.': [22133, 22138],\n",
       " 'accidentally caused a \"gas leak\" at my high school': [26339, 35285],\n",
       " \"hadn't seen my girlfriend in a semester. was banging her and right when i pulled out her dog ran up to the bed and sat on my girlfriend and i ended up exploding all over the dog.\": [27895,\n",
       "  34946],\n",
       " 'got horny': [28573, 30218],\n",
       " 'thought i was a formula 1 driver and broke my hand.': [29700, 34060],\n",
       " 'i got my leg cut up deeply by a broken toilet. mom took pics like a tourist in france. had to watch cartoon network cancer. got leg stitched up.': [29863,\n",
       "  38575],\n",
       " 'my girlfriends dad found out about our secret relationship and now i can never see or talk to her again.': [29871,\n",
       "  32612,\n",
       "  33760],\n",
       " '[responses](http://i.imgur.com/1xo6jof.jpg) will be released when survey is closed.': [29974,\n",
       "  38085],\n",
       " 'i wore loose pants and ended up mashing my sore toe resulting in indescribable amounts of pain and a lesson in physics.': [30045,\n",
       "  31548],\n",
       " 'met the love of my life and after 17 years threw it all away cause of a small pill (got addicted to pain killers)': [32106,\n",
       "  34216],\n",
       " 'headbanged to audioslave and broke my glasses, now losing sleep due a sore neck and may have lost a $50mil project for my company and my job. fingers crossed.': [38416,\n",
       "  40432],\n",
       " 'drunkenly pulled toilet off the wall flooding my favourite bar.': [41524,\n",
       "  41525]}"
      ]
     },
     "execution_count": 33,
     "metadata": {},
     "output_type": "execute_result"
    }
   ],
   "source": [
    "candidate_duplicates_indices_dict"
   ]
  },
  {
   "cell_type": "code",
   "execution_count": 34,
   "metadata": {},
   "outputs": [
    {
     "data": {
      "text/plain": [
       "69"
      ]
     },
     "execution_count": 34,
     "metadata": {},
     "output_type": "execute_result"
    }
   ],
   "source": [
    "len(candidate_duplicates_indices_dict)"
   ]
  },
  {
   "cell_type": "markdown",
   "metadata": {
    "id": "vxztWtw9rKrH"
   },
   "source": [
    "* After finding the candidate duplicates based on the 'tldr' column\n",
    "* we compare the corresponding source texts ('documents' column) to figure out if they are actual duplicates\n",
    "* to compare the source texts for similarity ROUGE-2 recall is used\n",
    "* two texts are considered duplicates if ROUGE-2 recall > 0.8 \n",
    "* this way of computing similarity is based on the approach used in *Zhang, J., Zhao, Y., Saleh, M., & Liu, P. (2020, November). Pegasus: Pre-training with extracted gap-sentences for abstractive summarization. In International Conference on Machine Learning (pp. 11328-11339). PMLR.*"
   ]
  },
  {
   "cell_type": "code",
   "execution_count": 35,
   "metadata": {},
   "outputs": [
    {
     "name": "stdout",
     "output_type": "stream",
     "text": [
      "The following data points will have the same summary-\"tldr\":\n",
      "\n",
      "ups                                                         181.0\n",
      "num_comments                                                 24.0\n",
      "upvote_ratio                                                 0.91\n",
      "score                                                       181.0\n",
      "documents       i recently got new car with manual transmissio...\n",
      "tldr                                               i am a monster\n",
      "title           making my 4 year old running face first into g...\n",
      "clean_tldr                                         i am a monster\n",
      "Name: 583, dtype: object\n",
      "\n",
      "\n",
      "ups                                                          10.0\n",
      "num_comments                                                 19.0\n",
      "upvote_ratio                                                  0.8\n",
      "score                                                        10.0\n",
      "documents       like so many of these stories, this happen a w...\n",
      "tldr                                               i am a monster\n",
      "title                  ruining a 6 year old's childhood innocence\n",
      "clean_tldr                                         i am a monster\n",
      "Name: 11581, dtype: object\n"
     ]
    }
   ],
   "source": [
    "print(\"The following data points will have the same summary-\\\"tldr\\\":\\n\")\n",
    "print(reddit_tifu_filtered_df.loc[583])\n",
    "print(\"\\n\")\n",
    "print(reddit_tifu_filtered_df.loc[11581])"
   ]
  },
  {
   "cell_type": "code",
   "execution_count": 36,
   "metadata": {
    "executionInfo": {
     "elapsed": 41015,
     "status": "ok",
     "timestamp": 1675026707674,
     "user": {
      "displayName": "Anna Kougioumtzidou",
      "userId": "08894778027574418607"
     },
     "user_tz": -120
    },
    "id": "pG8Mkgn5q56w"
   },
   "outputs": [],
   "source": [
    "import itertools\n",
    "\n",
    "duplicates_tldrs_indices = []\n",
    "pairs_of_duplicates_tldrs_indices = []\n",
    "\n",
    "for _, value in candidate_duplicates_indices_dict.items():\n",
    "    \n",
    "    pairs = list(filter(lambda x: x[0] <= x[1], itertools.combinations(value, 2)))\n",
    "\n",
    "    for pair in pairs:\n",
    "\n",
    "        indx_1 = pair[0]\n",
    "        indx_2 = pair[1]\n",
    "\n",
    "        target_1 = reddit_tifu_filtered_df.loc[indx_1]['documents']\n",
    "        target_2 = reddit_tifu_filtered_df.loc[indx_2]['documents']\n",
    "      \n",
    "        if rouge_2_recall([target_1], [target_2])>=0.8:        \n",
    "            duplicates_tldrs_indices.append(indx_2)\n",
    "            pairs_of_duplicates_tldrs_indices.append(pair)"
   ]
  },
  {
   "cell_type": "code",
   "execution_count": 37,
   "metadata": {},
   "outputs": [
    {
     "data": {
      "text/plain": [
       "[(1183, 10660),\n",
       " (1687, 10869),\n",
       " (1814, 19438),\n",
       " (1831, 2516),\n",
       " (2083, 4230),\n",
       " (2083, 14912),\n",
       " (4230, 14912),\n",
       " (2203, 2213),\n",
       " (2398, 16932),\n",
       " (2655, 5015),\n",
       " (2682, 4823),\n",
       " (2929, 3864),\n",
       " (3008, 3010),\n",
       " (3425, 7720),\n",
       " (3702, 13027),\n",
       " (3865, 13881),\n",
       " (3995, 13287),\n",
       " (4738, 4739),\n",
       " (4921, 4923),\n",
       " (4921, 4926),\n",
       " (4923, 4926),\n",
       " (5414, 5990),\n",
       " (6070, 7992),\n",
       " (6070, 34588),\n",
       " (7992, 34588),\n",
       " (6378, 19823),\n",
       " (6539, 30581),\n",
       " (6699, 6701),\n",
       " (8166, 37384),\n",
       " (8190, 8200),\n",
       " (8206, 8207),\n",
       " (8206, 8208),\n",
       " (8207, 8208),\n",
       " (8213, 8214),\n",
       " (8563, 8564),\n",
       " (9930, 9960),\n",
       " (11607, 11612),\n",
       " (11695, 20396),\n",
       " (12273, 15165),\n",
       " (12559, 12579),\n",
       " (12705, 12706),\n",
       " (14133, 16483),\n",
       " (14721, 14747),\n",
       " (14983, 16673),\n",
       " (15678, 15679),\n",
       " (15856, 21575),\n",
       " (17505, 17516),\n",
       " (20121, 20123),\n",
       " (22133, 22138),\n",
       " (26339, 35285),\n",
       " (27895, 34946),\n",
       " (29700, 34060),\n",
       " (29863, 38575),\n",
       " (29974, 38085),\n",
       " (30045, 31548),\n",
       " (32106, 34216),\n",
       " (38416, 40432),\n",
       " (41524, 41525)]"
      ]
     },
     "execution_count": 37,
     "metadata": {},
     "output_type": "execute_result"
    }
   ],
   "source": [
    "pairs_of_duplicates_tldrs_indices"
   ]
  },
  {
   "cell_type": "code",
   "execution_count": 51,
   "metadata": {},
   "outputs": [
    {
     "data": {
      "text/plain": [
       "'hello tifu community,\\n\\ni am /u/shylo132 one of the *[newer moderators](http://i.imgur.com/t97yu6n.jpg?1)* that came to be in our last round of hiring! i am also probably known as one of the nicer mods and a heavy meme poster when interacted with.\\n\\nthe moderator team and i want to get to know you a [little better.](http://i.imgur.com/ibxo734.jpg) we also want your opinion on how we can make our awesome subreddit grow and expand to heights it has not yet seen before!\\n\\nto do this we need your help by filling out **[tifu\\'s survey for 2016!](https://docs.google.com/forms/d/1sc5qz1wzntoykbj7rxmt8dpr2z8qlaizzqzdyafqlry/viewform)** this survey will stay up for 2 weeks to allow everyone a chance for input. the *[end date](http://i.imgur.com/9ornxnc.jpg)* of this survey is **12 june 16**\\n\\nthank you for your participation and may your *[fuck ups](http://i.imgur.com/c4moylz.jpg)* be all our entertainment.\\n\\n---\\n \\n\\nupdate: be sure to attach this \"[i voted](http://ecx.images-amazon.com/images/i/61nvnq4puhl._sl1000_.jpg)\" button in all your other comments and posts to spread awareness. also be sure to contribute any idea\\'s to /r/ideasfortifu.'"
      ]
     },
     "execution_count": 51,
     "metadata": {},
     "output_type": "execute_result"
    }
   ],
   "source": [
    "reddit_tifu_df.loc[29974]['documents']"
   ]
  },
  {
   "cell_type": "code",
   "execution_count": 50,
   "metadata": {},
   "outputs": [
    {
     "data": {
      "text/plain": [
       "'hello tifu community, sadly due to lack of contest participation we get to resort to this copy/pasta post! yay...\\n\\ni am /u/shylo132 one of the now well *[seasoned moderators!](http://i.imgur.com/t97yu6n.jpg?1)* i am known as the nicest mod and a meme poster when interacted with.\\n\\nthe moderator team and i want to get to know you a [little better.](http://i.imgur.com/ibxo734.jpg) we also want your opinion on how we can make our awesome subreddit grow and expand to heights it has not yet seen before!\\n\\nto do this we need your help by filling out **[tifu\\'s survey for 2017!](https://docs.google.com/forms/d/e/1faipqlsei583a6bxsgtm2p1xt80tnynhyperlrqgtsrrp-9bro1eqnq/viewform)** this survey will stay up for 2 weeks to allow everyone a chance for input. the *[end date](https://www.timeanddate.com/countdown/to?iso=20170609t00&p0=37&msg=tifu+census+2017+closed&ud=1&font=sanserif&csz=1)* of this survey is **9 june 17**.\\n\\nthank you for your participation and may all your *[fuck ups](http://i.imgur.com/c4moylz.jpg)* be all our entertainment.\\n\\n---\\n \\n\\nbe sure to attach this \"[i voted](http://ecx.images-amazon.com/images/i/61nvnq4puhl._sl1000_.jpg)\" button in all your other comments and posts to spread awareness. also be sure to contribute any idea\\'s to /r/ideasfortifu.'"
      ]
     },
     "execution_count": 50,
     "metadata": {},
     "output_type": "execute_result"
    }
   ],
   "source": [
    "reddit_tifu_df.loc[38085]['documents']"
   ]
  },
  {
   "cell_type": "code",
   "execution_count": 40,
   "metadata": {
    "colab": {
     "base_uri": "https://localhost:8080/"
    },
    "executionInfo": {
     "elapsed": 14,
     "status": "ok",
     "timestamp": 1675026707675,
     "user": {
      "displayName": "Anna Kougioumtzidou",
      "userId": "08894778027574418607"
     },
     "user_tz": -120
    },
    "id": "svcYQ1SwwlTZ",
    "outputId": "f12ccfb2-edc2-428d-e5d4-a0c918826eeb"
   },
   "outputs": [
    {
     "data": {
      "text/plain": [
       "set()"
      ]
     },
     "execution_count": 40,
     "metadata": {},
     "output_type": "execute_result"
    }
   ],
   "source": [
    "# Sanity check: there should be no common elements in the two lists\n",
    "set(duplicates_tldrs_indices) & set(indices_to_remove)"
   ]
  },
  {
   "cell_type": "markdown",
   "metadata": {},
   "source": [
    "**Step 7:** Filter the indices defined in step 6 from the dataset"
   ]
  },
  {
   "cell_type": "markdown",
   "metadata": {
    "id": "RtRhkJOUhisZ"
   },
   "source": [
    "**Reddit TIFU indices that correspond to duplicates**"
   ]
  },
  {
   "cell_type": "code",
   "execution_count": 41,
   "metadata": {
    "executionInfo": {
     "elapsed": 11,
     "status": "ok",
     "timestamp": 1675026707675,
     "user": {
      "displayName": "Anna Kougioumtzidou",
      "userId": "08894778027574418607"
     },
     "user_tz": -120
    },
    "id": "WH4wMLrthh3I"
   },
   "outputs": [],
   "source": [
    "reddit_tifu_duplicates_indices = exact_duplicates_texts_indices + duplicates_tldrs_indices"
   ]
  },
  {
   "cell_type": "code",
   "execution_count": 42,
   "metadata": {
    "colab": {
     "base_uri": "https://localhost:8080/"
    },
    "executionInfo": {
     "elapsed": 11,
     "status": "ok",
     "timestamp": 1675026707676,
     "user": {
      "displayName": "Anna Kougioumtzidou",
      "userId": "08894778027574418607"
     },
     "user_tz": -120
    },
    "id": "Ns4Cu30Kh7OA",
    "outputId": "4db3b070-87b7-402e-8738-99fb5c8372f7"
   },
   "outputs": [
    {
     "data": {
      "text/plain": [
       "96"
      ]
     },
     "execution_count": 42,
     "metadata": {},
     "output_type": "execute_result"
    }
   ],
   "source": [
    "len(reddit_tifu_duplicates_indices)"
   ]
  },
  {
   "cell_type": "markdown",
   "metadata": {
    "id": "7l76Pb_jhYvv"
   },
   "source": [
    "**Reddit TIFU indices that will be removed from the dataset (duplicates + not useful)**"
   ]
  },
  {
   "cell_type": "code",
   "execution_count": 43,
   "metadata": {
    "executionInfo": {
     "elapsed": 9,
     "status": "ok",
     "timestamp": 1675026707676,
     "user": {
      "displayName": "Anna Kougioumtzidou",
      "userId": "08894778027574418607"
     },
     "user_tz": -120
    },
    "id": "-ZDQsDfewlat"
   },
   "outputs": [],
   "source": [
    "reddit_tifu_indices_to_remove = exact_duplicates_texts_indices \\\n",
    "                                + duplicates_tldrs_indices \\\n",
    "                                + not_useful_texts_indices \\\n",
    "                                + not_useful_tldrs_indices"
   ]
  },
  {
   "cell_type": "code",
   "execution_count": 44,
   "metadata": {
    "colab": {
     "base_uri": "https://localhost:8080/"
    },
    "executionInfo": {
     "elapsed": 9,
     "status": "ok",
     "timestamp": 1675026707676,
     "user": {
      "displayName": "Anna Kougioumtzidou",
      "userId": "08894778027574418607"
     },
     "user_tz": -120
    },
    "id": "QpO99i9Zwldb",
    "outputId": "2340b200-52c4-4c65-f32f-fc0dbc37a31b"
   },
   "outputs": [
    {
     "data": {
      "text/plain": [
       "232"
      ]
     },
     "execution_count": 44,
     "metadata": {},
     "output_type": "execute_result"
    }
   ],
   "source": [
    "len(reddit_tifu_indices_to_remove)"
   ]
  },
  {
   "cell_type": "code",
   "execution_count": 45,
   "metadata": {
    "executionInfo": {
     "elapsed": 433,
     "status": "ok",
     "timestamp": 1675026708101,
     "user": {
      "displayName": "Anna Kougioumtzidou",
      "userId": "08894778027574418607"
     },
     "user_tz": -120
    },
    "id": "ezquuBboPOcU"
   },
   "outputs": [],
   "source": [
    "# Select the reddit_tifu indices to keep by removing the indices to remove\n",
    "\n",
    "all_reddit_tifu_indices = []\n",
    "all_reddit_tifu_indices.extend(range(len(reddit_tifu_df)))\n",
    "\n",
    "reddit_tifu_indices_to_keep = [element for element in all_reddit_tifu_indices if element not in reddit_tifu_indices_to_remove]"
   ]
  },
  {
   "cell_type": "code",
   "execution_count": 46,
   "metadata": {
    "colab": {
     "base_uri": "https://localhost:8080/"
    },
    "executionInfo": {
     "elapsed": 10,
     "status": "ok",
     "timestamp": 1675026708102,
     "user": {
      "displayName": "Anna Kougioumtzidou",
      "userId": "08894778027574418607"
     },
     "user_tz": -120
    },
    "id": "9yDpCRCIPriA",
    "outputId": "d3969b26-5f67-4d12-f37a-2ad078df90ba"
   },
   "outputs": [
    {
     "data": {
      "text/plain": [
       "41911"
      ]
     },
     "execution_count": 46,
     "metadata": {},
     "output_type": "execute_result"
    }
   ],
   "source": [
    "len(reddit_tifu_indices_to_keep)"
   ]
  },
  {
   "cell_type": "code",
   "execution_count": 47,
   "metadata": {
    "id": "8MAJlTG-q6FI"
   },
   "outputs": [],
   "source": [
    "with open('reddit_tifu_indices_to_keep.txt', 'w') as f:\n",
    "    for item in reddit_tifu_indices_to_keep:\n",
    "        f.write(\"%s\\n\" % item)"
   ]
  }
 ],
 "metadata": {
  "colab": {
   "authorship_tag": "ABX9TyNvSsBC1GvJkQFgCG31e/GA",
   "mount_file_id": "1x956nLIqaZrqzqFLPEDE9D-Rs_bE3Cg-",
   "provenance": []
  },
  "gpuClass": "standard",
  "kernelspec": {
   "display_name": "Python 3 (ipykernel)",
   "language": "python",
   "name": "python3"
  },
  "language_info": {
   "codemirror_mode": {
    "name": "ipython",
    "version": 3
   },
   "file_extension": ".py",
   "mimetype": "text/x-python",
   "name": "python",
   "nbconvert_exporter": "python",
   "pygments_lexer": "ipython3",
   "version": "3.11.5"
  },
  "widgets": {
   "application/vnd.jupyter.widget-state+json": {
    "097a1f69ce9146eb8ce8902b000a5243": {
     "model_module": "@jupyter-widgets/base",
     "model_module_version": "1.2.0",
     "model_name": "LayoutModel",
     "state": {
      "_model_module": "@jupyter-widgets/base",
      "_model_module_version": "1.2.0",
      "_model_name": "LayoutModel",
      "_view_count": null,
      "_view_module": "@jupyter-widgets/base",
      "_view_module_version": "1.2.0",
      "_view_name": "LayoutView",
      "align_content": null,
      "align_items": null,
      "align_self": null,
      "border": null,
      "bottom": null,
      "display": null,
      "flex": null,
      "flex_flow": null,
      "grid_area": null,
      "grid_auto_columns": null,
      "grid_auto_flow": null,
      "grid_auto_rows": null,
      "grid_column": null,
      "grid_gap": null,
      "grid_row": null,
      "grid_template_areas": null,
      "grid_template_columns": null,
      "grid_template_rows": null,
      "height": null,
      "justify_content": null,
      "justify_items": null,
      "left": null,
      "margin": null,
      "max_height": null,
      "max_width": null,
      "min_height": null,
      "min_width": null,
      "object_fit": null,
      "object_position": null,
      "order": null,
      "overflow": null,
      "overflow_x": null,
      "overflow_y": null,
      "padding": null,
      "right": null,
      "top": null,
      "visibility": null,
      "width": null
     }
    },
    "0d71fbcfdd1f4b7ebe88c2b44430e773": {
     "model_module": "@jupyter-widgets/controls",
     "model_module_version": "1.5.0",
     "model_name": "ProgressStyleModel",
     "state": {
      "_model_module": "@jupyter-widgets/controls",
      "_model_module_version": "1.5.0",
      "_model_name": "ProgressStyleModel",
      "_view_count": null,
      "_view_module": "@jupyter-widgets/base",
      "_view_module_version": "1.2.0",
      "_view_name": "StyleView",
      "bar_color": null,
      "description_width": ""
     }
    },
    "0efd2d9db0594e69a2088129ee123a35": {
     "model_module": "@jupyter-widgets/base",
     "model_module_version": "1.2.0",
     "model_name": "LayoutModel",
     "state": {
      "_model_module": "@jupyter-widgets/base",
      "_model_module_version": "1.2.0",
      "_model_name": "LayoutModel",
      "_view_count": null,
      "_view_module": "@jupyter-widgets/base",
      "_view_module_version": "1.2.0",
      "_view_name": "LayoutView",
      "align_content": null,
      "align_items": null,
      "align_self": null,
      "border": null,
      "bottom": null,
      "display": null,
      "flex": null,
      "flex_flow": null,
      "grid_area": null,
      "grid_auto_columns": null,
      "grid_auto_flow": null,
      "grid_auto_rows": null,
      "grid_column": null,
      "grid_gap": null,
      "grid_row": null,
      "grid_template_areas": null,
      "grid_template_columns": null,
      "grid_template_rows": null,
      "height": null,
      "justify_content": null,
      "justify_items": null,
      "left": null,
      "margin": null,
      "max_height": null,
      "max_width": null,
      "min_height": null,
      "min_width": null,
      "object_fit": null,
      "object_position": null,
      "order": null,
      "overflow": null,
      "overflow_x": null,
      "overflow_y": null,
      "padding": null,
      "right": null,
      "top": null,
      "visibility": null,
      "width": null
     }
    },
    "1007680d8d0a4ef0823e58b5183473fd": {
     "model_module": "@jupyter-widgets/controls",
     "model_module_version": "1.5.0",
     "model_name": "DescriptionStyleModel",
     "state": {
      "_model_module": "@jupyter-widgets/controls",
      "_model_module_version": "1.5.0",
      "_model_name": "DescriptionStyleModel",
      "_view_count": null,
      "_view_module": "@jupyter-widgets/base",
      "_view_module_version": "1.2.0",
      "_view_name": "StyleView",
      "description_width": ""
     }
    },
    "11c8167906b94d768ecaf0da2b1f62ce": {
     "model_module": "@jupyter-widgets/base",
     "model_module_version": "1.2.0",
     "model_name": "LayoutModel",
     "state": {
      "_model_module": "@jupyter-widgets/base",
      "_model_module_version": "1.2.0",
      "_model_name": "LayoutModel",
      "_view_count": null,
      "_view_module": "@jupyter-widgets/base",
      "_view_module_version": "1.2.0",
      "_view_name": "LayoutView",
      "align_content": null,
      "align_items": null,
      "align_self": null,
      "border": null,
      "bottom": null,
      "display": null,
      "flex": null,
      "flex_flow": null,
      "grid_area": null,
      "grid_auto_columns": null,
      "grid_auto_flow": null,
      "grid_auto_rows": null,
      "grid_column": null,
      "grid_gap": null,
      "grid_row": null,
      "grid_template_areas": null,
      "grid_template_columns": null,
      "grid_template_rows": null,
      "height": null,
      "justify_content": null,
      "justify_items": null,
      "left": null,
      "margin": null,
      "max_height": null,
      "max_width": null,
      "min_height": null,
      "min_width": null,
      "object_fit": null,
      "object_position": null,
      "order": null,
      "overflow": null,
      "overflow_x": null,
      "overflow_y": null,
      "padding": null,
      "right": null,
      "top": null,
      "visibility": null,
      "width": null
     }
    },
    "12ff05e8777848049aebbbb706735299": {
     "model_module": "@jupyter-widgets/controls",
     "model_module_version": "1.5.0",
     "model_name": "HTMLModel",
     "state": {
      "_dom_classes": [],
      "_model_module": "@jupyter-widgets/controls",
      "_model_module_version": "1.5.0",
      "_model_name": "HTMLModel",
      "_view_count": null,
      "_view_module": "@jupyter-widgets/controls",
      "_view_module_version": "1.5.0",
      "_view_name": "HTMLView",
      "description": "",
      "description_tooltip": null,
      "layout": "IPY_MODEL_f29992b3ce304066bb0bdd010cd8daf5",
      "placeholder": "​",
      "style": "IPY_MODEL_c1d1c36645274bc699e24f755016274f",
      "value": " 42139/42139 [00:24&lt;00:00, 4579.97 examples/s]"
     }
    },
    "13a3f59c8a654c848741c7c042449aea": {
     "model_module": "@jupyter-widgets/controls",
     "model_module_version": "1.5.0",
     "model_name": "HTMLModel",
     "state": {
      "_dom_classes": [],
      "_model_module": "@jupyter-widgets/controls",
      "_model_module_version": "1.5.0",
      "_model_name": "HTMLModel",
      "_view_count": null,
      "_view_module": "@jupyter-widgets/controls",
      "_view_module_version": "1.5.0",
      "_view_name": "HTMLView",
      "description": "",
      "description_tooltip": null,
      "layout": "IPY_MODEL_87d6eae92f7346caa556e0731a3d6942",
      "placeholder": "​",
      "style": "IPY_MODEL_f954c297a51848e3a1508ab014345c45",
      "value": "Downloading builder script: "
     }
    },
    "176a445bfcdf4b05b2d726711956ef11": {
     "model_module": "@jupyter-widgets/base",
     "model_module_version": "1.2.0",
     "model_name": "LayoutModel",
     "state": {
      "_model_module": "@jupyter-widgets/base",
      "_model_module_version": "1.2.0",
      "_model_name": "LayoutModel",
      "_view_count": null,
      "_view_module": "@jupyter-widgets/base",
      "_view_module_version": "1.2.0",
      "_view_name": "LayoutView",
      "align_content": null,
      "align_items": null,
      "align_self": null,
      "border": null,
      "bottom": null,
      "display": null,
      "flex": null,
      "flex_flow": null,
      "grid_area": null,
      "grid_auto_columns": null,
      "grid_auto_flow": null,
      "grid_auto_rows": null,
      "grid_column": null,
      "grid_gap": null,
      "grid_row": null,
      "grid_template_areas": null,
      "grid_template_columns": null,
      "grid_template_rows": null,
      "height": null,
      "justify_content": null,
      "justify_items": null,
      "left": null,
      "margin": null,
      "max_height": null,
      "max_width": null,
      "min_height": null,
      "min_width": null,
      "object_fit": null,
      "object_position": null,
      "order": null,
      "overflow": null,
      "overflow_x": null,
      "overflow_y": null,
      "padding": null,
      "right": null,
      "top": null,
      "visibility": null,
      "width": null
     }
    },
    "1b5c6bf90c61403c84ba7e9493fa0fda": {
     "model_module": "@jupyter-widgets/controls",
     "model_module_version": "1.5.0",
     "model_name": "ProgressStyleModel",
     "state": {
      "_model_module": "@jupyter-widgets/controls",
      "_model_module_version": "1.5.0",
      "_model_name": "ProgressStyleModel",
      "_view_count": null,
      "_view_module": "@jupyter-widgets/base",
      "_view_module_version": "1.2.0",
      "_view_name": "StyleView",
      "bar_color": null,
      "description_width": ""
     }
    },
    "27aa0821c91d4dbeb92d2948c5b2db61": {
     "model_module": "@jupyter-widgets/base",
     "model_module_version": "1.2.0",
     "model_name": "LayoutModel",
     "state": {
      "_model_module": "@jupyter-widgets/base",
      "_model_module_version": "1.2.0",
      "_model_name": "LayoutModel",
      "_view_count": null,
      "_view_module": "@jupyter-widgets/base",
      "_view_module_version": "1.2.0",
      "_view_name": "LayoutView",
      "align_content": null,
      "align_items": null,
      "align_self": null,
      "border": null,
      "bottom": null,
      "display": null,
      "flex": null,
      "flex_flow": null,
      "grid_area": null,
      "grid_auto_columns": null,
      "grid_auto_flow": null,
      "grid_auto_rows": null,
      "grid_column": null,
      "grid_gap": null,
      "grid_row": null,
      "grid_template_areas": null,
      "grid_template_columns": null,
      "grid_template_rows": null,
      "height": null,
      "justify_content": null,
      "justify_items": null,
      "left": null,
      "margin": null,
      "max_height": null,
      "max_width": null,
      "min_height": null,
      "min_width": null,
      "object_fit": null,
      "object_position": null,
      "order": null,
      "overflow": null,
      "overflow_x": null,
      "overflow_y": null,
      "padding": null,
      "right": null,
      "top": null,
      "visibility": null,
      "width": null
     }
    },
    "2bc5016479f2431fb7e39b7f7d4a4421": {
     "model_module": "@jupyter-widgets/base",
     "model_module_version": "1.2.0",
     "model_name": "LayoutModel",
     "state": {
      "_model_module": "@jupyter-widgets/base",
      "_model_module_version": "1.2.0",
      "_model_name": "LayoutModel",
      "_view_count": null,
      "_view_module": "@jupyter-widgets/base",
      "_view_module_version": "1.2.0",
      "_view_name": "LayoutView",
      "align_content": null,
      "align_items": null,
      "align_self": null,
      "border": null,
      "bottom": null,
      "display": null,
      "flex": null,
      "flex_flow": null,
      "grid_area": null,
      "grid_auto_columns": null,
      "grid_auto_flow": null,
      "grid_auto_rows": null,
      "grid_column": null,
      "grid_gap": null,
      "grid_row": null,
      "grid_template_areas": null,
      "grid_template_columns": null,
      "grid_template_rows": null,
      "height": null,
      "justify_content": null,
      "justify_items": null,
      "left": null,
      "margin": null,
      "max_height": null,
      "max_width": null,
      "min_height": null,
      "min_width": null,
      "object_fit": null,
      "object_position": null,
      "order": null,
      "overflow": null,
      "overflow_x": null,
      "overflow_y": null,
      "padding": null,
      "right": null,
      "top": null,
      "visibility": null,
      "width": null
     }
    },
    "2f4b175d06b74baca253a5d52692d5ac": {
     "model_module": "@jupyter-widgets/base",
     "model_module_version": "1.2.0",
     "model_name": "LayoutModel",
     "state": {
      "_model_module": "@jupyter-widgets/base",
      "_model_module_version": "1.2.0",
      "_model_name": "LayoutModel",
      "_view_count": null,
      "_view_module": "@jupyter-widgets/base",
      "_view_module_version": "1.2.0",
      "_view_name": "LayoutView",
      "align_content": null,
      "align_items": null,
      "align_self": null,
      "border": null,
      "bottom": null,
      "display": null,
      "flex": null,
      "flex_flow": null,
      "grid_area": null,
      "grid_auto_columns": null,
      "grid_auto_flow": null,
      "grid_auto_rows": null,
      "grid_column": null,
      "grid_gap": null,
      "grid_row": null,
      "grid_template_areas": null,
      "grid_template_columns": null,
      "grid_template_rows": null,
      "height": null,
      "justify_content": null,
      "justify_items": null,
      "left": null,
      "margin": null,
      "max_height": null,
      "max_width": null,
      "min_height": null,
      "min_width": null,
      "object_fit": null,
      "object_position": null,
      "order": null,
      "overflow": null,
      "overflow_x": null,
      "overflow_y": null,
      "padding": null,
      "right": null,
      "top": null,
      "visibility": null,
      "width": null
     }
    },
    "344534adac4846d48c7c271723b358f7": {
     "model_module": "@jupyter-widgets/controls",
     "model_module_version": "1.5.0",
     "model_name": "DescriptionStyleModel",
     "state": {
      "_model_module": "@jupyter-widgets/controls",
      "_model_module_version": "1.5.0",
      "_model_name": "DescriptionStyleModel",
      "_view_count": null,
      "_view_module": "@jupyter-widgets/base",
      "_view_module_version": "1.2.0",
      "_view_name": "StyleView",
      "description_width": ""
     }
    },
    "349b71b540f343cd9969247c679d5219": {
     "model_module": "@jupyter-widgets/controls",
     "model_module_version": "1.5.0",
     "model_name": "ProgressStyleModel",
     "state": {
      "_model_module": "@jupyter-widgets/controls",
      "_model_module_version": "1.5.0",
      "_model_name": "ProgressStyleModel",
      "_view_count": null,
      "_view_module": "@jupyter-widgets/base",
      "_view_module_version": "1.2.0",
      "_view_name": "StyleView",
      "bar_color": null,
      "description_width": ""
     }
    },
    "38fcbb9b754b460392fe8af11ae69e67": {
     "model_module": "@jupyter-widgets/controls",
     "model_module_version": "1.5.0",
     "model_name": "HTMLModel",
     "state": {
      "_dom_classes": [],
      "_model_module": "@jupyter-widgets/controls",
      "_model_module_version": "1.5.0",
      "_model_name": "HTMLModel",
      "_view_count": null,
      "_view_module": "@jupyter-widgets/controls",
      "_view_module_version": "1.5.0",
      "_view_name": "HTMLView",
      "description": "",
      "description_tooltip": null,
      "layout": "IPY_MODEL_bc0a35b2059a4754ad4e51678c370519",
      "placeholder": "​",
      "style": "IPY_MODEL_6d655829d49843c1b41caef27242f580",
      "value": "Downloading metadata: 100%"
     }
    },
    "3982e69bf3954ae79ded4ae797740b7e": {
     "model_module": "@jupyter-widgets/controls",
     "model_module_version": "1.5.0",
     "model_name": "HTMLModel",
     "state": {
      "_dom_classes": [],
      "_model_module": "@jupyter-widgets/controls",
      "_model_module_version": "1.5.0",
      "_model_name": "HTMLModel",
      "_view_count": null,
      "_view_module": "@jupyter-widgets/controls",
      "_view_module_version": "1.5.0",
      "_view_name": "HTMLView",
      "description": "",
      "description_tooltip": null,
      "layout": "IPY_MODEL_5ef387330f0a45278fa9362175543eb0",
      "placeholder": "​",
      "style": "IPY_MODEL_344534adac4846d48c7c271723b358f7",
      "value": " 5.60k/? [00:00&lt;00:00, 214kB/s]"
     }
    },
    "3e00b6a5940f48e48073b08e19ec8665": {
     "model_module": "@jupyter-widgets/controls",
     "model_module_version": "1.5.0",
     "model_name": "FloatProgressModel",
     "state": {
      "_dom_classes": [],
      "_model_module": "@jupyter-widgets/controls",
      "_model_module_version": "1.5.0",
      "_model_name": "FloatProgressModel",
      "_view_count": null,
      "_view_module": "@jupyter-widgets/controls",
      "_view_module_version": "1.5.0",
      "_view_name": "ProgressView",
      "bar_style": "",
      "description": "",
      "description_tooltip": null,
      "layout": "IPY_MODEL_ff5e24f3e4f744be9fce82703695da2e",
      "max": 42139,
      "min": 0,
      "orientation": "horizontal",
      "style": "IPY_MODEL_0d71fbcfdd1f4b7ebe88c2b44430e773",
      "value": 42139
     }
    },
    "3e7e30a11daf4f5c891c498563635153": {
     "model_module": "@jupyter-widgets/controls",
     "model_module_version": "1.5.0",
     "model_name": "ProgressStyleModel",
     "state": {
      "_model_module": "@jupyter-widgets/controls",
      "_model_module_version": "1.5.0",
      "_model_name": "ProgressStyleModel",
      "_view_count": null,
      "_view_module": "@jupyter-widgets/base",
      "_view_module_version": "1.2.0",
      "_view_name": "StyleView",
      "bar_color": null,
      "description_width": ""
     }
    },
    "3fc29795dde24521a419d1af4d040f7c": {
     "model_module": "@jupyter-widgets/controls",
     "model_module_version": "1.5.0",
     "model_name": "HTMLModel",
     "state": {
      "_dom_classes": [],
      "_model_module": "@jupyter-widgets/controls",
      "_model_module_version": "1.5.0",
      "_model_name": "HTMLModel",
      "_view_count": null,
      "_view_module": "@jupyter-widgets/controls",
      "_view_module_version": "1.5.0",
      "_view_name": "HTMLView",
      "description": "",
      "description_tooltip": null,
      "layout": "IPY_MODEL_097a1f69ce9146eb8ce8902b000a5243",
      "placeholder": "​",
      "style": "IPY_MODEL_94c912ddad6b470d8dec6f67f554036d",
      "value": "Downloading data: 100%"
     }
    },
    "40b54d4fc235408abe11fdcfadccef2a": {
     "model_module": "@jupyter-widgets/base",
     "model_module_version": "1.2.0",
     "model_name": "LayoutModel",
     "state": {
      "_model_module": "@jupyter-widgets/base",
      "_model_module_version": "1.2.0",
      "_model_name": "LayoutModel",
      "_view_count": null,
      "_view_module": "@jupyter-widgets/base",
      "_view_module_version": "1.2.0",
      "_view_name": "LayoutView",
      "align_content": null,
      "align_items": null,
      "align_self": null,
      "border": null,
      "bottom": null,
      "display": null,
      "flex": null,
      "flex_flow": null,
      "grid_area": null,
      "grid_auto_columns": null,
      "grid_auto_flow": null,
      "grid_auto_rows": null,
      "grid_column": null,
      "grid_gap": null,
      "grid_row": null,
      "grid_template_areas": null,
      "grid_template_columns": null,
      "grid_template_rows": null,
      "height": null,
      "justify_content": null,
      "justify_items": null,
      "left": null,
      "margin": null,
      "max_height": null,
      "max_width": null,
      "min_height": null,
      "min_width": null,
      "object_fit": null,
      "object_position": null,
      "order": null,
      "overflow": null,
      "overflow_x": null,
      "overflow_y": null,
      "padding": null,
      "right": null,
      "top": null,
      "visibility": null,
      "width": null
     }
    },
    "479a886cca994132b83031562eb04456": {
     "model_module": "@jupyter-widgets/base",
     "model_module_version": "1.2.0",
     "model_name": "LayoutModel",
     "state": {
      "_model_module": "@jupyter-widgets/base",
      "_model_module_version": "1.2.0",
      "_model_name": "LayoutModel",
      "_view_count": null,
      "_view_module": "@jupyter-widgets/base",
      "_view_module_version": "1.2.0",
      "_view_name": "LayoutView",
      "align_content": null,
      "align_items": null,
      "align_self": null,
      "border": null,
      "bottom": null,
      "display": null,
      "flex": null,
      "flex_flow": null,
      "grid_area": null,
      "grid_auto_columns": null,
      "grid_auto_flow": null,
      "grid_auto_rows": null,
      "grid_column": null,
      "grid_gap": null,
      "grid_row": null,
      "grid_template_areas": null,
      "grid_template_columns": null,
      "grid_template_rows": null,
      "height": null,
      "justify_content": null,
      "justify_items": null,
      "left": null,
      "margin": null,
      "max_height": null,
      "max_width": null,
      "min_height": null,
      "min_width": null,
      "object_fit": null,
      "object_position": null,
      "order": null,
      "overflow": null,
      "overflow_x": null,
      "overflow_y": null,
      "padding": null,
      "right": null,
      "top": null,
      "visibility": null,
      "width": null
     }
    },
    "4988a4964bc44cc0be5469d548217ef5": {
     "model_module": "@jupyter-widgets/controls",
     "model_module_version": "1.5.0",
     "model_name": "FloatProgressModel",
     "state": {
      "_dom_classes": [],
      "_model_module": "@jupyter-widgets/controls",
      "_model_module_version": "1.5.0",
      "_model_name": "FloatProgressModel",
      "_view_count": null,
      "_view_module": "@jupyter-widgets/controls",
      "_view_module_version": "1.5.0",
      "_view_name": "ProgressView",
      "bar_style": "success",
      "description": "",
      "description_tooltip": null,
      "layout": "IPY_MODEL_ccc4d281b27f411db271145ea28800c9",
      "max": 670607856,
      "min": 0,
      "orientation": "horizontal",
      "style": "IPY_MODEL_a43f5f75d2a94740a0fc1af68d87b2f2",
      "value": 670607856
     }
    },
    "5160ff0c6a5044f9a95a2d3b69cbd1ec": {
     "model_module": "@jupyter-widgets/base",
     "model_module_version": "1.2.0",
     "model_name": "LayoutModel",
     "state": {
      "_model_module": "@jupyter-widgets/base",
      "_model_module_version": "1.2.0",
      "_model_name": "LayoutModel",
      "_view_count": null,
      "_view_module": "@jupyter-widgets/base",
      "_view_module_version": "1.2.0",
      "_view_name": "LayoutView",
      "align_content": null,
      "align_items": null,
      "align_self": null,
      "border": null,
      "bottom": null,
      "display": null,
      "flex": null,
      "flex_flow": null,
      "grid_area": null,
      "grid_auto_columns": null,
      "grid_auto_flow": null,
      "grid_auto_rows": null,
      "grid_column": null,
      "grid_gap": null,
      "grid_row": null,
      "grid_template_areas": null,
      "grid_template_columns": null,
      "grid_template_rows": null,
      "height": null,
      "justify_content": null,
      "justify_items": null,
      "left": null,
      "margin": null,
      "max_height": null,
      "max_width": null,
      "min_height": null,
      "min_width": null,
      "object_fit": null,
      "object_position": null,
      "order": null,
      "overflow": null,
      "overflow_x": null,
      "overflow_y": null,
      "padding": null,
      "right": null,
      "top": null,
      "visibility": null,
      "width": null
     }
    },
    "5240fb865aeb4149b5cb5dbe99362e96": {
     "model_module": "@jupyter-widgets/controls",
     "model_module_version": "1.5.0",
     "model_name": "HTMLModel",
     "state": {
      "_dom_classes": [],
      "_model_module": "@jupyter-widgets/controls",
      "_model_module_version": "1.5.0",
      "_model_name": "HTMLModel",
      "_view_count": null,
      "_view_module": "@jupyter-widgets/controls",
      "_view_module_version": "1.5.0",
      "_view_name": "HTMLView",
      "description": "",
      "description_tooltip": null,
      "layout": "IPY_MODEL_eae4bd1b92464291a2837f062a022539",
      "placeholder": "​",
      "style": "IPY_MODEL_c1856229a18b40599f823dfd78f410ca",
      "value": " 671M/671M [00:15&lt;00:00, 27.6MB/s]"
     }
    },
    "53cb9f7fdfbd4dffb4f89659c1d42d6e": {
     "model_module": "@jupyter-widgets/controls",
     "model_module_version": "1.5.0",
     "model_name": "HTMLModel",
     "state": {
      "_dom_classes": [],
      "_model_module": "@jupyter-widgets/controls",
      "_model_module_version": "1.5.0",
      "_model_name": "HTMLModel",
      "_view_count": null,
      "_view_module": "@jupyter-widgets/controls",
      "_view_module_version": "1.5.0",
      "_view_name": "HTMLView",
      "description": "",
      "description_tooltip": null,
      "layout": "IPY_MODEL_0efd2d9db0594e69a2088129ee123a35",
      "placeholder": "​",
      "style": "IPY_MODEL_b7fe0cbea8df4a71aa6cffb30fc00d6e",
      "value": " 11.2k/11.2k [00:00&lt;00:00, 364kB/s]"
     }
    },
    "5542d6b17f4644b7948f011a4256be84": {
     "model_module": "@jupyter-widgets/base",
     "model_module_version": "1.2.0",
     "model_name": "LayoutModel",
     "state": {
      "_model_module": "@jupyter-widgets/base",
      "_model_module_version": "1.2.0",
      "_model_name": "LayoutModel",
      "_view_count": null,
      "_view_module": "@jupyter-widgets/base",
      "_view_module_version": "1.2.0",
      "_view_name": "LayoutView",
      "align_content": null,
      "align_items": null,
      "align_self": null,
      "border": null,
      "bottom": null,
      "display": null,
      "flex": null,
      "flex_flow": null,
      "grid_area": null,
      "grid_auto_columns": null,
      "grid_auto_flow": null,
      "grid_auto_rows": null,
      "grid_column": null,
      "grid_gap": null,
      "grid_row": null,
      "grid_template_areas": null,
      "grid_template_columns": null,
      "grid_template_rows": null,
      "height": null,
      "justify_content": null,
      "justify_items": null,
      "left": null,
      "margin": null,
      "max_height": null,
      "max_width": null,
      "min_height": null,
      "min_width": null,
      "object_fit": null,
      "object_position": null,
      "order": null,
      "overflow": null,
      "overflow_x": null,
      "overflow_y": null,
      "padding": null,
      "right": null,
      "top": null,
      "visibility": null,
      "width": null
     }
    },
    "5b92e5afe7554a8dbcdf5bf820f1cb7c": {
     "model_module": "@jupyter-widgets/controls",
     "model_module_version": "1.5.0",
     "model_name": "HBoxModel",
     "state": {
      "_dom_classes": [],
      "_model_module": "@jupyter-widgets/controls",
      "_model_module_version": "1.5.0",
      "_model_name": "HBoxModel",
      "_view_count": null,
      "_view_module": "@jupyter-widgets/controls",
      "_view_module_version": "1.5.0",
      "_view_name": "HBoxView",
      "box_style": "",
      "children": [
       "IPY_MODEL_13a3f59c8a654c848741c7c042449aea",
       "IPY_MODEL_e9d0d97fbed04e5c9ac07821f044c220",
       "IPY_MODEL_3982e69bf3954ae79ded4ae797740b7e"
      ],
      "layout": "IPY_MODEL_ec30108e82e94751a4583bb1bc5cee69"
     }
    },
    "5ef387330f0a45278fa9362175543eb0": {
     "model_module": "@jupyter-widgets/base",
     "model_module_version": "1.2.0",
     "model_name": "LayoutModel",
     "state": {
      "_model_module": "@jupyter-widgets/base",
      "_model_module_version": "1.2.0",
      "_model_name": "LayoutModel",
      "_view_count": null,
      "_view_module": "@jupyter-widgets/base",
      "_view_module_version": "1.2.0",
      "_view_name": "LayoutView",
      "align_content": null,
      "align_items": null,
      "align_self": null,
      "border": null,
      "bottom": null,
      "display": null,
      "flex": null,
      "flex_flow": null,
      "grid_area": null,
      "grid_auto_columns": null,
      "grid_auto_flow": null,
      "grid_auto_rows": null,
      "grid_column": null,
      "grid_gap": null,
      "grid_row": null,
      "grid_template_areas": null,
      "grid_template_columns": null,
      "grid_template_rows": null,
      "height": null,
      "justify_content": null,
      "justify_items": null,
      "left": null,
      "margin": null,
      "max_height": null,
      "max_width": null,
      "min_height": null,
      "min_width": null,
      "object_fit": null,
      "object_position": null,
      "order": null,
      "overflow": null,
      "overflow_x": null,
      "overflow_y": null,
      "padding": null,
      "right": null,
      "top": null,
      "visibility": null,
      "width": null
     }
    },
    "6d655829d49843c1b41caef27242f580": {
     "model_module": "@jupyter-widgets/controls",
     "model_module_version": "1.5.0",
     "model_name": "DescriptionStyleModel",
     "state": {
      "_model_module": "@jupyter-widgets/controls",
      "_model_module_version": "1.5.0",
      "_model_name": "DescriptionStyleModel",
      "_view_count": null,
      "_view_module": "@jupyter-widgets/base",
      "_view_module_version": "1.2.0",
      "_view_name": "StyleView",
      "description_width": ""
     }
    },
    "6f82c8b95db0409381dba1fb52638378": {
     "model_module": "@jupyter-widgets/controls",
     "model_module_version": "1.5.0",
     "model_name": "HBoxModel",
     "state": {
      "_dom_classes": [],
      "_model_module": "@jupyter-widgets/controls",
      "_model_module_version": "1.5.0",
      "_model_name": "HBoxModel",
      "_view_count": null,
      "_view_module": "@jupyter-widgets/controls",
      "_view_module_version": "1.5.0",
      "_view_name": "HBoxView",
      "box_style": "",
      "children": [
       "IPY_MODEL_3fc29795dde24521a419d1af4d040f7c",
       "IPY_MODEL_4988a4964bc44cc0be5469d548217ef5",
       "IPY_MODEL_5240fb865aeb4149b5cb5dbe99362e96"
      ],
      "layout": "IPY_MODEL_99ce93275dfc4ee782d0c94ac8649c54"
     }
    },
    "6fd003406549490eb0bed5b49c81a7ef": {
     "model_module": "@jupyter-widgets/controls",
     "model_module_version": "1.5.0",
     "model_name": "HBoxModel",
     "state": {
      "_dom_classes": [],
      "_model_module": "@jupyter-widgets/controls",
      "_model_module_version": "1.5.0",
      "_model_name": "HBoxModel",
      "_view_count": null,
      "_view_module": "@jupyter-widgets/controls",
      "_view_module_version": "1.5.0",
      "_view_name": "HBoxView",
      "box_style": "",
      "children": [
       "IPY_MODEL_849ae1288596425fa153bcb765c828f9",
       "IPY_MODEL_c967e4284c344558866bc272c950d24d",
       "IPY_MODEL_b4ecc0ce35764fef88d32dca8dd53f30"
      ],
      "layout": "IPY_MODEL_9d93f3a441cd47728040aeaef1bf7333"
     }
    },
    "73e12b310497480cb1207a9723721017": {
     "model_module": "@jupyter-widgets/controls",
     "model_module_version": "1.5.0",
     "model_name": "HBoxModel",
     "state": {
      "_dom_classes": [],
      "_model_module": "@jupyter-widgets/controls",
      "_model_module_version": "1.5.0",
      "_model_name": "HBoxModel",
      "_view_count": null,
      "_view_module": "@jupyter-widgets/controls",
      "_view_module_version": "1.5.0",
      "_view_name": "HBoxView",
      "box_style": "",
      "children": [
       "IPY_MODEL_cee8cc71f29149fe848644906d7ac071",
       "IPY_MODEL_9d7492056a7c447fb58674659d250bf3",
       "IPY_MODEL_53cb9f7fdfbd4dffb4f89659c1d42d6e"
      ],
      "layout": "IPY_MODEL_479a886cca994132b83031562eb04456"
     }
    },
    "74de7b171a5247dcaff9c7cd28ec85b2": {
     "model_module": "@jupyter-widgets/controls",
     "model_module_version": "1.5.0",
     "model_name": "HBoxModel",
     "state": {
      "_dom_classes": [],
      "_model_module": "@jupyter-widgets/controls",
      "_model_module_version": "1.5.0",
      "_model_name": "HBoxModel",
      "_view_count": null,
      "_view_module": "@jupyter-widgets/controls",
      "_view_module_version": "1.5.0",
      "_view_name": "HBoxView",
      "box_style": "",
      "children": [
       "IPY_MODEL_38fcbb9b754b460392fe8af11ae69e67",
       "IPY_MODEL_a5480a9c44784261a6fa03ad7dba5c8b",
       "IPY_MODEL_7a527f89c1b44699a72cc69b3fbbcc3b"
      ],
      "layout": "IPY_MODEL_27aa0821c91d4dbeb92d2948c5b2db61"
     }
    },
    "7903d930f086491ba465bacbaf50f8da": {
     "model_module": "@jupyter-widgets/controls",
     "model_module_version": "1.5.0",
     "model_name": "ProgressStyleModel",
     "state": {
      "_model_module": "@jupyter-widgets/controls",
      "_model_module_version": "1.5.0",
      "_model_name": "ProgressStyleModel",
      "_view_count": null,
      "_view_module": "@jupyter-widgets/base",
      "_view_module_version": "1.2.0",
      "_view_name": "StyleView",
      "bar_color": null,
      "description_width": ""
     }
    },
    "7a527f89c1b44699a72cc69b3fbbcc3b": {
     "model_module": "@jupyter-widgets/controls",
     "model_module_version": "1.5.0",
     "model_name": "HTMLModel",
     "state": {
      "_dom_classes": [],
      "_model_module": "@jupyter-widgets/controls",
      "_model_module_version": "1.5.0",
      "_model_name": "HTMLModel",
      "_view_count": null,
      "_view_module": "@jupyter-widgets/controls",
      "_view_module_version": "1.5.0",
      "_view_name": "HTMLView",
      "description": "",
      "description_tooltip": null,
      "layout": "IPY_MODEL_176a445bfcdf4b05b2d726711956ef11",
      "placeholder": "​",
      "style": "IPY_MODEL_e26d4bfab5be4a6881193657692e2b34",
      "value": " 3.92k/3.92k [00:00&lt;00:00, 169kB/s]"
     }
    },
    "849ae1288596425fa153bcb765c828f9": {
     "model_module": "@jupyter-widgets/controls",
     "model_module_version": "1.5.0",
     "model_name": "HTMLModel",
     "state": {
      "_dom_classes": [],
      "_model_module": "@jupyter-widgets/controls",
      "_model_module_version": "1.5.0",
      "_model_name": "HTMLModel",
      "_view_count": null,
      "_view_module": "@jupyter-widgets/controls",
      "_view_module_version": "1.5.0",
      "_view_name": "HTMLView",
      "description": "",
      "description_tooltip": null,
      "layout": "IPY_MODEL_c01b4f75ff5144a8a1ac55398c4f6c71",
      "placeholder": "​",
      "style": "IPY_MODEL_1007680d8d0a4ef0823e58b5183473fd",
      "value": "Downloading builder script: 100%"
     }
    },
    "87d6eae92f7346caa556e0731a3d6942": {
     "model_module": "@jupyter-widgets/base",
     "model_module_version": "1.2.0",
     "model_name": "LayoutModel",
     "state": {
      "_model_module": "@jupyter-widgets/base",
      "_model_module_version": "1.2.0",
      "_model_name": "LayoutModel",
      "_view_count": null,
      "_view_module": "@jupyter-widgets/base",
      "_view_module_version": "1.2.0",
      "_view_name": "LayoutView",
      "align_content": null,
      "align_items": null,
      "align_self": null,
      "border": null,
      "bottom": null,
      "display": null,
      "flex": null,
      "flex_flow": null,
      "grid_area": null,
      "grid_auto_columns": null,
      "grid_auto_flow": null,
      "grid_auto_rows": null,
      "grid_column": null,
      "grid_gap": null,
      "grid_row": null,
      "grid_template_areas": null,
      "grid_template_columns": null,
      "grid_template_rows": null,
      "height": null,
      "justify_content": null,
      "justify_items": null,
      "left": null,
      "margin": null,
      "max_height": null,
      "max_width": null,
      "min_height": null,
      "min_width": null,
      "object_fit": null,
      "object_position": null,
      "order": null,
      "overflow": null,
      "overflow_x": null,
      "overflow_y": null,
      "padding": null,
      "right": null,
      "top": null,
      "visibility": null,
      "width": null
     }
    },
    "94c912ddad6b470d8dec6f67f554036d": {
     "model_module": "@jupyter-widgets/controls",
     "model_module_version": "1.5.0",
     "model_name": "DescriptionStyleModel",
     "state": {
      "_model_module": "@jupyter-widgets/controls",
      "_model_module_version": "1.5.0",
      "_model_name": "DescriptionStyleModel",
      "_view_count": null,
      "_view_module": "@jupyter-widgets/base",
      "_view_module_version": "1.2.0",
      "_view_name": "StyleView",
      "description_width": ""
     }
    },
    "99ce93275dfc4ee782d0c94ac8649c54": {
     "model_module": "@jupyter-widgets/base",
     "model_module_version": "1.2.0",
     "model_name": "LayoutModel",
     "state": {
      "_model_module": "@jupyter-widgets/base",
      "_model_module_version": "1.2.0",
      "_model_name": "LayoutModel",
      "_view_count": null,
      "_view_module": "@jupyter-widgets/base",
      "_view_module_version": "1.2.0",
      "_view_name": "LayoutView",
      "align_content": null,
      "align_items": null,
      "align_self": null,
      "border": null,
      "bottom": null,
      "display": null,
      "flex": null,
      "flex_flow": null,
      "grid_area": null,
      "grid_auto_columns": null,
      "grid_auto_flow": null,
      "grid_auto_rows": null,
      "grid_column": null,
      "grid_gap": null,
      "grid_row": null,
      "grid_template_areas": null,
      "grid_template_columns": null,
      "grid_template_rows": null,
      "height": null,
      "justify_content": null,
      "justify_items": null,
      "left": null,
      "margin": null,
      "max_height": null,
      "max_width": null,
      "min_height": null,
      "min_width": null,
      "object_fit": null,
      "object_position": null,
      "order": null,
      "overflow": null,
      "overflow_x": null,
      "overflow_y": null,
      "padding": null,
      "right": null,
      "top": null,
      "visibility": null,
      "width": null
     }
    },
    "9d7492056a7c447fb58674659d250bf3": {
     "model_module": "@jupyter-widgets/controls",
     "model_module_version": "1.5.0",
     "model_name": "FloatProgressModel",
     "state": {
      "_dom_classes": [],
      "_model_module": "@jupyter-widgets/controls",
      "_model_module_version": "1.5.0",
      "_model_name": "FloatProgressModel",
      "_view_count": null,
      "_view_module": "@jupyter-widgets/controls",
      "_view_module_version": "1.5.0",
      "_view_name": "ProgressView",
      "bar_style": "success",
      "description": "",
      "description_tooltip": null,
      "layout": "IPY_MODEL_b912b81cb5474849a2fd316a002ac16a",
      "max": 11209,
      "min": 0,
      "orientation": "horizontal",
      "style": "IPY_MODEL_349b71b540f343cd9969247c679d5219",
      "value": 11209
     }
    },
    "9d93f3a441cd47728040aeaef1bf7333": {
     "model_module": "@jupyter-widgets/base",
     "model_module_version": "1.2.0",
     "model_name": "LayoutModel",
     "state": {
      "_model_module": "@jupyter-widgets/base",
      "_model_module_version": "1.2.0",
      "_model_name": "LayoutModel",
      "_view_count": null,
      "_view_module": "@jupyter-widgets/base",
      "_view_module_version": "1.2.0",
      "_view_name": "LayoutView",
      "align_content": null,
      "align_items": null,
      "align_self": null,
      "border": null,
      "bottom": null,
      "display": null,
      "flex": null,
      "flex_flow": null,
      "grid_area": null,
      "grid_auto_columns": null,
      "grid_auto_flow": null,
      "grid_auto_rows": null,
      "grid_column": null,
      "grid_gap": null,
      "grid_row": null,
      "grid_template_areas": null,
      "grid_template_columns": null,
      "grid_template_rows": null,
      "height": null,
      "justify_content": null,
      "justify_items": null,
      "left": null,
      "margin": null,
      "max_height": null,
      "max_width": null,
      "min_height": null,
      "min_width": null,
      "object_fit": null,
      "object_position": null,
      "order": null,
      "overflow": null,
      "overflow_x": null,
      "overflow_y": null,
      "padding": null,
      "right": null,
      "top": null,
      "visibility": null,
      "width": null
     }
    },
    "a43f5f75d2a94740a0fc1af68d87b2f2": {
     "model_module": "@jupyter-widgets/controls",
     "model_module_version": "1.5.0",
     "model_name": "ProgressStyleModel",
     "state": {
      "_model_module": "@jupyter-widgets/controls",
      "_model_module_version": "1.5.0",
      "_model_name": "ProgressStyleModel",
      "_view_count": null,
      "_view_module": "@jupyter-widgets/base",
      "_view_module_version": "1.2.0",
      "_view_name": "StyleView",
      "bar_color": null,
      "description_width": ""
     }
    },
    "a5480a9c44784261a6fa03ad7dba5c8b": {
     "model_module": "@jupyter-widgets/controls",
     "model_module_version": "1.5.0",
     "model_name": "FloatProgressModel",
     "state": {
      "_dom_classes": [],
      "_model_module": "@jupyter-widgets/controls",
      "_model_module_version": "1.5.0",
      "_model_name": "FloatProgressModel",
      "_view_count": null,
      "_view_module": "@jupyter-widgets/controls",
      "_view_module_version": "1.5.0",
      "_view_name": "ProgressView",
      "bar_style": "success",
      "description": "",
      "description_tooltip": null,
      "layout": "IPY_MODEL_5542d6b17f4644b7948f011a4256be84",
      "max": 3921,
      "min": 0,
      "orientation": "horizontal",
      "style": "IPY_MODEL_7903d930f086491ba465bacbaf50f8da",
      "value": 3921
     }
    },
    "ae61db2626ef40198bfd23d8178f666e": {
     "model_module": "@jupyter-widgets/controls",
     "model_module_version": "1.5.0",
     "model_name": "DescriptionStyleModel",
     "state": {
      "_model_module": "@jupyter-widgets/controls",
      "_model_module_version": "1.5.0",
      "_model_name": "DescriptionStyleModel",
      "_view_count": null,
      "_view_module": "@jupyter-widgets/base",
      "_view_module_version": "1.2.0",
      "_view_name": "StyleView",
      "description_width": ""
     }
    },
    "b43455a1bfa84bf2ac9ed51072bd4ee5": {
     "model_module": "@jupyter-widgets/controls",
     "model_module_version": "1.5.0",
     "model_name": "DescriptionStyleModel",
     "state": {
      "_model_module": "@jupyter-widgets/controls",
      "_model_module_version": "1.5.0",
      "_model_name": "DescriptionStyleModel",
      "_view_count": null,
      "_view_module": "@jupyter-widgets/base",
      "_view_module_version": "1.2.0",
      "_view_name": "StyleView",
      "description_width": ""
     }
    },
    "b4ecc0ce35764fef88d32dca8dd53f30": {
     "model_module": "@jupyter-widgets/controls",
     "model_module_version": "1.5.0",
     "model_name": "HTMLModel",
     "state": {
      "_dom_classes": [],
      "_model_module": "@jupyter-widgets/controls",
      "_model_module_version": "1.5.0",
      "_model_name": "HTMLModel",
      "_view_count": null,
      "_view_module": "@jupyter-widgets/controls",
      "_view_module_version": "1.5.0",
      "_view_name": "HTMLView",
      "description": "",
      "description_tooltip": null,
      "layout": "IPY_MODEL_2f4b175d06b74baca253a5d52692d5ac",
      "placeholder": "​",
      "style": "IPY_MODEL_f66b1822a94b41d9beed7dfe56d7b94d",
      "value": " 4.60k/4.60k [00:00&lt;00:00, 127kB/s]"
     }
    },
    "b7fe0cbea8df4a71aa6cffb30fc00d6e": {
     "model_module": "@jupyter-widgets/controls",
     "model_module_version": "1.5.0",
     "model_name": "DescriptionStyleModel",
     "state": {
      "_model_module": "@jupyter-widgets/controls",
      "_model_module_version": "1.5.0",
      "_model_name": "DescriptionStyleModel",
      "_view_count": null,
      "_view_module": "@jupyter-widgets/base",
      "_view_module_version": "1.2.0",
      "_view_name": "StyleView",
      "description_width": ""
     }
    },
    "b912b81cb5474849a2fd316a002ac16a": {
     "model_module": "@jupyter-widgets/base",
     "model_module_version": "1.2.0",
     "model_name": "LayoutModel",
     "state": {
      "_model_module": "@jupyter-widgets/base",
      "_model_module_version": "1.2.0",
      "_model_name": "LayoutModel",
      "_view_count": null,
      "_view_module": "@jupyter-widgets/base",
      "_view_module_version": "1.2.0",
      "_view_name": "LayoutView",
      "align_content": null,
      "align_items": null,
      "align_self": null,
      "border": null,
      "bottom": null,
      "display": null,
      "flex": null,
      "flex_flow": null,
      "grid_area": null,
      "grid_auto_columns": null,
      "grid_auto_flow": null,
      "grid_auto_rows": null,
      "grid_column": null,
      "grid_gap": null,
      "grid_row": null,
      "grid_template_areas": null,
      "grid_template_columns": null,
      "grid_template_rows": null,
      "height": null,
      "justify_content": null,
      "justify_items": null,
      "left": null,
      "margin": null,
      "max_height": null,
      "max_width": null,
      "min_height": null,
      "min_width": null,
      "object_fit": null,
      "object_position": null,
      "order": null,
      "overflow": null,
      "overflow_x": null,
      "overflow_y": null,
      "padding": null,
      "right": null,
      "top": null,
      "visibility": null,
      "width": null
     }
    },
    "bc0a35b2059a4754ad4e51678c370519": {
     "model_module": "@jupyter-widgets/base",
     "model_module_version": "1.2.0",
     "model_name": "LayoutModel",
     "state": {
      "_model_module": "@jupyter-widgets/base",
      "_model_module_version": "1.2.0",
      "_model_name": "LayoutModel",
      "_view_count": null,
      "_view_module": "@jupyter-widgets/base",
      "_view_module_version": "1.2.0",
      "_view_name": "LayoutView",
      "align_content": null,
      "align_items": null,
      "align_self": null,
      "border": null,
      "bottom": null,
      "display": null,
      "flex": null,
      "flex_flow": null,
      "grid_area": null,
      "grid_auto_columns": null,
      "grid_auto_flow": null,
      "grid_auto_rows": null,
      "grid_column": null,
      "grid_gap": null,
      "grid_row": null,
      "grid_template_areas": null,
      "grid_template_columns": null,
      "grid_template_rows": null,
      "height": null,
      "justify_content": null,
      "justify_items": null,
      "left": null,
      "margin": null,
      "max_height": null,
      "max_width": null,
      "min_height": null,
      "min_width": null,
      "object_fit": null,
      "object_position": null,
      "order": null,
      "overflow": null,
      "overflow_x": null,
      "overflow_y": null,
      "padding": null,
      "right": null,
      "top": null,
      "visibility": null,
      "width": null
     }
    },
    "c01b4f75ff5144a8a1ac55398c4f6c71": {
     "model_module": "@jupyter-widgets/base",
     "model_module_version": "1.2.0",
     "model_name": "LayoutModel",
     "state": {
      "_model_module": "@jupyter-widgets/base",
      "_model_module_version": "1.2.0",
      "_model_name": "LayoutModel",
      "_view_count": null,
      "_view_module": "@jupyter-widgets/base",
      "_view_module_version": "1.2.0",
      "_view_name": "LayoutView",
      "align_content": null,
      "align_items": null,
      "align_self": null,
      "border": null,
      "bottom": null,
      "display": null,
      "flex": null,
      "flex_flow": null,
      "grid_area": null,
      "grid_auto_columns": null,
      "grid_auto_flow": null,
      "grid_auto_rows": null,
      "grid_column": null,
      "grid_gap": null,
      "grid_row": null,
      "grid_template_areas": null,
      "grid_template_columns": null,
      "grid_template_rows": null,
      "height": null,
      "justify_content": null,
      "justify_items": null,
      "left": null,
      "margin": null,
      "max_height": null,
      "max_width": null,
      "min_height": null,
      "min_width": null,
      "object_fit": null,
      "object_position": null,
      "order": null,
      "overflow": null,
      "overflow_x": null,
      "overflow_y": null,
      "padding": null,
      "right": null,
      "top": null,
      "visibility": null,
      "width": null
     }
    },
    "c1856229a18b40599f823dfd78f410ca": {
     "model_module": "@jupyter-widgets/controls",
     "model_module_version": "1.5.0",
     "model_name": "DescriptionStyleModel",
     "state": {
      "_model_module": "@jupyter-widgets/controls",
      "_model_module_version": "1.5.0",
      "_model_name": "DescriptionStyleModel",
      "_view_count": null,
      "_view_module": "@jupyter-widgets/base",
      "_view_module_version": "1.2.0",
      "_view_name": "StyleView",
      "description_width": ""
     }
    },
    "c1d1c36645274bc699e24f755016274f": {
     "model_module": "@jupyter-widgets/controls",
     "model_module_version": "1.5.0",
     "model_name": "DescriptionStyleModel",
     "state": {
      "_model_module": "@jupyter-widgets/controls",
      "_model_module_version": "1.5.0",
      "_model_name": "DescriptionStyleModel",
      "_view_count": null,
      "_view_module": "@jupyter-widgets/base",
      "_view_module_version": "1.2.0",
      "_view_name": "StyleView",
      "description_width": ""
     }
    },
    "c7d3740516064f94ba78b3028ecd4e0e": {
     "model_module": "@jupyter-widgets/controls",
     "model_module_version": "1.5.0",
     "model_name": "HTMLModel",
     "state": {
      "_dom_classes": [],
      "_model_module": "@jupyter-widgets/controls",
      "_model_module_version": "1.5.0",
      "_model_name": "HTMLModel",
      "_view_count": null,
      "_view_module": "@jupyter-widgets/controls",
      "_view_module_version": "1.5.0",
      "_view_name": "HTMLView",
      "description": "",
      "description_tooltip": null,
      "layout": "IPY_MODEL_2bc5016479f2431fb7e39b7f7d4a4421",
      "placeholder": "​",
      "style": "IPY_MODEL_b43455a1bfa84bf2ac9ed51072bd4ee5",
      "value": "Generating train split: 100%"
     }
    },
    "c967e4284c344558866bc272c950d24d": {
     "model_module": "@jupyter-widgets/controls",
     "model_module_version": "1.5.0",
     "model_name": "FloatProgressModel",
     "state": {
      "_dom_classes": [],
      "_model_module": "@jupyter-widgets/controls",
      "_model_module_version": "1.5.0",
      "_model_name": "FloatProgressModel",
      "_view_count": null,
      "_view_module": "@jupyter-widgets/controls",
      "_view_module_version": "1.5.0",
      "_view_name": "ProgressView",
      "bar_style": "success",
      "description": "",
      "description_tooltip": null,
      "layout": "IPY_MODEL_11c8167906b94d768ecaf0da2b1f62ce",
      "max": 4599,
      "min": 0,
      "orientation": "horizontal",
      "style": "IPY_MODEL_3e7e30a11daf4f5c891c498563635153",
      "value": 4599
     }
    },
    "ca28a83e966d42ce8890a444c8f81467": {
     "model_module": "@jupyter-widgets/base",
     "model_module_version": "1.2.0",
     "model_name": "LayoutModel",
     "state": {
      "_model_module": "@jupyter-widgets/base",
      "_model_module_version": "1.2.0",
      "_model_name": "LayoutModel",
      "_view_count": null,
      "_view_module": "@jupyter-widgets/base",
      "_view_module_version": "1.2.0",
      "_view_name": "LayoutView",
      "align_content": null,
      "align_items": null,
      "align_self": null,
      "border": null,
      "bottom": null,
      "display": null,
      "flex": null,
      "flex_flow": null,
      "grid_area": null,
      "grid_auto_columns": null,
      "grid_auto_flow": null,
      "grid_auto_rows": null,
      "grid_column": null,
      "grid_gap": null,
      "grid_row": null,
      "grid_template_areas": null,
      "grid_template_columns": null,
      "grid_template_rows": null,
      "height": null,
      "justify_content": null,
      "justify_items": null,
      "left": null,
      "margin": null,
      "max_height": null,
      "max_width": null,
      "min_height": null,
      "min_width": null,
      "object_fit": null,
      "object_position": null,
      "order": null,
      "overflow": null,
      "overflow_x": null,
      "overflow_y": null,
      "padding": null,
      "right": null,
      "top": null,
      "visibility": null,
      "width": null
     }
    },
    "ccc4d281b27f411db271145ea28800c9": {
     "model_module": "@jupyter-widgets/base",
     "model_module_version": "1.2.0",
     "model_name": "LayoutModel",
     "state": {
      "_model_module": "@jupyter-widgets/base",
      "_model_module_version": "1.2.0",
      "_model_name": "LayoutModel",
      "_view_count": null,
      "_view_module": "@jupyter-widgets/base",
      "_view_module_version": "1.2.0",
      "_view_name": "LayoutView",
      "align_content": null,
      "align_items": null,
      "align_self": null,
      "border": null,
      "bottom": null,
      "display": null,
      "flex": null,
      "flex_flow": null,
      "grid_area": null,
      "grid_auto_columns": null,
      "grid_auto_flow": null,
      "grid_auto_rows": null,
      "grid_column": null,
      "grid_gap": null,
      "grid_row": null,
      "grid_template_areas": null,
      "grid_template_columns": null,
      "grid_template_rows": null,
      "height": null,
      "justify_content": null,
      "justify_items": null,
      "left": null,
      "margin": null,
      "max_height": null,
      "max_width": null,
      "min_height": null,
      "min_width": null,
      "object_fit": null,
      "object_position": null,
      "order": null,
      "overflow": null,
      "overflow_x": null,
      "overflow_y": null,
      "padding": null,
      "right": null,
      "top": null,
      "visibility": null,
      "width": null
     }
    },
    "cee8cc71f29149fe848644906d7ac071": {
     "model_module": "@jupyter-widgets/controls",
     "model_module_version": "1.5.0",
     "model_name": "HTMLModel",
     "state": {
      "_dom_classes": [],
      "_model_module": "@jupyter-widgets/controls",
      "_model_module_version": "1.5.0",
      "_model_name": "HTMLModel",
      "_view_count": null,
      "_view_module": "@jupyter-widgets/controls",
      "_view_module_version": "1.5.0",
      "_view_name": "HTMLView",
      "description": "",
      "description_tooltip": null,
      "layout": "IPY_MODEL_5160ff0c6a5044f9a95a2d3b69cbd1ec",
      "placeholder": "​",
      "style": "IPY_MODEL_ae61db2626ef40198bfd23d8178f666e",
      "value": "Downloading readme: 100%"
     }
    },
    "d2fa3fd1d9e04559913a79c42d249b14": {
     "model_module": "@jupyter-widgets/controls",
     "model_module_version": "1.5.0",
     "model_name": "HBoxModel",
     "state": {
      "_dom_classes": [],
      "_model_module": "@jupyter-widgets/controls",
      "_model_module_version": "1.5.0",
      "_model_name": "HBoxModel",
      "_view_count": null,
      "_view_module": "@jupyter-widgets/controls",
      "_view_module_version": "1.5.0",
      "_view_name": "HBoxView",
      "box_style": "",
      "children": [
       "IPY_MODEL_c7d3740516064f94ba78b3028ecd4e0e",
       "IPY_MODEL_3e00b6a5940f48e48073b08e19ec8665",
       "IPY_MODEL_12ff05e8777848049aebbbb706735299"
      ],
      "layout": "IPY_MODEL_ca28a83e966d42ce8890a444c8f81467"
     }
    },
    "e26d4bfab5be4a6881193657692e2b34": {
     "model_module": "@jupyter-widgets/controls",
     "model_module_version": "1.5.0",
     "model_name": "DescriptionStyleModel",
     "state": {
      "_model_module": "@jupyter-widgets/controls",
      "_model_module_version": "1.5.0",
      "_model_name": "DescriptionStyleModel",
      "_view_count": null,
      "_view_module": "@jupyter-widgets/base",
      "_view_module_version": "1.2.0",
      "_view_name": "StyleView",
      "description_width": ""
     }
    },
    "e9d0d97fbed04e5c9ac07821f044c220": {
     "model_module": "@jupyter-widgets/controls",
     "model_module_version": "1.5.0",
     "model_name": "FloatProgressModel",
     "state": {
      "_dom_classes": [],
      "_model_module": "@jupyter-widgets/controls",
      "_model_module_version": "1.5.0",
      "_model_name": "FloatProgressModel",
      "_view_count": null,
      "_view_module": "@jupyter-widgets/controls",
      "_view_module_version": "1.5.0",
      "_view_name": "ProgressView",
      "bar_style": "success",
      "description": "",
      "description_tooltip": null,
      "layout": "IPY_MODEL_40b54d4fc235408abe11fdcfadccef2a",
      "max": 2160,
      "min": 0,
      "orientation": "horizontal",
      "style": "IPY_MODEL_1b5c6bf90c61403c84ba7e9493fa0fda",
      "value": 2160
     }
    },
    "eae4bd1b92464291a2837f062a022539": {
     "model_module": "@jupyter-widgets/base",
     "model_module_version": "1.2.0",
     "model_name": "LayoutModel",
     "state": {
      "_model_module": "@jupyter-widgets/base",
      "_model_module_version": "1.2.0",
      "_model_name": "LayoutModel",
      "_view_count": null,
      "_view_module": "@jupyter-widgets/base",
      "_view_module_version": "1.2.0",
      "_view_name": "LayoutView",
      "align_content": null,
      "align_items": null,
      "align_self": null,
      "border": null,
      "bottom": null,
      "display": null,
      "flex": null,
      "flex_flow": null,
      "grid_area": null,
      "grid_auto_columns": null,
      "grid_auto_flow": null,
      "grid_auto_rows": null,
      "grid_column": null,
      "grid_gap": null,
      "grid_row": null,
      "grid_template_areas": null,
      "grid_template_columns": null,
      "grid_template_rows": null,
      "height": null,
      "justify_content": null,
      "justify_items": null,
      "left": null,
      "margin": null,
      "max_height": null,
      "max_width": null,
      "min_height": null,
      "min_width": null,
      "object_fit": null,
      "object_position": null,
      "order": null,
      "overflow": null,
      "overflow_x": null,
      "overflow_y": null,
      "padding": null,
      "right": null,
      "top": null,
      "visibility": null,
      "width": null
     }
    },
    "ec30108e82e94751a4583bb1bc5cee69": {
     "model_module": "@jupyter-widgets/base",
     "model_module_version": "1.2.0",
     "model_name": "LayoutModel",
     "state": {
      "_model_module": "@jupyter-widgets/base",
      "_model_module_version": "1.2.0",
      "_model_name": "LayoutModel",
      "_view_count": null,
      "_view_module": "@jupyter-widgets/base",
      "_view_module_version": "1.2.0",
      "_view_name": "LayoutView",
      "align_content": null,
      "align_items": null,
      "align_self": null,
      "border": null,
      "bottom": null,
      "display": null,
      "flex": null,
      "flex_flow": null,
      "grid_area": null,
      "grid_auto_columns": null,
      "grid_auto_flow": null,
      "grid_auto_rows": null,
      "grid_column": null,
      "grid_gap": null,
      "grid_row": null,
      "grid_template_areas": null,
      "grid_template_columns": null,
      "grid_template_rows": null,
      "height": null,
      "justify_content": null,
      "justify_items": null,
      "left": null,
      "margin": null,
      "max_height": null,
      "max_width": null,
      "min_height": null,
      "min_width": null,
      "object_fit": null,
      "object_position": null,
      "order": null,
      "overflow": null,
      "overflow_x": null,
      "overflow_y": null,
      "padding": null,
      "right": null,
      "top": null,
      "visibility": null,
      "width": null
     }
    },
    "f29992b3ce304066bb0bdd010cd8daf5": {
     "model_module": "@jupyter-widgets/base",
     "model_module_version": "1.2.0",
     "model_name": "LayoutModel",
     "state": {
      "_model_module": "@jupyter-widgets/base",
      "_model_module_version": "1.2.0",
      "_model_name": "LayoutModel",
      "_view_count": null,
      "_view_module": "@jupyter-widgets/base",
      "_view_module_version": "1.2.0",
      "_view_name": "LayoutView",
      "align_content": null,
      "align_items": null,
      "align_self": null,
      "border": null,
      "bottom": null,
      "display": null,
      "flex": null,
      "flex_flow": null,
      "grid_area": null,
      "grid_auto_columns": null,
      "grid_auto_flow": null,
      "grid_auto_rows": null,
      "grid_column": null,
      "grid_gap": null,
      "grid_row": null,
      "grid_template_areas": null,
      "grid_template_columns": null,
      "grid_template_rows": null,
      "height": null,
      "justify_content": null,
      "justify_items": null,
      "left": null,
      "margin": null,
      "max_height": null,
      "max_width": null,
      "min_height": null,
      "min_width": null,
      "object_fit": null,
      "object_position": null,
      "order": null,
      "overflow": null,
      "overflow_x": null,
      "overflow_y": null,
      "padding": null,
      "right": null,
      "top": null,
      "visibility": null,
      "width": null
     }
    },
    "f66b1822a94b41d9beed7dfe56d7b94d": {
     "model_module": "@jupyter-widgets/controls",
     "model_module_version": "1.5.0",
     "model_name": "DescriptionStyleModel",
     "state": {
      "_model_module": "@jupyter-widgets/controls",
      "_model_module_version": "1.5.0",
      "_model_name": "DescriptionStyleModel",
      "_view_count": null,
      "_view_module": "@jupyter-widgets/base",
      "_view_module_version": "1.2.0",
      "_view_name": "StyleView",
      "description_width": ""
     }
    },
    "f954c297a51848e3a1508ab014345c45": {
     "model_module": "@jupyter-widgets/controls",
     "model_module_version": "1.5.0",
     "model_name": "DescriptionStyleModel",
     "state": {
      "_model_module": "@jupyter-widgets/controls",
      "_model_module_version": "1.5.0",
      "_model_name": "DescriptionStyleModel",
      "_view_count": null,
      "_view_module": "@jupyter-widgets/base",
      "_view_module_version": "1.2.0",
      "_view_name": "StyleView",
      "description_width": ""
     }
    },
    "ff5e24f3e4f744be9fce82703695da2e": {
     "model_module": "@jupyter-widgets/base",
     "model_module_version": "1.2.0",
     "model_name": "LayoutModel",
     "state": {
      "_model_module": "@jupyter-widgets/base",
      "_model_module_version": "1.2.0",
      "_model_name": "LayoutModel",
      "_view_count": null,
      "_view_module": "@jupyter-widgets/base",
      "_view_module_version": "1.2.0",
      "_view_name": "LayoutView",
      "align_content": null,
      "align_items": null,
      "align_self": null,
      "border": null,
      "bottom": null,
      "display": null,
      "flex": null,
      "flex_flow": null,
      "grid_area": null,
      "grid_auto_columns": null,
      "grid_auto_flow": null,
      "grid_auto_rows": null,
      "grid_column": null,
      "grid_gap": null,
      "grid_row": null,
      "grid_template_areas": null,
      "grid_template_columns": null,
      "grid_template_rows": null,
      "height": null,
      "justify_content": null,
      "justify_items": null,
      "left": null,
      "margin": null,
      "max_height": null,
      "max_width": null,
      "min_height": null,
      "min_width": null,
      "object_fit": null,
      "object_position": null,
      "order": null,
      "overflow": null,
      "overflow_x": null,
      "overflow_y": null,
      "padding": null,
      "right": null,
      "top": null,
      "visibility": null,
      "width": null
     }
    }
   }
  }
 },
 "nbformat": 4,
 "nbformat_minor": 1
}
