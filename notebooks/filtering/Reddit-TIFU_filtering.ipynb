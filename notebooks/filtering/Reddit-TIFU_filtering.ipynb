{
 "cells": [
  {
   "cell_type": "code",
   "execution_count": 1,
   "metadata": {
    "executionInfo": {
     "elapsed": 22436,
     "status": "ok",
     "timestamp": 1675026109871,
     "user": {
      "displayName": "Anna Kougioumtzidou",
      "userId": "08894778027574418607"
     },
     "user_tz": -120
    },
    "id": "5c0RPrxBnNiF"
   },
   "outputs": [],
   "source": [
    "# Uncomment if notebook is run in Colab\n",
    "# %%capture\n",
    "# !pip install datasets\n",
    "# !pip install rouge-score"
   ]
  },
  {
   "cell_type": "code",
   "execution_count": 2,
   "metadata": {
    "executionInfo": {
     "elapsed": 3168,
     "status": "ok",
     "timestamp": 1675026113032,
     "user": {
      "displayName": "Anna Kougioumtzidou",
      "userId": "08894778027574418607"
     },
     "user_tz": -120
    },
    "id": "bIJI2Sf7nNlK"
   },
   "outputs": [],
   "source": [
    "import datasets\n",
    "import pandas as pd\n",
    "import nltk\n",
    "import re\n",
    "import matplotlib.pyplot as plt\n",
    "import numpy as np\n",
    "import random\n",
    "from datasets import load_dataset, load_metric\n",
    "from IPython.display import display, HTML\n",
    "\n",
    "import warnings\n",
    "warnings.filterwarnings('ignore')"
   ]
  },
  {
   "cell_type": "code",
   "execution_count": 3,
   "metadata": {
    "colab": {
     "base_uri": "https://localhost:8080/",
     "height": 84,
     "referenced_widgets": [
      "5b92e5afe7554a8dbcdf5bf820f1cb7c",
      "13a3f59c8a654c848741c7c042449aea",
      "e9d0d97fbed04e5c9ac07821f044c220",
      "3982e69bf3954ae79ded4ae797740b7e",
      "ec30108e82e94751a4583bb1bc5cee69",
      "87d6eae92f7346caa556e0731a3d6942",
      "f954c297a51848e3a1508ab014345c45",
      "40b54d4fc235408abe11fdcfadccef2a",
      "1b5c6bf90c61403c84ba7e9493fa0fda",
      "5ef387330f0a45278fa9362175543eb0",
      "344534adac4846d48c7c271723b358f7"
     ]
    },
    "executionInfo": {
     "elapsed": 314,
     "status": "ok",
     "timestamp": 1675026113332,
     "user": {
      "displayName": "Anna Kougioumtzidou",
      "userId": "08894778027574418607"
     },
     "user_tz": -120
    },
    "id": "mmU-SrqqoZvy",
    "outputId": "906447d2-7c05-44f1-8f86-f6453a138439"
   },
   "outputs": [],
   "source": [
    "rouge = load_metric('rouge', seed=42)\n",
    "\n",
    "# Helper functions\n",
    "\n",
    "def show_random_elements(dataset, num_examples=3):\n",
    "    assert num_examples <= len(dataset), \"Can't pick more elements than there are in the dataset.\"\n",
    "    picks = []\n",
    "    for _ in range(num_examples):\n",
    "        pick = random.randint(0, len(dataset)-1)\n",
    "        while pick in picks:\n",
    "            pick = random.randint(0, len(dataset)-1)\n",
    "        picks.append(pick)\n",
    "\n",
    "    df = pd.DataFrame(dataset[picks])\n",
    "    for column, typ in dataset.features.items():\n",
    "        if isinstance(typ, datasets.ClassLabel):\n",
    "            df[column] = df[column].transform(lambda i: typ.names[i])\n",
    "    display(HTML(df.to_html()))\n",
    "\n",
    "def rouge_2_recall(target_text_1, target_text_2):\n",
    "    rouge_output = rouge.compute(predictions=target_text_2, references=target_text_1)\n",
    "    ROUGE_2_recall = \\\n",
    "    round((rouge_output['rouge2'].low.recall \\\n",
    "           + rouge_output['rouge2'].mid.recall \\\n",
    "           + rouge_output['rouge2'].high.recall)/3, 1)\n",
    "    \n",
    "    return ROUGE_2_recall\n",
    "\n",
    "def clean_string(string):\n",
    "    string = re.sub('\\*', '', string).lower().rstrip()\n",
    "    return string\n",
    "\n",
    "def remove_duplicate_sets_from_list(candidate_duplicates):\n",
    "    candidate_duplicates_sets = list(map(set, candidate_duplicates))\n",
    "    unique_sets = list(set(frozenset(item) for item in candidate_duplicates))\n",
    "    candidate_duplicates_unique_sets = [set(item) for item in set(frozenset(item) for item in unique_sets)]\n",
    "    \n",
    "    candidate_duplicates_lists = []\n",
    "    for item in candidate_duplicates_unique_sets:\n",
    "        candidate_duplicates_lists.append(list(item))\n",
    "        \n",
    "    return candidate_duplicates_lists"
   ]
  },
  {
   "cell_type": "markdown",
   "metadata": {
    "id": "35dby8oF-NaW"
   },
   "source": [
    "## **Download Reddit-TIFU**\n",
    "\n",
    "- No train-val-test split for this dataset is provided or mentioned anywhere \n",
    "- We download Reddit TIFU from Hugging Face datasets \n",
    "- the split='train' downloads the whole dataset"
   ]
  },
  {
   "cell_type": "code",
   "execution_count": 4,
   "metadata": {
    "colab": {
     "base_uri": "https://localhost:8080/",
     "height": 212,
     "referenced_widgets": [
      "6fd003406549490eb0bed5b49c81a7ef",
      "849ae1288596425fa153bcb765c828f9",
      "c967e4284c344558866bc272c950d24d",
      "b4ecc0ce35764fef88d32dca8dd53f30",
      "9d93f3a441cd47728040aeaef1bf7333",
      "c01b4f75ff5144a8a1ac55398c4f6c71",
      "1007680d8d0a4ef0823e58b5183473fd",
      "11c8167906b94d768ecaf0da2b1f62ce",
      "3e7e30a11daf4f5c891c498563635153",
      "2f4b175d06b74baca253a5d52692d5ac",
      "f66b1822a94b41d9beed7dfe56d7b94d",
      "74de7b171a5247dcaff9c7cd28ec85b2",
      "38fcbb9b754b460392fe8af11ae69e67",
      "a5480a9c44784261a6fa03ad7dba5c8b",
      "7a527f89c1b44699a72cc69b3fbbcc3b",
      "27aa0821c91d4dbeb92d2948c5b2db61",
      "bc0a35b2059a4754ad4e51678c370519",
      "6d655829d49843c1b41caef27242f580",
      "5542d6b17f4644b7948f011a4256be84",
      "7903d930f086491ba465bacbaf50f8da",
      "176a445bfcdf4b05b2d726711956ef11",
      "e26d4bfab5be4a6881193657692e2b34",
      "73e12b310497480cb1207a9723721017",
      "cee8cc71f29149fe848644906d7ac071",
      "9d7492056a7c447fb58674659d250bf3",
      "53cb9f7fdfbd4dffb4f89659c1d42d6e",
      "479a886cca994132b83031562eb04456",
      "5160ff0c6a5044f9a95a2d3b69cbd1ec",
      "ae61db2626ef40198bfd23d8178f666e",
      "b912b81cb5474849a2fd316a002ac16a",
      "349b71b540f343cd9969247c679d5219",
      "0efd2d9db0594e69a2088129ee123a35",
      "b7fe0cbea8df4a71aa6cffb30fc00d6e",
      "6f82c8b95db0409381dba1fb52638378",
      "3fc29795dde24521a419d1af4d040f7c",
      "4988a4964bc44cc0be5469d548217ef5",
      "5240fb865aeb4149b5cb5dbe99362e96",
      "99ce93275dfc4ee782d0c94ac8649c54",
      "097a1f69ce9146eb8ce8902b000a5243",
      "94c912ddad6b470d8dec6f67f554036d",
      "ccc4d281b27f411db271145ea28800c9",
      "a43f5f75d2a94740a0fc1af68d87b2f2",
      "eae4bd1b92464291a2837f062a022539",
      "c1856229a18b40599f823dfd78f410ca",
      "d2fa3fd1d9e04559913a79c42d249b14",
      "c7d3740516064f94ba78b3028ecd4e0e",
      "3e00b6a5940f48e48073b08e19ec8665",
      "12ff05e8777848049aebbbb706735299",
      "ca28a83e966d42ce8890a444c8f81467",
      "2bc5016479f2431fb7e39b7f7d4a4421",
      "b43455a1bfa84bf2ac9ed51072bd4ee5",
      "ff5e24f3e4f744be9fce82703695da2e",
      "0d71fbcfdd1f4b7ebe88c2b44430e773",
      "f29992b3ce304066bb0bdd010cd8daf5",
      "c1d1c36645274bc699e24f755016274f"
     ]
    },
    "executionInfo": {
     "elapsed": 31978,
     "status": "ok",
     "timestamp": 1675026440703,
     "user": {
      "displayName": "Anna Kougioumtzidou",
      "userId": "08894778027574418607"
     },
     "user_tz": -120
    },
    "id": "QRP0Z3QDnNnw",
    "outputId": "ff49d230-487b-4953-b029-aab98671c3b8"
   },
   "outputs": [
    {
     "name": "stderr",
     "output_type": "stream",
     "text": [
      "Found cached dataset reddit_tifu (C:/Users/Anna/.cache/huggingface/datasets/reddit_tifu/long/1.1.0/3136b11fbef3f2517de1d720621af110bd29e6083aebeab0d8ec198c9f95dc95)\n"
     ]
    }
   ],
   "source": [
    "reddit_tifu = load_dataset('reddit_tifu', 'long', split='train')"
   ]
  },
  {
   "cell_type": "code",
   "execution_count": 5,
   "metadata": {
    "colab": {
     "base_uri": "https://localhost:8080/"
    },
    "executionInfo": {
     "elapsed": 21,
     "status": "ok",
     "timestamp": 1675026440703,
     "user": {
      "displayName": "Anna Kougioumtzidou",
      "userId": "08894778027574418607"
     },
     "user_tz": -120
    },
    "id": "lHX-eeVtnNp8",
    "outputId": "7631058b-b31f-4ec6-9118-f0e50e938d27"
   },
   "outputs": [
    {
     "data": {
      "text/plain": [
       "Dataset({\n",
       "    features: ['ups', 'num_comments', 'upvote_ratio', 'score', 'documents', 'tldr', 'title'],\n",
       "    num_rows: 42139\n",
       "})"
      ]
     },
     "execution_count": 5,
     "metadata": {},
     "output_type": "execute_result"
    }
   ],
   "source": [
    "reddit_tifu"
   ]
  },
  {
   "cell_type": "code",
   "execution_count": 6,
   "metadata": {
    "colab": {
     "base_uri": "https://localhost:8080/"
    },
    "executionInfo": {
     "elapsed": 14,
     "status": "ok",
     "timestamp": 1675026440703,
     "user": {
      "displayName": "Anna Kougioumtzidou",
      "userId": "08894778027574418607"
     },
     "user_tz": -120
    },
    "id": "EoByZQc2WOGo",
    "outputId": "6ec7b609-32aa-435f-dcac-2c889d93005d"
   },
   "outputs": [
    {
     "data": {
      "text/plain": [
       "{'ups': 0.0,\n",
       " 'num_comments': 0.0,\n",
       " 'upvote_ratio': 0.5,\n",
       " 'score': 0.0,\n",
       " 'documents': 'so this happened last week. \\ni am a college junior and i am in a business communications course which is probably the most time consuming class i\\'ve taken in college. \\n\\nanyways... the way this course is designed is your group gets a real live client (a local organization) and you do some sort of consulting for them. you always get a project manager (usually a ta) who you report everything you do to, including a prescreen of the final presentation to our client -- which is where the fuck up happens. \\n\\ngearing up for our final presentation, our project manager (who we will call gabe for the rest of this story) asked us to do the presentation for him before we present to the client. we all have extremely busy schedules, so the only time and place that worked for gabe and the team was 9pm in one of the reservable group rooms at the library. gabe had requested that we all show up in business professional attire (suit + tie) to this practice presentation, which we were all very unhappy about. \\n\\nthe team meets up at the library to go over the material and continue working before presenting to gabe around 5, so of course none of us show up in a suit 4 hours ahead of time. come 8:45pm i decide its time to go change before gabe gets there. after an extremely sweaty and unpleasant 8 or so minutes getting dressed in the dirty library bathroom, i am now in my suit but very unhappy that i\\'m in it at 9pm at the library. it\\'s only 8:53 so i figure i have some time to express my unhappiness to my team before gabe gets there, so i walk into the room and yell \"fuck gabe\" 3 times, each with more frustration. \\n\\nafter complete silence i look up and gabe is sitting in the room with my entire team which had neglected to tell me that he had arrived early... needless to say it was the most awkward presentation of my life and gabe wasn\\'t to happy even after i explained it was all about the suit.',\n",
       " 'tldr': \"i didn't scan the room and let everyone know that my project manager is a dick (including him)\",\n",
       " 'title': 'not being aware of my surroundings'}"
      ]
     },
     "execution_count": 6,
     "metadata": {},
     "output_type": "execute_result"
    }
   ],
   "source": [
    "reddit_tifu[8200]"
   ]
  },
  {
   "cell_type": "code",
   "execution_count": 7,
   "metadata": {
    "colab": {
     "base_uri": "https://localhost:8080/",
     "height": 508
    },
    "executionInfo": {
     "elapsed": 9,
     "status": "ok",
     "timestamp": 1675026440705,
     "user": {
      "displayName": "Anna Kougioumtzidou",
      "userId": "08894778027574418607"
     },
     "user_tz": -120
    },
    "id": "x6HpCSiyPbWK",
    "outputId": "635f2920-8d1a-4d91-b43f-5e8f66223502"
   },
   "outputs": [
    {
     "data": {
      "text/html": [
       "<table border=\"1\" class=\"dataframe\">\n",
       "  <thead>\n",
       "    <tr style=\"text-align: right;\">\n",
       "      <th></th>\n",
       "      <th>ups</th>\n",
       "      <th>num_comments</th>\n",
       "      <th>upvote_ratio</th>\n",
       "      <th>score</th>\n",
       "      <th>documents</th>\n",
       "      <th>tldr</th>\n",
       "      <th>title</th>\n",
       "    </tr>\n",
       "  </thead>\n",
       "  <tbody>\n",
       "    <tr>\n",
       "      <th>0</th>\n",
       "      <td>2185.0</td>\n",
       "      <td>554.0</td>\n",
       "      <td>0.94</td>\n",
       "      <td>2185.0</td>\n",
       "      <td>so, some background information. i am a recent grad still looking for their first real salaried job. i'm an industrial designer, and i really want to work in the toy industry and be a toy designer, and maybe even a brand manager one day. the thing about the toy industry is that it is very small, and very competitive. with the two major companies (hasbro and mattel) having their pick of the litter when it comes to talent, finding openings there is tough. \\n\\nso rewind to graduation, i got a design internship at a major toy company. after the term of the internship was over they weren't in a position to hire anyone so they released me in to the world to find a real job. so, the office at this company was pretty casual. one of the female designers would sometimes wear fairly formal blouses and dresses, but the rest of the team would dress very casually. the most senior designer would regularly wear cargo shorts and a t-shirt to work, and the design manager (everyone's boss who reports directly to the ceo) would regularly wear t-shirts, torn, ripped jeans, and skater shoes. everyone else was fairly casual, but fell somewhere inbetween. i regularly dressed nicer than the average (button ups, khakis, ect) if for nothing else but to impress and not be the lowest common denominator. \\n\\nfast forward a few months, i've been working with a recruiter who specializes in the toy industry, and i had a very promising opportunity at a small company. several rounds of phone interviews went stellar, and they finally flew me out to atlanta for the big interview. now, somewhere along the way i remember either reading or being taught that wearing what you might normally wear to work to a job interview is usually acceptable. i have interviewed at other toy companies in person with this strategy and never seemed to have an issue (but never got the job either).  not wanting to seem stiff, i left the blazer at home and hit the airport wearing pretty much exactly what i would regularly wear as an intern. button up (with a small, fun but not casual repeating print of cactuses) khakis and some dope sneaks for some flair. \\n\\nso i walk into their reception area and look around and think to my self, *wow, it is really nice in here*. i instantly become self conscious because the office is way more formal than i was expecting from all my previous interviewing and work experience in the industry. i go into the interview desperately hoping i just come off as the young, energetic, fun designer they are looking for. i meet the design manager who will be my boss  for the first time in person (i would have been the 3rd member of the team), and we instantly hit it off. the interview is going very well and i never get any vibes from him that my clothes are unacceptable (he was wearing jeans). the interview is going super well, and the language starts to change from \"if you start\" to \"when you start\" and i am elated. he loves my work, my personality, and i like the product they make and immediately see many ways to help them develop it further (which is why they were hiring)\\n\\nthen a knock comes on the door. it's the coo. i knew he was going to be attending the interview at some point, but it had been almost an hour and a half before he shows up. in his words, he was checking for \"corporate and office fit\" and was leaving the talent and personality evaluation to the other guy since i would be working with him directly. he was wearing a purple long sleeve formal button up, with slacks and dress shoes. this portion of the interview goes well, and the design manager is visibly excited, telling the coo about me, and what i brought to the table (figuratively and literally). we wrap up after about another additional hour (2.5 hours total!) and i head back to the airport thinking i nailed it. we even talked about areas of atlanta i could look at moving to, moving assistance, and temporary housing while i looked for a place. they tell me they are interviewing another guy and i will know in about a week. \\n\\nso i get a call from my recruiter expecting good news. he tells me they went with the other guy and i'm crushed. he tells me they just wanted someone with a little more real world experience (i've heard this several times and it is beyond frustrating), and he leaves it at that. he tells me the other guy isn't a slam dunk because he has a small family to move and they weren't sure if he would accept, and i would be the guy if it falls through. it didn't fall through.\\n\\nit isn't until a few days later when i'm chatting with my recruiter about other possibilities and asking him to critique me as a candidate based on the feed back he has been getting (i had interviewed with 5 companies at this point, get furthest with the atlanta guys) and he drops the bomb that they thought i was dressed poorly! he quoted them as saying i \"looked like i was dressed to go to the mall\" and i wanted to shoot myself for not dressing up more. i could tell this was all coming from the coo and he most likely vetoed me because i didn't impress him with my atire. i was, and am still (it's been 2 months) crushed. and unemployed.\\n\\n \\n\\nedit: several people are commenting about the \"wear what you might wear to work\" idea. this came from my vocational background. i went to school to be an automotive technician before i went to art school for design. the idea behind that thinking is to \"look ready to start working immediatley\". obviously i realize now that this isn't appropriate for a corporate setting, but that was the idea behind it anyway.</td>\n",
       "      <td>the toy industry is laid back overall, and i assumed they would all be that way, but was rejected for not dressing formally enough in an interview by a c-level employee of the company i was interviewing for, even though i was a slam dunk with the guy i would have worked directly under.</td>\n",
       "      <td>wearing the wrong thing to a big job interview</td>\n",
       "    </tr>\n",
       "    <tr>\n",
       "      <th>1</th>\n",
       "      <td>312.0</td>\n",
       "      <td>78.0</td>\n",
       "      <td>0.96</td>\n",
       "      <td>312.0</td>\n",
       "      <td>this was today. this fateful morning to be exact.\\n\\nit was gorgeous out and i decided to take the dog for an ol' walk. about a mile east of my house, on my very street, i happened to look down and see what looked like the arm of a baby doll lying on the side of the road. when i kicked it, the hilarious truth was revealed. this wasn't a doll arm - it was a dildo. a big, fat, flesh-toned, veiny dildo.\\n\\ni live in the rural northeast - not a city - an don't often see trash on the road, let alone a trash penis. a thought crossed my mind at that moment - two of my friends' birthdays are coming up and they live together. what if i spray painted this dildo, put googly eyes and a cape on it, and dubbed it \"dilbert the dildo\"? funny apartment knickknack, no?\\n\\nnot wanting to be seen carrying what looks like andre the giant's wang, i slip the penis between my left arm and body, under the armpit and covered by the sweatshirt. you all know the maneuver, we've all done it while trying to hide something. so i carry on my merry way.\\n\\na few minutes later, i run into my neighbor - let's call him ed because he looks exactly like an ed. he's about my age, and my brother and i used to hang out with him as kids. i never liked him all that much - he was an ok guy but we never had anything in common. i'll always remember ed's shiny, fleshy body waddling around the pool. the epitome of \"the chubby kid\".\\n\\nso we say hi, exchange pleasantries, not much to say to one another like always. i'm a little nervous he'll spot dilbert under my arm but all seems to go well. not long after, he says he has to get going and i say the same.\\n\\nnow here's the fuckup. i'm holding my dog's leash with my right arm, so he sticks out his left hand to shake before we part. shaking hands is kind of one of those instinctual things for me, so when someone offers their hand i mindlessly stick out mine.\\n\\nmomentarily forgetting about dilbert.\\n\\n*plop*\\n\\nthe penis hits the hot asphalt with a soft bounce, rolls a bit, and finally lands veiny side up in full view. we both stare at it for a second which seems like eternity. my dog tries to investigate it but i shamefully pull her away. ed says something like \"well.. i should... head out\".\\n\\nhe walks away, head held low.\\n\\nbut, goddamn it reddit, i picked that dildo right back up and headed home, because as mortified as i was, dilbert must live on.</td>\n",
       "      <td>i picked up the bone.</td>\n",
       "      <td>picking up a road dildo.</td>\n",
       "    </tr>\n",
       "    <tr>\n",
       "      <th>2</th>\n",
       "      <td>3.0</td>\n",
       "      <td>17.0</td>\n",
       "      <td>0.53</td>\n",
       "      <td>3.0</td>\n",
       "      <td>after eloquently preparing a text based choke slam to a friend of mine in the notes application, i pasted it to the wrong message. my recover was less than smooth.\\n\\nhttp://imgur.com/symbxru</td>\n",
       "      <td>my copypasta game is subpar; i texted crush a hard-worded message.</td>\n",
       "      <td>texting the wrong person.</td>\n",
       "    </tr>\n",
       "  </tbody>\n",
       "</table>"
      ],
      "text/plain": [
       "<IPython.core.display.HTML object>"
      ]
     },
     "metadata": {},
     "output_type": "display_data"
    }
   ],
   "source": [
    "# 3 random examples from the Reddit TIFU dataset:\n",
    "\n",
    "show_random_elements(reddit_tifu)"
   ]
  },
  {
   "cell_type": "markdown",
   "metadata": {
    "id": "9dXLOok3-IRa"
   },
   "source": [
    "# **Step 1:** inspect Reddit-TIFU for duplicates of the source texts ('documents' column)"
   ]
  },
  {
   "cell_type": "code",
   "execution_count": 8,
   "metadata": {
    "executionInfo": {
     "elapsed": 274,
     "status": "ok",
     "timestamp": 1675026960871,
     "user": {
      "displayName": "Anna Kougioumtzidou",
      "userId": "08894778027574418607"
     },
     "user_tz": -120
    },
    "id": "L-Gxuvg0nNsV"
   },
   "outputs": [],
   "source": [
    "reddit_tifu_df = reddit_tifu.to_pandas()"
   ]
  },
  {
   "cell_type": "code",
   "execution_count": 9,
   "metadata": {
    "colab": {
     "base_uri": "https://localhost:8080/"
    },
    "executionInfo": {
     "elapsed": 4,
     "status": "ok",
     "timestamp": 1675026967531,
     "user": {
      "displayName": "Anna Kougioumtzidou",
      "userId": "08894778027574418607"
     },
     "user_tz": -120
    },
    "id": "Cj3_AzNfYrBa",
    "outputId": "aedc8f03-7808-466c-c3bc-1b8a849b43c6"
   },
   "outputs": [
    {
     "data": {
      "text/plain": [
       "ups                                                           5.0\n",
       "num_comments                                                  6.0\n",
       "upvote_ratio                                                 0.87\n",
       "score                                                         5.0\n",
       "documents       earlier this week*\\n\\nso, i have this intervie...\n",
       "tldr            had an interview. forgot interviewers name. ca...\n",
       "title                           asking an interviewer for a name.\n",
       "Name: 20094, dtype: object"
      ]
     },
     "execution_count": 9,
     "metadata": {},
     "output_type": "execute_result"
    }
   ],
   "source": [
    "reddit_tifu_df.iloc[20094] # Random element"
   ]
  },
  {
   "cell_type": "code",
   "execution_count": 10,
   "metadata": {
    "colab": {
     "base_uri": "https://localhost:8080/"
    },
    "executionInfo": {
     "elapsed": 4,
     "status": "ok",
     "timestamp": 1675026441139,
     "user": {
      "displayName": "Anna Kougioumtzidou",
      "userId": "08894778027574418607"
     },
     "user_tz": -120
    },
    "id": "h_fkO1H2oZ0X",
    "outputId": "d306d677-b841-445b-edc9-a735652e1b0a"
   },
   "outputs": [
    {
     "data": {
      "text/plain": [
       "42101"
      ]
     },
     "execution_count": 10,
     "metadata": {},
     "output_type": "execute_result"
    }
   ],
   "source": [
    "len(reddit_tifu_df['documents'].value_counts())"
   ]
  },
  {
   "cell_type": "markdown",
   "metadata": {
    "id": "voVx8H-C_Icj"
   },
   "source": [
    "- The value 42101 is smaller than the number of examples in the dataset (42139).\n",
    "- This indicates that there are duplicates, for the column 'documents', in the dataset.\n",
    "- 42139-42101=38 *exact* duplicates that should be removed"
   ]
  },
  {
   "cell_type": "code",
   "execution_count": 11,
   "metadata": {
    "executionInfo": {
     "elapsed": 312,
     "status": "ok",
     "timestamp": 1675026441449,
     "user": {
      "displayName": "Anna Kougioumtzidou",
      "userId": "08894778027574418607"
     },
     "user_tz": -120
    },
    "id": "2MZ8Zls2l4r9"
   },
   "outputs": [],
   "source": [
    "# Find the indices of the reddit_tifu_df of the exact matches for the column 'documents'\n",
    "# store them in the *exact_duplicates_texts_indices* variable  \n",
    "\n",
    "# Count the values of the field 'documents' that occur more than once \n",
    "# print(len(reddit_tifu_df['documents'].value_counts()[reddit_tifu_df['documents'].value_counts() > 1]))\n",
    "\n",
    "# Identify exact duplicates in the 'documents' column\n",
    "# 'exact_duplicates', will store a Series containing the exact duplicate documents along with their counts\n",
    "exact_duplicates = reddit_tifu_df['documents'].value_counts()[reddit_tifu_df['documents'].value_counts() > 1]\n",
    "\n",
    "exact_duplicates_df = pd.DataFrame({'value': exact_duplicates.index, 'occurencies_count': exact_duplicates.values})\n",
    "\n",
    "# exact_duplicates_df['occurencies_count'].sum()\n",
    "\n",
    "exact_duplicates_texts_indices_lists = []\n",
    "\n",
    "for element in exact_duplicates_df['value'].to_list():\n",
    "    element_occurence_indices = reddit_tifu_df.index[reddit_tifu_df['documents'] == element].tolist()\n",
    "    exact_duplicates_texts_indices_lists.append(element_occurence_indices)\n",
    "\n",
    "# for the *exact_duplicates_texts_indices* we keep all the elements that are\n",
    "# duplicates of the first element in each list,\n",
    "# each first element (\"original\" element) index is not stored in exact_duplicates_texts_indices since\n",
    "# it itself is not a duplicate\n",
    "\n",
    "exact_duplicates_texts_indices = []\n",
    "\n",
    "for element in exact_duplicates_texts_indices_lists:\n",
    "    for i in range(1, len(element)):\n",
    "        exact_duplicates_texts_indices.append(element[i])"
   ]
  },
  {
   "cell_type": "code",
   "execution_count": 12,
   "metadata": {
    "colab": {
     "base_uri": "https://localhost:8080/",
     "height": 833
    },
    "executionInfo": {
     "elapsed": 10,
     "status": "ok",
     "timestamp": 1675026441449,
     "user": {
      "displayName": "Anna Kougioumtzidou",
      "userId": "08894778027574418607"
     },
     "user_tz": -120
    },
    "id": "OOejLirJQEtD",
    "outputId": "3082ed71-4ec3-45c4-fd26-53bd15fc7a4e"
   },
   "outputs": [
    {
     "data": {
      "text/html": [
       "<div>\n",
       "<style scoped>\n",
       "    .dataframe tbody tr th:only-of-type {\n",
       "        vertical-align: middle;\n",
       "    }\n",
       "\n",
       "    .dataframe tbody tr th {\n",
       "        vertical-align: top;\n",
       "    }\n",
       "\n",
       "    .dataframe thead th {\n",
       "        text-align: right;\n",
       "    }\n",
       "</style>\n",
       "<table border=\"1\" class=\"dataframe\">\n",
       "  <thead>\n",
       "    <tr style=\"text-align: right;\">\n",
       "      <th></th>\n",
       "      <th>value</th>\n",
       "      <th>occurencies_count</th>\n",
       "    </tr>\n",
       "  </thead>\n",
       "  <tbody>\n",
       "    <tr>\n",
       "      <th>0</th>\n",
       "      <td>so this happened last week. \\ni am a college j...</td>\n",
       "      <td>8</td>\n",
       "    </tr>\n",
       "    <tr>\n",
       "      <th>1</th>\n",
       "      <td>so this happened last week. \\ni am a college j...</td>\n",
       "      <td>5</td>\n",
       "    </tr>\n",
       "    <tr>\n",
       "      <th>2</th>\n",
       "      <td>so this happened last week. \\ni am a college j...</td>\n",
       "      <td>4</td>\n",
       "    </tr>\n",
       "    <tr>\n",
       "      <th>3</th>\n",
       "      <td>so this happened last week. \\ni am a college j...</td>\n",
       "      <td>4</td>\n",
       "    </tr>\n",
       "    <tr>\n",
       "      <th>4</th>\n",
       "      <td>today i was invited to a mavericks game by my ...</td>\n",
       "      <td>2</td>\n",
       "    </tr>\n",
       "    <tr>\n",
       "      <th>5</th>\n",
       "      <td>so this date backs to a couple of days ago, bu...</td>\n",
       "      <td>2</td>\n",
       "    </tr>\n",
       "    <tr>\n",
       "      <th>6</th>\n",
       "      <td>obligatory this didn't happen today. this happ...</td>\n",
       "      <td>2</td>\n",
       "    </tr>\n",
       "    <tr>\n",
       "      <th>7</th>\n",
       "      <td>a little bit of context for this. i am a 16 ye...</td>\n",
       "      <td>2</td>\n",
       "    </tr>\n",
       "    <tr>\n",
       "      <th>8</th>\n",
       "      <td>so i'm a young male and therefore an avid tind...</td>\n",
       "      <td>2</td>\n",
       "    </tr>\n",
       "    <tr>\n",
       "      <th>9</th>\n",
       "      <td>this happened two days ago, and the only reaso...</td>\n",
       "      <td>2</td>\n",
       "    </tr>\n",
       "    <tr>\n",
       "      <th>10</th>\n",
       "      <td>go easy on me it is my first post.\\n\\nnot toda...</td>\n",
       "      <td>2</td>\n",
       "    </tr>\n",
       "    <tr>\n",
       "      <th>11</th>\n",
       "      <td>long time ago when i was in high-school this h...</td>\n",
       "      <td>2</td>\n",
       "    </tr>\n",
       "    <tr>\n",
       "      <th>12</th>\n",
       "      <td>so... i was driving home from the shops with m...</td>\n",
       "      <td>2</td>\n",
       "    </tr>\n",
       "    <tr>\n",
       "      <th>13</th>\n",
       "      <td>not today so much as three years ago. but i tr...</td>\n",
       "      <td>2</td>\n",
       "    </tr>\n",
       "    <tr>\n",
       "      <th>14</th>\n",
       "      <td>so it started about 3.5 days ago. it was late ...</td>\n",
       "      <td>2</td>\n",
       "    </tr>\n",
       "    <tr>\n",
       "      <th>15</th>\n",
       "      <td>well this didn't happen today, or this year fo...</td>\n",
       "      <td>2</td>\n",
       "    </tr>\n",
       "    <tr>\n",
       "      <th>16</th>\n",
       "      <td>throwaway for obvious reasons, this happened i...</td>\n",
       "      <td>2</td>\n",
       "    </tr>\n",
       "    <tr>\n",
       "      <th>17</th>\n",
       "      <td>so this actually happened yesterday. still try...</td>\n",
       "      <td>2</td>\n",
       "    </tr>\n",
       "    <tr>\n",
       "      <th>18</th>\n",
       "      <td>so this just happened last night, it was me, m...</td>\n",
       "      <td>2</td>\n",
       "    </tr>\n",
       "    <tr>\n",
       "      <th>19</th>\n",
       "      <td>so i'm in jersey and we had some pretty bad th...</td>\n",
       "      <td>2</td>\n",
       "    </tr>\n",
       "    <tr>\n",
       "      <th>20</th>\n",
       "      <td>so this happened many years ago when i was in ...</td>\n",
       "      <td>2</td>\n",
       "    </tr>\n",
       "    <tr>\n",
       "      <th>21</th>\n",
       "      <td>i’m working in an office of an insurance compa...</td>\n",
       "      <td>2</td>\n",
       "    </tr>\n",
       "    <tr>\n",
       "      <th>22</th>\n",
       "      <td>so this happened last week. \\ni am a college j...</td>\n",
       "      <td>2</td>\n",
       "    </tr>\n",
       "    <tr>\n",
       "      <th>23</th>\n",
       "      <td>this just happened 30 minutes ago. today start...</td>\n",
       "      <td>2</td>\n",
       "    </tr>\n",
       "    <tr>\n",
       "      <th>24</th>\n",
       "      <td>well i came into work today like any other day...</td>\n",
       "      <td>2</td>\n",
       "    </tr>\n",
       "  </tbody>\n",
       "</table>\n",
       "</div>"
      ],
      "text/plain": [
       "                                                value  occurencies_count\n",
       "0   so this happened last week. \\ni am a college j...                  8\n",
       "1   so this happened last week. \\ni am a college j...                  5\n",
       "2   so this happened last week. \\ni am a college j...                  4\n",
       "3   so this happened last week. \\ni am a college j...                  4\n",
       "4   today i was invited to a mavericks game by my ...                  2\n",
       "5   so this date backs to a couple of days ago, bu...                  2\n",
       "6   obligatory this didn't happen today. this happ...                  2\n",
       "7   a little bit of context for this. i am a 16 ye...                  2\n",
       "8   so i'm a young male and therefore an avid tind...                  2\n",
       "9   this happened two days ago, and the only reaso...                  2\n",
       "10  go easy on me it is my first post.\\n\\nnot toda...                  2\n",
       "11  long time ago when i was in high-school this h...                  2\n",
       "12  so... i was driving home from the shops with m...                  2\n",
       "13  not today so much as three years ago. but i tr...                  2\n",
       "14  so it started about 3.5 days ago. it was late ...                  2\n",
       "15  well this didn't happen today, or this year fo...                  2\n",
       "16  throwaway for obvious reasons, this happened i...                  2\n",
       "17  so this actually happened yesterday. still try...                  2\n",
       "18  so this just happened last night, it was me, m...                  2\n",
       "19  so i'm in jersey and we had some pretty bad th...                  2\n",
       "20  so this happened many years ago when i was in ...                  2\n",
       "21  i’m working in an office of an insurance compa...                  2\n",
       "22  so this happened last week. \\ni am a college j...                  2\n",
       "23  this just happened 30 minutes ago. today start...                  2\n",
       "24  well i came into work today like any other day...                  2"
      ]
     },
     "execution_count": 12,
     "metadata": {},
     "output_type": "execute_result"
    }
   ],
   "source": [
    "exact_duplicates_df"
   ]
  },
  {
   "cell_type": "code",
   "execution_count": 13,
   "metadata": {},
   "outputs": [
    {
     "data": {
      "text/plain": [
       "38"
      ]
     },
     "execution_count": 13,
     "metadata": {},
     "output_type": "execute_result"
    }
   ],
   "source": [
    "len(exact_duplicates_texts_indices) "
   ]
  },
  {
   "cell_type": "markdown",
   "metadata": {},
   "source": [
    "The lenght of the *exact_duplicates_texts_indices* list confirms our initial finding; \"42139-42101=38 exact duplicates that should be removed\""
   ]
  },
  {
   "cell_type": "markdown",
   "metadata": {
    "id": "P4kG0r_T_dUm"
   },
   "source": [
    "# **Step 2:** inspect dataset for problematic source texts ('documents' column)"
   ]
  },
  {
   "cell_type": "code",
   "execution_count": 14,
   "metadata": {
    "executionInfo": {
     "elapsed": 871,
     "status": "ok",
     "timestamp": 1675026442312,
     "user": {
      "displayName": "Anna Kougioumtzidou",
      "userId": "08894778027574418607"
     },
     "user_tz": -120
    },
    "id": "57KNuWJc0M2q"
   },
   "outputs": [],
   "source": [
    "not_useful_texts_indices = []\n",
    "\n",
    "# Find the indices of the 'documents' that are empty or not text (e.g., punctuation marks only)\n",
    "\n",
    "''' a regular expression that describes text: '''\n",
    "text_pattern = re.compile(\"([a-z1-9])+.\", re.IGNORECASE)\n",
    "\n",
    "for i in range(len(reddit_tifu_df)):\n",
    "    if len(reddit_tifu_df['documents']) == 0 or not(text_pattern.search(reddit_tifu_df['documents'].loc[i])):\n",
    "        not_useful_texts_indices.append(i)"
   ]
  },
  {
   "cell_type": "markdown",
   "metadata": {
    "id": "1z4LJoTl_BfI"
   },
   "source": [
    "# **Step 3:** inspect dataset for problematic summaries ('tldr' column)"
   ]
  },
  {
   "cell_type": "code",
   "execution_count": 15,
   "metadata": {},
   "outputs": [],
   "source": [
    "# Prepare a dataframe to examine the 'tldr' column values\n",
    "\n",
    "reddit_tifu_targets = reddit_tifu_df['tldr']\n",
    "reddit_tifu_targets_df = pd.DataFrame({'original_index': reddit_tifu_targets.index, 'text': reddit_tifu_targets.values})"
   ]
  },
  {
   "cell_type": "code",
   "execution_count": 16,
   "metadata": {},
   "outputs": [],
   "source": [
    "# Remove the special character * that appears often in the original 'tldr' field\n",
    "# but offers no practical value \n",
    "reddit_tifu_targets_df['clean_text'] = reddit_tifu_targets_df['text'].apply(clean_string)"
   ]
  },
  {
   "cell_type": "code",
   "execution_count": 17,
   "metadata": {
    "colab": {
     "base_uri": "https://localhost:8080/",
     "height": 423
    },
    "executionInfo": {
     "elapsed": 6,
     "status": "ok",
     "timestamp": 1675026442704,
     "user": {
      "displayName": "Anna Kougioumtzidou",
      "userId": "08894778027574418607"
     },
     "user_tz": -120
    },
    "id": "jyF1Y6zjxsHo",
    "outputId": "f3deddd3-82b2-4ea5-8228-1e7294778a36"
   },
   "outputs": [
    {
     "data": {
      "text/html": [
       "<div>\n",
       "<style scoped>\n",
       "    .dataframe tbody tr th:only-of-type {\n",
       "        vertical-align: middle;\n",
       "    }\n",
       "\n",
       "    .dataframe tbody tr th {\n",
       "        vertical-align: top;\n",
       "    }\n",
       "\n",
       "    .dataframe thead th {\n",
       "        text-align: right;\n",
       "    }\n",
       "</style>\n",
       "<table border=\"1\" class=\"dataframe\">\n",
       "  <thead>\n",
       "    <tr style=\"text-align: right;\">\n",
       "      <th></th>\n",
       "      <th>original_index</th>\n",
       "      <th>text</th>\n",
       "      <th>clean_text</th>\n",
       "    </tr>\n",
       "  </thead>\n",
       "  <tbody>\n",
       "    <tr>\n",
       "      <th>0</th>\n",
       "      <td>0</td>\n",
       "      <td>confuse a 5th grade girl for a boy in front of...</td>\n",
       "      <td>confuse a 5th grade girl for a boy in front of...</td>\n",
       "    </tr>\n",
       "    <tr>\n",
       "      <th>1</th>\n",
       "      <td>1</td>\n",
       "      <td>i found my estranged dad, thought i loved him ...</td>\n",
       "      <td>i found my estranged dad, thought i loved him ...</td>\n",
       "    </tr>\n",
       "    <tr>\n",
       "      <th>2</th>\n",
       "      <td>2</td>\n",
       "      <td>had my balls burned by sauron and was left dev...</td>\n",
       "      <td>had my balls burned by sauron and was left dev...</td>\n",
       "    </tr>\n",
       "    <tr>\n",
       "      <th>3</th>\n",
       "      <td>3</td>\n",
       "      <td>peppermint + bath = burning cold ladybits.</td>\n",
       "      <td>peppermint + bath = burning cold ladybits.</td>\n",
       "    </tr>\n",
       "    <tr>\n",
       "      <th>4</th>\n",
       "      <td>4</td>\n",
       "      <td>got too high and too hot in the bath, almost c...</td>\n",
       "      <td>got too high and too hot in the bath, almost c...</td>\n",
       "    </tr>\n",
       "    <tr>\n",
       "      <th>...</th>\n",
       "      <td>...</td>\n",
       "      <td>...</td>\n",
       "      <td>...</td>\n",
       "    </tr>\n",
       "    <tr>\n",
       "      <th>42134</th>\n",
       "      <td>42134</td>\n",
       "      <td>forgot my quarter for lunch at school for a we...</td>\n",
       "      <td>forgot my quarter for lunch at school for a we...</td>\n",
       "    </tr>\n",
       "    <tr>\n",
       "      <th>42135</th>\n",
       "      <td>42135</td>\n",
       "      <td>girlfriend prefers clean shaven groin. i try t...</td>\n",
       "      <td>girlfriend prefers clean shaven groin. i try t...</td>\n",
       "    </tr>\n",
       "    <tr>\n",
       "      <th>42136</th>\n",
       "      <td>42136</td>\n",
       "      <td>today i broke a window that costs more then i ...</td>\n",
       "      <td>today i broke a window that costs more then i ...</td>\n",
       "    </tr>\n",
       "    <tr>\n",
       "      <th>42137</th>\n",
       "      <td>42137</td>\n",
       "      <td>i invited over new girlfriend for dinner to sp...</td>\n",
       "      <td>i invited over new girlfriend for dinner to sp...</td>\n",
       "    </tr>\n",
       "    <tr>\n",
       "      <th>42138</th>\n",
       "      <td>42138</td>\n",
       "      <td>in a rush i mixed my colours in the wash and e...</td>\n",
       "      <td>in a rush i mixed my colours in the wash and e...</td>\n",
       "    </tr>\n",
       "  </tbody>\n",
       "</table>\n",
       "<p>42139 rows × 3 columns</p>\n",
       "</div>"
      ],
      "text/plain": [
       "       original_index                                               text  \\\n",
       "0                   0  confuse a 5th grade girl for a boy in front of...   \n",
       "1                   1  i found my estranged dad, thought i loved him ...   \n",
       "2                   2  had my balls burned by sauron and was left dev...   \n",
       "3                   3         peppermint + bath = burning cold ladybits.   \n",
       "4                   4  got too high and too hot in the bath, almost c...   \n",
       "...               ...                                                ...   \n",
       "42134           42134  forgot my quarter for lunch at school for a we...   \n",
       "42135           42135  girlfriend prefers clean shaven groin. i try t...   \n",
       "42136           42136  today i broke a window that costs more then i ...   \n",
       "42137           42137  i invited over new girlfriend for dinner to sp...   \n",
       "42138           42138  in a rush i mixed my colours in the wash and e...   \n",
       "\n",
       "                                              clean_text  \n",
       "0      confuse a 5th grade girl for a boy in front of...  \n",
       "1      i found my estranged dad, thought i loved him ...  \n",
       "2      had my balls burned by sauron and was left dev...  \n",
       "3             peppermint + bath = burning cold ladybits.  \n",
       "4      got too high and too hot in the bath, almost c...  \n",
       "...                                                  ...  \n",
       "42134  forgot my quarter for lunch at school for a we...  \n",
       "42135  girlfriend prefers clean shaven groin. i try t...  \n",
       "42136  today i broke a window that costs more then i ...  \n",
       "42137  i invited over new girlfriend for dinner to sp...  \n",
       "42138  in a rush i mixed my colours in the wash and e...  \n",
       "\n",
       "[42139 rows x 3 columns]"
      ]
     },
     "execution_count": 17,
     "metadata": {},
     "output_type": "execute_result"
    }
   ],
   "source": [
    "reddit_tifu_targets_df"
   ]
  },
  {
   "cell_type": "markdown",
   "metadata": {
    "id": "sL1mLjAy_yjT"
   },
   "source": [
    "Next: Find the indices of the items that are not useful (not informative);\n",
    "*   nonsensical tldrs (e.g., punctuation marks only),\n",
    "*   tldrs that clearly are not a summary (e.g., \"see title\") "
   ]
  },
  {
   "cell_type": "code",
   "execution_count": 18,
   "metadata": {
    "colab": {
     "base_uri": "https://localhost:8080/"
    },
    "executionInfo": {
     "elapsed": 6417,
     "status": "ok",
     "timestamp": 1675026449117,
     "user": {
      "displayName": "Anna Kougioumtzidou",
      "userId": "08894778027574418607"
     },
     "user_tz": -120
    },
    "id": "0sYgVs-uq5um",
    "outputId": "c8f1b5b4-1124-4247-f219-ea1f85dfed30"
   },
   "outputs": [
    {
     "name": "stdout",
     "output_type": "stream",
     "text": [
      "?\n",
      "---------\n",
      "**\n",
      "( ͡° ͜ʖ ͡°)\n",
      ",\n",
      "**\n",
      "**\n",
      "~~\n",
      "k\n",
      "**\n",
      "**\n",
      "**\n",
      "(( ͡° ͜ʖ ͡°)͜ʖ( ͡° ͜ʖ ͡°))*\n",
      "-\n",
      "**:\n",
      "**\n",
      "**\n",
      "**\n",
      "**\n",
      "--\n",
      "\"\n",
      "**\n",
      "???\n",
      "**\n",
      ")**\n",
      "*\n",
      ":\n",
      "*\n",
      "**:\n",
      "**\n",
      ":\n",
      "⬆️\n",
      "**\n",
      ":\n",
      ",\n",
      ";\n",
      "/╲/( ͡° ͡° ͜ʖ ͡° ͡°)/\\╱\\\n",
      "**\n",
      ",\n",
      ";\n",
      "?**\n",
      "**\n",
      "**\n",
      "]\n",
      "*\n",
      "**\n",
      "-\n",
      "**\n",
      "*\n",
      "**\n",
      "**\n",
      ":\n",
      ";\n",
      "**\n",
      "**\n",
      ":\n",
      "**\n",
      ":\n",
      "**\n",
      "**\n",
      ".\n",
      "**\n",
      ";\n",
      "/\n",
      "**\n",
      ";\n",
      "*\n",
      "💨 💨 🐝💦💦💻 😯😐\n",
      "?\n",
      "*\n",
      "*\n",
      ":\n",
      ")\n",
      ",\n",
      ",\n",
      "'\n",
      "'\n",
      ".**\n",
      "'\n",
      "]\n",
      ".**\n",
      "**\n",
      "read the title\n",
      "at the bottom\n",
      "read the title\n",
      "read the title\n",
      "see title\n",
      "version:\n",
      "title.\n",
      "at the bottom.\n",
      "version:\n",
      "at the end.\n",
      "see title\n",
      "read the title\n",
      "at the bottom.\n",
      "see title.\n",
      "title.\n",
      "see title\n",
      "at the bottom.\n",
      "at the bottom.\n",
      "at bottom.\n",
      "at the bottom.\n",
      "see title\n",
      "at the bottom.\n",
      "title\n",
      "at bottom.\n",
      "title.\n",
      "read the title\n",
      "read title\n",
      "at the bottom.\n",
      "title\n",
      "title\n",
      "at the bottom.\n",
      "at the bottom.\n",
      "at the bottom\n",
      "title\n",
      "at the end.\n",
      "title.\n",
      "at bottom.\n",
      "at the bottom\n",
      "at bottom\n",
      "at the bottom\n",
      "at bottom.\n",
      "at the bottom.\n",
      "at the bottom\n",
      "at the end.\n"
     ]
    }
   ],
   "source": [
    "# Find the indices of the items that are not useful (not informative);\n",
    "#   - nonsensical tldrs (e.g., punctuation marks only),\n",
    "#   - tldrs that clearly are not a summary (e.g., \"see title\") \n",
    "\n",
    "not_useful_tldrs_indices = []\n",
    "\n",
    "# Find the indices of the TLDRs that empty or not text (e.g., punctuation marks only)\n",
    "\n",
    "''' a regular expression that describes text: '''\n",
    "text_pattern = re.compile(\"([a-z1-9])+.\", re.IGNORECASE)\n",
    "\n",
    "for i in range(len(reddit_tifu_df)):\n",
    "    if len(reddit_tifu_df['tldr']) == 0 or not(text_pattern.search(reddit_tifu_df['tldr'].loc[i])):\n",
    "        not_useful_tldrs_indices.append(i)\n",
    "\n",
    "# Find the indices of the TLDRs that are not useful, e.g., \"see title\"\n",
    "\n",
    "not_useful_tldrs = ['title', 'title.',\n",
    "                    'see title', 'see title.',\n",
    "                    'in the title', 'in the title.',\n",
    "                    'read title', 'read title.', 'read the title',\n",
    "                    'read up', 'read up!',\n",
    "                    'read it', 'read it!',\n",
    "                    'at bottom', 'at bottom.',\n",
    "                    'at the bottom', 'at the bottom.',\n",
    "                    'at the end', 'at the end.',\n",
    "                    'at the top', 'at the top.',\n",
    "                    'version:',\n",
    "                    'upvote', 'upvote.', 'upvote!',\n",
    "                    'mandatory summary/question!']\n",
    "\n",
    "for i in range(len(reddit_tifu_df)):\n",
    "    if reddit_tifu_df.loc[i]['tldr'] in not_useful_tldrs:\n",
    "        not_useful_tldrs_indices.append(i)\n",
    "\n",
    "for indx in not_useful_tldrs_indices:\n",
    "    print(reddit_tifu_df.loc[indx]['tldr'])"
   ]
  },
  {
   "cell_type": "markdown",
   "metadata": {
    "id": "50MxAqm7BPoV"
   },
   "source": [
    "# **Step 4:** Aggregate all the indices that should be removed, found so far"
   ]
  },
  {
   "cell_type": "code",
   "execution_count": 19,
   "metadata": {
    "colab": {
     "base_uri": "https://localhost:8080/"
    },
    "executionInfo": {
     "elapsed": 32,
     "status": "ok",
     "timestamp": 1675026449118,
     "user": {
      "displayName": "Anna Kougioumtzidou",
      "userId": "08894778027574418607"
     },
     "user_tz": -120
    },
    "id": "KNmpPJFMjbhW",
    "outputId": "18f2a9e3-d87b-4538-9c58-53803c744f7e"
   },
   "outputs": [
    {
     "data": {
      "text/plain": [
       "38"
      ]
     },
     "execution_count": 19,
     "metadata": {},
     "output_type": "execute_result"
    }
   ],
   "source": [
    "len(exact_duplicates_texts_indices)"
   ]
  },
  {
   "cell_type": "code",
   "execution_count": 20,
   "metadata": {
    "colab": {
     "base_uri": "https://localhost:8080/"
    },
    "executionInfo": {
     "elapsed": 30,
     "status": "ok",
     "timestamp": 1675026449118,
     "user": {
      "displayName": "Anna Kougioumtzidou",
      "userId": "08894778027574418607"
     },
     "user_tz": -120
    },
    "id": "R0dwRubljmFQ",
    "outputId": "5cf5ac96-d08f-44f4-8b89-718f3fbdc54b"
   },
   "outputs": [
    {
     "data": {
      "text/plain": [
       "1"
      ]
     },
     "execution_count": 20,
     "metadata": {},
     "output_type": "execute_result"
    }
   ],
   "source": [
    "len(not_useful_texts_indices)"
   ]
  },
  {
   "cell_type": "code",
   "execution_count": 21,
   "metadata": {
    "colab": {
     "base_uri": "https://localhost:8080/"
    },
    "executionInfo": {
     "elapsed": 24,
     "status": "ok",
     "timestamp": 1675026449119,
     "user": {
      "displayName": "Anna Kougioumtzidou",
      "userId": "08894778027574418607"
     },
     "user_tz": -120
    },
    "id": "FhwdwZa0kghv",
    "outputId": "7073c4d8-7cef-405a-c6bd-5a2b8e2de409"
   },
   "outputs": [
    {
     "data": {
      "text/plain": [
       "126"
      ]
     },
     "execution_count": 21,
     "metadata": {},
     "output_type": "execute_result"
    }
   ],
   "source": [
    "len(not_useful_tldrs_indices)"
   ]
  },
  {
   "cell_type": "code",
   "execution_count": 22,
   "metadata": {
    "executionInfo": {
     "elapsed": 19,
     "status": "ok",
     "timestamp": 1675026449119,
     "user": {
      "displayName": "Anna Kougioumtzidou",
      "userId": "08894778027574418607"
     },
     "user_tz": -120
    },
    "id": "MkHRNYCzNIVW"
   },
   "outputs": [],
   "source": [
    "# Aggregate all the indices that should be removed\n",
    "indices_to_remove = exact_duplicates_texts_indices + not_useful_texts_indices + not_useful_tldrs_indices"
   ]
  },
  {
   "cell_type": "code",
   "execution_count": 23,
   "metadata": {
    "colab": {
     "base_uri": "https://localhost:8080/"
    },
    "executionInfo": {
     "elapsed": 20,
     "status": "ok",
     "timestamp": 1675026449120,
     "user": {
      "displayName": "Anna Kougioumtzidou",
      "userId": "08894778027574418607"
     },
     "user_tz": -120
    },
    "id": "9oEUdDtPki6W",
    "outputId": "6f8aaa6f-e30f-49b8-c2db-bd852db2e98d"
   },
   "outputs": [
    {
     "data": {
      "text/plain": [
       "165"
      ]
     },
     "execution_count": 23,
     "metadata": {},
     "output_type": "execute_result"
    }
   ],
   "source": [
    "len(indices_to_remove)"
   ]
  },
  {
   "cell_type": "markdown",
   "metadata": {
    "id": "Cz7CODLwByAI"
   },
   "source": [
    "# **Step 5:** Remove the indices & inspect the rest of the dataset for duplicates of summaries (column 'tldr' -> 'clean_text')"
   ]
  },
  {
   "cell_type": "code",
   "execution_count": 24,
   "metadata": {
    "executionInfo": {
     "elapsed": 18,
     "status": "ok",
     "timestamp": 1675026449120,
     "user": {
      "displayName": "Anna Kougioumtzidou",
      "userId": "08894778027574418607"
     },
     "user_tz": -120
    },
    "id": "V4LWC8-pRWDp"
   },
   "outputs": [],
   "source": [
    "# Select the reddit_tifu indices to keep by removing the indices to remove\n",
    "\n",
    "all_indices = []\n",
    "all_indices.extend(range(0,42139))\n",
    "\n",
    "indices_to_keep = [x for x in all_indices if x not in indices_to_remove]"
   ]
  },
  {
   "cell_type": "markdown",
   "metadata": {
    "id": "yqxLv9mxTACP"
   },
   "source": [
    "**One more step: search for candidate duplicates using the values of the column 'tldr'**"
   ]
  },
  {
   "cell_type": "code",
   "execution_count": 25,
   "metadata": {
    "colab": {
     "base_uri": "https://localhost:8080/"
    },
    "executionInfo": {
     "elapsed": 17,
     "status": "ok",
     "timestamp": 1675026449120,
     "user": {
      "displayName": "Anna Kougioumtzidou",
      "userId": "08894778027574418607"
     },
     "user_tz": -120
    },
    "id": "18TWV25wTkoZ",
    "outputId": "21aabcf6-c45b-4309-c24f-9eb75463696a"
   },
   "outputs": [
    {
     "data": {
      "text/plain": [
       "41974"
      ]
     },
     "execution_count": 25,
     "metadata": {},
     "output_type": "execute_result"
    }
   ],
   "source": [
    "reddit_tifu_targets_df = reddit_tifu_targets_df.iloc[indices_to_keep]\n",
    "\n",
    "len(reddit_tifu_targets_df)"
   ]
  },
  {
   "cell_type": "code",
   "execution_count": 26,
   "metadata": {
    "executionInfo": {
     "elapsed": 16,
     "status": "ok",
     "timestamp": 1675026449121,
     "user": {
      "displayName": "Anna Kougioumtzidou",
      "userId": "08894778027574418607"
     },
     "user_tz": -120
    },
    "id": "Y4fhdmpFTSgN"
   },
   "outputs": [],
   "source": [
    "reddit_tifu_targets_df.reset_index(drop=True, inplace=True)"
   ]
  },
  {
   "cell_type": "code",
   "execution_count": 27,
   "metadata": {
    "colab": {
     "base_uri": "https://localhost:8080/",
     "height": 423
    },
    "executionInfo": {
     "elapsed": 17,
     "status": "ok",
     "timestamp": 1675026449122,
     "user": {
      "displayName": "Anna Kougioumtzidou",
      "userId": "08894778027574418607"
     },
     "user_tz": -120
    },
    "id": "CeUi2DEEfr_5",
    "outputId": "840e9a2d-120e-4ea3-c2b5-6e25ff36bcfb"
   },
   "outputs": [
    {
     "data": {
      "text/html": [
       "<div>\n",
       "<style scoped>\n",
       "    .dataframe tbody tr th:only-of-type {\n",
       "        vertical-align: middle;\n",
       "    }\n",
       "\n",
       "    .dataframe tbody tr th {\n",
       "        vertical-align: top;\n",
       "    }\n",
       "\n",
       "    .dataframe thead th {\n",
       "        text-align: right;\n",
       "    }\n",
       "</style>\n",
       "<table border=\"1\" class=\"dataframe\">\n",
       "  <thead>\n",
       "    <tr style=\"text-align: right;\">\n",
       "      <th></th>\n",
       "      <th>original_index</th>\n",
       "      <th>text</th>\n",
       "      <th>clean_text</th>\n",
       "    </tr>\n",
       "  </thead>\n",
       "  <tbody>\n",
       "    <tr>\n",
       "      <th>0</th>\n",
       "      <td>0</td>\n",
       "      <td>confuse a 5th grade girl for a boy in front of...</td>\n",
       "      <td>confuse a 5th grade girl for a boy in front of...</td>\n",
       "    </tr>\n",
       "    <tr>\n",
       "      <th>1</th>\n",
       "      <td>1</td>\n",
       "      <td>i found my estranged dad, thought i loved him ...</td>\n",
       "      <td>i found my estranged dad, thought i loved him ...</td>\n",
       "    </tr>\n",
       "    <tr>\n",
       "      <th>2</th>\n",
       "      <td>2</td>\n",
       "      <td>had my balls burned by sauron and was left dev...</td>\n",
       "      <td>had my balls burned by sauron and was left dev...</td>\n",
       "    </tr>\n",
       "    <tr>\n",
       "      <th>3</th>\n",
       "      <td>3</td>\n",
       "      <td>peppermint + bath = burning cold ladybits.</td>\n",
       "      <td>peppermint + bath = burning cold ladybits.</td>\n",
       "    </tr>\n",
       "    <tr>\n",
       "      <th>4</th>\n",
       "      <td>4</td>\n",
       "      <td>got too high and too hot in the bath, almost c...</td>\n",
       "      <td>got too high and too hot in the bath, almost c...</td>\n",
       "    </tr>\n",
       "    <tr>\n",
       "      <th>...</th>\n",
       "      <td>...</td>\n",
       "      <td>...</td>\n",
       "      <td>...</td>\n",
       "    </tr>\n",
       "    <tr>\n",
       "      <th>41969</th>\n",
       "      <td>42134</td>\n",
       "      <td>forgot my quarter for lunch at school for a we...</td>\n",
       "      <td>forgot my quarter for lunch at school for a we...</td>\n",
       "    </tr>\n",
       "    <tr>\n",
       "      <th>41970</th>\n",
       "      <td>42135</td>\n",
       "      <td>girlfriend prefers clean shaven groin. i try t...</td>\n",
       "      <td>girlfriend prefers clean shaven groin. i try t...</td>\n",
       "    </tr>\n",
       "    <tr>\n",
       "      <th>41971</th>\n",
       "      <td>42136</td>\n",
       "      <td>today i broke a window that costs more then i ...</td>\n",
       "      <td>today i broke a window that costs more then i ...</td>\n",
       "    </tr>\n",
       "    <tr>\n",
       "      <th>41972</th>\n",
       "      <td>42137</td>\n",
       "      <td>i invited over new girlfriend for dinner to sp...</td>\n",
       "      <td>i invited over new girlfriend for dinner to sp...</td>\n",
       "    </tr>\n",
       "    <tr>\n",
       "      <th>41973</th>\n",
       "      <td>42138</td>\n",
       "      <td>in a rush i mixed my colours in the wash and e...</td>\n",
       "      <td>in a rush i mixed my colours in the wash and e...</td>\n",
       "    </tr>\n",
       "  </tbody>\n",
       "</table>\n",
       "<p>41974 rows × 3 columns</p>\n",
       "</div>"
      ],
      "text/plain": [
       "       original_index                                               text  \\\n",
       "0                   0  confuse a 5th grade girl for a boy in front of...   \n",
       "1                   1  i found my estranged dad, thought i loved him ...   \n",
       "2                   2  had my balls burned by sauron and was left dev...   \n",
       "3                   3         peppermint + bath = burning cold ladybits.   \n",
       "4                   4  got too high and too hot in the bath, almost c...   \n",
       "...               ...                                                ...   \n",
       "41969           42134  forgot my quarter for lunch at school for a we...   \n",
       "41970           42135  girlfriend prefers clean shaven groin. i try t...   \n",
       "41971           42136  today i broke a window that costs more then i ...   \n",
       "41972           42137  i invited over new girlfriend for dinner to sp...   \n",
       "41973           42138  in a rush i mixed my colours in the wash and e...   \n",
       "\n",
       "                                              clean_text  \n",
       "0      confuse a 5th grade girl for a boy in front of...  \n",
       "1      i found my estranged dad, thought i loved him ...  \n",
       "2      had my balls burned by sauron and was left dev...  \n",
       "3             peppermint + bath = burning cold ladybits.  \n",
       "4      got too high and too hot in the bath, almost c...  \n",
       "...                                                  ...  \n",
       "41969  forgot my quarter for lunch at school for a we...  \n",
       "41970  girlfriend prefers clean shaven groin. i try t...  \n",
       "41971  today i broke a window that costs more then i ...  \n",
       "41972  i invited over new girlfriend for dinner to sp...  \n",
       "41973  in a rush i mixed my colours in the wash and e...  \n",
       "\n",
       "[41974 rows x 3 columns]"
      ]
     },
     "execution_count": 27,
     "metadata": {},
     "output_type": "execute_result"
    }
   ],
   "source": [
    "reddit_tifu_targets_df"
   ]
  },
  {
   "cell_type": "code",
   "execution_count": 28,
   "metadata": {
    "colab": {
     "base_uri": "https://localhost:8080/",
     "height": 35
    },
    "executionInfo": {
     "elapsed": 271,
     "status": "ok",
     "timestamp": 1675026866630,
     "user": {
      "displayName": "Anna Kougioumtzidou",
      "userId": "08894778027574418607"
     },
     "user_tz": -120
    },
    "id": "etS3TFBdX2Ii",
    "outputId": "a41e4dc1-1a79-4279-c01f-2fc69912e42c"
   },
   "outputs": [
    {
     "data": {
      "text/plain": [
       "': friends mom caught us with pot, parents got disappointed in me, forced to study the whole day **'"
      ]
     },
     "execution_count": 28,
     "metadata": {},
     "output_type": "execute_result"
    }
   ],
   "source": [
    "reddit_tifu_targets_df.iloc[20005]['text']"
   ]
  },
  {
   "cell_type": "code",
   "execution_count": 29,
   "metadata": {
    "colab": {
     "base_uri": "https://localhost:8080/"
    },
    "executionInfo": {
     "elapsed": 3,
     "status": "ok",
     "timestamp": 1675026898545,
     "user": {
      "displayName": "Anna Kougioumtzidou",
      "userId": "08894778027574418607"
     },
     "user_tz": -120
    },
    "id": "QFqwxh6wYdj8",
    "outputId": "13d5bf62-d411-40c1-9096-934b2a5eb920"
   },
   "outputs": [
    {
     "data": {
      "text/plain": [
       "20098"
      ]
     },
     "execution_count": 29,
     "metadata": {},
     "output_type": "execute_result"
    }
   ],
   "source": [
    "reddit_tifu_targets_df.iloc[20005]['original_index']"
   ]
  },
  {
   "cell_type": "markdown",
   "metadata": {},
   "source": [
    "# **Step 6**:  Inspect the rest of the dataset for duplicates of summaries (column 'tldr' -> 'clean_text')"
   ]
  },
  {
   "cell_type": "markdown",
   "metadata": {
    "id": "ABAzzU0uqCCy"
   },
   "source": [
    "* Next we look for candidate duplicates based on the values of the column 'tldr',\n",
    "* we call them 'candidate' duplicates because: identical values in the 'tldr' column do not necessarily indicate a duplicate element in the Reddit TIFU"
   ]
  },
  {
   "cell_type": "code",
   "execution_count": 30,
   "metadata": {
    "colab": {
     "base_uri": "https://localhost:8080/"
    },
    "executionInfo": {
     "elapsed": 17,
     "status": "ok",
     "timestamp": 1675026449123,
     "user": {
      "displayName": "Anna Kougioumtzidou",
      "userId": "08894778027574418607"
     },
     "user_tz": -120
    },
    "id": "EURFKHMgpXXO",
    "outputId": "ab75b78e-036b-4791-be10-3bc9facb33b9"
   },
   "outputs": [
    {
     "name": "stdout",
     "output_type": "stream",
     "text": [
      "\n",
      "**Reddit TIFU indx 20074**\n",
      "TLDR SUMMARY: think before you speak\n",
      "SOURCE TEXT: yipee, this just happened (+5 tifu points)\n",
      "\n",
      "i was watching the anzac ceremony in gallipoli on tv, like a new zealander should, but the volume was on 2. usually my family listens to the tv on volume 8-11 so my ears struggled to pick up the sounds.\n",
      "\n",
      "i was not in the vicinity of the remote so i was unable to do it myself.\n",
      "\n",
      "heres the fu:\n",
      "\n",
      "i said \"its very quiet\" while they were playing the national anthem of turkey.\n",
      "\n",
      "in my head i was wanting to hear the national anthem as i had never heard it before. instead it sounded like an offensive joke because there was a silence while the anthems play. awkward looks ensued.\n",
      "\n",
      "**Reddit TIFU indx 23123**\n",
      "TLDR SUMMARY: think before you speak\n",
      "SOURCE TEXT: little background info: sometimes i blurt out things before i realize it wasn't a good idea to say it.\n",
      "\n",
      "anyway were standing around and my friend was talking about what this guy could play when he uses the wah wah pedal ( http://www.swamp.net.au/images/productimages/large/wah.jpg) and the first thing i said was: \"a wah wah pedal? who named that, hellen keller?\" needless to say, they weren't too impressed.\n"
     ]
    }
   ],
   "source": [
    "# E.g., the following two elements of Reddit TIFU,\n",
    "# have the same 'tldr' but are not duplicates\n",
    "\n",
    "print(\"\\n**Reddit TIFU indx 20074**\")\n",
    "print(f\"TLDR SUMMARY: {reddit_tifu_df.loc[20074]['tldr']}\")\n",
    "print(f\"SOURCE TEXT: {reddit_tifu_df.loc[20074]['documents']}\")\n",
    "\n",
    "print(\"\\n**Reddit TIFU indx 23123**\")\n",
    "print(f\"TLDR SUMMARY: {reddit_tifu_df.loc[23123]['tldr']}\")\n",
    "print(f\"SOURCE TEXT: {reddit_tifu_df.loc[23123]['documents']}\")"
   ]
  },
  {
   "cell_type": "markdown",
   "metadata": {},
   "source": [
    "\"think before you speak\" seems to be a popular conclusion :)"
   ]
  },
  {
   "cell_type": "code",
   "execution_count": 31,
   "metadata": {
    "executionInfo": {
     "elapsed": 217557,
     "status": "ok",
     "timestamp": 1675026666666,
     "user": {
      "displayName": "Anna Kougioumtzidou",
      "userId": "08894778027574418607"
     },
     "user_tz": -120
    },
    "id": "Wl4uFkocquAs"
   },
   "outputs": [],
   "source": [
    "candidate_duplicates = []\n",
    "\n",
    "reddit_tifu_targets_list = reddit_tifu_targets_df['clean_text'].tolist()\n",
    "\n",
    "for indx in range(len(reddit_tifu_targets_df.index)):\n",
    "    target = reddit_tifu_targets_list[indx]\n",
    "    match = reddit_tifu_targets_df['clean_text'].eq(target)\n",
    "    matching_indices_df = pd.DataFrame({'indx': match.index, 'bool': match.values})\n",
    "\n",
    "    ''' matching_positions_list stores lists of all the positions(indices) that \n",
    "    match the target, the target position itself included.\n",
    "    matching_positions_list contains repetitions (of the same set) and should \n",
    "    be filtered '''\n",
    "    matching_positions_list = matching_indices_df.index[matching_indices_df['bool'] == True].tolist()\n",
    "    if len(matching_positions_list) > 1 :\n",
    "        candidate_duplicates.append(matching_positions_list)\n",
    "\n",
    "''' candidate duplicates contains repetitions of the same set '''\n",
    "candidate_duplicates_sets = list(map(set, candidate_duplicates))\n",
    "unique_sets = list(set(frozenset(item) for item in candidate_duplicates))\n",
    "candidate_duplicates_unique_sets = [set(item) for item in set(frozenset(item) for item in unique_sets)]\n",
    "\n",
    "candidate_duplicates_lists = []\n",
    "for item in candidate_duplicates_unique_sets:\n",
    "    candidate_duplicates_lists.append(list(item))"
   ]
  },
  {
   "cell_type": "markdown",
   "metadata": {
    "id": "vxztWtw9rKrH"
   },
   "source": [
    "* After finding the candidate duplicates based on the 'tldr' column\n",
    "* we compare the corresponding source texts ('documents' column) to figure out if they are actual duplicates\n",
    "* to compare the source texts for similarity ROUGE-2 recall is used\n",
    "* two texts are considered duplicates if ROUGE-2 recall > 0.8 \n",
    "* this way of computing similarity is based on the approach used in *Zhang, J., Zhao, Y., Saleh, M., & Liu, P. (2020, November). Pegasus: Pre-training with extracted gap-sentences for abstractive summarization. In International Conference on Machine Learning (pp. 11328-11339). PMLR.*"
   ]
  },
  {
   "cell_type": "code",
   "execution_count": 32,
   "metadata": {
    "executionInfo": {
     "elapsed": 41015,
     "status": "ok",
     "timestamp": 1675026707674,
     "user": {
      "displayName": "Anna Kougioumtzidou",
      "userId": "08894778027574418607"
     },
     "user_tz": -120
    },
    "id": "pG8Mkgn5q56w"
   },
   "outputs": [],
   "source": [
    "duplicates_tldrs_indices = []\n",
    "\n",
    "for element in candidate_duplicates_lists:\n",
    "    for i in range(1, len(element)):\n",
    "        target_1 = reddit_tifu_df.loc[reddit_tifu_targets_df.loc[element[0]]['original_index']]['documents']\n",
    "        target_2 = reddit_tifu_df.loc[reddit_tifu_targets_df.loc[element[i]]['original_index']]['documents']\n",
    "      \n",
    "    if rouge_2_recall([target_1], [target_2])>=0.8:        \n",
    "        duplicates_tldrs_indices.append(reddit_tifu_targets_df.loc[element[i]]['original_index'])"
   ]
  },
  {
   "cell_type": "code",
   "execution_count": 33,
   "metadata": {
    "colab": {
     "base_uri": "https://localhost:8080/"
    },
    "executionInfo": {
     "elapsed": 14,
     "status": "ok",
     "timestamp": 1675026707675,
     "user": {
      "displayName": "Anna Kougioumtzidou",
      "userId": "08894778027574418607"
     },
     "user_tz": -120
    },
    "id": "svcYQ1SwwlTZ",
    "outputId": "f12ccfb2-edc2-428d-e5d4-a0c918826eeb"
   },
   "outputs": [
    {
     "data": {
      "text/plain": [
       "set()"
      ]
     },
     "execution_count": 33,
     "metadata": {},
     "output_type": "execute_result"
    }
   ],
   "source": [
    "# Sanity check: there should be no common elements in the two lists\n",
    "set(duplicates_tldrs_indices) & set(indices_to_remove)"
   ]
  },
  {
   "cell_type": "markdown",
   "metadata": {
    "id": "RtRhkJOUhisZ"
   },
   "source": [
    "# **Reddit TIFU indices that correspond to duplicates**"
   ]
  },
  {
   "cell_type": "code",
   "execution_count": 34,
   "metadata": {
    "executionInfo": {
     "elapsed": 11,
     "status": "ok",
     "timestamp": 1675026707675,
     "user": {
      "displayName": "Anna Kougioumtzidou",
      "userId": "08894778027574418607"
     },
     "user_tz": -120
    },
    "id": "WH4wMLrthh3I"
   },
   "outputs": [],
   "source": [
    "reddit_tifu_duplicates_indices = exact_duplicates_texts_indices + duplicates_tldrs_indices"
   ]
  },
  {
   "cell_type": "code",
   "execution_count": 35,
   "metadata": {
    "colab": {
     "base_uri": "https://localhost:8080/"
    },
    "executionInfo": {
     "elapsed": 11,
     "status": "ok",
     "timestamp": 1675026707676,
     "user": {
      "displayName": "Anna Kougioumtzidou",
      "userId": "08894778027574418607"
     },
     "user_tz": -120
    },
    "id": "Ns4Cu30Kh7OA",
    "outputId": "4db3b070-87b7-402e-8738-99fb5c8372f7"
   },
   "outputs": [
    {
     "data": {
      "text/plain": [
       "89"
      ]
     },
     "execution_count": 35,
     "metadata": {},
     "output_type": "execute_result"
    }
   ],
   "source": [
    "len(reddit_tifu_duplicates_indices)"
   ]
  },
  {
   "cell_type": "markdown",
   "metadata": {
    "id": "7l76Pb_jhYvv"
   },
   "source": [
    "## **Reddit TIFU indices that will be removed from the dataset (duplicates + not useful)**"
   ]
  },
  {
   "cell_type": "code",
   "execution_count": 36,
   "metadata": {
    "executionInfo": {
     "elapsed": 9,
     "status": "ok",
     "timestamp": 1675026707676,
     "user": {
      "displayName": "Anna Kougioumtzidou",
      "userId": "08894778027574418607"
     },
     "user_tz": -120
    },
    "id": "-ZDQsDfewlat"
   },
   "outputs": [],
   "source": [
    "reddit_tifu_indices_to_remove = exact_duplicates_texts_indices \\\n",
    "                                + duplicates_tldrs_indices \\\n",
    "                                + not_useful_texts_indices \\\n",
    "                                + not_useful_tldrs_indices"
   ]
  },
  {
   "cell_type": "code",
   "execution_count": 37,
   "metadata": {
    "colab": {
     "base_uri": "https://localhost:8080/"
    },
    "executionInfo": {
     "elapsed": 9,
     "status": "ok",
     "timestamp": 1675026707676,
     "user": {
      "displayName": "Anna Kougioumtzidou",
      "userId": "08894778027574418607"
     },
     "user_tz": -120
    },
    "id": "QpO99i9Zwldb",
    "outputId": "2340b200-52c4-4c65-f32f-fc0dbc37a31b"
   },
   "outputs": [
    {
     "data": {
      "text/plain": [
       "216"
      ]
     },
     "execution_count": 37,
     "metadata": {},
     "output_type": "execute_result"
    }
   ],
   "source": [
    "len(reddit_tifu_indices_to_remove)"
   ]
  },
  {
   "cell_type": "code",
   "execution_count": 38,
   "metadata": {
    "executionInfo": {
     "elapsed": 433,
     "status": "ok",
     "timestamp": 1675026708101,
     "user": {
      "displayName": "Anna Kougioumtzidou",
      "userId": "08894778027574418607"
     },
     "user_tz": -120
    },
    "id": "ezquuBboPOcU"
   },
   "outputs": [],
   "source": [
    "# Select the reddit_tifu indices to keep by removing the indices to remove\n",
    "\n",
    "all_reddit_tifu_indices = []\n",
    "all_reddit_tifu_indices.extend(range(len(reddit_tifu_df)))\n",
    "\n",
    "reddit_tifu_indices_to_keep = [element for element in all_reddit_tifu_indices if element not in reddit_tifu_indices_to_remove]"
   ]
  },
  {
   "cell_type": "code",
   "execution_count": 39,
   "metadata": {
    "colab": {
     "base_uri": "https://localhost:8080/"
    },
    "executionInfo": {
     "elapsed": 10,
     "status": "ok",
     "timestamp": 1675026708102,
     "user": {
      "displayName": "Anna Kougioumtzidou",
      "userId": "08894778027574418607"
     },
     "user_tz": -120
    },
    "id": "9yDpCRCIPriA",
    "outputId": "d3969b26-5f67-4d12-f37a-2ad078df90ba"
   },
   "outputs": [
    {
     "data": {
      "text/plain": [
       "41923"
      ]
     },
     "execution_count": 39,
     "metadata": {},
     "output_type": "execute_result"
    }
   ],
   "source": [
    "len(reddit_tifu_indices_to_keep)"
   ]
  },
  {
   "cell_type": "code",
   "execution_count": 40,
   "metadata": {
    "id": "8MAJlTG-q6FI"
   },
   "outputs": [],
   "source": [
    "with open('reddit_tifu_indices_to_keep.txt', 'w') as f:\n",
    "    for item in reddit_tifu_indices_to_keep:\n",
    "        f.write(\"%s\\n\" % item)"
   ]
  }
 ],
 "metadata": {
  "colab": {
   "authorship_tag": "ABX9TyNvSsBC1GvJkQFgCG31e/GA",
   "mount_file_id": "1x956nLIqaZrqzqFLPEDE9D-Rs_bE3Cg-",
   "provenance": []
  },
  "gpuClass": "standard",
  "kernelspec": {
   "display_name": "Python 3 (ipykernel)",
   "language": "python",
   "name": "python3"
  },
  "language_info": {
   "codemirror_mode": {
    "name": "ipython",
    "version": 3
   },
   "file_extension": ".py",
   "mimetype": "text/x-python",
   "name": "python",
   "nbconvert_exporter": "python",
   "pygments_lexer": "ipython3",
   "version": "3.11.5"
  },
  "widgets": {
   "application/vnd.jupyter.widget-state+json": {
    "097a1f69ce9146eb8ce8902b000a5243": {
     "model_module": "@jupyter-widgets/base",
     "model_module_version": "1.2.0",
     "model_name": "LayoutModel",
     "state": {
      "_model_module": "@jupyter-widgets/base",
      "_model_module_version": "1.2.0",
      "_model_name": "LayoutModel",
      "_view_count": null,
      "_view_module": "@jupyter-widgets/base",
      "_view_module_version": "1.2.0",
      "_view_name": "LayoutView",
      "align_content": null,
      "align_items": null,
      "align_self": null,
      "border": null,
      "bottom": null,
      "display": null,
      "flex": null,
      "flex_flow": null,
      "grid_area": null,
      "grid_auto_columns": null,
      "grid_auto_flow": null,
      "grid_auto_rows": null,
      "grid_column": null,
      "grid_gap": null,
      "grid_row": null,
      "grid_template_areas": null,
      "grid_template_columns": null,
      "grid_template_rows": null,
      "height": null,
      "justify_content": null,
      "justify_items": null,
      "left": null,
      "margin": null,
      "max_height": null,
      "max_width": null,
      "min_height": null,
      "min_width": null,
      "object_fit": null,
      "object_position": null,
      "order": null,
      "overflow": null,
      "overflow_x": null,
      "overflow_y": null,
      "padding": null,
      "right": null,
      "top": null,
      "visibility": null,
      "width": null
     }
    },
    "0d71fbcfdd1f4b7ebe88c2b44430e773": {
     "model_module": "@jupyter-widgets/controls",
     "model_module_version": "1.5.0",
     "model_name": "ProgressStyleModel",
     "state": {
      "_model_module": "@jupyter-widgets/controls",
      "_model_module_version": "1.5.0",
      "_model_name": "ProgressStyleModel",
      "_view_count": null,
      "_view_module": "@jupyter-widgets/base",
      "_view_module_version": "1.2.0",
      "_view_name": "StyleView",
      "bar_color": null,
      "description_width": ""
     }
    },
    "0efd2d9db0594e69a2088129ee123a35": {
     "model_module": "@jupyter-widgets/base",
     "model_module_version": "1.2.0",
     "model_name": "LayoutModel",
     "state": {
      "_model_module": "@jupyter-widgets/base",
      "_model_module_version": "1.2.0",
      "_model_name": "LayoutModel",
      "_view_count": null,
      "_view_module": "@jupyter-widgets/base",
      "_view_module_version": "1.2.0",
      "_view_name": "LayoutView",
      "align_content": null,
      "align_items": null,
      "align_self": null,
      "border": null,
      "bottom": null,
      "display": null,
      "flex": null,
      "flex_flow": null,
      "grid_area": null,
      "grid_auto_columns": null,
      "grid_auto_flow": null,
      "grid_auto_rows": null,
      "grid_column": null,
      "grid_gap": null,
      "grid_row": null,
      "grid_template_areas": null,
      "grid_template_columns": null,
      "grid_template_rows": null,
      "height": null,
      "justify_content": null,
      "justify_items": null,
      "left": null,
      "margin": null,
      "max_height": null,
      "max_width": null,
      "min_height": null,
      "min_width": null,
      "object_fit": null,
      "object_position": null,
      "order": null,
      "overflow": null,
      "overflow_x": null,
      "overflow_y": null,
      "padding": null,
      "right": null,
      "top": null,
      "visibility": null,
      "width": null
     }
    },
    "1007680d8d0a4ef0823e58b5183473fd": {
     "model_module": "@jupyter-widgets/controls",
     "model_module_version": "1.5.0",
     "model_name": "DescriptionStyleModel",
     "state": {
      "_model_module": "@jupyter-widgets/controls",
      "_model_module_version": "1.5.0",
      "_model_name": "DescriptionStyleModel",
      "_view_count": null,
      "_view_module": "@jupyter-widgets/base",
      "_view_module_version": "1.2.0",
      "_view_name": "StyleView",
      "description_width": ""
     }
    },
    "11c8167906b94d768ecaf0da2b1f62ce": {
     "model_module": "@jupyter-widgets/base",
     "model_module_version": "1.2.0",
     "model_name": "LayoutModel",
     "state": {
      "_model_module": "@jupyter-widgets/base",
      "_model_module_version": "1.2.0",
      "_model_name": "LayoutModel",
      "_view_count": null,
      "_view_module": "@jupyter-widgets/base",
      "_view_module_version": "1.2.0",
      "_view_name": "LayoutView",
      "align_content": null,
      "align_items": null,
      "align_self": null,
      "border": null,
      "bottom": null,
      "display": null,
      "flex": null,
      "flex_flow": null,
      "grid_area": null,
      "grid_auto_columns": null,
      "grid_auto_flow": null,
      "grid_auto_rows": null,
      "grid_column": null,
      "grid_gap": null,
      "grid_row": null,
      "grid_template_areas": null,
      "grid_template_columns": null,
      "grid_template_rows": null,
      "height": null,
      "justify_content": null,
      "justify_items": null,
      "left": null,
      "margin": null,
      "max_height": null,
      "max_width": null,
      "min_height": null,
      "min_width": null,
      "object_fit": null,
      "object_position": null,
      "order": null,
      "overflow": null,
      "overflow_x": null,
      "overflow_y": null,
      "padding": null,
      "right": null,
      "top": null,
      "visibility": null,
      "width": null
     }
    },
    "12ff05e8777848049aebbbb706735299": {
     "model_module": "@jupyter-widgets/controls",
     "model_module_version": "1.5.0",
     "model_name": "HTMLModel",
     "state": {
      "_dom_classes": [],
      "_model_module": "@jupyter-widgets/controls",
      "_model_module_version": "1.5.0",
      "_model_name": "HTMLModel",
      "_view_count": null,
      "_view_module": "@jupyter-widgets/controls",
      "_view_module_version": "1.5.0",
      "_view_name": "HTMLView",
      "description": "",
      "description_tooltip": null,
      "layout": "IPY_MODEL_f29992b3ce304066bb0bdd010cd8daf5",
      "placeholder": "​",
      "style": "IPY_MODEL_c1d1c36645274bc699e24f755016274f",
      "value": " 42139/42139 [00:24&lt;00:00, 4579.97 examples/s]"
     }
    },
    "13a3f59c8a654c848741c7c042449aea": {
     "model_module": "@jupyter-widgets/controls",
     "model_module_version": "1.5.0",
     "model_name": "HTMLModel",
     "state": {
      "_dom_classes": [],
      "_model_module": "@jupyter-widgets/controls",
      "_model_module_version": "1.5.0",
      "_model_name": "HTMLModel",
      "_view_count": null,
      "_view_module": "@jupyter-widgets/controls",
      "_view_module_version": "1.5.0",
      "_view_name": "HTMLView",
      "description": "",
      "description_tooltip": null,
      "layout": "IPY_MODEL_87d6eae92f7346caa556e0731a3d6942",
      "placeholder": "​",
      "style": "IPY_MODEL_f954c297a51848e3a1508ab014345c45",
      "value": "Downloading builder script: "
     }
    },
    "176a445bfcdf4b05b2d726711956ef11": {
     "model_module": "@jupyter-widgets/base",
     "model_module_version": "1.2.0",
     "model_name": "LayoutModel",
     "state": {
      "_model_module": "@jupyter-widgets/base",
      "_model_module_version": "1.2.0",
      "_model_name": "LayoutModel",
      "_view_count": null,
      "_view_module": "@jupyter-widgets/base",
      "_view_module_version": "1.2.0",
      "_view_name": "LayoutView",
      "align_content": null,
      "align_items": null,
      "align_self": null,
      "border": null,
      "bottom": null,
      "display": null,
      "flex": null,
      "flex_flow": null,
      "grid_area": null,
      "grid_auto_columns": null,
      "grid_auto_flow": null,
      "grid_auto_rows": null,
      "grid_column": null,
      "grid_gap": null,
      "grid_row": null,
      "grid_template_areas": null,
      "grid_template_columns": null,
      "grid_template_rows": null,
      "height": null,
      "justify_content": null,
      "justify_items": null,
      "left": null,
      "margin": null,
      "max_height": null,
      "max_width": null,
      "min_height": null,
      "min_width": null,
      "object_fit": null,
      "object_position": null,
      "order": null,
      "overflow": null,
      "overflow_x": null,
      "overflow_y": null,
      "padding": null,
      "right": null,
      "top": null,
      "visibility": null,
      "width": null
     }
    },
    "1b5c6bf90c61403c84ba7e9493fa0fda": {
     "model_module": "@jupyter-widgets/controls",
     "model_module_version": "1.5.0",
     "model_name": "ProgressStyleModel",
     "state": {
      "_model_module": "@jupyter-widgets/controls",
      "_model_module_version": "1.5.0",
      "_model_name": "ProgressStyleModel",
      "_view_count": null,
      "_view_module": "@jupyter-widgets/base",
      "_view_module_version": "1.2.0",
      "_view_name": "StyleView",
      "bar_color": null,
      "description_width": ""
     }
    },
    "27aa0821c91d4dbeb92d2948c5b2db61": {
     "model_module": "@jupyter-widgets/base",
     "model_module_version": "1.2.0",
     "model_name": "LayoutModel",
     "state": {
      "_model_module": "@jupyter-widgets/base",
      "_model_module_version": "1.2.0",
      "_model_name": "LayoutModel",
      "_view_count": null,
      "_view_module": "@jupyter-widgets/base",
      "_view_module_version": "1.2.0",
      "_view_name": "LayoutView",
      "align_content": null,
      "align_items": null,
      "align_self": null,
      "border": null,
      "bottom": null,
      "display": null,
      "flex": null,
      "flex_flow": null,
      "grid_area": null,
      "grid_auto_columns": null,
      "grid_auto_flow": null,
      "grid_auto_rows": null,
      "grid_column": null,
      "grid_gap": null,
      "grid_row": null,
      "grid_template_areas": null,
      "grid_template_columns": null,
      "grid_template_rows": null,
      "height": null,
      "justify_content": null,
      "justify_items": null,
      "left": null,
      "margin": null,
      "max_height": null,
      "max_width": null,
      "min_height": null,
      "min_width": null,
      "object_fit": null,
      "object_position": null,
      "order": null,
      "overflow": null,
      "overflow_x": null,
      "overflow_y": null,
      "padding": null,
      "right": null,
      "top": null,
      "visibility": null,
      "width": null
     }
    },
    "2bc5016479f2431fb7e39b7f7d4a4421": {
     "model_module": "@jupyter-widgets/base",
     "model_module_version": "1.2.0",
     "model_name": "LayoutModel",
     "state": {
      "_model_module": "@jupyter-widgets/base",
      "_model_module_version": "1.2.0",
      "_model_name": "LayoutModel",
      "_view_count": null,
      "_view_module": "@jupyter-widgets/base",
      "_view_module_version": "1.2.0",
      "_view_name": "LayoutView",
      "align_content": null,
      "align_items": null,
      "align_self": null,
      "border": null,
      "bottom": null,
      "display": null,
      "flex": null,
      "flex_flow": null,
      "grid_area": null,
      "grid_auto_columns": null,
      "grid_auto_flow": null,
      "grid_auto_rows": null,
      "grid_column": null,
      "grid_gap": null,
      "grid_row": null,
      "grid_template_areas": null,
      "grid_template_columns": null,
      "grid_template_rows": null,
      "height": null,
      "justify_content": null,
      "justify_items": null,
      "left": null,
      "margin": null,
      "max_height": null,
      "max_width": null,
      "min_height": null,
      "min_width": null,
      "object_fit": null,
      "object_position": null,
      "order": null,
      "overflow": null,
      "overflow_x": null,
      "overflow_y": null,
      "padding": null,
      "right": null,
      "top": null,
      "visibility": null,
      "width": null
     }
    },
    "2f4b175d06b74baca253a5d52692d5ac": {
     "model_module": "@jupyter-widgets/base",
     "model_module_version": "1.2.0",
     "model_name": "LayoutModel",
     "state": {
      "_model_module": "@jupyter-widgets/base",
      "_model_module_version": "1.2.0",
      "_model_name": "LayoutModel",
      "_view_count": null,
      "_view_module": "@jupyter-widgets/base",
      "_view_module_version": "1.2.0",
      "_view_name": "LayoutView",
      "align_content": null,
      "align_items": null,
      "align_self": null,
      "border": null,
      "bottom": null,
      "display": null,
      "flex": null,
      "flex_flow": null,
      "grid_area": null,
      "grid_auto_columns": null,
      "grid_auto_flow": null,
      "grid_auto_rows": null,
      "grid_column": null,
      "grid_gap": null,
      "grid_row": null,
      "grid_template_areas": null,
      "grid_template_columns": null,
      "grid_template_rows": null,
      "height": null,
      "justify_content": null,
      "justify_items": null,
      "left": null,
      "margin": null,
      "max_height": null,
      "max_width": null,
      "min_height": null,
      "min_width": null,
      "object_fit": null,
      "object_position": null,
      "order": null,
      "overflow": null,
      "overflow_x": null,
      "overflow_y": null,
      "padding": null,
      "right": null,
      "top": null,
      "visibility": null,
      "width": null
     }
    },
    "344534adac4846d48c7c271723b358f7": {
     "model_module": "@jupyter-widgets/controls",
     "model_module_version": "1.5.0",
     "model_name": "DescriptionStyleModel",
     "state": {
      "_model_module": "@jupyter-widgets/controls",
      "_model_module_version": "1.5.0",
      "_model_name": "DescriptionStyleModel",
      "_view_count": null,
      "_view_module": "@jupyter-widgets/base",
      "_view_module_version": "1.2.0",
      "_view_name": "StyleView",
      "description_width": ""
     }
    },
    "349b71b540f343cd9969247c679d5219": {
     "model_module": "@jupyter-widgets/controls",
     "model_module_version": "1.5.0",
     "model_name": "ProgressStyleModel",
     "state": {
      "_model_module": "@jupyter-widgets/controls",
      "_model_module_version": "1.5.0",
      "_model_name": "ProgressStyleModel",
      "_view_count": null,
      "_view_module": "@jupyter-widgets/base",
      "_view_module_version": "1.2.0",
      "_view_name": "StyleView",
      "bar_color": null,
      "description_width": ""
     }
    },
    "38fcbb9b754b460392fe8af11ae69e67": {
     "model_module": "@jupyter-widgets/controls",
     "model_module_version": "1.5.0",
     "model_name": "HTMLModel",
     "state": {
      "_dom_classes": [],
      "_model_module": "@jupyter-widgets/controls",
      "_model_module_version": "1.5.0",
      "_model_name": "HTMLModel",
      "_view_count": null,
      "_view_module": "@jupyter-widgets/controls",
      "_view_module_version": "1.5.0",
      "_view_name": "HTMLView",
      "description": "",
      "description_tooltip": null,
      "layout": "IPY_MODEL_bc0a35b2059a4754ad4e51678c370519",
      "placeholder": "​",
      "style": "IPY_MODEL_6d655829d49843c1b41caef27242f580",
      "value": "Downloading metadata: 100%"
     }
    },
    "3982e69bf3954ae79ded4ae797740b7e": {
     "model_module": "@jupyter-widgets/controls",
     "model_module_version": "1.5.0",
     "model_name": "HTMLModel",
     "state": {
      "_dom_classes": [],
      "_model_module": "@jupyter-widgets/controls",
      "_model_module_version": "1.5.0",
      "_model_name": "HTMLModel",
      "_view_count": null,
      "_view_module": "@jupyter-widgets/controls",
      "_view_module_version": "1.5.0",
      "_view_name": "HTMLView",
      "description": "",
      "description_tooltip": null,
      "layout": "IPY_MODEL_5ef387330f0a45278fa9362175543eb0",
      "placeholder": "​",
      "style": "IPY_MODEL_344534adac4846d48c7c271723b358f7",
      "value": " 5.60k/? [00:00&lt;00:00, 214kB/s]"
     }
    },
    "3e00b6a5940f48e48073b08e19ec8665": {
     "model_module": "@jupyter-widgets/controls",
     "model_module_version": "1.5.0",
     "model_name": "FloatProgressModel",
     "state": {
      "_dom_classes": [],
      "_model_module": "@jupyter-widgets/controls",
      "_model_module_version": "1.5.0",
      "_model_name": "FloatProgressModel",
      "_view_count": null,
      "_view_module": "@jupyter-widgets/controls",
      "_view_module_version": "1.5.0",
      "_view_name": "ProgressView",
      "bar_style": "",
      "description": "",
      "description_tooltip": null,
      "layout": "IPY_MODEL_ff5e24f3e4f744be9fce82703695da2e",
      "max": 42139,
      "min": 0,
      "orientation": "horizontal",
      "style": "IPY_MODEL_0d71fbcfdd1f4b7ebe88c2b44430e773",
      "value": 42139
     }
    },
    "3e7e30a11daf4f5c891c498563635153": {
     "model_module": "@jupyter-widgets/controls",
     "model_module_version": "1.5.0",
     "model_name": "ProgressStyleModel",
     "state": {
      "_model_module": "@jupyter-widgets/controls",
      "_model_module_version": "1.5.0",
      "_model_name": "ProgressStyleModel",
      "_view_count": null,
      "_view_module": "@jupyter-widgets/base",
      "_view_module_version": "1.2.0",
      "_view_name": "StyleView",
      "bar_color": null,
      "description_width": ""
     }
    },
    "3fc29795dde24521a419d1af4d040f7c": {
     "model_module": "@jupyter-widgets/controls",
     "model_module_version": "1.5.0",
     "model_name": "HTMLModel",
     "state": {
      "_dom_classes": [],
      "_model_module": "@jupyter-widgets/controls",
      "_model_module_version": "1.5.0",
      "_model_name": "HTMLModel",
      "_view_count": null,
      "_view_module": "@jupyter-widgets/controls",
      "_view_module_version": "1.5.0",
      "_view_name": "HTMLView",
      "description": "",
      "description_tooltip": null,
      "layout": "IPY_MODEL_097a1f69ce9146eb8ce8902b000a5243",
      "placeholder": "​",
      "style": "IPY_MODEL_94c912ddad6b470d8dec6f67f554036d",
      "value": "Downloading data: 100%"
     }
    },
    "40b54d4fc235408abe11fdcfadccef2a": {
     "model_module": "@jupyter-widgets/base",
     "model_module_version": "1.2.0",
     "model_name": "LayoutModel",
     "state": {
      "_model_module": "@jupyter-widgets/base",
      "_model_module_version": "1.2.0",
      "_model_name": "LayoutModel",
      "_view_count": null,
      "_view_module": "@jupyter-widgets/base",
      "_view_module_version": "1.2.0",
      "_view_name": "LayoutView",
      "align_content": null,
      "align_items": null,
      "align_self": null,
      "border": null,
      "bottom": null,
      "display": null,
      "flex": null,
      "flex_flow": null,
      "grid_area": null,
      "grid_auto_columns": null,
      "grid_auto_flow": null,
      "grid_auto_rows": null,
      "grid_column": null,
      "grid_gap": null,
      "grid_row": null,
      "grid_template_areas": null,
      "grid_template_columns": null,
      "grid_template_rows": null,
      "height": null,
      "justify_content": null,
      "justify_items": null,
      "left": null,
      "margin": null,
      "max_height": null,
      "max_width": null,
      "min_height": null,
      "min_width": null,
      "object_fit": null,
      "object_position": null,
      "order": null,
      "overflow": null,
      "overflow_x": null,
      "overflow_y": null,
      "padding": null,
      "right": null,
      "top": null,
      "visibility": null,
      "width": null
     }
    },
    "479a886cca994132b83031562eb04456": {
     "model_module": "@jupyter-widgets/base",
     "model_module_version": "1.2.0",
     "model_name": "LayoutModel",
     "state": {
      "_model_module": "@jupyter-widgets/base",
      "_model_module_version": "1.2.0",
      "_model_name": "LayoutModel",
      "_view_count": null,
      "_view_module": "@jupyter-widgets/base",
      "_view_module_version": "1.2.0",
      "_view_name": "LayoutView",
      "align_content": null,
      "align_items": null,
      "align_self": null,
      "border": null,
      "bottom": null,
      "display": null,
      "flex": null,
      "flex_flow": null,
      "grid_area": null,
      "grid_auto_columns": null,
      "grid_auto_flow": null,
      "grid_auto_rows": null,
      "grid_column": null,
      "grid_gap": null,
      "grid_row": null,
      "grid_template_areas": null,
      "grid_template_columns": null,
      "grid_template_rows": null,
      "height": null,
      "justify_content": null,
      "justify_items": null,
      "left": null,
      "margin": null,
      "max_height": null,
      "max_width": null,
      "min_height": null,
      "min_width": null,
      "object_fit": null,
      "object_position": null,
      "order": null,
      "overflow": null,
      "overflow_x": null,
      "overflow_y": null,
      "padding": null,
      "right": null,
      "top": null,
      "visibility": null,
      "width": null
     }
    },
    "4988a4964bc44cc0be5469d548217ef5": {
     "model_module": "@jupyter-widgets/controls",
     "model_module_version": "1.5.0",
     "model_name": "FloatProgressModel",
     "state": {
      "_dom_classes": [],
      "_model_module": "@jupyter-widgets/controls",
      "_model_module_version": "1.5.0",
      "_model_name": "FloatProgressModel",
      "_view_count": null,
      "_view_module": "@jupyter-widgets/controls",
      "_view_module_version": "1.5.0",
      "_view_name": "ProgressView",
      "bar_style": "success",
      "description": "",
      "description_tooltip": null,
      "layout": "IPY_MODEL_ccc4d281b27f411db271145ea28800c9",
      "max": 670607856,
      "min": 0,
      "orientation": "horizontal",
      "style": "IPY_MODEL_a43f5f75d2a94740a0fc1af68d87b2f2",
      "value": 670607856
     }
    },
    "5160ff0c6a5044f9a95a2d3b69cbd1ec": {
     "model_module": "@jupyter-widgets/base",
     "model_module_version": "1.2.0",
     "model_name": "LayoutModel",
     "state": {
      "_model_module": "@jupyter-widgets/base",
      "_model_module_version": "1.2.0",
      "_model_name": "LayoutModel",
      "_view_count": null,
      "_view_module": "@jupyter-widgets/base",
      "_view_module_version": "1.2.0",
      "_view_name": "LayoutView",
      "align_content": null,
      "align_items": null,
      "align_self": null,
      "border": null,
      "bottom": null,
      "display": null,
      "flex": null,
      "flex_flow": null,
      "grid_area": null,
      "grid_auto_columns": null,
      "grid_auto_flow": null,
      "grid_auto_rows": null,
      "grid_column": null,
      "grid_gap": null,
      "grid_row": null,
      "grid_template_areas": null,
      "grid_template_columns": null,
      "grid_template_rows": null,
      "height": null,
      "justify_content": null,
      "justify_items": null,
      "left": null,
      "margin": null,
      "max_height": null,
      "max_width": null,
      "min_height": null,
      "min_width": null,
      "object_fit": null,
      "object_position": null,
      "order": null,
      "overflow": null,
      "overflow_x": null,
      "overflow_y": null,
      "padding": null,
      "right": null,
      "top": null,
      "visibility": null,
      "width": null
     }
    },
    "5240fb865aeb4149b5cb5dbe99362e96": {
     "model_module": "@jupyter-widgets/controls",
     "model_module_version": "1.5.0",
     "model_name": "HTMLModel",
     "state": {
      "_dom_classes": [],
      "_model_module": "@jupyter-widgets/controls",
      "_model_module_version": "1.5.0",
      "_model_name": "HTMLModel",
      "_view_count": null,
      "_view_module": "@jupyter-widgets/controls",
      "_view_module_version": "1.5.0",
      "_view_name": "HTMLView",
      "description": "",
      "description_tooltip": null,
      "layout": "IPY_MODEL_eae4bd1b92464291a2837f062a022539",
      "placeholder": "​",
      "style": "IPY_MODEL_c1856229a18b40599f823dfd78f410ca",
      "value": " 671M/671M [00:15&lt;00:00, 27.6MB/s]"
     }
    },
    "53cb9f7fdfbd4dffb4f89659c1d42d6e": {
     "model_module": "@jupyter-widgets/controls",
     "model_module_version": "1.5.0",
     "model_name": "HTMLModel",
     "state": {
      "_dom_classes": [],
      "_model_module": "@jupyter-widgets/controls",
      "_model_module_version": "1.5.0",
      "_model_name": "HTMLModel",
      "_view_count": null,
      "_view_module": "@jupyter-widgets/controls",
      "_view_module_version": "1.5.0",
      "_view_name": "HTMLView",
      "description": "",
      "description_tooltip": null,
      "layout": "IPY_MODEL_0efd2d9db0594e69a2088129ee123a35",
      "placeholder": "​",
      "style": "IPY_MODEL_b7fe0cbea8df4a71aa6cffb30fc00d6e",
      "value": " 11.2k/11.2k [00:00&lt;00:00, 364kB/s]"
     }
    },
    "5542d6b17f4644b7948f011a4256be84": {
     "model_module": "@jupyter-widgets/base",
     "model_module_version": "1.2.0",
     "model_name": "LayoutModel",
     "state": {
      "_model_module": "@jupyter-widgets/base",
      "_model_module_version": "1.2.0",
      "_model_name": "LayoutModel",
      "_view_count": null,
      "_view_module": "@jupyter-widgets/base",
      "_view_module_version": "1.2.0",
      "_view_name": "LayoutView",
      "align_content": null,
      "align_items": null,
      "align_self": null,
      "border": null,
      "bottom": null,
      "display": null,
      "flex": null,
      "flex_flow": null,
      "grid_area": null,
      "grid_auto_columns": null,
      "grid_auto_flow": null,
      "grid_auto_rows": null,
      "grid_column": null,
      "grid_gap": null,
      "grid_row": null,
      "grid_template_areas": null,
      "grid_template_columns": null,
      "grid_template_rows": null,
      "height": null,
      "justify_content": null,
      "justify_items": null,
      "left": null,
      "margin": null,
      "max_height": null,
      "max_width": null,
      "min_height": null,
      "min_width": null,
      "object_fit": null,
      "object_position": null,
      "order": null,
      "overflow": null,
      "overflow_x": null,
      "overflow_y": null,
      "padding": null,
      "right": null,
      "top": null,
      "visibility": null,
      "width": null
     }
    },
    "5b92e5afe7554a8dbcdf5bf820f1cb7c": {
     "model_module": "@jupyter-widgets/controls",
     "model_module_version": "1.5.0",
     "model_name": "HBoxModel",
     "state": {
      "_dom_classes": [],
      "_model_module": "@jupyter-widgets/controls",
      "_model_module_version": "1.5.0",
      "_model_name": "HBoxModel",
      "_view_count": null,
      "_view_module": "@jupyter-widgets/controls",
      "_view_module_version": "1.5.0",
      "_view_name": "HBoxView",
      "box_style": "",
      "children": [
       "IPY_MODEL_13a3f59c8a654c848741c7c042449aea",
       "IPY_MODEL_e9d0d97fbed04e5c9ac07821f044c220",
       "IPY_MODEL_3982e69bf3954ae79ded4ae797740b7e"
      ],
      "layout": "IPY_MODEL_ec30108e82e94751a4583bb1bc5cee69"
     }
    },
    "5ef387330f0a45278fa9362175543eb0": {
     "model_module": "@jupyter-widgets/base",
     "model_module_version": "1.2.0",
     "model_name": "LayoutModel",
     "state": {
      "_model_module": "@jupyter-widgets/base",
      "_model_module_version": "1.2.0",
      "_model_name": "LayoutModel",
      "_view_count": null,
      "_view_module": "@jupyter-widgets/base",
      "_view_module_version": "1.2.0",
      "_view_name": "LayoutView",
      "align_content": null,
      "align_items": null,
      "align_self": null,
      "border": null,
      "bottom": null,
      "display": null,
      "flex": null,
      "flex_flow": null,
      "grid_area": null,
      "grid_auto_columns": null,
      "grid_auto_flow": null,
      "grid_auto_rows": null,
      "grid_column": null,
      "grid_gap": null,
      "grid_row": null,
      "grid_template_areas": null,
      "grid_template_columns": null,
      "grid_template_rows": null,
      "height": null,
      "justify_content": null,
      "justify_items": null,
      "left": null,
      "margin": null,
      "max_height": null,
      "max_width": null,
      "min_height": null,
      "min_width": null,
      "object_fit": null,
      "object_position": null,
      "order": null,
      "overflow": null,
      "overflow_x": null,
      "overflow_y": null,
      "padding": null,
      "right": null,
      "top": null,
      "visibility": null,
      "width": null
     }
    },
    "6d655829d49843c1b41caef27242f580": {
     "model_module": "@jupyter-widgets/controls",
     "model_module_version": "1.5.0",
     "model_name": "DescriptionStyleModel",
     "state": {
      "_model_module": "@jupyter-widgets/controls",
      "_model_module_version": "1.5.0",
      "_model_name": "DescriptionStyleModel",
      "_view_count": null,
      "_view_module": "@jupyter-widgets/base",
      "_view_module_version": "1.2.0",
      "_view_name": "StyleView",
      "description_width": ""
     }
    },
    "6f82c8b95db0409381dba1fb52638378": {
     "model_module": "@jupyter-widgets/controls",
     "model_module_version": "1.5.0",
     "model_name": "HBoxModel",
     "state": {
      "_dom_classes": [],
      "_model_module": "@jupyter-widgets/controls",
      "_model_module_version": "1.5.0",
      "_model_name": "HBoxModel",
      "_view_count": null,
      "_view_module": "@jupyter-widgets/controls",
      "_view_module_version": "1.5.0",
      "_view_name": "HBoxView",
      "box_style": "",
      "children": [
       "IPY_MODEL_3fc29795dde24521a419d1af4d040f7c",
       "IPY_MODEL_4988a4964bc44cc0be5469d548217ef5",
       "IPY_MODEL_5240fb865aeb4149b5cb5dbe99362e96"
      ],
      "layout": "IPY_MODEL_99ce93275dfc4ee782d0c94ac8649c54"
     }
    },
    "6fd003406549490eb0bed5b49c81a7ef": {
     "model_module": "@jupyter-widgets/controls",
     "model_module_version": "1.5.0",
     "model_name": "HBoxModel",
     "state": {
      "_dom_classes": [],
      "_model_module": "@jupyter-widgets/controls",
      "_model_module_version": "1.5.0",
      "_model_name": "HBoxModel",
      "_view_count": null,
      "_view_module": "@jupyter-widgets/controls",
      "_view_module_version": "1.5.0",
      "_view_name": "HBoxView",
      "box_style": "",
      "children": [
       "IPY_MODEL_849ae1288596425fa153bcb765c828f9",
       "IPY_MODEL_c967e4284c344558866bc272c950d24d",
       "IPY_MODEL_b4ecc0ce35764fef88d32dca8dd53f30"
      ],
      "layout": "IPY_MODEL_9d93f3a441cd47728040aeaef1bf7333"
     }
    },
    "73e12b310497480cb1207a9723721017": {
     "model_module": "@jupyter-widgets/controls",
     "model_module_version": "1.5.0",
     "model_name": "HBoxModel",
     "state": {
      "_dom_classes": [],
      "_model_module": "@jupyter-widgets/controls",
      "_model_module_version": "1.5.0",
      "_model_name": "HBoxModel",
      "_view_count": null,
      "_view_module": "@jupyter-widgets/controls",
      "_view_module_version": "1.5.0",
      "_view_name": "HBoxView",
      "box_style": "",
      "children": [
       "IPY_MODEL_cee8cc71f29149fe848644906d7ac071",
       "IPY_MODEL_9d7492056a7c447fb58674659d250bf3",
       "IPY_MODEL_53cb9f7fdfbd4dffb4f89659c1d42d6e"
      ],
      "layout": "IPY_MODEL_479a886cca994132b83031562eb04456"
     }
    },
    "74de7b171a5247dcaff9c7cd28ec85b2": {
     "model_module": "@jupyter-widgets/controls",
     "model_module_version": "1.5.0",
     "model_name": "HBoxModel",
     "state": {
      "_dom_classes": [],
      "_model_module": "@jupyter-widgets/controls",
      "_model_module_version": "1.5.0",
      "_model_name": "HBoxModel",
      "_view_count": null,
      "_view_module": "@jupyter-widgets/controls",
      "_view_module_version": "1.5.0",
      "_view_name": "HBoxView",
      "box_style": "",
      "children": [
       "IPY_MODEL_38fcbb9b754b460392fe8af11ae69e67",
       "IPY_MODEL_a5480a9c44784261a6fa03ad7dba5c8b",
       "IPY_MODEL_7a527f89c1b44699a72cc69b3fbbcc3b"
      ],
      "layout": "IPY_MODEL_27aa0821c91d4dbeb92d2948c5b2db61"
     }
    },
    "7903d930f086491ba465bacbaf50f8da": {
     "model_module": "@jupyter-widgets/controls",
     "model_module_version": "1.5.0",
     "model_name": "ProgressStyleModel",
     "state": {
      "_model_module": "@jupyter-widgets/controls",
      "_model_module_version": "1.5.0",
      "_model_name": "ProgressStyleModel",
      "_view_count": null,
      "_view_module": "@jupyter-widgets/base",
      "_view_module_version": "1.2.0",
      "_view_name": "StyleView",
      "bar_color": null,
      "description_width": ""
     }
    },
    "7a527f89c1b44699a72cc69b3fbbcc3b": {
     "model_module": "@jupyter-widgets/controls",
     "model_module_version": "1.5.0",
     "model_name": "HTMLModel",
     "state": {
      "_dom_classes": [],
      "_model_module": "@jupyter-widgets/controls",
      "_model_module_version": "1.5.0",
      "_model_name": "HTMLModel",
      "_view_count": null,
      "_view_module": "@jupyter-widgets/controls",
      "_view_module_version": "1.5.0",
      "_view_name": "HTMLView",
      "description": "",
      "description_tooltip": null,
      "layout": "IPY_MODEL_176a445bfcdf4b05b2d726711956ef11",
      "placeholder": "​",
      "style": "IPY_MODEL_e26d4bfab5be4a6881193657692e2b34",
      "value": " 3.92k/3.92k [00:00&lt;00:00, 169kB/s]"
     }
    },
    "849ae1288596425fa153bcb765c828f9": {
     "model_module": "@jupyter-widgets/controls",
     "model_module_version": "1.5.0",
     "model_name": "HTMLModel",
     "state": {
      "_dom_classes": [],
      "_model_module": "@jupyter-widgets/controls",
      "_model_module_version": "1.5.0",
      "_model_name": "HTMLModel",
      "_view_count": null,
      "_view_module": "@jupyter-widgets/controls",
      "_view_module_version": "1.5.0",
      "_view_name": "HTMLView",
      "description": "",
      "description_tooltip": null,
      "layout": "IPY_MODEL_c01b4f75ff5144a8a1ac55398c4f6c71",
      "placeholder": "​",
      "style": "IPY_MODEL_1007680d8d0a4ef0823e58b5183473fd",
      "value": "Downloading builder script: 100%"
     }
    },
    "87d6eae92f7346caa556e0731a3d6942": {
     "model_module": "@jupyter-widgets/base",
     "model_module_version": "1.2.0",
     "model_name": "LayoutModel",
     "state": {
      "_model_module": "@jupyter-widgets/base",
      "_model_module_version": "1.2.0",
      "_model_name": "LayoutModel",
      "_view_count": null,
      "_view_module": "@jupyter-widgets/base",
      "_view_module_version": "1.2.0",
      "_view_name": "LayoutView",
      "align_content": null,
      "align_items": null,
      "align_self": null,
      "border": null,
      "bottom": null,
      "display": null,
      "flex": null,
      "flex_flow": null,
      "grid_area": null,
      "grid_auto_columns": null,
      "grid_auto_flow": null,
      "grid_auto_rows": null,
      "grid_column": null,
      "grid_gap": null,
      "grid_row": null,
      "grid_template_areas": null,
      "grid_template_columns": null,
      "grid_template_rows": null,
      "height": null,
      "justify_content": null,
      "justify_items": null,
      "left": null,
      "margin": null,
      "max_height": null,
      "max_width": null,
      "min_height": null,
      "min_width": null,
      "object_fit": null,
      "object_position": null,
      "order": null,
      "overflow": null,
      "overflow_x": null,
      "overflow_y": null,
      "padding": null,
      "right": null,
      "top": null,
      "visibility": null,
      "width": null
     }
    },
    "94c912ddad6b470d8dec6f67f554036d": {
     "model_module": "@jupyter-widgets/controls",
     "model_module_version": "1.5.0",
     "model_name": "DescriptionStyleModel",
     "state": {
      "_model_module": "@jupyter-widgets/controls",
      "_model_module_version": "1.5.0",
      "_model_name": "DescriptionStyleModel",
      "_view_count": null,
      "_view_module": "@jupyter-widgets/base",
      "_view_module_version": "1.2.0",
      "_view_name": "StyleView",
      "description_width": ""
     }
    },
    "99ce93275dfc4ee782d0c94ac8649c54": {
     "model_module": "@jupyter-widgets/base",
     "model_module_version": "1.2.0",
     "model_name": "LayoutModel",
     "state": {
      "_model_module": "@jupyter-widgets/base",
      "_model_module_version": "1.2.0",
      "_model_name": "LayoutModel",
      "_view_count": null,
      "_view_module": "@jupyter-widgets/base",
      "_view_module_version": "1.2.0",
      "_view_name": "LayoutView",
      "align_content": null,
      "align_items": null,
      "align_self": null,
      "border": null,
      "bottom": null,
      "display": null,
      "flex": null,
      "flex_flow": null,
      "grid_area": null,
      "grid_auto_columns": null,
      "grid_auto_flow": null,
      "grid_auto_rows": null,
      "grid_column": null,
      "grid_gap": null,
      "grid_row": null,
      "grid_template_areas": null,
      "grid_template_columns": null,
      "grid_template_rows": null,
      "height": null,
      "justify_content": null,
      "justify_items": null,
      "left": null,
      "margin": null,
      "max_height": null,
      "max_width": null,
      "min_height": null,
      "min_width": null,
      "object_fit": null,
      "object_position": null,
      "order": null,
      "overflow": null,
      "overflow_x": null,
      "overflow_y": null,
      "padding": null,
      "right": null,
      "top": null,
      "visibility": null,
      "width": null
     }
    },
    "9d7492056a7c447fb58674659d250bf3": {
     "model_module": "@jupyter-widgets/controls",
     "model_module_version": "1.5.0",
     "model_name": "FloatProgressModel",
     "state": {
      "_dom_classes": [],
      "_model_module": "@jupyter-widgets/controls",
      "_model_module_version": "1.5.0",
      "_model_name": "FloatProgressModel",
      "_view_count": null,
      "_view_module": "@jupyter-widgets/controls",
      "_view_module_version": "1.5.0",
      "_view_name": "ProgressView",
      "bar_style": "success",
      "description": "",
      "description_tooltip": null,
      "layout": "IPY_MODEL_b912b81cb5474849a2fd316a002ac16a",
      "max": 11209,
      "min": 0,
      "orientation": "horizontal",
      "style": "IPY_MODEL_349b71b540f343cd9969247c679d5219",
      "value": 11209
     }
    },
    "9d93f3a441cd47728040aeaef1bf7333": {
     "model_module": "@jupyter-widgets/base",
     "model_module_version": "1.2.0",
     "model_name": "LayoutModel",
     "state": {
      "_model_module": "@jupyter-widgets/base",
      "_model_module_version": "1.2.0",
      "_model_name": "LayoutModel",
      "_view_count": null,
      "_view_module": "@jupyter-widgets/base",
      "_view_module_version": "1.2.0",
      "_view_name": "LayoutView",
      "align_content": null,
      "align_items": null,
      "align_self": null,
      "border": null,
      "bottom": null,
      "display": null,
      "flex": null,
      "flex_flow": null,
      "grid_area": null,
      "grid_auto_columns": null,
      "grid_auto_flow": null,
      "grid_auto_rows": null,
      "grid_column": null,
      "grid_gap": null,
      "grid_row": null,
      "grid_template_areas": null,
      "grid_template_columns": null,
      "grid_template_rows": null,
      "height": null,
      "justify_content": null,
      "justify_items": null,
      "left": null,
      "margin": null,
      "max_height": null,
      "max_width": null,
      "min_height": null,
      "min_width": null,
      "object_fit": null,
      "object_position": null,
      "order": null,
      "overflow": null,
      "overflow_x": null,
      "overflow_y": null,
      "padding": null,
      "right": null,
      "top": null,
      "visibility": null,
      "width": null
     }
    },
    "a43f5f75d2a94740a0fc1af68d87b2f2": {
     "model_module": "@jupyter-widgets/controls",
     "model_module_version": "1.5.0",
     "model_name": "ProgressStyleModel",
     "state": {
      "_model_module": "@jupyter-widgets/controls",
      "_model_module_version": "1.5.0",
      "_model_name": "ProgressStyleModel",
      "_view_count": null,
      "_view_module": "@jupyter-widgets/base",
      "_view_module_version": "1.2.0",
      "_view_name": "StyleView",
      "bar_color": null,
      "description_width": ""
     }
    },
    "a5480a9c44784261a6fa03ad7dba5c8b": {
     "model_module": "@jupyter-widgets/controls",
     "model_module_version": "1.5.0",
     "model_name": "FloatProgressModel",
     "state": {
      "_dom_classes": [],
      "_model_module": "@jupyter-widgets/controls",
      "_model_module_version": "1.5.0",
      "_model_name": "FloatProgressModel",
      "_view_count": null,
      "_view_module": "@jupyter-widgets/controls",
      "_view_module_version": "1.5.0",
      "_view_name": "ProgressView",
      "bar_style": "success",
      "description": "",
      "description_tooltip": null,
      "layout": "IPY_MODEL_5542d6b17f4644b7948f011a4256be84",
      "max": 3921,
      "min": 0,
      "orientation": "horizontal",
      "style": "IPY_MODEL_7903d930f086491ba465bacbaf50f8da",
      "value": 3921
     }
    },
    "ae61db2626ef40198bfd23d8178f666e": {
     "model_module": "@jupyter-widgets/controls",
     "model_module_version": "1.5.0",
     "model_name": "DescriptionStyleModel",
     "state": {
      "_model_module": "@jupyter-widgets/controls",
      "_model_module_version": "1.5.0",
      "_model_name": "DescriptionStyleModel",
      "_view_count": null,
      "_view_module": "@jupyter-widgets/base",
      "_view_module_version": "1.2.0",
      "_view_name": "StyleView",
      "description_width": ""
     }
    },
    "b43455a1bfa84bf2ac9ed51072bd4ee5": {
     "model_module": "@jupyter-widgets/controls",
     "model_module_version": "1.5.0",
     "model_name": "DescriptionStyleModel",
     "state": {
      "_model_module": "@jupyter-widgets/controls",
      "_model_module_version": "1.5.0",
      "_model_name": "DescriptionStyleModel",
      "_view_count": null,
      "_view_module": "@jupyter-widgets/base",
      "_view_module_version": "1.2.0",
      "_view_name": "StyleView",
      "description_width": ""
     }
    },
    "b4ecc0ce35764fef88d32dca8dd53f30": {
     "model_module": "@jupyter-widgets/controls",
     "model_module_version": "1.5.0",
     "model_name": "HTMLModel",
     "state": {
      "_dom_classes": [],
      "_model_module": "@jupyter-widgets/controls",
      "_model_module_version": "1.5.0",
      "_model_name": "HTMLModel",
      "_view_count": null,
      "_view_module": "@jupyter-widgets/controls",
      "_view_module_version": "1.5.0",
      "_view_name": "HTMLView",
      "description": "",
      "description_tooltip": null,
      "layout": "IPY_MODEL_2f4b175d06b74baca253a5d52692d5ac",
      "placeholder": "​",
      "style": "IPY_MODEL_f66b1822a94b41d9beed7dfe56d7b94d",
      "value": " 4.60k/4.60k [00:00&lt;00:00, 127kB/s]"
     }
    },
    "b7fe0cbea8df4a71aa6cffb30fc00d6e": {
     "model_module": "@jupyter-widgets/controls",
     "model_module_version": "1.5.0",
     "model_name": "DescriptionStyleModel",
     "state": {
      "_model_module": "@jupyter-widgets/controls",
      "_model_module_version": "1.5.0",
      "_model_name": "DescriptionStyleModel",
      "_view_count": null,
      "_view_module": "@jupyter-widgets/base",
      "_view_module_version": "1.2.0",
      "_view_name": "StyleView",
      "description_width": ""
     }
    },
    "b912b81cb5474849a2fd316a002ac16a": {
     "model_module": "@jupyter-widgets/base",
     "model_module_version": "1.2.0",
     "model_name": "LayoutModel",
     "state": {
      "_model_module": "@jupyter-widgets/base",
      "_model_module_version": "1.2.0",
      "_model_name": "LayoutModel",
      "_view_count": null,
      "_view_module": "@jupyter-widgets/base",
      "_view_module_version": "1.2.0",
      "_view_name": "LayoutView",
      "align_content": null,
      "align_items": null,
      "align_self": null,
      "border": null,
      "bottom": null,
      "display": null,
      "flex": null,
      "flex_flow": null,
      "grid_area": null,
      "grid_auto_columns": null,
      "grid_auto_flow": null,
      "grid_auto_rows": null,
      "grid_column": null,
      "grid_gap": null,
      "grid_row": null,
      "grid_template_areas": null,
      "grid_template_columns": null,
      "grid_template_rows": null,
      "height": null,
      "justify_content": null,
      "justify_items": null,
      "left": null,
      "margin": null,
      "max_height": null,
      "max_width": null,
      "min_height": null,
      "min_width": null,
      "object_fit": null,
      "object_position": null,
      "order": null,
      "overflow": null,
      "overflow_x": null,
      "overflow_y": null,
      "padding": null,
      "right": null,
      "top": null,
      "visibility": null,
      "width": null
     }
    },
    "bc0a35b2059a4754ad4e51678c370519": {
     "model_module": "@jupyter-widgets/base",
     "model_module_version": "1.2.0",
     "model_name": "LayoutModel",
     "state": {
      "_model_module": "@jupyter-widgets/base",
      "_model_module_version": "1.2.0",
      "_model_name": "LayoutModel",
      "_view_count": null,
      "_view_module": "@jupyter-widgets/base",
      "_view_module_version": "1.2.0",
      "_view_name": "LayoutView",
      "align_content": null,
      "align_items": null,
      "align_self": null,
      "border": null,
      "bottom": null,
      "display": null,
      "flex": null,
      "flex_flow": null,
      "grid_area": null,
      "grid_auto_columns": null,
      "grid_auto_flow": null,
      "grid_auto_rows": null,
      "grid_column": null,
      "grid_gap": null,
      "grid_row": null,
      "grid_template_areas": null,
      "grid_template_columns": null,
      "grid_template_rows": null,
      "height": null,
      "justify_content": null,
      "justify_items": null,
      "left": null,
      "margin": null,
      "max_height": null,
      "max_width": null,
      "min_height": null,
      "min_width": null,
      "object_fit": null,
      "object_position": null,
      "order": null,
      "overflow": null,
      "overflow_x": null,
      "overflow_y": null,
      "padding": null,
      "right": null,
      "top": null,
      "visibility": null,
      "width": null
     }
    },
    "c01b4f75ff5144a8a1ac55398c4f6c71": {
     "model_module": "@jupyter-widgets/base",
     "model_module_version": "1.2.0",
     "model_name": "LayoutModel",
     "state": {
      "_model_module": "@jupyter-widgets/base",
      "_model_module_version": "1.2.0",
      "_model_name": "LayoutModel",
      "_view_count": null,
      "_view_module": "@jupyter-widgets/base",
      "_view_module_version": "1.2.0",
      "_view_name": "LayoutView",
      "align_content": null,
      "align_items": null,
      "align_self": null,
      "border": null,
      "bottom": null,
      "display": null,
      "flex": null,
      "flex_flow": null,
      "grid_area": null,
      "grid_auto_columns": null,
      "grid_auto_flow": null,
      "grid_auto_rows": null,
      "grid_column": null,
      "grid_gap": null,
      "grid_row": null,
      "grid_template_areas": null,
      "grid_template_columns": null,
      "grid_template_rows": null,
      "height": null,
      "justify_content": null,
      "justify_items": null,
      "left": null,
      "margin": null,
      "max_height": null,
      "max_width": null,
      "min_height": null,
      "min_width": null,
      "object_fit": null,
      "object_position": null,
      "order": null,
      "overflow": null,
      "overflow_x": null,
      "overflow_y": null,
      "padding": null,
      "right": null,
      "top": null,
      "visibility": null,
      "width": null
     }
    },
    "c1856229a18b40599f823dfd78f410ca": {
     "model_module": "@jupyter-widgets/controls",
     "model_module_version": "1.5.0",
     "model_name": "DescriptionStyleModel",
     "state": {
      "_model_module": "@jupyter-widgets/controls",
      "_model_module_version": "1.5.0",
      "_model_name": "DescriptionStyleModel",
      "_view_count": null,
      "_view_module": "@jupyter-widgets/base",
      "_view_module_version": "1.2.0",
      "_view_name": "StyleView",
      "description_width": ""
     }
    },
    "c1d1c36645274bc699e24f755016274f": {
     "model_module": "@jupyter-widgets/controls",
     "model_module_version": "1.5.0",
     "model_name": "DescriptionStyleModel",
     "state": {
      "_model_module": "@jupyter-widgets/controls",
      "_model_module_version": "1.5.0",
      "_model_name": "DescriptionStyleModel",
      "_view_count": null,
      "_view_module": "@jupyter-widgets/base",
      "_view_module_version": "1.2.0",
      "_view_name": "StyleView",
      "description_width": ""
     }
    },
    "c7d3740516064f94ba78b3028ecd4e0e": {
     "model_module": "@jupyter-widgets/controls",
     "model_module_version": "1.5.0",
     "model_name": "HTMLModel",
     "state": {
      "_dom_classes": [],
      "_model_module": "@jupyter-widgets/controls",
      "_model_module_version": "1.5.0",
      "_model_name": "HTMLModel",
      "_view_count": null,
      "_view_module": "@jupyter-widgets/controls",
      "_view_module_version": "1.5.0",
      "_view_name": "HTMLView",
      "description": "",
      "description_tooltip": null,
      "layout": "IPY_MODEL_2bc5016479f2431fb7e39b7f7d4a4421",
      "placeholder": "​",
      "style": "IPY_MODEL_b43455a1bfa84bf2ac9ed51072bd4ee5",
      "value": "Generating train split: 100%"
     }
    },
    "c967e4284c344558866bc272c950d24d": {
     "model_module": "@jupyter-widgets/controls",
     "model_module_version": "1.5.0",
     "model_name": "FloatProgressModel",
     "state": {
      "_dom_classes": [],
      "_model_module": "@jupyter-widgets/controls",
      "_model_module_version": "1.5.0",
      "_model_name": "FloatProgressModel",
      "_view_count": null,
      "_view_module": "@jupyter-widgets/controls",
      "_view_module_version": "1.5.0",
      "_view_name": "ProgressView",
      "bar_style": "success",
      "description": "",
      "description_tooltip": null,
      "layout": "IPY_MODEL_11c8167906b94d768ecaf0da2b1f62ce",
      "max": 4599,
      "min": 0,
      "orientation": "horizontal",
      "style": "IPY_MODEL_3e7e30a11daf4f5c891c498563635153",
      "value": 4599
     }
    },
    "ca28a83e966d42ce8890a444c8f81467": {
     "model_module": "@jupyter-widgets/base",
     "model_module_version": "1.2.0",
     "model_name": "LayoutModel",
     "state": {
      "_model_module": "@jupyter-widgets/base",
      "_model_module_version": "1.2.0",
      "_model_name": "LayoutModel",
      "_view_count": null,
      "_view_module": "@jupyter-widgets/base",
      "_view_module_version": "1.2.0",
      "_view_name": "LayoutView",
      "align_content": null,
      "align_items": null,
      "align_self": null,
      "border": null,
      "bottom": null,
      "display": null,
      "flex": null,
      "flex_flow": null,
      "grid_area": null,
      "grid_auto_columns": null,
      "grid_auto_flow": null,
      "grid_auto_rows": null,
      "grid_column": null,
      "grid_gap": null,
      "grid_row": null,
      "grid_template_areas": null,
      "grid_template_columns": null,
      "grid_template_rows": null,
      "height": null,
      "justify_content": null,
      "justify_items": null,
      "left": null,
      "margin": null,
      "max_height": null,
      "max_width": null,
      "min_height": null,
      "min_width": null,
      "object_fit": null,
      "object_position": null,
      "order": null,
      "overflow": null,
      "overflow_x": null,
      "overflow_y": null,
      "padding": null,
      "right": null,
      "top": null,
      "visibility": null,
      "width": null
     }
    },
    "ccc4d281b27f411db271145ea28800c9": {
     "model_module": "@jupyter-widgets/base",
     "model_module_version": "1.2.0",
     "model_name": "LayoutModel",
     "state": {
      "_model_module": "@jupyter-widgets/base",
      "_model_module_version": "1.2.0",
      "_model_name": "LayoutModel",
      "_view_count": null,
      "_view_module": "@jupyter-widgets/base",
      "_view_module_version": "1.2.0",
      "_view_name": "LayoutView",
      "align_content": null,
      "align_items": null,
      "align_self": null,
      "border": null,
      "bottom": null,
      "display": null,
      "flex": null,
      "flex_flow": null,
      "grid_area": null,
      "grid_auto_columns": null,
      "grid_auto_flow": null,
      "grid_auto_rows": null,
      "grid_column": null,
      "grid_gap": null,
      "grid_row": null,
      "grid_template_areas": null,
      "grid_template_columns": null,
      "grid_template_rows": null,
      "height": null,
      "justify_content": null,
      "justify_items": null,
      "left": null,
      "margin": null,
      "max_height": null,
      "max_width": null,
      "min_height": null,
      "min_width": null,
      "object_fit": null,
      "object_position": null,
      "order": null,
      "overflow": null,
      "overflow_x": null,
      "overflow_y": null,
      "padding": null,
      "right": null,
      "top": null,
      "visibility": null,
      "width": null
     }
    },
    "cee8cc71f29149fe848644906d7ac071": {
     "model_module": "@jupyter-widgets/controls",
     "model_module_version": "1.5.0",
     "model_name": "HTMLModel",
     "state": {
      "_dom_classes": [],
      "_model_module": "@jupyter-widgets/controls",
      "_model_module_version": "1.5.0",
      "_model_name": "HTMLModel",
      "_view_count": null,
      "_view_module": "@jupyter-widgets/controls",
      "_view_module_version": "1.5.0",
      "_view_name": "HTMLView",
      "description": "",
      "description_tooltip": null,
      "layout": "IPY_MODEL_5160ff0c6a5044f9a95a2d3b69cbd1ec",
      "placeholder": "​",
      "style": "IPY_MODEL_ae61db2626ef40198bfd23d8178f666e",
      "value": "Downloading readme: 100%"
     }
    },
    "d2fa3fd1d9e04559913a79c42d249b14": {
     "model_module": "@jupyter-widgets/controls",
     "model_module_version": "1.5.0",
     "model_name": "HBoxModel",
     "state": {
      "_dom_classes": [],
      "_model_module": "@jupyter-widgets/controls",
      "_model_module_version": "1.5.0",
      "_model_name": "HBoxModel",
      "_view_count": null,
      "_view_module": "@jupyter-widgets/controls",
      "_view_module_version": "1.5.0",
      "_view_name": "HBoxView",
      "box_style": "",
      "children": [
       "IPY_MODEL_c7d3740516064f94ba78b3028ecd4e0e",
       "IPY_MODEL_3e00b6a5940f48e48073b08e19ec8665",
       "IPY_MODEL_12ff05e8777848049aebbbb706735299"
      ],
      "layout": "IPY_MODEL_ca28a83e966d42ce8890a444c8f81467"
     }
    },
    "e26d4bfab5be4a6881193657692e2b34": {
     "model_module": "@jupyter-widgets/controls",
     "model_module_version": "1.5.0",
     "model_name": "DescriptionStyleModel",
     "state": {
      "_model_module": "@jupyter-widgets/controls",
      "_model_module_version": "1.5.0",
      "_model_name": "DescriptionStyleModel",
      "_view_count": null,
      "_view_module": "@jupyter-widgets/base",
      "_view_module_version": "1.2.0",
      "_view_name": "StyleView",
      "description_width": ""
     }
    },
    "e9d0d97fbed04e5c9ac07821f044c220": {
     "model_module": "@jupyter-widgets/controls",
     "model_module_version": "1.5.0",
     "model_name": "FloatProgressModel",
     "state": {
      "_dom_classes": [],
      "_model_module": "@jupyter-widgets/controls",
      "_model_module_version": "1.5.0",
      "_model_name": "FloatProgressModel",
      "_view_count": null,
      "_view_module": "@jupyter-widgets/controls",
      "_view_module_version": "1.5.0",
      "_view_name": "ProgressView",
      "bar_style": "success",
      "description": "",
      "description_tooltip": null,
      "layout": "IPY_MODEL_40b54d4fc235408abe11fdcfadccef2a",
      "max": 2160,
      "min": 0,
      "orientation": "horizontal",
      "style": "IPY_MODEL_1b5c6bf90c61403c84ba7e9493fa0fda",
      "value": 2160
     }
    },
    "eae4bd1b92464291a2837f062a022539": {
     "model_module": "@jupyter-widgets/base",
     "model_module_version": "1.2.0",
     "model_name": "LayoutModel",
     "state": {
      "_model_module": "@jupyter-widgets/base",
      "_model_module_version": "1.2.0",
      "_model_name": "LayoutModel",
      "_view_count": null,
      "_view_module": "@jupyter-widgets/base",
      "_view_module_version": "1.2.0",
      "_view_name": "LayoutView",
      "align_content": null,
      "align_items": null,
      "align_self": null,
      "border": null,
      "bottom": null,
      "display": null,
      "flex": null,
      "flex_flow": null,
      "grid_area": null,
      "grid_auto_columns": null,
      "grid_auto_flow": null,
      "grid_auto_rows": null,
      "grid_column": null,
      "grid_gap": null,
      "grid_row": null,
      "grid_template_areas": null,
      "grid_template_columns": null,
      "grid_template_rows": null,
      "height": null,
      "justify_content": null,
      "justify_items": null,
      "left": null,
      "margin": null,
      "max_height": null,
      "max_width": null,
      "min_height": null,
      "min_width": null,
      "object_fit": null,
      "object_position": null,
      "order": null,
      "overflow": null,
      "overflow_x": null,
      "overflow_y": null,
      "padding": null,
      "right": null,
      "top": null,
      "visibility": null,
      "width": null
     }
    },
    "ec30108e82e94751a4583bb1bc5cee69": {
     "model_module": "@jupyter-widgets/base",
     "model_module_version": "1.2.0",
     "model_name": "LayoutModel",
     "state": {
      "_model_module": "@jupyter-widgets/base",
      "_model_module_version": "1.2.0",
      "_model_name": "LayoutModel",
      "_view_count": null,
      "_view_module": "@jupyter-widgets/base",
      "_view_module_version": "1.2.0",
      "_view_name": "LayoutView",
      "align_content": null,
      "align_items": null,
      "align_self": null,
      "border": null,
      "bottom": null,
      "display": null,
      "flex": null,
      "flex_flow": null,
      "grid_area": null,
      "grid_auto_columns": null,
      "grid_auto_flow": null,
      "grid_auto_rows": null,
      "grid_column": null,
      "grid_gap": null,
      "grid_row": null,
      "grid_template_areas": null,
      "grid_template_columns": null,
      "grid_template_rows": null,
      "height": null,
      "justify_content": null,
      "justify_items": null,
      "left": null,
      "margin": null,
      "max_height": null,
      "max_width": null,
      "min_height": null,
      "min_width": null,
      "object_fit": null,
      "object_position": null,
      "order": null,
      "overflow": null,
      "overflow_x": null,
      "overflow_y": null,
      "padding": null,
      "right": null,
      "top": null,
      "visibility": null,
      "width": null
     }
    },
    "f29992b3ce304066bb0bdd010cd8daf5": {
     "model_module": "@jupyter-widgets/base",
     "model_module_version": "1.2.0",
     "model_name": "LayoutModel",
     "state": {
      "_model_module": "@jupyter-widgets/base",
      "_model_module_version": "1.2.0",
      "_model_name": "LayoutModel",
      "_view_count": null,
      "_view_module": "@jupyter-widgets/base",
      "_view_module_version": "1.2.0",
      "_view_name": "LayoutView",
      "align_content": null,
      "align_items": null,
      "align_self": null,
      "border": null,
      "bottom": null,
      "display": null,
      "flex": null,
      "flex_flow": null,
      "grid_area": null,
      "grid_auto_columns": null,
      "grid_auto_flow": null,
      "grid_auto_rows": null,
      "grid_column": null,
      "grid_gap": null,
      "grid_row": null,
      "grid_template_areas": null,
      "grid_template_columns": null,
      "grid_template_rows": null,
      "height": null,
      "justify_content": null,
      "justify_items": null,
      "left": null,
      "margin": null,
      "max_height": null,
      "max_width": null,
      "min_height": null,
      "min_width": null,
      "object_fit": null,
      "object_position": null,
      "order": null,
      "overflow": null,
      "overflow_x": null,
      "overflow_y": null,
      "padding": null,
      "right": null,
      "top": null,
      "visibility": null,
      "width": null
     }
    },
    "f66b1822a94b41d9beed7dfe56d7b94d": {
     "model_module": "@jupyter-widgets/controls",
     "model_module_version": "1.5.0",
     "model_name": "DescriptionStyleModel",
     "state": {
      "_model_module": "@jupyter-widgets/controls",
      "_model_module_version": "1.5.0",
      "_model_name": "DescriptionStyleModel",
      "_view_count": null,
      "_view_module": "@jupyter-widgets/base",
      "_view_module_version": "1.2.0",
      "_view_name": "StyleView",
      "description_width": ""
     }
    },
    "f954c297a51848e3a1508ab014345c45": {
     "model_module": "@jupyter-widgets/controls",
     "model_module_version": "1.5.0",
     "model_name": "DescriptionStyleModel",
     "state": {
      "_model_module": "@jupyter-widgets/controls",
      "_model_module_version": "1.5.0",
      "_model_name": "DescriptionStyleModel",
      "_view_count": null,
      "_view_module": "@jupyter-widgets/base",
      "_view_module_version": "1.2.0",
      "_view_name": "StyleView",
      "description_width": ""
     }
    },
    "ff5e24f3e4f744be9fce82703695da2e": {
     "model_module": "@jupyter-widgets/base",
     "model_module_version": "1.2.0",
     "model_name": "LayoutModel",
     "state": {
      "_model_module": "@jupyter-widgets/base",
      "_model_module_version": "1.2.0",
      "_model_name": "LayoutModel",
      "_view_count": null,
      "_view_module": "@jupyter-widgets/base",
      "_view_module_version": "1.2.0",
      "_view_name": "LayoutView",
      "align_content": null,
      "align_items": null,
      "align_self": null,
      "border": null,
      "bottom": null,
      "display": null,
      "flex": null,
      "flex_flow": null,
      "grid_area": null,
      "grid_auto_columns": null,
      "grid_auto_flow": null,
      "grid_auto_rows": null,
      "grid_column": null,
      "grid_gap": null,
      "grid_row": null,
      "grid_template_areas": null,
      "grid_template_columns": null,
      "grid_template_rows": null,
      "height": null,
      "justify_content": null,
      "justify_items": null,
      "left": null,
      "margin": null,
      "max_height": null,
      "max_width": null,
      "min_height": null,
      "min_width": null,
      "object_fit": null,
      "object_position": null,
      "order": null,
      "overflow": null,
      "overflow_x": null,
      "overflow_y": null,
      "padding": null,
      "right": null,
      "top": null,
      "visibility": null,
      "width": null
     }
    }
   }
  }
 },
 "nbformat": 4,
 "nbformat_minor": 1
}
