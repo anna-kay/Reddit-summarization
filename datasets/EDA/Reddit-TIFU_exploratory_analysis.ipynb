{
 "cells": [
  {
   "cell_type": "code",
   "execution_count": 1,
   "metadata": {
    "executionInfo": {
     "elapsed": 16990,
     "status": "ok",
     "timestamp": 1657200100774,
     "user": {
      "displayName": "Anna Kougioumtzidou",
      "userId": "08894778027574418607"
     },
     "user_tz": -180
    },
    "id": "IcsLaPvBk7Pq"
   },
   "outputs": [],
   "source": [
    "%%capture\n",
    "!pip install datasets"
   ]
  },
  {
   "cell_type": "code",
   "execution_count": 17,
   "metadata": {
    "executionInfo": {
     "elapsed": 1908,
     "status": "ok",
     "timestamp": 1657200120092,
     "user": {
      "displayName": "Anna Kougioumtzidou",
      "userId": "08894778027574418607"
     },
     "user_tz": -180
    },
    "id": "gKdQ7oKF0mUs"
   },
   "outputs": [],
   "source": [
    "from datasets import load_dataset, load_metric\n",
    "import pandas as pd\n",
    "import nltk\n",
    "import re\n",
    "import matplotlib.pyplot as plt\n",
    "import seaborn as sns\n",
    "import numpy as np"
   ]
  },
  {
   "cell_type": "markdown",
   "metadata": {
    "id": "CSwBudQj0wrt"
   },
   "source": [
    "## **Download Reddit TIFU**\n",
    "\n",
    "- No train-val-test split for this dataset is provided or mentioned anywhere \n",
    "- We download Reddit TIFU from Hugging Face datasets \n",
    "- the split='train' downloads the whole dataset"
   ]
  },
  {
   "cell_type": "code",
   "execution_count": 3,
   "metadata": {
    "colab": {
     "base_uri": "https://localhost:8080/",
     "height": 252,
     "referenced_widgets": [
      "47f8c7c18d3e49b787e72064eebe66e1",
      "6493af07c0f94f8bb3cb249e8e35fae0",
      "56a21ecfb9ca4b3fb9cdf99ab29e8f40",
      "da99d8649fa7430b8d08f1e3faf0d764",
      "2e9ac2496cc54190ac933b244bdb6cdd",
      "2823ec3bd5aa496bac58d8a21bb958ad",
      "aaa17c207eff486a9cbe1d353e20c600",
      "e13b1d06e771473b99187d81051a396d",
      "003bb052da6e418591ce2872bfee288d",
      "e95aa194222b4c8eb9600626324739eb",
      "167265f55dce476c8ea63d01e5f266f7",
      "edf3da08f8584e9b87cf191d69eb1183",
      "9f8f0c7137bb4d188b3872652ceb1f59",
      "03d4ad40ec2c49b8a0b1905a03eaa804",
      "b969ceb3961045ed91cd3d894a75fdcc",
      "9645e824d611444fb3388eec2300feac",
      "0679065c24104e8781becea463e60a74",
      "00414fc27505416dbca1045fd0b7d495",
      "0e9242dc316247b09e55274d8ce5d9d0",
      "9d742063ed03461db0c29baf0425baa2",
      "97b230d6f6d841ffb427826a4a3680c1",
      "dd3c077f98f244d6970e6d30d1658db1",
      "5726e54aed0444abbcfaf4a3a1a6c664",
      "1cda70857a144c189eb6a669ef2e08d7",
      "06a0eabcc9294354b4fb8c050ba88870",
      "e384e87f1cfb4fa0a9c05410fd3c916f",
      "a59fa8968edf4ab6b550db47c5574934",
      "8ba887d0a78942bcba43b46080439543",
      "094f5da61a99459d8c5f34541237c9b3",
      "84aabbe0b26c47d8a804e11e139b3e90",
      "5e04a871a1464769bca95d09c857b259",
      "24553ea6095845d1a63a14036c28f933",
      "dcaa19b9c57b4659b26a361884969235",
      "342a179b17654dd9bef26fb9031378c3",
      "9b26a412f3db45c7bc33663d0bdd40a6",
      "603d98ab69824adfb7e7150f76cb4c71",
      "25fbcd2713f44131a2f112eaa56ad7fd",
      "769510cf1efe4e51bf42957a7702d181",
      "36f0b21acffb488f98ad7bf210b00c1f",
      "a0cb89624d5b43f08b04515d02c2bb58",
      "0a2cf48cd303457cb8b743b4afb4a727",
      "3b4930749dec464baee27fb1af5985c4",
      "86e9e4e3c33c4c49aac6544fd58baabd",
      "1d73e36f95d145589d6eafb0230a3cc4"
     ]
    },
    "executionInfo": {
     "elapsed": 37486,
     "status": "ok",
     "timestamp": 1657200195118,
     "user": {
      "displayName": "Anna Kougioumtzidou",
      "userId": "08894778027574418607"
     },
     "user_tz": -180
    },
    "id": "KGcQDP5k0wTF",
    "outputId": "06bc5f18-40e6-4756-dee8-af66db41663a"
   },
   "outputs": [
    {
     "name": "stderr",
     "output_type": "stream",
     "text": [
      "Found cached dataset reddit_tifu (C:/Users/Anna/.cache/huggingface/datasets/reddit_tifu/long/1.1.0/3136b11fbef3f2517de1d720621af110bd29e6083aebeab0d8ec198c9f95dc95)\n"
     ]
    }
   ],
   "source": [
    "reddit_tifu = load_dataset('reddit_tifu', 'long', split='train')"
   ]
  },
  {
   "cell_type": "code",
   "execution_count": 4,
   "metadata": {
    "colab": {
     "base_uri": "https://localhost:8080/"
    },
    "executionInfo": {
     "elapsed": 414,
     "status": "ok",
     "timestamp": 1657200207067,
     "user": {
      "displayName": "Anna Kougioumtzidou",
      "userId": "08894778027574418607"
     },
     "user_tz": -180
    },
    "id": "WmriD9ag06DX",
    "outputId": "194f245c-4976-4612-ec4f-dbbe05d44bf3"
   },
   "outputs": [
    {
     "data": {
      "text/plain": [
       "Dataset({\n",
       "    features: ['ups', 'num_comments', 'upvote_ratio', 'score', 'documents', 'tldr', 'title'],\n",
       "    num_rows: 42139\n",
       "})"
      ]
     },
     "execution_count": 4,
     "metadata": {},
     "output_type": "execute_result"
    }
   ],
   "source": [
    "reddit_tifu"
   ]
  },
  {
   "cell_type": "code",
   "execution_count": 5,
   "metadata": {},
   "outputs": [
    {
     "data": {
      "text/plain": [
       "datasets.arrow_dataset.Dataset"
      ]
     },
     "execution_count": 5,
     "metadata": {},
     "output_type": "execute_result"
    }
   ],
   "source": [
    "type(reddit_tifu)"
   ]
  },
  {
   "cell_type": "code",
   "execution_count": 6,
   "metadata": {
    "executionInfo": {
     "elapsed": 414,
     "status": "ok",
     "timestamp": 1657200211574,
     "user": {
      "displayName": "Anna Kougioumtzidou",
      "userId": "08894778027574418607"
     },
     "user_tz": -180
    },
    "id": "POUD3OrZ08RY"
   },
   "outputs": [],
   "source": [
    "reddit_tifu_df = reddit_tifu.to_pandas()"
   ]
  },
  {
   "cell_type": "code",
   "execution_count": 7,
   "metadata": {
    "colab": {
     "base_uri": "https://localhost:8080/",
     "height": 667
    },
    "executionInfo": {
     "elapsed": 426,
     "status": "ok",
     "timestamp": 1657200246100,
     "user": {
      "displayName": "Anna Kougioumtzidou",
      "userId": "08894778027574418607"
     },
     "user_tz": -180
    },
    "id": "NfrlYnkf1ME1",
    "outputId": "ccab1685-b0b5-4c28-a106-47c6d4402326"
   },
   "outputs": [
    {
     "data": {
      "text/html": [
       "<div>\n",
       "<style scoped>\n",
       "    .dataframe tbody tr th:only-of-type {\n",
       "        vertical-align: middle;\n",
       "    }\n",
       "\n",
       "    .dataframe tbody tr th {\n",
       "        vertical-align: top;\n",
       "    }\n",
       "\n",
       "    .dataframe thead th {\n",
       "        text-align: right;\n",
       "    }\n",
       "</style>\n",
       "<table border=\"1\" class=\"dataframe\">\n",
       "  <thead>\n",
       "    <tr style=\"text-align: right;\">\n",
       "      <th></th>\n",
       "      <th>ups</th>\n",
       "      <th>num_comments</th>\n",
       "      <th>upvote_ratio</th>\n",
       "      <th>score</th>\n",
       "      <th>documents</th>\n",
       "      <th>tldr</th>\n",
       "      <th>title</th>\n",
       "    </tr>\n",
       "  </thead>\n",
       "  <tbody>\n",
       "    <tr>\n",
       "      <th>0</th>\n",
       "      <td>115.0</td>\n",
       "      <td>23.0</td>\n",
       "      <td>0.88</td>\n",
       "      <td>115.0</td>\n",
       "      <td>this actually happened a couple of years ago. ...</td>\n",
       "      <td>confuse a 5th grade girl for a boy in front of...</td>\n",
       "      <td>gender-stereotyping</td>\n",
       "    </tr>\n",
       "    <tr>\n",
       "      <th>1</th>\n",
       "      <td>16.0</td>\n",
       "      <td>12.0</td>\n",
       "      <td>0.79</td>\n",
       "      <td>16.0</td>\n",
       "      <td>it was last october, but i'm feeling the fall-...</td>\n",
       "      <td>i found my estranged dad, thought i loved him ...</td>\n",
       "      <td>telling my dad that i love him.</td>\n",
       "    </tr>\n",
       "    <tr>\n",
       "      <th>2</th>\n",
       "      <td>55.0</td>\n",
       "      <td>10.0</td>\n",
       "      <td>0.85</td>\n",
       "      <td>55.0</td>\n",
       "      <td>so i had the brilliant idea to use veet hair r...</td>\n",
       "      <td>had my balls burned by sauron and was left dev...</td>\n",
       "      <td>i was deveeted...</td>\n",
       "    </tr>\n",
       "    <tr>\n",
       "      <th>3</th>\n",
       "      <td>90.0</td>\n",
       "      <td>20.0</td>\n",
       "      <td>0.92</td>\n",
       "      <td>90.0</td>\n",
       "      <td>today i was going to have a bath after a long ...</td>\n",
       "      <td>peppermint + bath = burning cold ladybits.</td>\n",
       "      <td>wanting a pepperminty bath.</td>\n",
       "    </tr>\n",
       "    <tr>\n",
       "      <th>4</th>\n",
       "      <td>81.0</td>\n",
       "      <td>18.0</td>\n",
       "      <td>0.79</td>\n",
       "      <td>81.0</td>\n",
       "      <td>i haven't had a bath in practically years so, ...</td>\n",
       "      <td>got too high and too hot in the bath, almost c...</td>\n",
       "      <td>having a spliff in the bath.</td>\n",
       "    </tr>\n",
       "  </tbody>\n",
       "</table>\n",
       "</div>"
      ],
      "text/plain": [
       "     ups  num_comments  upvote_ratio  score  \\\n",
       "0  115.0          23.0          0.88  115.0   \n",
       "1   16.0          12.0          0.79   16.0   \n",
       "2   55.0          10.0          0.85   55.0   \n",
       "3   90.0          20.0          0.92   90.0   \n",
       "4   81.0          18.0          0.79   81.0   \n",
       "\n",
       "                                           documents  \\\n",
       "0  this actually happened a couple of years ago. ...   \n",
       "1  it was last october, but i'm feeling the fall-...   \n",
       "2  so i had the brilliant idea to use veet hair r...   \n",
       "3  today i was going to have a bath after a long ...   \n",
       "4  i haven't had a bath in practically years so, ...   \n",
       "\n",
       "                                                tldr  \\\n",
       "0  confuse a 5th grade girl for a boy in front of...   \n",
       "1  i found my estranged dad, thought i loved him ...   \n",
       "2  had my balls burned by sauron and was left dev...   \n",
       "3         peppermint + bath = burning cold ladybits.   \n",
       "4  got too high and too hot in the bath, almost c...   \n",
       "\n",
       "                             title  \n",
       "0              gender-stereotyping  \n",
       "1  telling my dad that i love him.  \n",
       "2                i was deveeted...  \n",
       "3      wanting a pepperminty bath.  \n",
       "4     having a spliff in the bath.  "
      ]
     },
     "execution_count": 7,
     "metadata": {},
     "output_type": "execute_result"
    }
   ],
   "source": [
    "reddit_tifu_df.head()"
   ]
  },
  {
   "cell_type": "markdown",
   "metadata": {
    "id": "0tbcczX11KDf"
   },
   "source": [
    "* Compute the length (number of words) of the documents (source texts) & the tldr summaries  \n",
    "* Add columns 'doc_len' & 'tldr_len' to the dataframe"
   ]
  },
  {
   "cell_type": "code",
   "execution_count": 8,
   "metadata": {},
   "outputs": [],
   "source": [
    "reddit_tifu_df['doc_len'] = [len(doc.split()) for doc in reddit_tifu_df['documents']]\n",
    "reddit_tifu_df['tldr_len'] = [len(tldr.split()) for tldr in reddit_tifu_df['tldr']]"
   ]
  },
  {
   "cell_type": "markdown",
   "metadata": {
    "id": "TGBM74LsAbFc"
   },
   "source": [
    "# **Documents (Source texts)**"
   ]
  },
  {
   "cell_type": "markdown",
   "metadata": {},
   "source": [
    "Examine the lenghts of the documents (source texts to be summarized)"
   ]
  },
  {
   "cell_type": "code",
   "execution_count": 102,
   "metadata": {
    "colab": {
     "base_uri": "https://localhost:8080/"
    },
    "executionInfo": {
     "elapsed": 320,
     "status": "ok",
     "timestamp": 1657201770431,
     "user": {
      "displayName": "Anna Kougioumtzidou",
      "userId": "08894778027574418607"
     },
     "user_tz": -180
    },
    "id": "aDOYz21-08jZ",
    "outputId": "f20c349d-40fc-4da4-92f6-739ae7cd5c8d"
   },
   "outputs": [
    {
     "name": "stdout",
     "output_type": "stream",
     "text": [
      "**Source texts**\n",
      "Mean length: 385.6 words\n",
      "Length std: 282.84\n",
      "Minimum number of words: 1\n",
      "Maximum number of words: 6004\n"
     ]
    }
   ],
   "source": [
    "print(\"**Source texts**\")\n",
    "print(f\"Mean length: {round(reddit_tifu_df['doc_len'].mean(),2)} words\")\n",
    "print(f\"Length std: {round(reddit_tifu_df['doc_len'].std(), 2)}\")\n",
    "print(f\"Minimum number of words: {reddit_tifu_df['doc_len'].min()}\")\n",
    "print(f\"Maximum number of words: {reddit_tifu_df['doc_len'].max()}\")"
   ]
  },
  {
   "cell_type": "markdown",
   "metadata": {},
   "source": [
    "Examine the frequency of document lengths"
   ]
  },
  {
   "cell_type": "code",
   "execution_count": 103,
   "metadata": {
    "executionInfo": {
     "elapsed": 414,
     "status": "ok",
     "timestamp": 1657201953005,
     "user": {
      "displayName": "Anna Kougioumtzidou",
      "userId": "08894778027574418607"
     },
     "user_tz": -180
    },
    "id": "LYvytbGU7fr3"
   },
   "outputs": [],
   "source": [
    "docs_len_counts = reddit_tifu_df['doc_len'].value_counts().sort_index(ascending=True)\n",
    "docs_len_counts_df = pd.DataFrame({'doc_len': docs_len_counts.index, 'counts': docs_len_counts.values})\n",
    "num_of_words = docs_len_counts_df['doc_len'].tolist()\n",
    "counts = docs_len_counts_df['counts'].tolist()\n",
    "\n",
    "docs_len_counts_ones_df = docs_len_counts_df.loc[docs_len_counts_df['counts']==1]\n",
    "single_num_of_words = docs_len_counts_ones_df['doc_len'].tolist()\n",
    "ones = docs_len_counts_ones_df['counts'].tolist()"
   ]
  },
  {
   "cell_type": "code",
   "execution_count": 106,
   "metadata": {
    "colab": {
     "base_uri": "https://localhost:8080/",
     "height": 488
    },
    "executionInfo": {
     "elapsed": 4466,
     "status": "ok",
     "timestamp": 1657202796733,
     "user": {
      "displayName": "Anna Kougioumtzidou",
      "userId": "08894778027574418607"
     },
     "user_tz": -180
    },
    "id": "Xe7q6Uuf7f3h",
    "outputId": "f454d528-f298-45ee-9cd1-da6042f1a7f2"
   },
   "outputs": [
    {
     "data": {
      "image/png": "[encoded data removed]",
      "text/plain": [
       "<Figure size 900x600 with 1 Axes>"
      ]
     },
     "metadata": {},
     "output_type": "display_data"
    }
   ],
   "source": [
    "fig = plt.figure(figsize=(9,6))\n",
    "fig.patch.set_facecolor('xkcd:white')\n",
    "ax = fig.add_axes([0,0,1,1])\n",
    "ax.bar(num_of_words, counts)\n",
    "ax.set_xlabel('Document length (number of words)', fontsize=16, color='grey') \n",
    "ax.set_ylabel('Counts', fontsize=16, color='grey')\n",
    "ax.set_title('Source Texts', fontsize=18, color='grey', fontweight='bold')\n",
    "ax.set_axisbelow(True)\n",
    "ax.xaxis.grid(color='gray', linestyle='dashed')\n",
    "ax.yaxis.grid(color='gray', linestyle='dashed')\n",
    "\n",
    "plt.plot(single_num_of_words,\n",
    "         ones,\n",
    "         marker=',', \n",
    "         color='r',\n",
    "         label='document lengths that appear only once (number of words with count=1)',\n",
    "         linestyle='None')\n",
    "\n",
    "\n",
    "plt.xticks(fontsize=14, color='dimgrey')\n",
    "plt.yticks(fontsize=14, color='dimgrey')\n",
    "plt.legend(fontsize='medium')\n",
    "plt.show()"
   ]
  },
  {
   "cell_type": "markdown",
   "metadata": {
    "id": "cczb1yeiAc4S"
   },
   "source": [
    "# **Tldr summaries**"
   ]
  },
  {
   "cell_type": "code",
   "execution_count": 12,
   "metadata": {
    "colab": {
     "base_uri": "https://localhost:8080/"
    },
    "executionInfo": {
     "elapsed": 386,
     "status": "ok",
     "timestamp": 1657201738776,
     "user": {
      "displayName": "Anna Kougioumtzidou",
      "userId": "08894778027574418607"
     },
     "user_tz": -180
    },
    "id": "kGx3HNiI08hU",
    "outputId": "c9ebb4a1-7104-4a9d-c244-e0dce0b39dc9"
   },
   "outputs": [
    {
     "name": "stdout",
     "output_type": "stream",
     "text": [
      "**Tldr summaries**\n",
      "Mean length: 20.6 words\n",
      "Length std: 13.08\n",
      "Minimum number of words: 1\n",
      "Maximum number of words: 457\n"
     ]
    }
   ],
   "source": [
    "print(\"**Tldr summaries**\")\n",
    "print(f\"Mean length: {round(reddit_tifu_df['tldr_len'].mean(),2)} words\")\n",
    "print(f\"Length std: {round(reddit_tifu_df['tldr_len'].std(), 2)}\")\n",
    "print(f\"Minimum number of words: {reddit_tifu_df['tldr_len'].min()}\")\n",
    "print(f\"Maximum number of words: {reddit_tifu_df['tldr_len'].max()}\")"
   ]
  },
  {
   "cell_type": "markdown",
   "metadata": {},
   "source": [
    "Examine the frequency of document lengths"
   ]
  },
  {
   "cell_type": "code",
   "execution_count": 13,
   "metadata": {
    "executionInfo": {
     "elapsed": 530,
     "status": "ok",
     "timestamp": 1657203005918,
     "user": {
      "displayName": "Anna Kougioumtzidou",
      "userId": "08894778027574418607"
     },
     "user_tz": -180
    },
    "id": "zCBwXz7K08lz"
   },
   "outputs": [],
   "source": [
    "tldrs_len_counts = reddit_tifu_df['tldr_len'].value_counts().sort_index(ascending=True)\n",
    "tldrs_len_counts_df = pd.DataFrame({'tldr_len': tldrs_len_counts.index, 'counts': tldrs_len_counts.values})\n",
    "num_of_words = tldrs_len_counts_df['tldr_len'].tolist()\n",
    "counts = tldrs_len_counts_df['counts'].tolist()\n",
    "\n",
    "tldrs_len_counts_ones_df = tldrs_len_counts_df.loc[tldrs_len_counts_df['counts']==1]\n",
    "single_num_of_words = tldrs_len_counts_ones_df['tldr_len'].tolist()\n",
    "ones = tldrs_len_counts_ones_df['counts'].tolist()"
   ]
  },
  {
   "cell_type": "code",
   "execution_count": 14,
   "metadata": {
    "colab": {
     "base_uri": "https://localhost:8080/",
     "height": 482
    },
    "executionInfo": {
     "elapsed": 1546,
     "status": "ok",
     "timestamp": 1657203129482,
     "user": {
      "displayName": "Anna Kougioumtzidou",
      "userId": "08894778027574418607"
     },
     "user_tz": -180
    },
    "id": "jddCvv-S08sq",
    "outputId": "954ce6b1-6302-4716-d0aa-8a1f53d82075"
   },
   "outputs": [
    {
     "data": {
      "image/png": "[encoded data removed]",
      "text/plain": [
       "<Figure size 900x600 with 1 Axes>"
      ]
     },
     "metadata": {},
     "output_type": "display_data"
    }
   ],
   "source": [
    "fig = plt.figure(figsize=(9,6))\n",
    "fig.patch.set_facecolor('xkcd:white')\n",
    "ax = fig.add_axes([0,0,1,1])\n",
    "ax.bar(num_of_words, counts)\n",
    "ax.set_xlabel('Tldr length (number of words)', fontsize=16, color='grey')\n",
    "ax.set_ylabel('Counts', fontsize=16, color='grey')\n",
    "ax.set_title('Tldr Summaries', fontsize=18, color='grey', fontweight='bold')\n",
    "ax.set_axisbelow(True)\n",
    "ax.xaxis.grid(color='gray', linestyle='dashed')\n",
    "ax.yaxis.grid(color='gray', linestyle='dashed')\n",
    "\n",
    "plt.plot(single_num_of_words,\n",
    "         ones,\n",
    "         marker='|', \n",
    "         color='r',\n",
    "         label='summaries lengths that appear only once (number of words with count=1)',\n",
    "         linestyle='None')\n",
    "\n",
    "\n",
    "plt.xticks(fontsize=14, color='dimgrey')\n",
    "plt.yticks(fontsize=14, color='dimgrey')\n",
    "plt.legend(fontsize='medium')\n",
    "plt.show()"
   ]
  },
  {
   "cell_type": "markdown",
   "metadata": {
    "id": "aOPbE0tc08u2"
   },
   "source": [
    "**Examine the ratio between summary length and source text length**"
   ]
  },
  {
   "cell_type": "code",
   "execution_count": 22,
   "metadata": {},
   "outputs": [],
   "source": [
    "reddit_tifu_df['tldr_doc_ratio'] =  reddit_tifu_df['tldr_len']/reddit_tifu_df['doc_len']"
   ]
  },
  {
   "cell_type": "code",
   "execution_count": 28,
   "metadata": {
    "id": "xnnHaNqe08xX"
   },
   "outputs": [
    {
     "data": {
      "text/html": [
       "<div>\n",
       "<style scoped>\n",
       "    .dataframe tbody tr th:only-of-type {\n",
       "        vertical-align: middle;\n",
       "    }\n",
       "\n",
       "    .dataframe tbody tr th {\n",
       "        vertical-align: top;\n",
       "    }\n",
       "\n",
       "    .dataframe thead th {\n",
       "        text-align: right;\n",
       "    }\n",
       "</style>\n",
       "<table border=\"1\" class=\"dataframe\">\n",
       "  <thead>\n",
       "    <tr style=\"text-align: right;\">\n",
       "      <th></th>\n",
       "      <th>ups</th>\n",
       "      <th>num_comments</th>\n",
       "      <th>upvote_ratio</th>\n",
       "      <th>score</th>\n",
       "      <th>documents</th>\n",
       "      <th>tldr</th>\n",
       "      <th>title</th>\n",
       "      <th>doc_len</th>\n",
       "      <th>tldr_len</th>\n",
       "      <th>tldr_doc_ratio</th>\n",
       "    </tr>\n",
       "  </thead>\n",
       "  <tbody>\n",
       "    <tr>\n",
       "      <th>0</th>\n",
       "      <td>115.0</td>\n",
       "      <td>23.0</td>\n",
       "      <td>0.88</td>\n",
       "      <td>115.0</td>\n",
       "      <td>this actually happened a couple of years ago. ...</td>\n",
       "      <td>confuse a 5th grade girl for a boy in front of...</td>\n",
       "      <td>gender-stereotyping</td>\n",
       "      <td>632</td>\n",
       "      <td>20</td>\n",
       "      <td>0.031646</td>\n",
       "    </tr>\n",
       "    <tr>\n",
       "      <th>1</th>\n",
       "      <td>16.0</td>\n",
       "      <td>12.0</td>\n",
       "      <td>0.79</td>\n",
       "      <td>16.0</td>\n",
       "      <td>it was last october, but i'm feeling the fall-...</td>\n",
       "      <td>i found my estranged dad, thought i loved him ...</td>\n",
       "      <td>telling my dad that i love him.</td>\n",
       "      <td>782</td>\n",
       "      <td>23</td>\n",
       "      <td>0.029412</td>\n",
       "    </tr>\n",
       "    <tr>\n",
       "      <th>2</th>\n",
       "      <td>55.0</td>\n",
       "      <td>10.0</td>\n",
       "      <td>0.85</td>\n",
       "      <td>55.0</td>\n",
       "      <td>so i had the brilliant idea to use veet hair r...</td>\n",
       "      <td>had my balls burned by sauron and was left dev...</td>\n",
       "      <td>i was deveeted...</td>\n",
       "      <td>228</td>\n",
       "      <td>10</td>\n",
       "      <td>0.043860</td>\n",
       "    </tr>\n",
       "    <tr>\n",
       "      <th>3</th>\n",
       "      <td>90.0</td>\n",
       "      <td>20.0</td>\n",
       "      <td>0.92</td>\n",
       "      <td>90.0</td>\n",
       "      <td>today i was going to have a bath after a long ...</td>\n",
       "      <td>peppermint + bath = burning cold ladybits.</td>\n",
       "      <td>wanting a pepperminty bath.</td>\n",
       "      <td>271</td>\n",
       "      <td>7</td>\n",
       "      <td>0.025830</td>\n",
       "    </tr>\n",
       "    <tr>\n",
       "      <th>4</th>\n",
       "      <td>81.0</td>\n",
       "      <td>18.0</td>\n",
       "      <td>0.79</td>\n",
       "      <td>81.0</td>\n",
       "      <td>i haven't had a bath in practically years so, ...</td>\n",
       "      <td>got too high and too hot in the bath, almost c...</td>\n",
       "      <td>having a spliff in the bath.</td>\n",
       "      <td>210</td>\n",
       "      <td>15</td>\n",
       "      <td>0.071429</td>\n",
       "    </tr>\n",
       "    <tr>\n",
       "      <th>...</th>\n",
       "      <td>...</td>\n",
       "      <td>...</td>\n",
       "      <td>...</td>\n",
       "      <td>...</td>\n",
       "      <td>...</td>\n",
       "      <td>...</td>\n",
       "      <td>...</td>\n",
       "      <td>...</td>\n",
       "      <td>...</td>\n",
       "      <td>...</td>\n",
       "    </tr>\n",
       "    <tr>\n",
       "      <th>42134</th>\n",
       "      <td>105.0</td>\n",
       "      <td>18.0</td>\n",
       "      <td>0.94</td>\n",
       "      <td>105.0</td>\n",
       "      <td>this happened back in middle school.\\n\\nmy fam...</td>\n",
       "      <td>forgot my quarter for lunch at school for a we...</td>\n",
       "      <td>forgetting my quarter for lunch</td>\n",
       "      <td>406</td>\n",
       "      <td>22</td>\n",
       "      <td>0.054187</td>\n",
       "    </tr>\n",
       "    <tr>\n",
       "      <th>42135</th>\n",
       "      <td>96.0</td>\n",
       "      <td>64.0</td>\n",
       "      <td>0.92</td>\n",
       "      <td>96.0</td>\n",
       "      <td>my girlfriend told me she has no hair beneath ...</td>\n",
       "      <td>girlfriend prefers clean shaven groin. i try t...</td>\n",
       "      <td>trying to shave my pubes for the first time</td>\n",
       "      <td>152</td>\n",
       "      <td>30</td>\n",
       "      <td>0.197368</td>\n",
       "    </tr>\n",
       "    <tr>\n",
       "      <th>42136</th>\n",
       "      <td>726.0</td>\n",
       "      <td>110.0</td>\n",
       "      <td>0.91</td>\n",
       "      <td>726.0</td>\n",
       "      <td>today at work i accidentally crashed a row of ...</td>\n",
       "      <td>today i broke a window that costs more then i ...</td>\n",
       "      <td>breaking a $900 window with a shopping cart.</td>\n",
       "      <td>239</td>\n",
       "      <td>25</td>\n",
       "      <td>0.104603</td>\n",
       "    </tr>\n",
       "    <tr>\n",
       "      <th>42137</th>\n",
       "      <td>26.0</td>\n",
       "      <td>5.0</td>\n",
       "      <td>0.77</td>\n",
       "      <td>26.0</td>\n",
       "      <td>so as u can tell from the title it didn't happ...</td>\n",
       "      <td>i invited over new girlfriend for dinner to sp...</td>\n",
       "      <td>slicing open my finger on first valentines wit...</td>\n",
       "      <td>553</td>\n",
       "      <td>32</td>\n",
       "      <td>0.057866</td>\n",
       "    </tr>\n",
       "    <tr>\n",
       "      <th>42138</th>\n",
       "      <td>15.0</td>\n",
       "      <td>11.0</td>\n",
       "      <td>0.81</td>\n",
       "      <td>15.0</td>\n",
       "      <td>this did actually happen today. it started aft...</td>\n",
       "      <td>in a rush i mixed my colours in the wash and e...</td>\n",
       "      <td>not listening to my mother</td>\n",
       "      <td>379</td>\n",
       "      <td>66</td>\n",
       "      <td>0.174142</td>\n",
       "    </tr>\n",
       "  </tbody>\n",
       "</table>\n",
       "<p>42139 rows × 10 columns</p>\n",
       "</div>"
      ],
      "text/plain": [
       "         ups  num_comments  upvote_ratio  score  \\\n",
       "0      115.0          23.0          0.88  115.0   \n",
       "1       16.0          12.0          0.79   16.0   \n",
       "2       55.0          10.0          0.85   55.0   \n",
       "3       90.0          20.0          0.92   90.0   \n",
       "4       81.0          18.0          0.79   81.0   \n",
       "...      ...           ...           ...    ...   \n",
       "42134  105.0          18.0          0.94  105.0   \n",
       "42135   96.0          64.0          0.92   96.0   \n",
       "42136  726.0         110.0          0.91  726.0   \n",
       "42137   26.0           5.0          0.77   26.0   \n",
       "42138   15.0          11.0          0.81   15.0   \n",
       "\n",
       "                                               documents  \\\n",
       "0      this actually happened a couple of years ago. ...   \n",
       "1      it was last october, but i'm feeling the fall-...   \n",
       "2      so i had the brilliant idea to use veet hair r...   \n",
       "3      today i was going to have a bath after a long ...   \n",
       "4      i haven't had a bath in practically years so, ...   \n",
       "...                                                  ...   \n",
       "42134  this happened back in middle school.\\n\\nmy fam...   \n",
       "42135  my girlfriend told me she has no hair beneath ...   \n",
       "42136  today at work i accidentally crashed a row of ...   \n",
       "42137  so as u can tell from the title it didn't happ...   \n",
       "42138  this did actually happen today. it started aft...   \n",
       "\n",
       "                                                    tldr  \\\n",
       "0      confuse a 5th grade girl for a boy in front of...   \n",
       "1      i found my estranged dad, thought i loved him ...   \n",
       "2      had my balls burned by sauron and was left dev...   \n",
       "3             peppermint + bath = burning cold ladybits.   \n",
       "4      got too high and too hot in the bath, almost c...   \n",
       "...                                                  ...   \n",
       "42134  forgot my quarter for lunch at school for a we...   \n",
       "42135  girlfriend prefers clean shaven groin. i try t...   \n",
       "42136  today i broke a window that costs more then i ...   \n",
       "42137  i invited over new girlfriend for dinner to sp...   \n",
       "42138  in a rush i mixed my colours in the wash and e...   \n",
       "\n",
       "                                                   title  doc_len  tldr_len  \\\n",
       "0                                    gender-stereotyping      632        20   \n",
       "1                        telling my dad that i love him.      782        23   \n",
       "2                                      i was deveeted...      228        10   \n",
       "3                            wanting a pepperminty bath.      271         7   \n",
       "4                           having a spliff in the bath.      210        15   \n",
       "...                                                  ...      ...       ...   \n",
       "42134                    forgetting my quarter for lunch      406        22   \n",
       "42135        trying to shave my pubes for the first time      152        30   \n",
       "42136       breaking a $900 window with a shopping cart.      239        25   \n",
       "42137  slicing open my finger on first valentines wit...      553        32   \n",
       "42138                         not listening to my mother      379        66   \n",
       "\n",
       "       tldr_doc_ratio  \n",
       "0            0.031646  \n",
       "1            0.029412  \n",
       "2            0.043860  \n",
       "3            0.025830  \n",
       "4            0.071429  \n",
       "...               ...  \n",
       "42134        0.054187  \n",
       "42135        0.197368  \n",
       "42136        0.104603  \n",
       "42137        0.057866  \n",
       "42138        0.174142  \n",
       "\n",
       "[42139 rows x 10 columns]"
      ]
     },
     "execution_count": 28,
     "metadata": {},
     "output_type": "execute_result"
    }
   ],
   "source": [
    "reddit_tifu_df"
   ]
  },
  {
   "cell_type": "code",
   "execution_count": 79,
   "metadata": {},
   "outputs": [],
   "source": [
    "ratios = reddit_tifu_df['tldr_doc_ratio'].sort_values(ascending=False)"
   ]
  },
  {
   "cell_type": "code",
   "execution_count": 80,
   "metadata": {},
   "outputs": [
    {
     "data": {
      "text/plain": [
       "30234    413.000000\n",
       "24359     76.166667\n",
       "24268     42.000000\n",
       "5397      23.000000\n",
       "6708      13.548387\n",
       "            ...    \n",
       "18299      0.000606\n",
       "11521      0.000525\n",
       "11512      0.000515\n",
       "6450       0.000456\n",
       "4522       0.000287\n",
       "Name: tldr_doc_ratio, Length: 42139, dtype: float64"
      ]
     },
     "execution_count": 80,
     "metadata": {},
     "output_type": "execute_result"
    }
   ],
   "source": [
    "ratios"
   ]
  },
  {
   "cell_type": "markdown",
   "metadata": {},
   "source": [
    "**It seems like tldr/doc (length) ratio equal to 413 is an outlier.\n",
    "Let's filter out outliers:**"
   ]
  },
  {
   "cell_type": "code",
   "execution_count": 88,
   "metadata": {},
   "outputs": [],
   "source": [
    "filtered_ratios = reddit_tifu_df['tldr_doc_ratio']\n",
    "filtered_ratios = filtered_ratios[(np.abs(stats.zscore(filtered_ratios)) < 3)]"
   ]
  },
  {
   "cell_type": "code",
   "execution_count": 110,
   "metadata": {},
   "outputs": [],
   "source": [
    "filtered_ratios_sorted =  filtered_ratios.sort_values(ascending=False)"
   ]
  },
  {
   "cell_type": "code",
   "execution_count": 111,
   "metadata": {},
   "outputs": [
    {
     "data": {
      "text/plain": [
       "19398    5.000000\n",
       "28142    4.333333\n",
       "11810    3.000000\n",
       "16456    2.800000\n",
       "23272    2.769231\n",
       "           ...   \n",
       "18299    0.000606\n",
       "11521    0.000525\n",
       "11512    0.000515\n",
       "6450     0.000456\n",
       "4522     0.000287\n",
       "Name: tldr_doc_ratio, Length: 42134, dtype: float64"
      ]
     },
     "execution_count": 111,
     "metadata": {},
     "output_type": "execute_result"
    }
   ],
   "source": [
    "filtered_ratios_sorted"
   ]
  },
  {
   "cell_type": "code",
   "execution_count": 125,
   "metadata": {},
   "outputs": [
    {
     "data": {
      "image/png": "[encoded data removed]",
      "text/plain": [
       "<Figure size 900x600 with 1 Axes>"
      ]
     },
     "metadata": {},
     "output_type": "display_data"
    }
   ],
   "source": [
    "# Dist plot\n",
    "fig = plt.figure(figsize =[9,6])\n",
    "fig.patch.set_facecolor('xkcd:white')\n",
    "\n",
    "ax = fig.add_axes([0,0,1,1])\n",
    "sns.histplot(filtered_ratios)\n",
    "ax.set_axisbelow(True)\n",
    "ax.xaxis.grid(color='gray', linestyle='dashed')\n",
    "ax.yaxis.grid(color='gray', linestyle='dashed')\n",
    "\n",
    "plt.title('Tldr/Doc Ratios (Outliers Removed: ±3σ)', fontsize=18, color='grey', fontweight='bold')\n",
    "plt.xlabel('Percentage', fontsize=16, color='grey')\n",
    "plt.ylabel('Counts', fontsize=16, color='grey')\n",
    "\n",
    "plt.xticks(fontsize=14, color='dimgrey')\n",
    "plt.yticks(fontsize=14, color='dimgrey')\n",
    "plt.show()"
   ]
  },
  {
   "cell_type": "markdown",
   "metadata": {},
   "source": [
    "**Calcuate correlation matrix for Reddit TIFU**"
   ]
  },
  {
   "cell_type": "code",
   "execution_count": 131,
   "metadata": {},
   "outputs": [
    {
     "data": {
      "image/png": "[encoded data removed]",
      "text/plain": [
       "<Figure size 900x600 with 2 Axes>"
      ]
     },
     "metadata": {},
     "output_type": "display_data"
    }
   ],
   "source": [
    "# Select Reddit TIFU columns with numerical values\n",
    "numerical_reddit_tifu = reddit_tifu_df.select_dtypes(include=\"number\")\n",
    "\n",
    "# Compute correlation matrix\n",
    "correlation_matrix = numerical_reddit_tifu.corr()\n",
    "\n",
    "fig = plt.figure(figsize=(9, 6))\n",
    "\n",
    "# Create a heatmap to visualize the correlation matrix\n",
    "sns.heatmap(correlation_matrix, cmap='coolwarm', annot=True, fmt=\".2f\")\n",
    "\n",
    "plt.title('Reddit TIFU Correlation Matrix\\n', fontsize=18, color='grey', fontweight='bold')\n",
    "plt.xticks(fontsize=10, color='dimgrey', rotation=45)\n",
    "plt.yticks(fontsize=10, color='dimgrey')\n",
    "\n",
    "plt.show()"
   ]
  }
 ],
 "metadata": {
  "colab": {
   "authorship_tag": "ABX9TyM6hAxDDRoOZhzDVLK72kC/",
   "collapsed_sections": [],
   "name": "Reddit-TIFU_exploratory_analysis.ipynb",
   "provenance": []
  },
  "kernelspec": {
   "display_name": "Python 3 (ipykernel)",
   "language": "python",
   "name": "python3"
  },
  "language_info": {
   "codemirror_mode": {
    "name": "ipython",
    "version": 3
   },
   "file_extension": ".py",
   "mimetype": "text/x-python",
   "name": "python",
   "nbconvert_exporter": "python",
   "pygments_lexer": "ipython3",
   "version": "3.11.5"
  },
  "widgets": {
   "application/vnd.jupyter.widget-state+json": {
    "003bb052da6e418591ce2872bfee288d": {
     "model_module": "@jupyter-widgets/controls",
     "model_module_version": "1.5.0",
     "model_name": "ProgressStyleModel",
     "state": {
      "_model_module": "@jupyter-widgets/controls",
      "_model_module_version": "1.5.0",
      "_model_name": "ProgressStyleModel",
      "_view_count": null,
      "_view_module": "@jupyter-widgets/base",
      "_view_module_version": "1.2.0",
      "_view_name": "StyleView",
      "bar_color": null,
      "description_width": ""
     }
    },
    "00414fc27505416dbca1045fd0b7d495": {
     "model_module": "@jupyter-widgets/controls",
     "model_module_version": "1.5.0",
     "model_name": "DescriptionStyleModel",
     "state": {
      "_model_module": "@jupyter-widgets/controls",
      "_model_module_version": "1.5.0",
      "_model_name": "DescriptionStyleModel",
      "_view_count": null,
      "_view_module": "@jupyter-widgets/base",
      "_view_module_version": "1.2.0",
      "_view_name": "StyleView",
      "description_width": ""
     }
    },
    "03d4ad40ec2c49b8a0b1905a03eaa804": {
     "model_module": "@jupyter-widgets/controls",
     "model_module_version": "1.5.0",
     "model_name": "FloatProgressModel",
     "state": {
      "_dom_classes": [],
      "_model_module": "@jupyter-widgets/controls",
      "_model_module_version": "1.5.0",
      "_model_name": "FloatProgressModel",
      "_view_count": null,
      "_view_module": "@jupyter-widgets/controls",
      "_view_module_version": "1.5.0",
      "_view_name": "ProgressView",
      "bar_style": "success",
      "description": "",
      "description_tooltip": null,
      "layout": "IPY_MODEL_0e9242dc316247b09e55274d8ce5d9d0",
      "max": 977,
      "min": 0,
      "orientation": "horizontal",
      "style": "IPY_MODEL_9d742063ed03461db0c29baf0425baa2",
      "value": 977
     }
    },
    "0679065c24104e8781becea463e60a74": {
     "model_module": "@jupyter-widgets/base",
     "model_module_version": "1.2.0",
     "model_name": "LayoutModel",
     "state": {
      "_model_module": "@jupyter-widgets/base",
      "_model_module_version": "1.2.0",
      "_model_name": "LayoutModel",
      "_view_count": null,
      "_view_module": "@jupyter-widgets/base",
      "_view_module_version": "1.2.0",
      "_view_name": "LayoutView",
      "align_content": null,
      "align_items": null,
      "align_self": null,
      "border": null,
      "bottom": null,
      "display": null,
      "flex": null,
      "flex_flow": null,
      "grid_area": null,
      "grid_auto_columns": null,
      "grid_auto_flow": null,
      "grid_auto_rows": null,
      "grid_column": null,
      "grid_gap": null,
      "grid_row": null,
      "grid_template_areas": null,
      "grid_template_columns": null,
      "grid_template_rows": null,
      "height": null,
      "justify_content": null,
      "justify_items": null,
      "left": null,
      "margin": null,
      "max_height": null,
      "max_width": null,
      "min_height": null,
      "min_width": null,
      "object_fit": null,
      "object_position": null,
      "order": null,
      "overflow": null,
      "overflow_x": null,
      "overflow_y": null,
      "padding": null,
      "right": null,
      "top": null,
      "visibility": null,
      "width": null
     }
    },
    "06a0eabcc9294354b4fb8c050ba88870": {
     "model_module": "@jupyter-widgets/controls",
     "model_module_version": "1.5.0",
     "model_name": "FloatProgressModel",
     "state": {
      "_dom_classes": [],
      "_model_module": "@jupyter-widgets/controls",
      "_model_module_version": "1.5.0",
      "_model_name": "FloatProgressModel",
      "_view_count": null,
      "_view_module": "@jupyter-widgets/controls",
      "_view_module_version": "1.5.0",
      "_view_name": "ProgressView",
      "bar_style": "success",
      "description": "",
      "description_tooltip": null,
      "layout": "IPY_MODEL_84aabbe0b26c47d8a804e11e139b3e90",
      "max": 670607856,
      "min": 0,
      "orientation": "horizontal",
      "style": "IPY_MODEL_5e04a871a1464769bca95d09c857b259",
      "value": 670607856
     }
    },
    "094f5da61a99459d8c5f34541237c9b3": {
     "model_module": "@jupyter-widgets/controls",
     "model_module_version": "1.5.0",
     "model_name": "DescriptionStyleModel",
     "state": {
      "_model_module": "@jupyter-widgets/controls",
      "_model_module_version": "1.5.0",
      "_model_name": "DescriptionStyleModel",
      "_view_count": null,
      "_view_module": "@jupyter-widgets/base",
      "_view_module_version": "1.2.0",
      "_view_name": "StyleView",
      "description_width": ""
     }
    },
    "0a2cf48cd303457cb8b743b4afb4a727": {
     "model_module": "@jupyter-widgets/base",
     "model_module_version": "1.2.0",
     "model_name": "LayoutModel",
     "state": {
      "_model_module": "@jupyter-widgets/base",
      "_model_module_version": "1.2.0",
      "_model_name": "LayoutModel",
      "_view_count": null,
      "_view_module": "@jupyter-widgets/base",
      "_view_module_version": "1.2.0",
      "_view_name": "LayoutView",
      "align_content": null,
      "align_items": null,
      "align_self": null,
      "border": null,
      "bottom": null,
      "display": null,
      "flex": null,
      "flex_flow": null,
      "grid_area": null,
      "grid_auto_columns": null,
      "grid_auto_flow": null,
      "grid_auto_rows": null,
      "grid_column": null,
      "grid_gap": null,
      "grid_row": null,
      "grid_template_areas": null,
      "grid_template_columns": null,
      "grid_template_rows": null,
      "height": null,
      "justify_content": null,
      "justify_items": null,
      "left": null,
      "margin": null,
      "max_height": null,
      "max_width": null,
      "min_height": null,
      "min_width": null,
      "object_fit": null,
      "object_position": null,
      "order": null,
      "overflow": null,
      "overflow_x": null,
      "overflow_y": null,
      "padding": null,
      "right": null,
      "top": null,
      "visibility": null,
      "width": null
     }
    },
    "0e9242dc316247b09e55274d8ce5d9d0": {
     "model_module": "@jupyter-widgets/base",
     "model_module_version": "1.2.0",
     "model_name": "LayoutModel",
     "state": {
      "_model_module": "@jupyter-widgets/base",
      "_model_module_version": "1.2.0",
      "_model_name": "LayoutModel",
      "_view_count": null,
      "_view_module": "@jupyter-widgets/base",
      "_view_module_version": "1.2.0",
      "_view_name": "LayoutView",
      "align_content": null,
      "align_items": null,
      "align_self": null,
      "border": null,
      "bottom": null,
      "display": null,
      "flex": null,
      "flex_flow": null,
      "grid_area": null,
      "grid_auto_columns": null,
      "grid_auto_flow": null,
      "grid_auto_rows": null,
      "grid_column": null,
      "grid_gap": null,
      "grid_row": null,
      "grid_template_areas": null,
      "grid_template_columns": null,
      "grid_template_rows": null,
      "height": null,
      "justify_content": null,
      "justify_items": null,
      "left": null,
      "margin": null,
      "max_height": null,
      "max_width": null,
      "min_height": null,
      "min_width": null,
      "object_fit": null,
      "object_position": null,
      "order": null,
      "overflow": null,
      "overflow_x": null,
      "overflow_y": null,
      "padding": null,
      "right": null,
      "top": null,
      "visibility": null,
      "width": null
     }
    },
    "167265f55dce476c8ea63d01e5f266f7": {
     "model_module": "@jupyter-widgets/controls",
     "model_module_version": "1.5.0",
     "model_name": "DescriptionStyleModel",
     "state": {
      "_model_module": "@jupyter-widgets/controls",
      "_model_module_version": "1.5.0",
      "_model_name": "DescriptionStyleModel",
      "_view_count": null,
      "_view_module": "@jupyter-widgets/base",
      "_view_module_version": "1.2.0",
      "_view_name": "StyleView",
      "description_width": ""
     }
    },
    "1cda70857a144c189eb6a669ef2e08d7": {
     "model_module": "@jupyter-widgets/controls",
     "model_module_version": "1.5.0",
     "model_name": "HTMLModel",
     "state": {
      "_dom_classes": [],
      "_model_module": "@jupyter-widgets/controls",
      "_model_module_version": "1.5.0",
      "_model_name": "HTMLModel",
      "_view_count": null,
      "_view_module": "@jupyter-widgets/controls",
      "_view_module_version": "1.5.0",
      "_view_name": "HTMLView",
      "description": "",
      "description_tooltip": null,
      "layout": "IPY_MODEL_8ba887d0a78942bcba43b46080439543",
      "placeholder": "​",
      "style": "IPY_MODEL_094f5da61a99459d8c5f34541237c9b3",
      "value": "Downloading data: 100%"
     }
    },
    "1d73e36f95d145589d6eafb0230a3cc4": {
     "model_module": "@jupyter-widgets/controls",
     "model_module_version": "1.5.0",
     "model_name": "DescriptionStyleModel",
     "state": {
      "_model_module": "@jupyter-widgets/controls",
      "_model_module_version": "1.5.0",
      "_model_name": "DescriptionStyleModel",
      "_view_count": null,
      "_view_module": "@jupyter-widgets/base",
      "_view_module_version": "1.2.0",
      "_view_name": "StyleView",
      "description_width": ""
     }
    },
    "24553ea6095845d1a63a14036c28f933": {
     "model_module": "@jupyter-widgets/base",
     "model_module_version": "1.2.0",
     "model_name": "LayoutModel",
     "state": {
      "_model_module": "@jupyter-widgets/base",
      "_model_module_version": "1.2.0",
      "_model_name": "LayoutModel",
      "_view_count": null,
      "_view_module": "@jupyter-widgets/base",
      "_view_module_version": "1.2.0",
      "_view_name": "LayoutView",
      "align_content": null,
      "align_items": null,
      "align_self": null,
      "border": null,
      "bottom": null,
      "display": null,
      "flex": null,
      "flex_flow": null,
      "grid_area": null,
      "grid_auto_columns": null,
      "grid_auto_flow": null,
      "grid_auto_rows": null,
      "grid_column": null,
      "grid_gap": null,
      "grid_row": null,
      "grid_template_areas": null,
      "grid_template_columns": null,
      "grid_template_rows": null,
      "height": null,
      "justify_content": null,
      "justify_items": null,
      "left": null,
      "margin": null,
      "max_height": null,
      "max_width": null,
      "min_height": null,
      "min_width": null,
      "object_fit": null,
      "object_position": null,
      "order": null,
      "overflow": null,
      "overflow_x": null,
      "overflow_y": null,
      "padding": null,
      "right": null,
      "top": null,
      "visibility": null,
      "width": null
     }
    },
    "25fbcd2713f44131a2f112eaa56ad7fd": {
     "model_module": "@jupyter-widgets/controls",
     "model_module_version": "1.5.0",
     "model_name": "HTMLModel",
     "state": {
      "_dom_classes": [],
      "_model_module": "@jupyter-widgets/controls",
      "_model_module_version": "1.5.0",
      "_model_name": "HTMLModel",
      "_view_count": null,
      "_view_module": "@jupyter-widgets/controls",
      "_view_module_version": "1.5.0",
      "_view_name": "HTMLView",
      "description": "",
      "description_tooltip": null,
      "layout": "IPY_MODEL_86e9e4e3c33c4c49aac6544fd58baabd",
      "placeholder": "​",
      "style": "IPY_MODEL_1d73e36f95d145589d6eafb0230a3cc4",
      "value": " 41992/42139 [00:12&lt;00:00, 4135.86 examples/s]"
     }
    },
    "2823ec3bd5aa496bac58d8a21bb958ad": {
     "model_module": "@jupyter-widgets/base",
     "model_module_version": "1.2.0",
     "model_name": "LayoutModel",
     "state": {
      "_model_module": "@jupyter-widgets/base",
      "_model_module_version": "1.2.0",
      "_model_name": "LayoutModel",
      "_view_count": null,
      "_view_module": "@jupyter-widgets/base",
      "_view_module_version": "1.2.0",
      "_view_name": "LayoutView",
      "align_content": null,
      "align_items": null,
      "align_self": null,
      "border": null,
      "bottom": null,
      "display": null,
      "flex": null,
      "flex_flow": null,
      "grid_area": null,
      "grid_auto_columns": null,
      "grid_auto_flow": null,
      "grid_auto_rows": null,
      "grid_column": null,
      "grid_gap": null,
      "grid_row": null,
      "grid_template_areas": null,
      "grid_template_columns": null,
      "grid_template_rows": null,
      "height": null,
      "justify_content": null,
      "justify_items": null,
      "left": null,
      "margin": null,
      "max_height": null,
      "max_width": null,
      "min_height": null,
      "min_width": null,
      "object_fit": null,
      "object_position": null,
      "order": null,
      "overflow": null,
      "overflow_x": null,
      "overflow_y": null,
      "padding": null,
      "right": null,
      "top": null,
      "visibility": null,
      "width": null
     }
    },
    "2e9ac2496cc54190ac933b244bdb6cdd": {
     "model_module": "@jupyter-widgets/base",
     "model_module_version": "1.2.0",
     "model_name": "LayoutModel",
     "state": {
      "_model_module": "@jupyter-widgets/base",
      "_model_module_version": "1.2.0",
      "_model_name": "LayoutModel",
      "_view_count": null,
      "_view_module": "@jupyter-widgets/base",
      "_view_module_version": "1.2.0",
      "_view_name": "LayoutView",
      "align_content": null,
      "align_items": null,
      "align_self": null,
      "border": null,
      "bottom": null,
      "display": null,
      "flex": null,
      "flex_flow": null,
      "grid_area": null,
      "grid_auto_columns": null,
      "grid_auto_flow": null,
      "grid_auto_rows": null,
      "grid_column": null,
      "grid_gap": null,
      "grid_row": null,
      "grid_template_areas": null,
      "grid_template_columns": null,
      "grid_template_rows": null,
      "height": null,
      "justify_content": null,
      "justify_items": null,
      "left": null,
      "margin": null,
      "max_height": null,
      "max_width": null,
      "min_height": null,
      "min_width": null,
      "object_fit": null,
      "object_position": null,
      "order": null,
      "overflow": null,
      "overflow_x": null,
      "overflow_y": null,
      "padding": null,
      "right": null,
      "top": null,
      "visibility": null,
      "width": null
     }
    },
    "342a179b17654dd9bef26fb9031378c3": {
     "model_module": "@jupyter-widgets/controls",
     "model_module_version": "1.5.0",
     "model_name": "HBoxModel",
     "state": {
      "_dom_classes": [],
      "_model_module": "@jupyter-widgets/controls",
      "_model_module_version": "1.5.0",
      "_model_name": "HBoxModel",
      "_view_count": null,
      "_view_module": "@jupyter-widgets/controls",
      "_view_module_version": "1.5.0",
      "_view_name": "HBoxView",
      "box_style": "",
      "children": [
       "IPY_MODEL_9b26a412f3db45c7bc33663d0bdd40a6",
       "IPY_MODEL_603d98ab69824adfb7e7150f76cb4c71",
       "IPY_MODEL_25fbcd2713f44131a2f112eaa56ad7fd"
      ],
      "layout": "IPY_MODEL_769510cf1efe4e51bf42957a7702d181"
     }
    },
    "36f0b21acffb488f98ad7bf210b00c1f": {
     "model_module": "@jupyter-widgets/base",
     "model_module_version": "1.2.0",
     "model_name": "LayoutModel",
     "state": {
      "_model_module": "@jupyter-widgets/base",
      "_model_module_version": "1.2.0",
      "_model_name": "LayoutModel",
      "_view_count": null,
      "_view_module": "@jupyter-widgets/base",
      "_view_module_version": "1.2.0",
      "_view_name": "LayoutView",
      "align_content": null,
      "align_items": null,
      "align_self": null,
      "border": null,
      "bottom": null,
      "display": null,
      "flex": null,
      "flex_flow": null,
      "grid_area": null,
      "grid_auto_columns": null,
      "grid_auto_flow": null,
      "grid_auto_rows": null,
      "grid_column": null,
      "grid_gap": null,
      "grid_row": null,
      "grid_template_areas": null,
      "grid_template_columns": null,
      "grid_template_rows": null,
      "height": null,
      "justify_content": null,
      "justify_items": null,
      "left": null,
      "margin": null,
      "max_height": null,
      "max_width": null,
      "min_height": null,
      "min_width": null,
      "object_fit": null,
      "object_position": null,
      "order": null,
      "overflow": null,
      "overflow_x": null,
      "overflow_y": null,
      "padding": null,
      "right": null,
      "top": null,
      "visibility": null,
      "width": null
     }
    },
    "3b4930749dec464baee27fb1af5985c4": {
     "model_module": "@jupyter-widgets/controls",
     "model_module_version": "1.5.0",
     "model_name": "ProgressStyleModel",
     "state": {
      "_model_module": "@jupyter-widgets/controls",
      "_model_module_version": "1.5.0",
      "_model_name": "ProgressStyleModel",
      "_view_count": null,
      "_view_module": "@jupyter-widgets/base",
      "_view_module_version": "1.2.0",
      "_view_name": "StyleView",
      "bar_color": null,
      "description_width": ""
     }
    },
    "47f8c7c18d3e49b787e72064eebe66e1": {
     "model_module": "@jupyter-widgets/controls",
     "model_module_version": "1.5.0",
     "model_name": "HBoxModel",
     "state": {
      "_dom_classes": [],
      "_model_module": "@jupyter-widgets/controls",
      "_model_module_version": "1.5.0",
      "_model_name": "HBoxModel",
      "_view_count": null,
      "_view_module": "@jupyter-widgets/controls",
      "_view_module_version": "1.5.0",
      "_view_name": "HBoxView",
      "box_style": "",
      "children": [
       "IPY_MODEL_6493af07c0f94f8bb3cb249e8e35fae0",
       "IPY_MODEL_56a21ecfb9ca4b3fb9cdf99ab29e8f40",
       "IPY_MODEL_da99d8649fa7430b8d08f1e3faf0d764"
      ],
      "layout": "IPY_MODEL_2e9ac2496cc54190ac933b244bdb6cdd"
     }
    },
    "56a21ecfb9ca4b3fb9cdf99ab29e8f40": {
     "model_module": "@jupyter-widgets/controls",
     "model_module_version": "1.5.0",
     "model_name": "FloatProgressModel",
     "state": {
      "_dom_classes": [],
      "_model_module": "@jupyter-widgets/controls",
      "_model_module_version": "1.5.0",
      "_model_name": "FloatProgressModel",
      "_view_count": null,
      "_view_module": "@jupyter-widgets/controls",
      "_view_module_version": "1.5.0",
      "_view_name": "ProgressView",
      "bar_style": "success",
      "description": "",
      "description_tooltip": null,
      "layout": "IPY_MODEL_e13b1d06e771473b99187d81051a396d",
      "max": 1911,
      "min": 0,
      "orientation": "horizontal",
      "style": "IPY_MODEL_003bb052da6e418591ce2872bfee288d",
      "value": 1911
     }
    },
    "5726e54aed0444abbcfaf4a3a1a6c664": {
     "model_module": "@jupyter-widgets/controls",
     "model_module_version": "1.5.0",
     "model_name": "HBoxModel",
     "state": {
      "_dom_classes": [],
      "_model_module": "@jupyter-widgets/controls",
      "_model_module_version": "1.5.0",
      "_model_name": "HBoxModel",
      "_view_count": null,
      "_view_module": "@jupyter-widgets/controls",
      "_view_module_version": "1.5.0",
      "_view_name": "HBoxView",
      "box_style": "",
      "children": [
       "IPY_MODEL_1cda70857a144c189eb6a669ef2e08d7",
       "IPY_MODEL_06a0eabcc9294354b4fb8c050ba88870",
       "IPY_MODEL_e384e87f1cfb4fa0a9c05410fd3c916f"
      ],
      "layout": "IPY_MODEL_a59fa8968edf4ab6b550db47c5574934"
     }
    },
    "5e04a871a1464769bca95d09c857b259": {
     "model_module": "@jupyter-widgets/controls",
     "model_module_version": "1.5.0",
     "model_name": "ProgressStyleModel",
     "state": {
      "_model_module": "@jupyter-widgets/controls",
      "_model_module_version": "1.5.0",
      "_model_name": "ProgressStyleModel",
      "_view_count": null,
      "_view_module": "@jupyter-widgets/base",
      "_view_module_version": "1.2.0",
      "_view_name": "StyleView",
      "bar_color": null,
      "description_width": ""
     }
    },
    "603d98ab69824adfb7e7150f76cb4c71": {
     "model_module": "@jupyter-widgets/controls",
     "model_module_version": "1.5.0",
     "model_name": "FloatProgressModel",
     "state": {
      "_dom_classes": [],
      "_model_module": "@jupyter-widgets/controls",
      "_model_module_version": "1.5.0",
      "_model_name": "FloatProgressModel",
      "_view_count": null,
      "_view_module": "@jupyter-widgets/controls",
      "_view_module_version": "1.5.0",
      "_view_name": "ProgressView",
      "bar_style": "",
      "description": "",
      "description_tooltip": null,
      "layout": "IPY_MODEL_0a2cf48cd303457cb8b743b4afb4a727",
      "max": 42139,
      "min": 0,
      "orientation": "horizontal",
      "style": "IPY_MODEL_3b4930749dec464baee27fb1af5985c4",
      "value": 42139
     }
    },
    "6493af07c0f94f8bb3cb249e8e35fae0": {
     "model_module": "@jupyter-widgets/controls",
     "model_module_version": "1.5.0",
     "model_name": "HTMLModel",
     "state": {
      "_dom_classes": [],
      "_model_module": "@jupyter-widgets/controls",
      "_model_module_version": "1.5.0",
      "_model_name": "HTMLModel",
      "_view_count": null,
      "_view_module": "@jupyter-widgets/controls",
      "_view_module_version": "1.5.0",
      "_view_name": "HTMLView",
      "description": "",
      "description_tooltip": null,
      "layout": "IPY_MODEL_2823ec3bd5aa496bac58d8a21bb958ad",
      "placeholder": "​",
      "style": "IPY_MODEL_aaa17c207eff486a9cbe1d353e20c600",
      "value": "Downloading builder script: "
     }
    },
    "769510cf1efe4e51bf42957a7702d181": {
     "model_module": "@jupyter-widgets/base",
     "model_module_version": "1.2.0",
     "model_name": "LayoutModel",
     "state": {
      "_model_module": "@jupyter-widgets/base",
      "_model_module_version": "1.2.0",
      "_model_name": "LayoutModel",
      "_view_count": null,
      "_view_module": "@jupyter-widgets/base",
      "_view_module_version": "1.2.0",
      "_view_name": "LayoutView",
      "align_content": null,
      "align_items": null,
      "align_self": null,
      "border": null,
      "bottom": null,
      "display": null,
      "flex": null,
      "flex_flow": null,
      "grid_area": null,
      "grid_auto_columns": null,
      "grid_auto_flow": null,
      "grid_auto_rows": null,
      "grid_column": null,
      "grid_gap": null,
      "grid_row": null,
      "grid_template_areas": null,
      "grid_template_columns": null,
      "grid_template_rows": null,
      "height": null,
      "justify_content": null,
      "justify_items": null,
      "left": null,
      "margin": null,
      "max_height": null,
      "max_width": null,
      "min_height": null,
      "min_width": null,
      "object_fit": null,
      "object_position": null,
      "order": null,
      "overflow": null,
      "overflow_x": null,
      "overflow_y": null,
      "padding": null,
      "right": null,
      "top": null,
      "visibility": null,
      "width": null
     }
    },
    "84aabbe0b26c47d8a804e11e139b3e90": {
     "model_module": "@jupyter-widgets/base",
     "model_module_version": "1.2.0",
     "model_name": "LayoutModel",
     "state": {
      "_model_module": "@jupyter-widgets/base",
      "_model_module_version": "1.2.0",
      "_model_name": "LayoutModel",
      "_view_count": null,
      "_view_module": "@jupyter-widgets/base",
      "_view_module_version": "1.2.0",
      "_view_name": "LayoutView",
      "align_content": null,
      "align_items": null,
      "align_self": null,
      "border": null,
      "bottom": null,
      "display": null,
      "flex": null,
      "flex_flow": null,
      "grid_area": null,
      "grid_auto_columns": null,
      "grid_auto_flow": null,
      "grid_auto_rows": null,
      "grid_column": null,
      "grid_gap": null,
      "grid_row": null,
      "grid_template_areas": null,
      "grid_template_columns": null,
      "grid_template_rows": null,
      "height": null,
      "justify_content": null,
      "justify_items": null,
      "left": null,
      "margin": null,
      "max_height": null,
      "max_width": null,
      "min_height": null,
      "min_width": null,
      "object_fit": null,
      "object_position": null,
      "order": null,
      "overflow": null,
      "overflow_x": null,
      "overflow_y": null,
      "padding": null,
      "right": null,
      "top": null,
      "visibility": null,
      "width": null
     }
    },
    "86e9e4e3c33c4c49aac6544fd58baabd": {
     "model_module": "@jupyter-widgets/base",
     "model_module_version": "1.2.0",
     "model_name": "LayoutModel",
     "state": {
      "_model_module": "@jupyter-widgets/base",
      "_model_module_version": "1.2.0",
      "_model_name": "LayoutModel",
      "_view_count": null,
      "_view_module": "@jupyter-widgets/base",
      "_view_module_version": "1.2.0",
      "_view_name": "LayoutView",
      "align_content": null,
      "align_items": null,
      "align_self": null,
      "border": null,
      "bottom": null,
      "display": null,
      "flex": null,
      "flex_flow": null,
      "grid_area": null,
      "grid_auto_columns": null,
      "grid_auto_flow": null,
      "grid_auto_rows": null,
      "grid_column": null,
      "grid_gap": null,
      "grid_row": null,
      "grid_template_areas": null,
      "grid_template_columns": null,
      "grid_template_rows": null,
      "height": null,
      "justify_content": null,
      "justify_items": null,
      "left": null,
      "margin": null,
      "max_height": null,
      "max_width": null,
      "min_height": null,
      "min_width": null,
      "object_fit": null,
      "object_position": null,
      "order": null,
      "overflow": null,
      "overflow_x": null,
      "overflow_y": null,
      "padding": null,
      "right": null,
      "top": null,
      "visibility": null,
      "width": null
     }
    },
    "8ba887d0a78942bcba43b46080439543": {
     "model_module": "@jupyter-widgets/base",
     "model_module_version": "1.2.0",
     "model_name": "LayoutModel",
     "state": {
      "_model_module": "@jupyter-widgets/base",
      "_model_module_version": "1.2.0",
      "_model_name": "LayoutModel",
      "_view_count": null,
      "_view_module": "@jupyter-widgets/base",
      "_view_module_version": "1.2.0",
      "_view_name": "LayoutView",
      "align_content": null,
      "align_items": null,
      "align_self": null,
      "border": null,
      "bottom": null,
      "display": null,
      "flex": null,
      "flex_flow": null,
      "grid_area": null,
      "grid_auto_columns": null,
      "grid_auto_flow": null,
      "grid_auto_rows": null,
      "grid_column": null,
      "grid_gap": null,
      "grid_row": null,
      "grid_template_areas": null,
      "grid_template_columns": null,
      "grid_template_rows": null,
      "height": null,
      "justify_content": null,
      "justify_items": null,
      "left": null,
      "margin": null,
      "max_height": null,
      "max_width": null,
      "min_height": null,
      "min_width": null,
      "object_fit": null,
      "object_position": null,
      "order": null,
      "overflow": null,
      "overflow_x": null,
      "overflow_y": null,
      "padding": null,
      "right": null,
      "top": null,
      "visibility": null,
      "width": null
     }
    },
    "9645e824d611444fb3388eec2300feac": {
     "model_module": "@jupyter-widgets/base",
     "model_module_version": "1.2.0",
     "model_name": "LayoutModel",
     "state": {
      "_model_module": "@jupyter-widgets/base",
      "_model_module_version": "1.2.0",
      "_model_name": "LayoutModel",
      "_view_count": null,
      "_view_module": "@jupyter-widgets/base",
      "_view_module_version": "1.2.0",
      "_view_name": "LayoutView",
      "align_content": null,
      "align_items": null,
      "align_self": null,
      "border": null,
      "bottom": null,
      "display": null,
      "flex": null,
      "flex_flow": null,
      "grid_area": null,
      "grid_auto_columns": null,
      "grid_auto_flow": null,
      "grid_auto_rows": null,
      "grid_column": null,
      "grid_gap": null,
      "grid_row": null,
      "grid_template_areas": null,
      "grid_template_columns": null,
      "grid_template_rows": null,
      "height": null,
      "justify_content": null,
      "justify_items": null,
      "left": null,
      "margin": null,
      "max_height": null,
      "max_width": null,
      "min_height": null,
      "min_width": null,
      "object_fit": null,
      "object_position": null,
      "order": null,
      "overflow": null,
      "overflow_x": null,
      "overflow_y": null,
      "padding": null,
      "right": null,
      "top": null,
      "visibility": null,
      "width": null
     }
    },
    "97b230d6f6d841ffb427826a4a3680c1": {
     "model_module": "@jupyter-widgets/base",
     "model_module_version": "1.2.0",
     "model_name": "LayoutModel",
     "state": {
      "_model_module": "@jupyter-widgets/base",
      "_model_module_version": "1.2.0",
      "_model_name": "LayoutModel",
      "_view_count": null,
      "_view_module": "@jupyter-widgets/base",
      "_view_module_version": "1.2.0",
      "_view_name": "LayoutView",
      "align_content": null,
      "align_items": null,
      "align_self": null,
      "border": null,
      "bottom": null,
      "display": null,
      "flex": null,
      "flex_flow": null,
      "grid_area": null,
      "grid_auto_columns": null,
      "grid_auto_flow": null,
      "grid_auto_rows": null,
      "grid_column": null,
      "grid_gap": null,
      "grid_row": null,
      "grid_template_areas": null,
      "grid_template_columns": null,
      "grid_template_rows": null,
      "height": null,
      "justify_content": null,
      "justify_items": null,
      "left": null,
      "margin": null,
      "max_height": null,
      "max_width": null,
      "min_height": null,
      "min_width": null,
      "object_fit": null,
      "object_position": null,
      "order": null,
      "overflow": null,
      "overflow_x": null,
      "overflow_y": null,
      "padding": null,
      "right": null,
      "top": null,
      "visibility": null,
      "width": null
     }
    },
    "9b26a412f3db45c7bc33663d0bdd40a6": {
     "model_module": "@jupyter-widgets/controls",
     "model_module_version": "1.5.0",
     "model_name": "HTMLModel",
     "state": {
      "_dom_classes": [],
      "_model_module": "@jupyter-widgets/controls",
      "_model_module_version": "1.5.0",
      "_model_name": "HTMLModel",
      "_view_count": null,
      "_view_module": "@jupyter-widgets/controls",
      "_view_module_version": "1.5.0",
      "_view_name": "HTMLView",
      "description": "",
      "description_tooltip": null,
      "layout": "IPY_MODEL_36f0b21acffb488f98ad7bf210b00c1f",
      "placeholder": "​",
      "style": "IPY_MODEL_a0cb89624d5b43f08b04515d02c2bb58",
      "value": "Generating train split: 100%"
     }
    },
    "9d742063ed03461db0c29baf0425baa2": {
     "model_module": "@jupyter-widgets/controls",
     "model_module_version": "1.5.0",
     "model_name": "ProgressStyleModel",
     "state": {
      "_model_module": "@jupyter-widgets/controls",
      "_model_module_version": "1.5.0",
      "_model_name": "ProgressStyleModel",
      "_view_count": null,
      "_view_module": "@jupyter-widgets/base",
      "_view_module_version": "1.2.0",
      "_view_name": "StyleView",
      "bar_color": null,
      "description_width": ""
     }
    },
    "9f8f0c7137bb4d188b3872652ceb1f59": {
     "model_module": "@jupyter-widgets/controls",
     "model_module_version": "1.5.0",
     "model_name": "HTMLModel",
     "state": {
      "_dom_classes": [],
      "_model_module": "@jupyter-widgets/controls",
      "_model_module_version": "1.5.0",
      "_model_name": "HTMLModel",
      "_view_count": null,
      "_view_module": "@jupyter-widgets/controls",
      "_view_module_version": "1.5.0",
      "_view_name": "HTMLView",
      "description": "",
      "description_tooltip": null,
      "layout": "IPY_MODEL_0679065c24104e8781becea463e60a74",
      "placeholder": "​",
      "style": "IPY_MODEL_00414fc27505416dbca1045fd0b7d495",
      "value": "Downloading metadata: "
     }
    },
    "a0cb89624d5b43f08b04515d02c2bb58": {
     "model_module": "@jupyter-widgets/controls",
     "model_module_version": "1.5.0",
     "model_name": "DescriptionStyleModel",
     "state": {
      "_model_module": "@jupyter-widgets/controls",
      "_model_module_version": "1.5.0",
      "_model_name": "DescriptionStyleModel",
      "_view_count": null,
      "_view_module": "@jupyter-widgets/base",
      "_view_module_version": "1.2.0",
      "_view_name": "StyleView",
      "description_width": ""
     }
    },
    "a59fa8968edf4ab6b550db47c5574934": {
     "model_module": "@jupyter-widgets/base",
     "model_module_version": "1.2.0",
     "model_name": "LayoutModel",
     "state": {
      "_model_module": "@jupyter-widgets/base",
      "_model_module_version": "1.2.0",
      "_model_name": "LayoutModel",
      "_view_count": null,
      "_view_module": "@jupyter-widgets/base",
      "_view_module_version": "1.2.0",
      "_view_name": "LayoutView",
      "align_content": null,
      "align_items": null,
      "align_self": null,
      "border": null,
      "bottom": null,
      "display": null,
      "flex": null,
      "flex_flow": null,
      "grid_area": null,
      "grid_auto_columns": null,
      "grid_auto_flow": null,
      "grid_auto_rows": null,
      "grid_column": null,
      "grid_gap": null,
      "grid_row": null,
      "grid_template_areas": null,
      "grid_template_columns": null,
      "grid_template_rows": null,
      "height": null,
      "justify_content": null,
      "justify_items": null,
      "left": null,
      "margin": null,
      "max_height": null,
      "max_width": null,
      "min_height": null,
      "min_width": null,
      "object_fit": null,
      "object_position": null,
      "order": null,
      "overflow": null,
      "overflow_x": null,
      "overflow_y": null,
      "padding": null,
      "right": null,
      "top": null,
      "visibility": null,
      "width": null
     }
    },
    "aaa17c207eff486a9cbe1d353e20c600": {
     "model_module": "@jupyter-widgets/controls",
     "model_module_version": "1.5.0",
     "model_name": "DescriptionStyleModel",
     "state": {
      "_model_module": "@jupyter-widgets/controls",
      "_model_module_version": "1.5.0",
      "_model_name": "DescriptionStyleModel",
      "_view_count": null,
      "_view_module": "@jupyter-widgets/base",
      "_view_module_version": "1.2.0",
      "_view_name": "StyleView",
      "description_width": ""
     }
    },
    "b969ceb3961045ed91cd3d894a75fdcc": {
     "model_module": "@jupyter-widgets/controls",
     "model_module_version": "1.5.0",
     "model_name": "HTMLModel",
     "state": {
      "_dom_classes": [],
      "_model_module": "@jupyter-widgets/controls",
      "_model_module_version": "1.5.0",
      "_model_name": "HTMLModel",
      "_view_count": null,
      "_view_module": "@jupyter-widgets/controls",
      "_view_module_version": "1.5.0",
      "_view_name": "HTMLView",
      "description": "",
      "description_tooltip": null,
      "layout": "IPY_MODEL_97b230d6f6d841ffb427826a4a3680c1",
      "placeholder": "​",
      "style": "IPY_MODEL_dd3c077f98f244d6970e6d30d1658db1",
      "value": " 3.92k/? [00:00&lt;00:00, 77.4kB/s]"
     }
    },
    "da99d8649fa7430b8d08f1e3faf0d764": {
     "model_module": "@jupyter-widgets/controls",
     "model_module_version": "1.5.0",
     "model_name": "HTMLModel",
     "state": {
      "_dom_classes": [],
      "_model_module": "@jupyter-widgets/controls",
      "_model_module_version": "1.5.0",
      "_model_name": "HTMLModel",
      "_view_count": null,
      "_view_module": "@jupyter-widgets/controls",
      "_view_module_version": "1.5.0",
      "_view_name": "HTMLView",
      "description": "",
      "description_tooltip": null,
      "layout": "IPY_MODEL_e95aa194222b4c8eb9600626324739eb",
      "placeholder": "​",
      "style": "IPY_MODEL_167265f55dce476c8ea63d01e5f266f7",
      "value": " 4.60k/? [00:00&lt;00:00, 94.0kB/s]"
     }
    },
    "dcaa19b9c57b4659b26a361884969235": {
     "model_module": "@jupyter-widgets/controls",
     "model_module_version": "1.5.0",
     "model_name": "DescriptionStyleModel",
     "state": {
      "_model_module": "@jupyter-widgets/controls",
      "_model_module_version": "1.5.0",
      "_model_name": "DescriptionStyleModel",
      "_view_count": null,
      "_view_module": "@jupyter-widgets/base",
      "_view_module_version": "1.2.0",
      "_view_name": "StyleView",
      "description_width": ""
     }
    },
    "dd3c077f98f244d6970e6d30d1658db1": {
     "model_module": "@jupyter-widgets/controls",
     "model_module_version": "1.5.0",
     "model_name": "DescriptionStyleModel",
     "state": {
      "_model_module": "@jupyter-widgets/controls",
      "_model_module_version": "1.5.0",
      "_model_name": "DescriptionStyleModel",
      "_view_count": null,
      "_view_module": "@jupyter-widgets/base",
      "_view_module_version": "1.2.0",
      "_view_name": "StyleView",
      "description_width": ""
     }
    },
    "e13b1d06e771473b99187d81051a396d": {
     "model_module": "@jupyter-widgets/base",
     "model_module_version": "1.2.0",
     "model_name": "LayoutModel",
     "state": {
      "_model_module": "@jupyter-widgets/base",
      "_model_module_version": "1.2.0",
      "_model_name": "LayoutModel",
      "_view_count": null,
      "_view_module": "@jupyter-widgets/base",
      "_view_module_version": "1.2.0",
      "_view_name": "LayoutView",
      "align_content": null,
      "align_items": null,
      "align_self": null,
      "border": null,
      "bottom": null,
      "display": null,
      "flex": null,
      "flex_flow": null,
      "grid_area": null,
      "grid_auto_columns": null,
      "grid_auto_flow": null,
      "grid_auto_rows": null,
      "grid_column": null,
      "grid_gap": null,
      "grid_row": null,
      "grid_template_areas": null,
      "grid_template_columns": null,
      "grid_template_rows": null,
      "height": null,
      "justify_content": null,
      "justify_items": null,
      "left": null,
      "margin": null,
      "max_height": null,
      "max_width": null,
      "min_height": null,
      "min_width": null,
      "object_fit": null,
      "object_position": null,
      "order": null,
      "overflow": null,
      "overflow_x": null,
      "overflow_y": null,
      "padding": null,
      "right": null,
      "top": null,
      "visibility": null,
      "width": null
     }
    },
    "e384e87f1cfb4fa0a9c05410fd3c916f": {
     "model_module": "@jupyter-widgets/controls",
     "model_module_version": "1.5.0",
     "model_name": "HTMLModel",
     "state": {
      "_dom_classes": [],
      "_model_module": "@jupyter-widgets/controls",
      "_model_module_version": "1.5.0",
      "_model_name": "HTMLModel",
      "_view_count": null,
      "_view_module": "@jupyter-widgets/controls",
      "_view_module_version": "1.5.0",
      "_view_name": "HTMLView",
      "description": "",
      "description_tooltip": null,
      "layout": "IPY_MODEL_24553ea6095845d1a63a14036c28f933",
      "placeholder": "​",
      "style": "IPY_MODEL_dcaa19b9c57b4659b26a361884969235",
      "value": " 671M/671M [00:20&lt;00:00, 18.3MB/s]"
     }
    },
    "e95aa194222b4c8eb9600626324739eb": {
     "model_module": "@jupyter-widgets/base",
     "model_module_version": "1.2.0",
     "model_name": "LayoutModel",
     "state": {
      "_model_module": "@jupyter-widgets/base",
      "_model_module_version": "1.2.0",
      "_model_name": "LayoutModel",
      "_view_count": null,
      "_view_module": "@jupyter-widgets/base",
      "_view_module_version": "1.2.0",
      "_view_name": "LayoutView",
      "align_content": null,
      "align_items": null,
      "align_self": null,
      "border": null,
      "bottom": null,
      "display": null,
      "flex": null,
      "flex_flow": null,
      "grid_area": null,
      "grid_auto_columns": null,
      "grid_auto_flow": null,
      "grid_auto_rows": null,
      "grid_column": null,
      "grid_gap": null,
      "grid_row": null,
      "grid_template_areas": null,
      "grid_template_columns": null,
      "grid_template_rows": null,
      "height": null,
      "justify_content": null,
      "justify_items": null,
      "left": null,
      "margin": null,
      "max_height": null,
      "max_width": null,
      "min_height": null,
      "min_width": null,
      "object_fit": null,
      "object_position": null,
      "order": null,
      "overflow": null,
      "overflow_x": null,
      "overflow_y": null,
      "padding": null,
      "right": null,
      "top": null,
      "visibility": null,
      "width": null
     }
    },
    "edf3da08f8584e9b87cf191d69eb1183": {
     "model_module": "@jupyter-widgets/controls",
     "model_module_version": "1.5.0",
     "model_name": "HBoxModel",
     "state": {
      "_dom_classes": [],
      "_model_module": "@jupyter-widgets/controls",
      "_model_module_version": "1.5.0",
      "_model_name": "HBoxModel",
      "_view_count": null,
      "_view_module": "@jupyter-widgets/controls",
      "_view_module_version": "1.5.0",
      "_view_name": "HBoxView",
      "box_style": "",
      "children": [
       "IPY_MODEL_9f8f0c7137bb4d188b3872652ceb1f59",
       "IPY_MODEL_03d4ad40ec2c49b8a0b1905a03eaa804",
       "IPY_MODEL_b969ceb3961045ed91cd3d894a75fdcc"
      ],
      "layout": "IPY_MODEL_9645e824d611444fb3388eec2300feac"
     }
    }
   }
  }
 },
 "nbformat": 4,
 "nbformat_minor": 1
}
