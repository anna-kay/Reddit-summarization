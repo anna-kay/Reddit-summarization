{
 "cells": [
  {
   "cell_type": "code",
   "execution_count": 1,
   "id": "f1724e7a",
   "metadata": {},
   "outputs": [],
   "source": [
    "# Uncomment if notebook is run in Colab\n",
    "# %%capture\n",
    "# !pip install datasets\n",
    "# !pip install rouge-score"
   ]
  },
  {
   "cell_type": "code",
   "execution_count": 2,
   "id": "1f0798b6",
   "metadata": {},
   "outputs": [],
   "source": [
    "import datasets\n",
    "import pandas as pd\n",
    "import nltk\n",
    "import re\n",
    "import matplotlib.pyplot as plt\n",
    "import numpy as np\n",
    "import random\n",
    "from datasets import load_dataset, load_metric\n",
    "from IPython.display import display, HTML\n",
    "\n",
    "import warnings\n",
    "warnings.filterwarnings('ignore')"
   ]
  },
  {
   "cell_type": "code",
   "execution_count": 3,
   "id": "3b8d88b1",
   "metadata": {},
   "outputs": [],
   "source": [
    "rouge = load_metric('rouge', seed=42)\n",
    "\n",
    "# Helper functions\n",
    "\n",
    "def show_random_elements(dataset, num_examples=3):\n",
    "    assert num_examples <= len(dataset), \"Can't pick more elements than there are in the dataset.\"\n",
    "    picks = []\n",
    "    for _ in range(num_examples):\n",
    "        pick = random.randint(0, len(dataset)-1)\n",
    "        while pick in picks:\n",
    "            pick = random.randint(0, len(dataset)-1)\n",
    "        picks.append(pick)\n",
    "\n",
    "    df = pd.DataFrame(dataset[picks])\n",
    "    for column, typ in dataset.features.items():\n",
    "        if isinstance(typ, datasets.ClassLabel):\n",
    "            df[column] = df[column].transform(lambda i: typ.names[i])\n",
    "    display(HTML(df.to_html()))\n",
    "\n",
    "def rouge_2_recall(target_text_1, target_text_2):\n",
    "    rouge_output = rouge.compute(predictions=target_text_2, references=target_text_1)\n",
    "    ROUGE_2_recall = \\\n",
    "    round((rouge_output['rouge2'].low.recall \\\n",
    "           + rouge_output['rouge2'].mid.recall \\\n",
    "           + rouge_output['rouge2'].high.recall)/3, 1)\n",
    "    \n",
    "    return ROUGE_2_recall\n",
    "\n",
    "def clean_string(string):\n",
    "    string = re.sub('\\*', '', string).lower().rstrip()\n",
    "    return string\n",
    "\n",
    "def remove_duplicate_sets_from_list(candidate_duplicates):\n",
    "    candidate_duplicates_sets = list(map(set, candidate_duplicates))\n",
    "    unique_sets = list(set(frozenset(item) for item in candidate_duplicates))\n",
    "    candidate_duplicates_unique_sets = [set(item) for item in set(frozenset(item) for item in unique_sets)]\n",
    "    \n",
    "    candidate_duplicates_lists = []\n",
    "    for item in candidate_duplicates_unique_sets:\n",
    "        candidate_duplicates_lists.append(list(item))\n",
    "        \n",
    "    return candidate_duplicates_lists"
   ]
  },
  {
   "cell_type": "markdown",
   "id": "df7dce8c",
   "metadata": {},
   "source": [
    "## **Download Webis-TLDR-16**"
   ]
  },
  {
   "cell_type": "markdown",
   "id": "9866cd99",
   "metadata": {},
   "source": [
    "- No train-val-test split is provided anywhere for Webis-TLDR-17\n",
    "- We download Webis-TLDR-17 from Hugging Face datasets \n",
    "- the split='train' downloads the whole dataset"
   ]
  },
  {
   "cell_type": "code",
   "execution_count": 5,
   "id": "26febceb",
   "metadata": {},
   "outputs": [
    {
     "name": "stderr",
     "output_type": "stream",
     "text": [
      "Using the latest cached version of the module from C:\\Users\\Anna\\.cache\\huggingface\\modules\\datasets_modules\\datasets\\reddit\\bd1bf9097540c9101f329c123d12c6c6a042f65e5f0ab7f9bbabb0a54d3c840e (last modified on Sun Nov 19 23:04:39 2023) since it couldn't be found locally at reddit., or remotely on the Hugging Face Hub.\n",
      "Found cached dataset reddit (C:/Users/Anna/.cache/huggingface/datasets/reddit/default/1.0.0/bd1bf9097540c9101f329c123d12c6c6a042f65e5f0ab7f9bbabb0a54d3c840e)\n"
     ]
    }
   ],
   "source": [
    "webis_tldr = load_dataset('reddit', split='train')"
   ]
  },
  {
   "cell_type": "code",
   "execution_count": 6,
   "id": "7cb1cdc5",
   "metadata": {},
   "outputs": [
    {
     "data": {
      "text/plain": [
       "Dataset({\n",
       "    features: ['author', 'body', 'normalizedBody', 'subreddit', 'subreddit_id', 'id', 'content', 'summary'],\n",
       "    num_rows: 3848330\n",
       "})"
      ]
     },
     "execution_count": 6,
     "metadata": {},
     "output_type": "execute_result"
    }
   ],
   "source": [
    "webis_tldr"
   ]
  },
  {
   "cell_type": "code",
   "execution_count": 11,
   "id": "2d333a60",
   "metadata": {},
   "outputs": [
    {
     "data": {
      "text/html": [
       "<table border=\"1\" class=\"dataframe\">\n",
       "  <thead>\n",
       "    <tr style=\"text-align: right;\">\n",
       "      <th></th>\n",
       "      <th>author</th>\n",
       "      <th>body</th>\n",
       "      <th>normalizedBody</th>\n",
       "      <th>subreddit</th>\n",
       "      <th>subreddit_id</th>\n",
       "      <th>id</th>\n",
       "      <th>content</th>\n",
       "      <th>summary</th>\n",
       "    </tr>\n",
       "  </thead>\n",
       "  <tbody>\n",
       "    <tr>\n",
       "      <th>0</th>\n",
       "      <td>TheFurien</td>\n",
       "      <td>I worked as a security guard for a transportation company for 3 years before I got my promotion. I was attending college at the time and really hated doing security work. But then I was offered a postion as a dispatcher and slowly climbed the ranks of the company and now I'm a north bound planner and driver manager. I absolutely love my job. \\nTL;DR: It's up to you to accept what you think you'll love to do. You'll be in the field for the rest of your life so make sure it counts. :)</td>\n",
       "      <td>I worked as a security guard for a transportation company for 3 years before I got my promotion. I was attending college at the time and really hated doing security work. But then I was offered a postion as a dispatcher and slowly climbed the ranks of the company and now I'm a north bound planner and driver manager. I absolutely love my job. \\nTL;DR: It's up to you to accept what you think you'll love to do. You'll be in the field for the rest of your life so make sure it counts. :) \\n</td>\n",
       "      <td>AskReddit</td>\n",
       "      <td>t5_2qh1i</td>\n",
       "      <td>c7yf11r</td>\n",
       "      <td>I worked as a security guard for a transportation company for 3 years before I got my promotion. I was attending college at the time and really hated doing security work. But then I was offered a postion as a dispatcher and slowly climbed the ranks of the company and now I'm a north bound planner and driver manager. I absolutely love my job.</td>\n",
       "      <td>It's up to you to accept what you think you'll love to do. You'll be in the field for the rest of your life so make sure it counts. :)</td>\n",
       "    </tr>\n",
       "    <tr>\n",
       "      <th>1</th>\n",
       "      <td>Pirates_Smile</td>\n",
       "      <td>**REALITY101** I honestly hope he can find his voice. His art is all over the place and not to be blunt, but, it doesn't say ANYTHING to me. Especially his photography. It honestly comes off as \"stock\" image photography. I agree with so many below me who have pointed out he needs to get a steady, paying job to support his art, not vice-versa.\\n\\n I also understand the angst that comes from an art student who has sold the farm, so to speak, to get into most of these art programs around the country. I honestly think MOST (really mean **ALL**) Art schools are some of the biggest impending financial scams being perpetrated on a HUGE demographic of seriously deluded people who have but a modicum of actual artistic talent or voice. And that's a shame. Brooks Institute, Savannah College of Art and Design, Art Institute of___________ are all predatory programs that are using people like your brother to pay for THEIR Beamers. I know this for a fact because I had a full-ride to Savannah's College of Art and Design and after my junior year I dropped out after a great discussion with one of my professors. Haven't looked back since.\\n\\nMy advice: Get a steady, bill-paying job doing something that doesn't kill him or his will to create, and keep working on his painting voice in his spare time. He's getting so much better and almost there.\\n\\n**TL;DR** Get a day job to keep food on the table and Netflicks going, Show and sell your work on the weekends you HIPPIE. Good luck.</td>\n",
       "      <td>REALITY101  I honestly hope he can find his voice. His art is all over the place and not to be blunt, but, it doesn't say ANYTHING to me. Especially his photography. It honestly comes off as \"stock\" image photography. I agree with so many below me who have pointed out he needs to get a steady, paying job to support his art, not vice-versa. \\n I also understand the angst that comes from an art student who has sold the farm, so to speak, to get into most of these art programs around the country. I honestly think MOST (really mean  ALL ) Art schools are some of the biggest impending financial scams being perpetrated on a HUGE demographic of seriously deluded people who have but a modicum of actual artistic talent or voice. And that's a shame. Brooks Institute, Savannah College of Art and Design, Art Institute of ___  are all predatory programs that are using people like your brother to pay for THEIR Beamers. I know this for a fact because I had a full-ride to Savannah's College of Art and Design and after my junior year I dropped out after a great discussion with one of my professors. Haven't looked back since. \\n My advice: Get a steady, bill-paying job doing something that doesn't kill him or his will to create, and keep working on his painting voice in his spare time. He's getting so much better and almost there. \\n TL;DR  Get a day job to keep food on the table and Netflicks going, Show and sell your work on the weekends you HIPPIE. Good luck. \\n</td>\n",
       "      <td>pics</td>\n",
       "      <td>t5_2qh0u</td>\n",
       "      <td>cac5d7s</td>\n",
       "      <td>REALITY101  I honestly hope he can find his voice. His art is all over the place and not to be blunt, but, it doesn't say ANYTHING to me. Especially his photography. It honestly comes off as \"stock\" image photography. I agree with so many below me who have pointed out he needs to get a steady, paying job to support his art, not vice-versa. \\n I also understand the angst that comes from an art student who has sold the farm, so to speak, to get into most of these art programs around the country. I honestly think MOST (really mean  ALL ) Art schools are some of the biggest impending financial scams being perpetrated on a HUGE demographic of seriously deluded people who have but a modicum of actual artistic talent or voice. And that's a shame. Brooks Institute, Savannah College of Art and Design, Art Institute of ___  are all predatory programs that are using people like your brother to pay for THEIR Beamers. I know this for a fact because I had a full-ride to Savannah's College of Art and Design and after my junior year I dropped out after a great discussion with one of my professors. Haven't looked back since. \\n My advice: Get a steady, bill-paying job doing something that doesn't kill him or his will to create, and keep working on his painting voice in his spare time. He's getting so much better and almost there.</td>\n",
       "      <td>Get a day job to keep food on the table and Netflicks going, Show and sell your work on the weekends you HIPPIE. Good luck.</td>\n",
       "    </tr>\n",
       "    <tr>\n",
       "      <th>2</th>\n",
       "      <td>puromyc1n</td>\n",
       "      <td>I agree. But I dont see it happening, at least not any time soon.\\n\\nThe problem is twofold:\\n\\n1) The scale of nerfs required would unbalance the game so badly it would go back to nearly beta state\\n\\n2) That scale of change to the meta would wreak absolute havok on the SPL and professional gameplay.\\n\\n\\n**The current burst style of this game creates problems further than that. The reason there \"arent enough items\" isnt completely because there arent enough items.  Its because all we look for is damage or damage mitigation for as little gold as possible.** \\n\\nItems are barely bought for passives alone, and the items that are bought for passives is because the passive only increases the actual item attributes (e.g. tahuti=power, sov=protection).\\n\\nWhen do you see someone who knows what theyre doing buy Pythagorems piece or celestial helm or soul eater or hide of nimean or ichaival etc etc etc? Never.\\n\\nSame problem with actives, which are also unbalanced.  Right now beads is a must have for almost everyone regardless of mobility, it is hands down better than every active except maybe hog 3.  \\n\\n**TL;DR: The Burst issue is also the direct reason behind the \"cookie cutter build or gg\" problem, the lack of items/garbage items problem as well.  In an effort to become faster paced and more action packed, the game has lost its depth and inadvertently simplified itself into an arms race of highest damage + best cc=win.**</td>\n",
       "      <td>I agree. But I dont see it happening, at least not any time soon. \\n The problem is twofold: \\n 1) The scale of nerfs required would unbalance the game so badly it would go back to nearly beta state \\n 2) That scale of change to the meta would wreak absolute havok on the SPL and professional gameplay. \\n The current burst style of this game creates problems further than that. The reason there \"arent enough items\" isnt completely because there arent enough items.  Its because all we look for is damage or damage mitigation for as little gold as possible. \\n Items are barely bought for passives alone, and the items that are bought for passives is because the passive only increases the actual item attributes (e.g. tahuti=power, sov=protection). \\n When do you see someone who knows what theyre doing buy Pythagorems piece or celestial helm or soul eater or hide of nimean or ichaival etc etc etc? Never. \\n Same problem with actives, which are also unbalanced.  Right now beads is a must have for almost everyone regardless of mobility, it is hands down better than every active except maybe hog 3. \\n TL;DR: The Burst issue is also the direct reason behind the \"cookie cutter build or gg\" problem, the lack of items/garbage items problem as well.  In an effort to become faster paced and more action packed, the game has lost its depth and inadvertently simplified itself into an arms race of highest damage + best cc=win. \\n</td>\n",
       "      <td>Smite</td>\n",
       "      <td>t5_2stl8</td>\n",
       "      <td>cltjh6q</td>\n",
       "      <td>I agree. But I dont see it happening, at least not any time soon. \\n The problem is twofold: \\n 1) The scale of nerfs required would unbalance the game so badly it would go back to nearly beta state \\n 2) That scale of change to the meta would wreak absolute havok on the SPL and professional gameplay. \\n The current burst style of this game creates problems further than that. The reason there \"arent enough items\" isnt completely because there arent enough items.  Its because all we look for is damage or damage mitigation for as little gold as possible. \\n Items are barely bought for passives alone, and the items that are bought for passives is because the passive only increases the actual item attributes (e.g. tahuti=power, sov=protection). \\n When do you see someone who knows what theyre doing buy Pythagorems piece or celestial helm or soul eater or hide of nimean or ichaival etc etc etc? Never. \\n Same problem with actives, which are also unbalanced.  Right now beads is a must have for almost everyone regardless of mobility, it is hands down better than every active except maybe hog 3.</td>\n",
       "      <td>The Burst issue is also the direct reason behind the \"cookie cutter build or gg\" problem, the lack of items/garbage items problem as well.  In an effort to become faster paced and more action packed, the game has lost its depth and inadvertently simplified itself into an arms race of highest damage + best cc=win.</td>\n",
       "    </tr>\n",
       "  </tbody>\n",
       "</table>"
      ],
      "text/plain": [
       "<IPython.core.display.HTML object>"
      ]
     },
     "metadata": {},
     "output_type": "display_data"
    }
   ],
   "source": [
    "# 3 random examples from the Webis-TLDR-17 TIFU dataset:\n",
    "\n",
    "show_random_elements(webis_tldr)"
   ]
  },
  {
   "cell_type": "code",
   "execution_count": 9,
   "id": "8818f495",
   "metadata": {},
   "outputs": [
    {
     "data": {
      "text/plain": [
       "{'author': 'ordig',\n",
       " 'body': 'Jack Kerouac spent 7 years on the road. He wrote \"On The Road\" in 3 weeks on a single roll of paper. \\n\\nHe was not a professional writer. But, he had a story to tell. \\n\\nHe was not rationalizing his life decisions in writing.  He was not telling a story about himself. He was telling a story about the world his decisions led him to, who they him led to, and perhaps in so doing, why he was led to make them in the first place.\\n\\ntldr: Don\\'t write a story about yourself. Its boring.',\n",
       " 'normalizedBody': 'Jack Kerouac spent 7 years on the road. He wrote \"On The Road\" in 3 weeks on a single roll of paper. \\n He was not a professional writer. But, he had a story to tell. \\n He was not rationalizing his life decisions in writing.  He was not telling a story about himself. He was telling a story about the world his decisions led him to, who they him led to, and perhaps in so doing, why he was led to make them in the first place. \\n tldr: Don\\'t write a story about yourself. Its boring. \\n',\n",
       " 'subreddit': 'WritersGroup',\n",
       " 'subreddit_id': 't5_2rh95',\n",
       " 'id': 'c26iteg',\n",
       " 'content': 'Jack Kerouac spent 7 years on the road. He wrote \"On The Road\" in 3 weeks on a single roll of paper. \\n He was not a professional writer. But, he had a story to tell. \\n He was not rationalizing his life decisions in writing.  He was not telling a story about himself. He was telling a story about the world his decisions led him to, who they him led to, and perhaps in so doing, why he was led to make them in the first place.',\n",
       " 'summary': \"Don't write a story about yourself. Its boring.\"}"
      ]
     },
     "execution_count": 9,
     "metadata": {},
     "output_type": "execute_result"
    }
   ],
   "source": [
    "webis_tldr[8200]"
   ]
  },
  {
   "cell_type": "code",
   "execution_count": 8,
   "id": "6963ef60",
   "metadata": {},
   "outputs": [],
   "source": [
    "webis_tldr_df = webis_tldr.to_pandas()"
   ]
  },
  {
   "cell_type": "markdown",
   "id": "46cd2fdb",
   "metadata": {},
   "source": [
    "# **Step 1:** inspect Webis-TLDR-17 for duplicates of the source texts ('content' column)"
   ]
  },
  {
   "cell_type": "code",
   "execution_count": 12,
   "id": "15b05b26",
   "metadata": {},
   "outputs": [
    {
     "data": {
      "text/plain": [
       "author                                               Nightshade3312\n",
       "body              If it has a whammy bar setup, or if the string...\n",
       "normalizedBody    If it has a whammy bar setup, or if the string...\n",
       "subreddit                                                    Guitar\n",
       "subreddit_id                                               t5_2qi79\n",
       "id                                                          c49hw3s\n",
       "content           If it has a whammy bar setup, or if the string...\n",
       "summary           if your strings are fed through the back of th...\n",
       "Name: 20094, dtype: object"
      ]
     },
     "execution_count": 12,
     "metadata": {},
     "output_type": "execute_result"
    }
   ],
   "source": [
    "webis_tldr_df.iloc[20094] # Random element"
   ]
  },
  {
   "cell_type": "code",
   "execution_count": 14,
   "id": "275495d2",
   "metadata": {},
   "outputs": [
    {
     "data": {
      "text/plain": [
       "3807923"
      ]
     },
     "execution_count": 14,
     "metadata": {},
     "output_type": "execute_result"
    }
   ],
   "source": [
    "len(webis_tldr_df['content'].value_counts()) # Find number of unique values "
   ]
  },
  {
   "cell_type": "code",
   "execution_count": 15,
   "id": "19e8b5dd",
   "metadata": {},
   "outputs": [
    {
     "data": {
      "text/plain": [
       "3848330"
      ]
     },
     "execution_count": 15,
     "metadata": {},
     "output_type": "execute_result"
    }
   ],
   "source": [
    "len(webis_tldr_df)"
   ]
  },
  {
   "cell_type": "markdown",
   "id": "962d8288",
   "metadata": {},
   "source": [
    "- The value 3,807,923 is smaller than the number of examples in the dataset (3,848,330).\n",
    "- This indicates that there are duplicates, for the column 'content', in the dataset.\n",
    "- 3,848,330-3,807,923=40,407 *exact* duplicates that should be removed"
   ]
  },
  {
   "cell_type": "code",
   "execution_count": 16,
   "id": "05dd17db",
   "metadata": {},
   "outputs": [],
   "source": [
    "# Find the indices of the webis_tldr_df of the exact matches for the column 'content'\n",
    "# store them in the *exact_duplicates_texts_indices* variable  \n",
    "\n",
    "# Count the values of the field 'content' that occur more than once \n",
    "# print(len(webis_tldr_df['content'].value_counts()[webis_tldr_df['content'].value_counts() > 1]))\n",
    "\n",
    "# Identify exact duplicates in the 'content' column\n",
    "# 'exact_duplicates', will store a Series containing the exact duplicate contents along with their counts\n",
    "exact_duplicates = webis_tldr_df['content'].value_counts()[webis_tldr_df['content'].value_counts() > 1]\n",
    "\n",
    "exact_duplicates_df = pd.DataFrame({'value': exact_duplicates.index, 'occurencies_count': exact_duplicates.values})\n",
    "\n",
    "# exact_duplicates_df['occurencies_count'].sum()\n",
    "\n",
    "exact_duplicates_texts_indices_lists = []\n",
    "\n",
    "for element in exact_duplicates_df['value'].to_list():\n",
    "    element_occurence_indices = webis_tldr_df.index[webis_tldr_df['content'] == element].tolist()\n",
    "    exact_duplicates_texts_indices_lists.append(element_occurence_indices)\n",
    "\n",
    "# for the *exact_duplicates_texts_indices* we keep all the elements that are\n",
    "# duplicates of the first element in each list,\n",
    "# each first element (\"original\" element) index is not stored in exact_duplicates_texts_indices since\n",
    "# it itself is not a duplicate\n",
    "\n",
    "exact_duplicates_texts_indices = []\n",
    "\n",
    "for element in exact_duplicates_texts_indices_lists:\n",
    "    for i in range(1, len(element)):\n",
    "        exact_duplicates_texts_indices.append(element[i])"
   ]
  },
  {
   "cell_type": "code",
   "execution_count": null,
   "id": "07a2df6c",
   "metadata": {},
   "outputs": [],
   "source": [
    "# exact_duplicates_texts_indices_lists = (webis_tldr_df[webis_tldr_df['content'].isin(exact_duplicates_df['value'])]\n",
    "#                                        .groupby('content')\n",
    "#                                        .apply(lambda x: x.index.tolist())\n",
    "#                                        .tolist())"
   ]
  },
  {
   "cell_type": "code",
   "execution_count": 17,
   "id": "de66e5cf",
   "metadata": {},
   "outputs": [
    {
     "data": {
      "text/html": [
       "<div>\n",
       "<style scoped>\n",
       "    .dataframe tbody tr th:only-of-type {\n",
       "        vertical-align: middle;\n",
       "    }\n",
       "\n",
       "    .dataframe tbody tr th {\n",
       "        vertical-align: top;\n",
       "    }\n",
       "\n",
       "    .dataframe thead th {\n",
       "        text-align: right;\n",
       "    }\n",
       "</style>\n",
       "<table border=\"1\" class=\"dataframe\">\n",
       "  <thead>\n",
       "    <tr style=\"text-align: right;\">\n",
       "      <th></th>\n",
       "      <th>value</th>\n",
       "      <th>occurencies_count</th>\n",
       "    </tr>\n",
       "  </thead>\n",
       "  <tbody>\n",
       "    <tr>\n",
       "      <th>0</th>\n",
       "      <td>What does</td>\n",
       "      <td>134</td>\n",
       "    </tr>\n",
       "    <tr>\n",
       "      <th>1</th>\n",
       "      <td>Be sure to explain in detail with line breaks.</td>\n",
       "      <td>104</td>\n",
       "    </tr>\n",
       "    <tr>\n",
       "      <th>2</th>\n",
       "      <td>Can someone</td>\n",
       "      <td>79</td>\n",
       "    </tr>\n",
       "    <tr>\n",
       "      <th>3</th>\n",
       "      <td>Are you looking for a fun server to play on?\\n...</td>\n",
       "      <td>76</td>\n",
       "    </tr>\n",
       "    <tr>\n",
       "      <th>4</th>\n",
       "      <td>Thanks for the</td>\n",
       "      <td>66</td>\n",
       "    </tr>\n",
       "    <tr>\n",
       "      <th>...</th>\n",
       "      <td>...</td>\n",
       "      <td>...</td>\n",
       "    </tr>\n",
       "    <tr>\n",
       "      <th>30961</th>\n",
       "      <td>Hoping to get some advice here. My husband and...</td>\n",
       "      <td>2</td>\n",
       "    </tr>\n",
       "    <tr>\n",
       "      <th>30962</th>\n",
       "      <td>Hello! I want to stick an Ardunio in an airsof...</td>\n",
       "      <td>2</td>\n",
       "    </tr>\n",
       "    <tr>\n",
       "      <th>30963</th>\n",
       "      <td>About a week ago my girlfriend decided she wan...</td>\n",
       "      <td>2</td>\n",
       "    </tr>\n",
       "    <tr>\n",
       "      <th>30964</th>\n",
       "      <td>Alright, loseit, here we are. I've been at thi...</td>\n",
       "      <td>2</td>\n",
       "    </tr>\n",
       "    <tr>\n",
       "      <th>30965</th>\n",
       "      <td>This is a long story. I'm sorry but, such is l...</td>\n",
       "      <td>2</td>\n",
       "    </tr>\n",
       "  </tbody>\n",
       "</table>\n",
       "<p>30966 rows × 2 columns</p>\n",
       "</div>"
      ],
      "text/plain": [
       "                                                   value  occurencies_count\n",
       "0                                              What does                134\n",
       "1         Be sure to explain in detail with line breaks.                104\n",
       "2                                            Can someone                 79\n",
       "3      Are you looking for a fun server to play on?\\n...                 76\n",
       "4                                         Thanks for the                 66\n",
       "...                                                  ...                ...\n",
       "30961  Hoping to get some advice here. My husband and...                  2\n",
       "30962  Hello! I want to stick an Ardunio in an airsof...                  2\n",
       "30963  About a week ago my girlfriend decided she wan...                  2\n",
       "30964  Alright, loseit, here we are. I've been at thi...                  2\n",
       "30965  This is a long story. I'm sorry but, such is l...                  2\n",
       "\n",
       "[30966 rows x 2 columns]"
      ]
     },
     "execution_count": 17,
     "metadata": {},
     "output_type": "execute_result"
    }
   ],
   "source": [
    "exact_duplicates_df"
   ]
  },
  {
   "cell_type": "code",
   "execution_count": 19,
   "id": "6ea39f8c",
   "metadata": {},
   "outputs": [
    {
     "data": {
      "text/html": [
       "<div>\n",
       "<style scoped>\n",
       "    .dataframe tbody tr th:only-of-type {\n",
       "        vertical-align: middle;\n",
       "    }\n",
       "\n",
       "    .dataframe tbody tr th {\n",
       "        vertical-align: top;\n",
       "    }\n",
       "\n",
       "    .dataframe thead th {\n",
       "        text-align: right;\n",
       "    }\n",
       "</style>\n",
       "<table border=\"1\" class=\"dataframe\">\n",
       "  <thead>\n",
       "    <tr style=\"text-align: right;\">\n",
       "      <th></th>\n",
       "      <th>value</th>\n",
       "      <th>occurencies_count</th>\n",
       "    </tr>\n",
       "  </thead>\n",
       "  <tbody>\n",
       "    <tr>\n",
       "      <th>5</th>\n",
       "      <td>I am looking for a Sub, but foremost, a friend...</td>\n",
       "      <td>56</td>\n",
       "    </tr>\n",
       "    <tr>\n",
       "      <th>6</th>\n",
       "      <td>when i walked in my bedroom home early from wo...</td>\n",
       "      <td>53</td>\n",
       "    </tr>\n",
       "    <tr>\n",
       "      <th>7</th>\n",
       "      <td>I'm looking for a Sub, but foremost, a friend ...</td>\n",
       "      <td>52</td>\n",
       "    </tr>\n",
       "    <tr>\n",
       "      <th>8</th>\n",
       "      <td>Avoid that Kingston SSD. See [this thread]( as...</td>\n",
       "      <td>52</td>\n",
       "    </tr>\n",
       "    <tr>\n",
       "      <th>9</th>\n",
       "      <td>Upvote for the</td>\n",
       "      <td>47</td>\n",
       "    </tr>\n",
       "    <tr>\n",
       "      <th>10</th>\n",
       "      <td>Consider this a friendly warning/guideline:\\nR...</td>\n",
       "      <td>46</td>\n",
       "    </tr>\n",
       "    <tr>\n",
       "      <th>11</th>\n",
       "      <td>Posted on /r/</td>\n",
       "      <td>45</td>\n",
       "    </tr>\n",
       "    <tr>\n",
       "      <th>12</th>\n",
       "      <td>what does</td>\n",
       "      <td>44</td>\n",
       "    </tr>\n",
       "    <tr>\n",
       "      <th>13</th>\n",
       "      <td>General Information' | So 2nd order so far wit...</td>\n",
       "      <td>44</td>\n",
       "    </tr>\n",
       "    <tr>\n",
       "      <th>14</th>\n",
       "      <td>Where's the</td>\n",
       "      <td>42</td>\n",
       "    </tr>\n",
       "  </tbody>\n",
       "</table>\n",
       "</div>"
      ],
      "text/plain": [
       "                                                value  occurencies_count\n",
       "5   I am looking for a Sub, but foremost, a friend...                 56\n",
       "6   when i walked in my bedroom home early from wo...                 53\n",
       "7   I'm looking for a Sub, but foremost, a friend ...                 52\n",
       "8   Avoid that Kingston SSD. See [this thread]( as...                 52\n",
       "9                                      Upvote for the                 47\n",
       "10  Consider this a friendly warning/guideline:\\nR...                 46\n",
       "11                                      Posted on /r/                 45\n",
       "12                                          what does                 44\n",
       "13  General Information' | So 2nd order so far wit...                 44\n",
       "14                                        Where's the                 42"
      ]
     },
     "execution_count": 19,
     "metadata": {},
     "output_type": "execute_result"
    }
   ],
   "source": [
    "exact_duplicates_df[5:15]"
   ]
  },
  {
   "cell_type": "code",
   "execution_count": 20,
   "id": "cad549ad",
   "metadata": {},
   "outputs": [],
   "source": [
    "exact_duplicates_df.to_csv(\"webis_tldr_exact_duplicates_df.csv\", sep=\"\\t\")"
   ]
  },
  {
   "cell_type": "code",
   "execution_count": 21,
   "id": "43bc660e",
   "metadata": {},
   "outputs": [
    {
     "data": {
      "text/plain": [
       "40407"
      ]
     },
     "execution_count": 21,
     "metadata": {},
     "output_type": "execute_result"
    }
   ],
   "source": [
    "len(exact_duplicates_texts_indices) "
   ]
  },
  {
   "cell_type": "code",
   "execution_count": null,
   "id": "9e634c90",
   "metadata": {},
   "outputs": [],
   "source": []
  }
 ],
 "metadata": {
  "kernelspec": {
   "display_name": "Python 3 (ipykernel)",
   "language": "python",
   "name": "python3"
  },
  "language_info": {
   "codemirror_mode": {
    "name": "ipython",
    "version": 3
   },
   "file_extension": ".py",
   "mimetype": "text/x-python",
   "name": "python",
   "nbconvert_exporter": "python",
   "pygments_lexer": "ipython3",
   "version": "3.11.5"
  }
 },
 "nbformat": 4,
 "nbformat_minor": 5
}
